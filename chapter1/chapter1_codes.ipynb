{
 "cells": [
  {
   "cell_type": "markdown",
   "id": "d2d7cca1",
   "metadata": {},
   "source": [
    "## [코드 1-2-1] 파이썬으로 만드는 블록체인"
   ]
  },
  {
   "cell_type": "code",
   "execution_count": 2,
   "id": "c23df8ef",
   "metadata": {},
   "outputs": [],
   "source": [
    "## 블록1\n",
    "block1 =  {'INDEX':0,\n",
    "            '판매자' : '파이썬',\n",
    "            '구매자' : '김민수',\n",
    "            '개수' : '3개',\n",
    "            '시간' : '1990-01-01 00:00:00',\n",
    "            'previous_block' : None    #previous_block이 chain 역할을 한다\n",
    "          }\n",
    "          \n",
    " ## 블록2\n",
    "block2 =  {'INDEX':1,\n",
    "            '판매자' : '김민수',\n",
    "            '구매자' : '김영수',\n",
    "            '개수' : '3개',\n",
    "           '시간' : '1990-01-02 01:02:03',\n",
    "           'previous_block' : block1    # [그림 1-2-3]의 체인1\n",
    "          }\n",
    "   \n",
    "  ## 블록3\n",
    "block3 =  {'INDEX':3,\n",
    "            '판매자' : '김영수',\n",
    "            '구매자' : '박명수',\n",
    "            '개수' : '3개',\n",
    "            '시간' : '1990-01-03 02:03:04',\n",
    "           'previous_block' : block2    # [그림 1-2-3]의 체인2\n",
    "          }\n"
   ]
  },
  {
   "cell_type": "markdown",
   "id": "9f234f4e",
   "metadata": {},
   "source": [
    "## [코드 1-2-2] 파이썬의 블록체인에 저장된 거래내역"
   ]
  },
  {
   "cell_type": "code",
   "execution_count": 3,
   "id": "a6d7c3ad",
   "metadata": {},
   "outputs": [],
   "source": [
    "## 블록1\n",
    "block1 =  {'INDEX':0,\n",
    "            '판매자' : '파이썬',\n",
    "            '구매자' : '김민수',\n",
    "            '개수' : '3개',\n",
    "            '시간' : '1990-01-01 00:00:00',\n",
    "            'previous_block' : None\n",
    "          }\n",
    "          \n",
    " ## 블록2\n",
    "block2 =  {'INDEX':1,\n",
    "            '판매자' : '김민수',\n",
    "            '구매자' : '김영수',\n",
    "            '개수' : '3개',\n",
    "           '시간' : '1990-01-02 01:02:03',\n",
    "           'previous_block' : block1\n",
    "          }\n",
    "   \n",
    "## 블록3\n",
    "block3 =  {'INDEX':3,\n",
    "            '판매자' : '김영수',\n",
    "            '구매자' : '박명수',\n",
    "            '개수' : '3개',\n",
    "            '시간' : '1990-01-03 02:03:04',\n",
    "           'previous_block' : block2\n",
    "          }\n",
    "\n",
    "## 블록4\n",
    "block4 =  {'INDEX':4,\n",
    "            '판매자' : '박명수',\n",
    "            '구매자' : '이미래',\n",
    "            '개수' : '3개',\n",
    "            '시간' : '1990-01-04 02:03:04',\n",
    "           'previous_block' : block3\n",
    "          }\n",
    "\n",
    "## 블록5\n",
    "block5 =  {'INDEX':5,\n",
    "            '판매자' : '이미래',\n",
    "            '구매자' : '최용수',\n",
    "            '개수' : '3개',\n",
    "            '시간' : '1990-01-05 02:03:04',\n",
    "           'previous_block' : block4\n",
    "          }\n",
    "\n",
    "## 블록6\n",
    "block6 =  {'INDEX':6,\n",
    "            '판매자' : '최용수',\n",
    "            '구매자' : '강영희',\n",
    "            '개수' : '3개',\n",
    "            '시간' : '1990-01-06 02:03:04',\n",
    "           'previous_block' : block5\n",
    "          }\n"
   ]
  },
  {
   "cell_type": "markdown",
   "id": "f01eba55",
   "metadata": {},
   "source": [
    "## [코드1-3-1] 파이썬에서의 해시암호"
   ]
  },
  {
   "cell_type": "code",
   "execution_count": 5,
   "id": "192bab4d",
   "metadata": {},
   "outputs": [
    {
     "data": {
      "text/plain": [
       "'bd6341f9f5f40ffd309379c106165b4a064e8d90e9406016cc6b5638bed4f15c'"
      ]
     },
     "execution_count": 5,
     "metadata": {},
     "output_type": "execute_result"
    }
   ],
   "source": [
    "import hashlib\n",
    "hashlib.sha256(str(\"원본텍스트\").encode()).hexdigest()"
   ]
  },
  {
   "cell_type": "code",
   "execution_count": 6,
   "id": "897d3c92",
   "metadata": {},
   "outputs": [
    {
     "data": {
      "text/plain": [
       "'94a6771df8c6866a45d404598f230766a8faae53e7bd579eff9e5bdbe20b170a'"
      ]
     },
     "execution_count": 6,
     "metadata": {},
     "output_type": "execute_result"
    }
   ],
   "source": [
    "import hashlib\n",
    "hashlib.sha256(str(\"원본 텍스트\").encode()).hexdigest()"
   ]
  },
  {
   "cell_type": "code",
   "execution_count": 7,
   "id": "41fd2861",
   "metadata": {},
   "outputs": [
    {
     "data": {
      "text/plain": [
       "'03ac674216f3e15c761ee1a5e255f067953623c8b388b4459e13f978d7c846f4'"
      ]
     },
     "execution_count": 7,
     "metadata": {},
     "output_type": "execute_result"
    }
   ],
   "source": [
    "import hashlib\n",
    "hashlib.sha256(str(\"1234\").encode()).hexdigest()"
   ]
  },
  {
   "cell_type": "code",
   "execution_count": 8,
   "id": "d202d6a3",
   "metadata": {},
   "outputs": [
    {
     "data": {
      "text/plain": [
       "'1f1a7fff4d2beb242b62390aa74ceb00af46c4f325309e7bb0414063d06b3c4f'"
      ]
     },
     "execution_count": 8,
     "metadata": {},
     "output_type": "execute_result"
    }
   ],
   "source": [
    "import hashlib\n",
    "hashlib.sha256(str(\"\"\"\"동해 물과 백두산이 마르고 닳도록\n",
    "                     하느님이 보우하사 우리나라 만세.\n",
    "                     무궁화 삼천리 화려 강산\n",
    "                     대한 사람, 대한으로 길이 보전세.\"\"\").encode()).hexdigest()"
   ]
  },
  {
   "cell_type": "code",
   "execution_count": 9,
   "id": "be15ffbf",
   "metadata": {},
   "outputs": [
    {
     "data": {
      "text/plain": [
       "'bd6341f9f5f40ffd309379c106165b4a064e8d90e9406016cc6b5638bed4f15c'"
      ]
     },
     "execution_count": 9,
     "metadata": {},
     "output_type": "execute_result"
    }
   ],
   "source": [
    "import hashlib\n",
    "hashlib.sha256(str(\"원본텍스트\").encode()).hexdigest()"
   ]
  },
  {
   "cell_type": "markdown",
   "id": "2de5bba4",
   "metadata": {},
   "source": [
    "## [코드1-3-2] 해시암호를 활용하여 만든 블록체인"
   ]
  },
  {
   "cell_type": "code",
   "execution_count": 11,
   "id": "52cacc00",
   "metadata": {},
   "outputs": [
    {
     "name": "stdout",
     "output_type": "stream",
     "text": [
      "{'INDEX': 6, '판매자': '최용수', '구매자': '강영희', '개수': '3개', '시간': '1990-01-06 02:03:04', 'previous_block': {'INDEX': 5, '판매자': '이미래', '구매자': '최용수', '개수': '3개', '시간': '1990-01-05 02:03:04', 'previous_block': {'INDEX': 4, '판매자': '박명수', '구매자': '이미래', '개수': '3개', '시간': '1990-01-04 02:03:04', 'previous_block': {'INDEX': 3, '판매자': '김영수', '구매자': '박명수', '개수': '3개', '시간': '1990-01-03 02:03:04', 'previous_block': {'INDEX': 1, '판매자': '김민수', '구매자': '김영수', '개수': '3개', '시간': '1990-01-02 01:02:03', 'previous_block': {'INDEX': 0, '판매자': '파이썬', '구매자': '김민수', '개수': '3개', '시간': '1990-01-01 00:00:00', 'previous_block': None}}}}}}\n"
     ]
    }
   ],
   "source": [
    "## 변경 전 블록6\n",
    "block6 =  {'INDEX':6,\n",
    "            '판매자' : '최용수',\n",
    "            '구매자' : '강영희',\n",
    "            '개수' : '3개',\n",
    "            '시간' : '1990-01-06 02:03:04',\n",
    "           'previous_block' : block5\n",
    "          }\n",
    "print(block6 )\n"
   ]
  },
  {
   "cell_type": "code",
   "execution_count": 12,
   "id": "13c418a6",
   "metadata": {},
   "outputs": [
    {
     "name": "stdout",
     "output_type": "stream",
     "text": [
      "{'INDEX': 1, '판매자': '김민수', '구매자': '김영수', '개수': '3개', '시간': '1990-01-02 01:02:03', 'previous_block': '5bb813d0e4e5f5bc1da255caac29b6825c64a26c5327e517ef2d2f560f62c0f2'}\n"
     ]
    }
   ],
   "source": [
    "## 변경 후 블록6\n",
    "block6 =  {'INDEX':1,\n",
    "            '판매자' : '김민수',\n",
    "            '구매자' : '김영수',\n",
    "            '개수' : '3개',\n",
    "           '시간' : '1990-01-02 01:02:03',\n",
    "           'previous_block' : hashlib.sha256(str(block5).encode()).hexdigest()  \n",
    "          }\n",
    "print(block6 )"
   ]
  },
  {
   "cell_type": "markdown",
   "id": "cb34c62c",
   "metadata": {},
   "source": [
    "## [코드 1-4-1] 블록들의 연결"
   ]
  },
  {
   "cell_type": "code",
   "execution_count": 15,
   "id": "861fdd04",
   "metadata": {},
   "outputs": [
    {
     "data": {
      "text/plain": [
       "{'header': {'블록의 생성 번호': 0,\n",
       "  '블록의 생성 시간': '2023-02-06 21:57:58',\n",
       "  '블록의 채굴자': '0xea674fdde714fd979de3edf0f56aa9716b898ec8',\n",
       "  '블록 채굴자의 보상 값': 2.132,\n",
       "  '블록 채굴 난이도': 12382889997310022,\n",
       "  'Nonce': '0x7ccf42b8e05d031f',\n",
       "  '블록 사이즈': '178556 bytes',\n",
       "  '이전 블록의 해시값': '0xe1f3d0e83542e20735d453006cc6d8975920e7aec951c3b974eade52901e97e7',\n",
       "  '이번 블록 몸통 내역의 해시값': 'b340ca6b66b43bf71353cb02c7e9c4e6accbcd8502f516cb1a4603d742f6a6fb'},\n",
       " 'transaction': {'거래내역1': {'판매자': '파이썬',\n",
       "   '구매자': '김민수',\n",
       "   '개수': '3개',\n",
       "   '거래시간': '1990년 1월 1일 00시 00분 00초',\n",
       "   '거래수수료': '0.001개'},\n",
       "  '거래내역2': {'판매자': '김민수',\n",
       "   '구매자': '김영수',\n",
       "   '개수': '3개',\n",
       "   '거래시간': '1990년 1월 2일 01시 02분 03초',\n",
       "   '거래수수료': '0.001개'}}}"
      ]
     },
     "execution_count": 15,
     "metadata": {},
     "output_type": "execute_result"
    }
   ],
   "source": [
    "import datetime\n",
    "import hashlib\n",
    "\n",
    "block_body =  {   \"거래내역1\": {\n",
    "                            '판매자' : '파이썬',\n",
    "                            '구매자' : '김민수',\n",
    "                            '개수' : '3개',\n",
    "                            '거래시간' : '1990년 1월 1일 00시 00분 00초',\n",
    "                            '거래수수료' : '0.001개'     \n",
    "                               },\n",
    "                    \"거래내역2\": {\n",
    "                            '판매자' : '김민수',\n",
    "                            '구매자' : '김영수',\n",
    "                            '개수' : '3개',\n",
    "                            '거래시간' : '1990년 1월 2일 01시 02분 03초',\n",
    "                            '거래수수료' : '0.001개'                        \n",
    "                               }\n",
    "                   }\n",
    "\n",
    "\n",
    "block_header =  {  '블록의 생성 번호' : 0,\n",
    "                   '블록의 생성 시간' :\n",
    " datetime.datetime.now().strftime(\"%Y-%m-%d %H:%M:%S\"),\n",
    "                   '블록의 채굴자' :\n",
    " \"0xea674fdde714fd979de3edf0f56aa9716b898ec8\",\n",
    "                   '블록 채굴자의 보상 값' : 2.132,\n",
    "                   '블록 채굴 난이도' : 12382889997310022,\n",
    "                   'Nonce'  : '0x7ccf42b8e05d031f',\n",
    "                   '블록 사이즈' : '178556 bytes',\n",
    "                   '이전 블록의 해시값' :\n",
    " '0xe1f3d0e83542e20735d453006cc6d8975920e7aec951c3b974eade52901e97e7',\n",
    "                   '이번 블록 몸통 내역의 해시값' :\n",
    " hashlib.sha256(str(block_body).encode()).hexdigest()\n",
    "                }\n",
    "\n",
    "\n",
    "body_hash = hashlib.sha256(str(block_body).encode()).hexdigest()\n",
    "\n",
    "\n",
    "block1 =  { 'header' : block_header,\n",
    "            'transaction' : block_body\n",
    "           }\n",
    "block1\n"
   ]
  },
  {
   "cell_type": "markdown",
   "id": "58a575d9",
   "metadata": {},
   "source": [
    "## [코드 1-5-1] 채굴"
   ]
  },
  {
   "cell_type": "code",
   "execution_count": 16,
   "id": "950e5475",
   "metadata": {},
   "outputs": [
    {
     "name": "stdout",
     "output_type": "stream",
     "text": [
      "0 F0 3fb8cc1315a76758d467993926f56f15cce7244b54213c63314ad4d5d0237d15\n",
      "1 F1 deae2d4d75857c1081f113bcfc950dca567dd5a2e14e6ac8fb8e5785ff4dd5ec\n",
      "2 F2 8e2de3335023201ffa4d803767bdf12790c58f4f241554c544bde8bf7b8455a4\n",
      "3 F3 7c96eb02cc9750d69a916f29575b273c86ce9518d958d287c9731997c4a6aaea\n",
      "4 F4 015b7913470194d2a46ead719afc7768a3c4e8af770766cfe7898d7d834c0362\n",
      "5 F5 6cd28ed32abf73d0d64218a8ce983fd5e460ac662b660a556b8939d9d6ae37a3\n",
      "6 F6 1c003eb26aa006fbb940e7ce2b87dd72b24af2ed825b8859cc35f6807c06cc46\n",
      "7 F7 d96b6ec75f4e3593b03024bae3146186e9a2fe18c5447874c39d533b2ebcd744\n",
      "8 F8 a39b6e5111fac52a197813638d2dc58070694e6d83a624e2915c3e2589acab8e\n"
     ]
    }
   ],
   "source": [
    "import random\n",
    "import string\n",
    "\n",
    "## 이더리움 네트워크가 낸 문제\n",
    "PROBLEM_WORD = \"a\"       # 찾아야하는 단어\n",
    "PROBLEM_DIFFICULTY = 1   #난이도 숫자, 숫자가 높아질수록 난이도가 높아짐\n",
    "### 위의 문제의 경우 해시의 값 앞 1번째 자리가 a 이면 문제 해결(채굴 완료)\n",
    "\n",
    "## 채굴\n",
    "start_nonce = random.choice(string.ascii_letters)\n",
    "\n",
    "i = 0\n",
    "while True:\n",
    "    nonce = start_nonce + str(i)\n",
    "    nonce_result =  hashlib.sha256((nonce).encode()).hexdigest()\n",
    "    print(i,nonce, nonce_result)\n",
    "    if nonce_result[0: PROBLEM_DIFFICULTY] == PROBLEM_WORD * PROBLEM_DIFFICULTY :\n",
    "        nonce = nonce_result\n",
    "        break\n",
    "    i += 1\n"
   ]
  },
  {
   "cell_type": "markdown",
   "id": "7a023952",
   "metadata": {},
   "source": [
    "## [코드 1-6-1] 비트코인의 구조"
   ]
  },
  {
   "cell_type": "code",
   "execution_count": 17,
   "id": "d267f23a",
   "metadata": {},
   "outputs": [
    {
     "data": {
      "text/plain": [
       "{'header': {'Block_height': 0,\n",
       "  'Block_created_at': '2023-02-06 22:03:54',\n",
       "  'Miner': '0xea674fdde714fd979de3edf0f56aa9716b898ec8',\n",
       "  'Block_Reward': 2.132,\n",
       "  'Difficulty': 12382889997310022,\n",
       "  'Nonce': '0x7ccf42b8e05d031f',\n",
       "  'Block_size': '178556 bytes',\n",
       "  'Parent_hash': '0xe1f3d0e83542e20735d453006cc6d8975920e7aec951c3b974eade52901e97e7',\n",
       "  'Body_hash': 'd1319c1a9f28ca7c4efede7c125e37abb8d686590956dbe202b52af0f57a31df'},\n",
       " 'transaction': {'transaction1': {'판매자': '파이썬',\n",
       "   '구매자': '김민수',\n",
       "   '개수': '3개',\n",
       "   'timestamp': 1652247422892844},\n",
       "  'transaction2': {'판매자': '파이썬',\n",
       "   '구매자': '이영호',\n",
       "   '개수': '3개',\n",
       "   'timestamp': 165224743233231}}}"
      ]
     },
     "execution_count": 17,
     "metadata": {},
     "output_type": "execute_result"
    }
   ],
   "source": [
    "## 스마트 컨트랙트 가 없는 블록체인의 블록 구조 (비트코인)\n",
    "import datetime\n",
    "import hashlib\n",
    "\n",
    "block_body =  { \"transaction1\": {\n",
    "                            '판매자' : '파이썬',\n",
    "                            '구매자' : '김민수',\n",
    "                            '개수' : '3개',\n",
    "                            'timestamp' : 1652247422892844,\n",
    "                               },\n",
    "                    \"transaction2\": {\n",
    "                            '판매자' : '파이썬',\n",
    "                            '구매자' : '이영호',\n",
    "                            '개수' : '3개',\n",
    "                             'timestamp' : 165224743233231\n",
    "                               }\n",
    "                   }\n",
    "\n",
    "block_header =  {  'Block_height' : 0,\n",
    "                   'Block_created_at' : datetime.datetime.now().strftime(\"%Y-%m-%d %H:%M:%S\"),\n",
    "                   'Miner' : \"0xea674fdde714fd979de3edf0f56aa9716b898ec8\",\n",
    "                   'Block_Reward' : 2.132,\n",
    "                   'Difficulty' : 12382889997310022,\n",
    "                   'Nonce'  : '0x7ccf42b8e05d031f',\n",
    "                   'Block_size' : '178556 bytes',\n",
    "                   'Parent_hash' : '0xe1f3d0e83542e20735d453006cc6d8975920e7aec951c3b974eade52901e97e7',\n",
    "                   'Body_hash' : hashlib.sha256(str(block_body).encode()).hexdigest()\n",
    "                }\n",
    "\n",
    "body_hash = hashlib.sha256(str(block_body).encode()).hexdigest()\n",
    "\n",
    "block1 =  { 'header' : block_header,\n",
    "            'transaction' : block_body\n",
    "           }\n",
    "block1\n"
   ]
  },
  {
   "cell_type": "markdown",
   "id": "64cdad39",
   "metadata": {},
   "source": [
    "## [코드 1-6-2] 이더리움의 구조 "
   ]
  },
  {
   "cell_type": "code",
   "execution_count": 20,
   "id": "8e5c6a12",
   "metadata": {},
   "outputs": [
    {
     "data": {
      "text/plain": [
       "{'header': {'Block_height': 0,\n",
       "  'Block_created_at': '2023-02-06 22:05:19',\n",
       "  'Miner': '0xea674fdde714fd979de3edf0f56aa9716b898ec8',\n",
       "  'Block_Reward': 2.132,\n",
       "  'Difficulty': 12382889997310022,\n",
       "  'Nonce': '0x7ccf42b8e05d031f',\n",
       "  'Block_size': '178556 bytes',\n",
       "  'Parent_hash': '0xe1f3d0e83542e20735d453006cc6d8975920e7aec951c3b974eade52901e97e7',\n",
       "  'Body_hash': '5c52d1a7822356dc34c0d5594a7ee04a0e8a0f294d4c98520c549bc7c5e70893'},\n",
       " 'transaction': {'transaction1': {'판매자': '파이썬',\n",
       "   '구매자': '김민수',\n",
       "   '개수': '3개',\n",
       "   'timestamp': 1652247422892844,\n",
       "   'smart_contract': {}},\n",
       "  'transaction2': {'판매자': '파이썬',\n",
       "   '구매자': '이영호',\n",
       "   '개수': '3개',\n",
       "   'timestamp': 165224743233231,\n",
       "   'smart_contract': {}}}}"
      ]
     },
     "execution_count": 20,
     "metadata": {},
     "output_type": "execute_result"
    }
   ],
   "source": [
    "## 스마트 컨트랙트 가 있는 블록체인의 블록 구조 (이더리움)\n",
    "import datetime\n",
    "import hashlib\n",
    "\n",
    "block_body =  { \"transaction1\": {\n",
    "                            '판매자' : '파이썬',\n",
    "                            '구매자' : '김민수',\n",
    "                            '개수' : '3개',\n",
    "                            'timestamp' : 1652247422892844,\n",
    "'smart_contract' : {}\n",
    "                               },\n",
    "                    \"transaction2\": {\n",
    "                            '판매자' : '파이썬',\n",
    "                            '구매자' : '이영호',\n",
    "                            '개수' : '3개',\n",
    "                            'timestamp' : 165224743233231,\n",
    "'smart_contract' : {}\n",
    "                               }\n",
    "                   }\n",
    "\n",
    "block_header =  {  'Block_height' : 0,\n",
    "                   'Block_created_at' : datetime.datetime.now().strftime(\"%Y-%m-%d %H:%M:%S\"),\n",
    "                   'Miner' : \"0xea674fdde714fd979de3edf0f56aa9716b898ec8\",\n",
    "                   'Block_Reward' : 2.132,\n",
    "                   'Difficulty' : 12382889997310022,\n",
    "                   'Nonce'  : '0x7ccf42b8e05d031f',\n",
    "                   'Block_size' : '178556 bytes',\n",
    "                   'Parent_hash' : '0xe1f3d0e83542e20735d453006cc6d8975920e7aec951c3b974eade52901e97e7',\n",
    "                   'Body_hash' : hashlib.sha256(str(block_body).encode()).hexdigest()\n",
    "                }\n",
    "\n",
    "body_hash = hashlib.sha256(str(block_body).encode()).hexdigest()\n",
    "\n",
    "block1 =  { 'header' : block_header,\n",
    "            'transaction' : block_body\n",
    "           }\n",
    "block1\n"
   ]
  },
  {
   "cell_type": "code",
   "execution_count": null,
   "id": "cba87b14",
   "metadata": {},
   "outputs": [],
   "source": [
    "\n"
   ]
  },
  {
   "cell_type": "code",
   "execution_count": null,
   "id": "3414932c",
   "metadata": {},
   "outputs": [],
   "source": []
  },
  {
   "cell_type": "code",
   "execution_count": null,
   "id": "99a0173c",
   "metadata": {},
   "outputs": [],
   "source": []
  },
  {
   "cell_type": "code",
   "execution_count": null,
   "id": "40c60742",
   "metadata": {},
   "outputs": [],
   "source": []
  }
 ],
 "metadata": {
  "kernelspec": {
   "display_name": "Python 3",
   "language": "python",
   "name": "python3"
  },
  "language_info": {
   "codemirror_mode": {
    "name": "ipython",
    "version": 3
   },
   "file_extension": ".py",
   "mimetype": "text/x-python",
   "name": "python",
   "nbconvert_exporter": "python",
   "pygments_lexer": "ipython3",
   "version": "3.8.8"
  }
 },
 "nbformat": 4,
 "nbformat_minor": 5
}
