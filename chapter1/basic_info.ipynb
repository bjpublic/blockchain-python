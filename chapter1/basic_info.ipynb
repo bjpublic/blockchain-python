{
 "cells": [
  {
   "cell_type": "markdown",
   "metadata": {},
   "source": [
    "## 블록체인 : 블록이 체인으로 연결됨!!"
   ]
  },
  {
   "cell_type": "code",
   "execution_count": 1,
   "metadata": {},
   "outputs": [],
   "source": [
    "block1 =  {'INDEX':0,\n",
    "            '판매자' : '파이썬',\n",
    "            '구매자' : '김민수',\n",
    "            '개수' : '3개',\n",
    "            '시간' : '2022년 5월 11일 16시 25분 16초',\n",
    "            'previous_block' : None\n",
    "          }"
   ]
  },
  {
   "cell_type": "code",
   "execution_count": 2,
   "metadata": {},
   "outputs": [],
   "source": [
    "block2 =  {'INDEX':1,\n",
    "            '판매자' : '김민수',\n",
    "            '구매자' : '김영수',\n",
    "            '개수' : '3개',\n",
    "            '시간' : '2022년 5월 12일 13시 25분 16초',\n",
    "           'previous_block' : block1\n",
    "          }"
   ]
  },
  {
   "cell_type": "code",
   "execution_count": 3,
   "metadata": {},
   "outputs": [],
   "source": [
    "block3 =  {'INDEX':3,\n",
    "            '판매자' : '김영수',\n",
    "            '구매자' : '박명수',\n",
    "            '개수' : '3개',\n",
    "            '시간' : '2022년 5월 13일 16시 25분 16초',\n",
    "           'previous_block' : block2\n",
    "          }"
   ]
  },
  {
   "cell_type": "code",
   "execution_count": 4,
   "metadata": {},
   "outputs": [],
   "source": [
    "block4 =  {'INDEX':4,\n",
    "            '판매자' : '박명수',\n",
    "            '구매자' : '이미래',\n",
    "            '개수' : '3개',\n",
    "            '시간' : '2022년 5월 14일 16시 25분 16초',\n",
    "           'previous_block' : block3\n",
    "          }"
   ]
  },
  {
   "cell_type": "code",
   "execution_count": 5,
   "metadata": {},
   "outputs": [],
   "source": [
    "block5 =  {'INDEX':5,\n",
    "            '판매자' : '이미래',\n",
    "            '구매자' : '최용수',\n",
    "            '개수' : '3개',\n",
    "            '시간' : '2022년 5월 15일 16시 25분 16초',\n",
    "           'previous_block' : block4\n",
    "          }"
   ]
  },
  {
   "cell_type": "code",
   "execution_count": 6,
   "metadata": {},
   "outputs": [],
   "source": [
    "block6 =  {'INDEX':6,\n",
    "            '판매자' : '최용수',\n",
    "            '구매자' : '강영희',\n",
    "            '개수' : '3개',\n",
    "            '시간' : '2022년 5월 16일16시 25분 16초',\n",
    "           'previous_block' : block5\n",
    "          }"
   ]
  },
  {
   "cell_type": "code",
   "execution_count": 7,
   "metadata": {
    "scrolled": false
   },
   "outputs": [
    {
     "data": {
      "text/plain": [
       "{'INDEX': 6,\n",
       " '판매자': '최용수',\n",
       " '구매자': '강영희',\n",
       " '개수': '3개',\n",
       " '시간': '2022년 5월 16일16시 25분 16초',\n",
       " 'previous_block': {'INDEX': 5,\n",
       "  '판매자': '이미래',\n",
       "  '구매자': '최용수',\n",
       "  '개수': '3개',\n",
       "  '시간': '2022년 5월 15일 16시 25분 16초',\n",
       "  'previous_block': {'INDEX': 4,\n",
       "   '판매자': '박명수',\n",
       "   '구매자': '이미래',\n",
       "   '개수': '3개',\n",
       "   '시간': '2022년 5월 14일 16시 25분 16초',\n",
       "   'previous_block': {'INDEX': 3,\n",
       "    '판매자': '김영수',\n",
       "    '구매자': '박명수',\n",
       "    '개수': '3개',\n",
       "    '시간': '2022년 5월 13일 16시 25분 16초',\n",
       "    'previous_block': {'INDEX': 1,\n",
       "     '판매자': '김민수',\n",
       "     '구매자': '김영수',\n",
       "     '개수': '3개',\n",
       "     '시간': '2022년 5월 12일 13시 25분 16초',\n",
       "     'previous_block': {'INDEX': 0,\n",
       "      '판매자': '파이썬',\n",
       "      '구매자': '김민수',\n",
       "      '개수': '3개',\n",
       "      '시간': '2022년 5월 11일 16시 25분 16초',\n",
       "      'previous_block': None}}}}}}"
      ]
     },
     "execution_count": 7,
     "metadata": {},
     "output_type": "execute_result"
    }
   ],
   "source": [
    "block6"
   ]
  },
  {
   "cell_type": "code",
   "execution_count": 8,
   "metadata": {},
   "outputs": [
    {
     "data": {
      "text/plain": [
       "{'INDEX': 1,\n",
       " '판매자': '김민수',\n",
       " '구매자': '김영수',\n",
       " '개수': '3개',\n",
       " '시간': '1990-01-02 01:02:03',\n",
       " 'previous_block': {'INDEX': 0,\n",
       "  '판매자': '파공블',\n",
       "  '구매자': '김민수',\n",
       "  '개수': '3개',\n",
       "  '시간': '1990-01-01 00:00:00',\n",
       "  'previous_block': None}}"
      ]
     },
     "execution_count": 8,
     "metadata": {},
     "output_type": "execute_result"
    }
   ],
   "source": [
    " ## 블록2\n",
    "block2 =  {'INDEX':1,\n",
    "            '판매자' : '김민수',\n",
    "            '구매자' : '김영수',\n",
    "            '개수' : '3개',\n",
    "           '시간' : '1990-01-02 01:02:03',\n",
    "           'previous_block' : block1\n",
    "          }\n",
    "block2"
   ]
  },
  {
   "cell_type": "code",
   "execution_count": 11,
   "metadata": {},
   "outputs": [
    {
     "data": {
      "text/plain": [
       "{'INDEX': 6,\n",
       " '판매자': '최용수',\n",
       " '구매자': '강영희',\n",
       " '개수': '3개',\n",
       " '시간': '1990-01-06 02:03:04',\n",
       " 'previous_block': {'INDEX': 5,\n",
       "  '판매자': '이미래',\n",
       "  '구매자': '최용수',\n",
       "  '개수': '3개',\n",
       "  '시간': '1990-01-05 02:03:04',\n",
       "  'previous_block': {'INDEX': 4,\n",
       "   '판매자': '박명수',\n",
       "   '구매자': '이미래',\n",
       "   '개수': '3개',\n",
       "   '시간': '1990-01-04 02:03:04',\n",
       "   'previous_block': {'INDEX': 3,\n",
       "    '판매자': '김영수',\n",
       "    '구매자': '박명수',\n",
       "    '개수': '3개',\n",
       "    '시간': '1990-01-03 02:03:04',\n",
       "    'previous_block': {'INDEX': 1,\n",
       "     '판매자': '김민수',\n",
       "     '구매자': '김영수',\n",
       "     '개수': '3개',\n",
       "     '시간': '1990-01-02 01:02:03',\n",
       "     'previous_block': {'INDEX': 0,\n",
       "      '판매자': '파공블',\n",
       "      '구매자': '김민수',\n",
       "      '개수': '3개',\n",
       "      '시간': '1990-01-01 00:00:00',\n",
       "      'previous_block': None}}}}}}"
      ]
     },
     "execution_count": 11,
     "metadata": {},
     "output_type": "execute_result"
    }
   ],
   "source": [
    "block6"
   ]
  },
  {
   "cell_type": "code",
   "execution_count": 13,
   "metadata": {},
   "outputs": [
    {
     "data": {
      "text/plain": [
       "{'INDEX': 1,\n",
       " '판매자': '김민수',\n",
       " '구매자': '김영수',\n",
       " '개수': '3개',\n",
       " '시간': '1990-01-02 01:02:03',\n",
       " 'previous_block': 'a236757d5d043ac413d9c15dffbe82e2e253068481d711981e8c92837662d3d7'}"
      ]
     },
     "execution_count": 13,
     "metadata": {},
     "output_type": "execute_result"
    }
   ],
   "source": [
    " ## 블록2\n",
    "block6 =  {'INDEX':1,\n",
    "            '판매자' : '김민수',\n",
    "            '구매자' : '김영수',\n",
    "            '개수' : '3개',\n",
    "           '시간' : '1990-01-02 01:02:03',\n",
    "           'previous_block' : hashlib.sha256(str(block5).encode()).hexdigest()  \n",
    "          }\n",
    "block6"
   ]
  },
  {
   "cell_type": "code",
   "execution_count": null,
   "metadata": {},
   "outputs": [],
   "source": []
  },
  {
   "cell_type": "code",
   "execution_count": 6,
   "metadata": {},
   "outputs": [],
   "source": [
    "## 블록1\n",
    "block1 =  {'INDEX':0,\n",
    "            '판매자' : '파공블',\n",
    "            '구매자' : '김민수',\n",
    "            '개수' : '3개',\n",
    "            '시간' : '1990-01-01 00:00:00',\n",
    "            'previous_block' : None\n",
    "          }\n",
    "          \n",
    " ## 블록2\n",
    "block2 =  {'INDEX':1,\n",
    "            '판매자' : '김민수',\n",
    "            '구매자' : '김영수',\n",
    "            '개수' : '3개',\n",
    "           '시간' : '1990-01-02 01:02:03',\n",
    "           'previous_block' : block1\n",
    "          }\n",
    "   \n",
    "## 블록3\n",
    "block3 =  {'INDEX':3,\n",
    "            '판매자' : '김영수',\n",
    "            '구매자' : '박명수',\n",
    "            '개수' : '3개',\n",
    "            '시간' : '1990-01-03 02:03:04',\n",
    "           'previous_block' : block2\n",
    "          }\n",
    "\n",
    "## 블록4\n",
    "block4 =  {'INDEX':4,\n",
    "            '판매자' : '박명수',\n",
    "            '구매자' : '이미래',\n",
    "            '개수' : '3개',\n",
    "            '시간' : '1990-01-04 02:03:04',\n",
    "           'previous_block' : block3\n",
    "          }\n",
    "\n",
    "## 블록5\n",
    "block5 =  {'INDEX':5,\n",
    "            '판매자' : '이미래',\n",
    "            '구매자' : '최용수',\n",
    "            '개수' : '3개',\n",
    "            '시간' : '1990-01-05 02:03:04',\n",
    "           'previous_block' : block4\n",
    "          }\n",
    "\n",
    "## 블록6\n",
    "block6 =  {'INDEX':6,\n",
    "            '판매자' : '최용수',\n",
    "            '구매자' : '강영희',\n",
    "            '개수' : '3개',\n",
    "            '시간' : '1990-01-06 02:03:04',\n",
    "           'previous_block' : block5\n",
    "          }\n"
   ]
  },
  {
   "cell_type": "code",
   "execution_count": 6,
   "metadata": {},
   "outputs": [
    {
     "data": {
      "text/plain": [
       "{'INDEX': 6,\n",
       " '판매자': '최용수',\n",
       " '구매자': '강영희',\n",
       " '개수': '3개',\n",
       " '시간': '1990-01-06 02:03:04',\n",
       " 'previous_block': {'INDEX': 5,\n",
       "  '판매자': '이미래',\n",
       "  '구매자': '최용수',\n",
       "  '개수': '3개',\n",
       "  '시간': '1990-01-05 02:03:04',\n",
       "  'previous_block': {'INDEX': 4,\n",
       "   '판매자': '박명수',\n",
       "   '구매자': '이미래',\n",
       "   '개수': '3개',\n",
       "   '시간': '1990-01-04 02:03:04',\n",
       "   'previous_block': {'INDEX': 3,\n",
       "    '판매자': '김영수',\n",
       "    '구매자': '박명수',\n",
       "    '개수': '3개',\n",
       "    '시간': '1990-01-03 02:03:04',\n",
       "    'previous_block': {'INDEX': 1,\n",
       "     '판매자': '김민수',\n",
       "     '구매자': '김영수',\n",
       "     '개수': '3개',\n",
       "     '시간': '1990-01-02 01:02:03',\n",
       "     'previous_block': {'INDEX': 0,\n",
       "      '판매자': '파공블',\n",
       "      '구매자': '김민수',\n",
       "      '개수': '3개',\n",
       "      '시간': '1990-01-01 00:00:00',\n",
       "      'previous_block': None}}}}}}"
      ]
     },
     "execution_count": 6,
     "metadata": {},
     "output_type": "execute_result"
    }
   ],
   "source": [
    "block6"
   ]
  },
  {
   "cell_type": "markdown",
   "metadata": {},
   "source": [
    "## 해시함수"
   ]
  },
  {
   "cell_type": "code",
   "execution_count": 1,
   "metadata": {},
   "outputs": [
    {
     "data": {
      "text/plain": [
       "'bd6341f9f5f40ffd309379c106165b4a064e8d90e9406016cc6b5638bed4f15c'"
      ]
     },
     "execution_count": 1,
     "metadata": {},
     "output_type": "execute_result"
    }
   ],
   "source": [
    "import hashlib\n",
    "hashlib.sha256(str(\"원본텍스트\").encode()).hexdigest()"
   ]
  },
  {
   "cell_type": "code",
   "execution_count": 4,
   "metadata": {},
   "outputs": [
    {
     "data": {
      "text/plain": [
       "64"
      ]
     },
     "execution_count": 4,
     "metadata": {},
     "output_type": "execute_result"
    }
   ],
   "source": [
    "len('bd6341f9f5f40ffd309379c106165b4a064e8d90e9406016cc6b5638bed4f15c')"
   ]
  },
  {
   "cell_type": "code",
   "execution_count": 5,
   "metadata": {},
   "outputs": [
    {
     "data": {
      "text/plain": [
       "'03ac674216f3e15c761ee1a5e255f067953623c8b388b4459e13f978d7c846f4'"
      ]
     },
     "execution_count": 5,
     "metadata": {},
     "output_type": "execute_result"
    }
   ],
   "source": [
    "import hashlib\n",
    "hashlib.sha256(str(\"1234\").encode()).hexdigest()"
   ]
  },
  {
   "cell_type": "code",
   "execution_count": 3,
   "metadata": {},
   "outputs": [
    {
     "data": {
      "text/plain": [
       "'94a6771df8c6866a45d404598f230766a8faae53e7bd579eff9e5bdbe20b170a'"
      ]
     },
     "execution_count": 3,
     "metadata": {},
     "output_type": "execute_result"
    }
   ],
   "source": [
    "import hashlib\n",
    "hashlib.sha256(str(\"원본 텍스트\").encode()).hexdigest()"
   ]
  },
  {
   "cell_type": "code",
   "execution_count": 2,
   "metadata": {},
   "outputs": [
    {
     "data": {
      "text/plain": [
       "'ffaccbdceb3312bad5eee9c5ea7daba8daaf2b7bac78df0a6aeeae10c9e30c1f'"
      ]
     },
     "execution_count": 2,
     "metadata": {},
     "output_type": "execute_result"
    }
   ],
   "source": [
    "import hashlib\n",
    "hashlib.sha256(str(\"\"\"\"동해 물과 백두산이 마르고 닳도록\n",
    "                        하느님이 보우하사 우리나라 만세.\n",
    "                        무궁화 삼천리 화려 강산\n",
    "                        대한 사람, 대한으로 길이 보전하세.\"\"\").encode()).hexdigest()"
   ]
  },
  {
   "cell_type": "code",
   "execution_count": 4,
   "metadata": {},
   "outputs": [
    {
     "data": {
      "text/plain": [
       "64"
      ]
     },
     "execution_count": 4,
     "metadata": {},
     "output_type": "execute_result"
    }
   ],
   "source": [
    "len(hashlib.sha256(str(\"원본텍스트\").encode()).hexdigest())"
   ]
  },
  {
   "cell_type": "code",
   "execution_count": 5,
   "metadata": {},
   "outputs": [
    {
     "name": "stdout",
     "output_type": "stream",
     "text": [
      "92397069f980b4f05c7b04a5b81b75584bdbc6591b0b4f745161889dce7606d1\n"
     ]
    }
   ],
   "source": [
    "import hashlib\n",
    "\n",
    "genesis_block =   {'INDEX':0,\n",
    "                    '판매자' : '파공블',\n",
    "                    '구매자' : '김민수',\n",
    "                    '개수' : '3개',\n",
    "                    '시간' : '2022년 5월 11일 16시 25분 16초',\n",
    "                    'previous_block' : None\n",
    "                  }\n",
    "hash_data = hashlib.sha256(str(genesis_block).encode()).hexdigest()\n",
    "print(hash_data)"
   ]
  },
  {
   "cell_type": "code",
   "execution_count": 33,
   "metadata": {},
   "outputs": [
    {
     "name": "stdout",
     "output_type": "stream",
     "text": [
      "05b2f9dcf03ce8cb02e59127ff1fbcf50bcac04f8e1b32c907fb9e2ce0ad59b1\n"
     ]
    }
   ],
   "source": [
    "import hashlib\n",
    "\n",
    "genesis_block =   {'INDEX':0,\n",
    "                    '판매자' : '파공블',\n",
    "                    '구매자' : '김민수',\n",
    "                    '개수' : '3개',\n",
    "                    '시간' : '2022년 5월 11일16시 25분 16초',\n",
    "                    'previous_block' : None\n",
    "                  }\n",
    "hash_data = hashlib.sha256(str(genesis_block).encode()).hexdigest()\n",
    "print(hash_data)"
   ]
  },
  {
   "cell_type": "code",
   "execution_count": 35,
   "metadata": {},
   "outputs": [
    {
     "name": "stdout",
     "output_type": "stream",
     "text": [
      "6b42371c9885f871583b29d66a4f94ec4429260c67946c3a69f741d5b4969d80\n"
     ]
    }
   ],
   "source": [
    "import hashlib\n",
    "\n",
    "short_block =   {'a'}\n",
    "hash_data = hashlib.sha256(str(short_block).encode()).hexdigest()\n",
    "print(hash_data)"
   ]
  },
  {
   "cell_type": "code",
   "execution_count": 16,
   "metadata": {},
   "outputs": [
    {
     "name": "stdout",
     "output_type": "stream",
     "text": [
      "44b17bc407f0402c99ff1f947d4b64023a74c9b09e66e6f7b95a2e8941ecfb83\n"
     ]
    }
   ],
   "source": [
    "import hashlib\n",
    "\n",
    "long_block =   {'INDEX': 6,\n",
    "                     'previous_block': {'INDEX': 5,\n",
    "                      'previous_block': {'INDEX': 4,\n",
    "                       'previous_block': {'INDEX': 3,\n",
    "                        'previous_block': {'INDEX': 1,\n",
    "                         'previous_block': {'INDEX': 0,\n",
    "                          'previous_block': None,\n",
    "                          '개수': '3개',\n",
    "                          '구매자': '김민수',\n",
    "                          '시간': '2022년 5월 11일16시 25분 16초',\n",
    "                          '판매자': '파공블'},\n",
    "                         '개수': '3개',\n",
    "                         '구매자': '김영수',\n",
    "                         '시간': '2022년 5월 12일 13시 25분 16초',\n",
    "                         '판매자': '김민수'},\n",
    "                        '개수': '3개',\n",
    "                        '구매자': '박명수',\n",
    "                        '시간': '2022년 5월 13일 16시 25분 16초',\n",
    "                        '판매자': '김영수'},\n",
    "                       '개수': '3개',\n",
    "                       '구매자': '이미래',\n",
    "                       '시간': '2022년 5월 14일 16시 25분 16초',\n",
    "                       '판매자': '박명수'},\n",
    "                      '개수': '3개',\n",
    "                      '구매자': '케로로',\n",
    "                      '시간': '2022년 5월 15일 16시 25분 16초',\n",
    "                      '판매자': '이미래'},\n",
    "                     '개수': '3개',\n",
    "                     '구매자': '박철수',\n",
    "                     '시간': '2022년 5월 16일 16시 25분 16초',\n",
    "                     '판매자': '케로로'}\n",
    "hash_data = hashlib.sha256(str(long_block).encode()).hexdigest()\n",
    "print(hash_data)"
   ]
  },
  {
   "cell_type": "code",
   "execution_count": 18,
   "metadata": {},
   "outputs": [
    {
     "data": {
      "text/plain": [
       "'44b17bc407f0402c99ff1f947d4b64023a74c9b09e66e6f7b95a2e8941ecfb83'"
      ]
     },
     "execution_count": 18,
     "metadata": {},
     "output_type": "execute_result"
    }
   ],
   "source": [
    "block6"
   ]
  },
  {
   "cell_type": "markdown",
   "metadata": {},
   "source": [
    "## 암호해시와 블록 이어가기"
   ]
  },
  {
   "cell_type": "code",
   "execution_count": 6,
   "metadata": {},
   "outputs": [
    {
     "name": "stdout",
     "output_type": "stream",
     "text": [
      "92397069f980b4f05c7b04a5b81b75584bdbc6591b0b4f745161889dce7606d1\n"
     ]
    }
   ],
   "source": [
    "import hashlib\n",
    "\n",
    "genesis_block =   {'INDEX':0,\n",
    "                    '판매자' : '파공블',\n",
    "                    '구매자' : '김민수',\n",
    "                    '개수' : '3개',\n",
    "                    '시간' : '2022년 5월 11일 16시 25분 16초',\n",
    "                    'previous_block' : None\n",
    "                  }\n",
    "hash_data = hashlib.sha256(str(genesis_block).encode()).hexdigest()\n",
    "print(hash_data)"
   ]
  },
  {
   "cell_type": "code",
   "execution_count": 7,
   "metadata": {},
   "outputs": [
    {
     "ename": "NameError",
     "evalue": "name 'block_1' is not defined",
     "output_type": "error",
     "traceback": [
      "\u001b[1;31m---------------------------------------------------------------------------\u001b[0m",
      "\u001b[1;31mNameError\u001b[0m                                 Traceback (most recent call last)",
      "\u001b[1;32m<ipython-input-7-19093d097c11>\u001b[0m in \u001b[0;36m<module>\u001b[1;34m\u001b[0m\n\u001b[0;32m      7\u001b[0m               }\n\u001b[0;32m      8\u001b[0m \u001b[1;33m\u001b[0m\u001b[0m\n\u001b[1;32m----> 9\u001b[1;33m \u001b[0mhash_data\u001b[0m \u001b[1;33m=\u001b[0m \u001b[0mhashlib\u001b[0m\u001b[1;33m.\u001b[0m\u001b[0msha256\u001b[0m\u001b[1;33m(\u001b[0m\u001b[0mstr\u001b[0m\u001b[1;33m(\u001b[0m\u001b[0mblock_1\u001b[0m\u001b[1;33m)\u001b[0m\u001b[1;33m.\u001b[0m\u001b[0mencode\u001b[0m\u001b[1;33m(\u001b[0m\u001b[1;33m)\u001b[0m\u001b[1;33m)\u001b[0m\u001b[1;33m.\u001b[0m\u001b[0mhexdigest\u001b[0m\u001b[1;33m(\u001b[0m\u001b[1;33m)\u001b[0m\u001b[1;33m\u001b[0m\u001b[1;33m\u001b[0m\u001b[0m\n\u001b[0m\u001b[0;32m     10\u001b[0m \u001b[0mprint\u001b[0m\u001b[1;33m(\u001b[0m\u001b[0mhash_data\u001b[0m\u001b[1;33m)\u001b[0m\u001b[1;33m\u001b[0m\u001b[1;33m\u001b[0m\u001b[0m\n",
      "\u001b[1;31mNameError\u001b[0m: name 'block_1' is not defined"
     ]
    }
   ],
   "source": [
    "block_2 = {'INDEX':1,\n",
    "            '판매자' : '김민수',\n",
    "            '구매자' : '김영수',\n",
    "            '개수' : '3개',\n",
    "            '시간' : '2022년 5월 12일 13시 25분 16초',\n",
    "                \"previous_hash\" : hash_data\n",
    "              }\n",
    "\n",
    "hash_data = hashlib.sha256(str(block_1).encode()).hexdigest()\n",
    "print(hash_data)"
   ]
  },
  {
   "cell_type": "code",
   "execution_count": 8,
   "metadata": {},
   "outputs": [
    {
     "name": "stdout",
     "output_type": "stream",
     "text": [
      "8c837212ffdc3411c6336ee8e6259a79a4f1fcb71cebb0e36e801c019396541e\n"
     ]
    }
   ],
   "source": [
    "block_3 = {'INDEX':3,\n",
    "            '판매자' : '김영수',\n",
    "            '구매자' : '박명수',\n",
    "            '개수' : '3개',\n",
    "            '시간' : '2022년 5월 13일 16시 25분 16초',\n",
    "                \"previous_hash\" : hash_data\n",
    "              }\n",
    "\n",
    "hash_data = hashlib.sha256(str(block_3).encode()).hexdigest()\n",
    "print(hash_data)"
   ]
  },
  {
   "cell_type": "code",
   "execution_count": 50,
   "metadata": {},
   "outputs": [
    {
     "name": "stdout",
     "output_type": "stream",
     "text": [
      "875e71e37981473eeb98285a77953d9b3b8ed608f4af59a8b0d0eb5415905d92\n"
     ]
    }
   ],
   "source": [
    "block4 =  {'INDEX':4,\n",
    "            '판매자' : '박명수',\n",
    "            '구매자' : '이미래',\n",
    "            '개수' : '3개',\n",
    "            '시간' : '2022년 5월 14일 16시 25분 16초',\n",
    "           'previous_block' : hash_data\n",
    "          }\n",
    "hash_data = hashlib.sha256(str(block4).encode()).hexdigest()\n",
    "print(hash_data)"
   ]
  },
  {
   "cell_type": "code",
   "execution_count": 23,
   "metadata": {},
   "outputs": [
    {
     "name": "stdout",
     "output_type": "stream",
     "text": [
      "4c68ad5f093fb4f807b9d6d7211d5d34c7192e0fb675a789322618556010efb2\n"
     ]
    }
   ],
   "source": [
    "block5 =  {'INDEX':5,\n",
    "            '판매자' : '이미래',\n",
    "            '구매자' : '케로로',\n",
    "            '개수' : '3개',\n",
    "            '시간' : '2022년 5월 15일 16시 25분 16초',\n",
    "           'previous_block' : hash_data\n",
    "          }\n",
    "hash_data = hashlib.sha256(str(block5).encode()).hexdigest()\n",
    "print(hash_data)"
   ]
  },
  {
   "cell_type": "code",
   "execution_count": 24,
   "metadata": {},
   "outputs": [
    {
     "name": "stdout",
     "output_type": "stream",
     "text": [
      "9567573123771d32f6e7b908ec374adb83a1f72f09664374458c09050b0e9d03\n"
     ]
    }
   ],
   "source": [
    "block6 =  {'INDEX':6,\n",
    "            '판매자' : '케로로',\n",
    "            '구매자' : '박철수',\n",
    "            '개수' : '3개',\n",
    "            '시간' : '2022년 5월 16일 16시 25분 16초',\n",
    "           'previous_block' : hash_data\n",
    "          }\n",
    "hash_data = hashlib.sha256(str(block6).encode()).hexdigest()\n",
    "print(hash_data)"
   ]
  },
  {
   "cell_type": "code",
   "execution_count": 19,
   "metadata": {},
   "outputs": [
    {
     "data": {
      "text/plain": [
       "'2e0ea856c53c31757c00b00e6416b43ea334c5a1b706b02440be18479b95cba0'"
      ]
     },
     "execution_count": 19,
     "metadata": {},
     "output_type": "execute_result"
    }
   ],
   "source": [
    "block6 =  {'INDEX':6,\n",
    "            '판매자' : '최용수',\n",
    "            '구매자' : '강영희',\n",
    "            '개수' : '3개',\n",
    "            '시간' : '1990-01-06 02:03:04',\n",
    "           'previous_block' : hashlib.sha256(str(block5).encode()).hexdigest()\n",
    "          }\n",
    "hashlib.sha256(str(block6).encode()).hexdigest()"
   ]
  },
  {
   "cell_type": "code",
   "execution_count": 20,
   "metadata": {},
   "outputs": [
    {
     "data": {
      "text/plain": [
       "'071258fb5bbe600dc0fd531974780693cf17e04022a5195b6a75d3a349abaf7f'"
      ]
     },
     "execution_count": 20,
     "metadata": {},
     "output_type": "execute_result"
    }
   ],
   "source": [
    "block6 =  {'INDEX':6,\n",
    "            '판매자' : '최용수',\n",
    "            '구매자' : '강영희',\n",
    "            '개수' : '30개',\n",
    "            '시간' : '1990-01-06 02:03:05',\n",
    "           'previous_block' : hashlib.sha256(str(block5).encode()).hexdigest()\n",
    "          }\n",
    "hashlib.sha256(str(block6).encode()).hexdigest()"
   ]
  },
  {
   "cell_type": "markdown",
   "metadata": {},
   "source": [
    "## 블록체인의 구성요소"
   ]
  },
  {
   "cell_type": "code",
   "execution_count": 9,
   "metadata": {},
   "outputs": [],
   "source": [
    "import datetime"
   ]
  },
  {
   "cell_type": "code",
   "execution_count": 20,
   "metadata": {},
   "outputs": [],
   "source": [
    "block_header =  {  'previous_hash' : \"0\",\n",
    "                 \"block_created_at\" : datetime.datetime.now().timestamp(),\n",
    "                 \"body_hash\" : body_hash,\n",
    "                }"
   ]
  },
  {
   "cell_type": "code",
   "execution_count": 10,
   "metadata": {},
   "outputs": [
    {
     "name": "stdout",
     "output_type": "stream",
     "text": [
      "081c9a086632d56fff9b3bfac32d122272f39ccb179f358240f0e31f765b5512\n"
     ]
    }
   ],
   "source": [
    "block_body =  { \"transaction1\": {\n",
    "                            '판매자' : '파공블',\n",
    "                            '구매자' : '김민수',\n",
    "                            '개수' : '3개',\n",
    "                            'timestamp' : 1652247422892844,\n",
    "                               },\n",
    "                    \"transaction2\": {\n",
    "                            '판매자' : '파공블',\n",
    "                            '구매자' : '이영호',\n",
    "                            '개수' : '3개',\n",
    "                             'timestamp' : 165224743233231\n",
    "                               }\n",
    "                   }\n",
    "body_hash = hashlib.sha256(str(block_body).encode()).hexdigest()\n",
    "print(body_hash)"
   ]
  },
  {
   "cell_type": "code",
   "execution_count": 11,
   "metadata": {},
   "outputs": [],
   "source": [
    "block_header =  { \"version\": \"miraeblock_chain_V_0.0\",\n",
    "                 \"block_created_at\" : 1652247600790251,\n",
    "                 \"body_hash\" : body_hash,\n",
    "                 'previous_hash' : \"0\",\n",
    "                 \"nounce\" : \"NOUNCE?????\"\n",
    "                }"
   ]
  },
  {
   "cell_type": "code",
   "execution_count": 12,
   "metadata": {},
   "outputs": [
    {
     "data": {
      "text/plain": [
       "{'header': {'version': 'miraeblock_chain_V_0.0',\n",
       "  'block_created_at': 1652247600790251,\n",
       "  'body_hash': '081c9a086632d56fff9b3bfac32d122272f39ccb179f358240f0e31f765b5512',\n",
       "  'previous_hash': '0',\n",
       "  'nounce': 'NOUNCE?????'},\n",
       " 'transaction': {'transaction1': {'판매자': '파공블',\n",
       "   '구매자': '김민수',\n",
       "   '개수': '3개',\n",
       "   'timestamp': 1652247422892844},\n",
       "  'transaction2': {'판매자': '파공블',\n",
       "   '구매자': '이영호',\n",
       "   '개수': '3개',\n",
       "   'timestamp': 165224743233231}}}"
      ]
     },
     "execution_count": 12,
     "metadata": {},
     "output_type": "execute_result"
    }
   ],
   "source": [
    "genesis_block =  {'header' : block_header,\n",
    "                   'transaction' : block_body\n",
    "                  }\n",
    "genesis_block"
   ]
  },
  {
   "cell_type": "code",
   "execution_count": 13,
   "metadata": {},
   "outputs": [],
   "source": [
    "block_body2 =  { \"transaction1\": {\n",
    "                            '판매자' : '김민수',\n",
    "                            '구매자' : '김민목',\n",
    "                            '개수' : '3개',\n",
    "                            'timestamp' : 1662247422892844,\n",
    "                               },\n",
    "                    \"transaction2\": {\n",
    "                            '판매자' : '이영호',\n",
    "                            '구매자' : '이일호',\n",
    "                            '개수' : '3개',\n",
    "                             'timestamp' : 165224743833231\n",
    "                        \n",
    "                               }\n",
    "                   }\n",
    "body_hash2 = hashlib.sha256(str(block_body2).encode()).hexdigest()"
   ]
  },
  {
   "cell_type": "code",
   "execution_count": 17,
   "metadata": {},
   "outputs": [
    {
     "data": {
      "text/plain": [
       "{'previous_hash': 'f729db41655916215f8e9603030e2492775e8f8540084b221ea246de01b52aeb',\n",
       " 'block_created_at': 1652247600790251,\n",
       " 'body_hash': 'f21730e759fc45a9d069c40066798cbc3e503d37a21966c5ba6e7419f0134138',\n",
       " 'nounce': 'NOUNCE?????'}"
      ]
     },
     "execution_count": 17,
     "metadata": {},
     "output_type": "execute_result"
    }
   ],
   "source": [
    "block_header2 =  { \n",
    "                 'previous_hash' : hashlib.sha256(str(genesis_block).encode()).hexdigest(),\n",
    "                 \"block_created_at\" : 1652247600790251,\n",
    "                 \"body_hash\" : body_hash2,\n",
    "                 \"nounce\" : \"NOUNCE?????\"\n",
    "                }\n",
    "block_header2"
   ]
  },
  {
   "cell_type": "code",
   "execution_count": 16,
   "metadata": {},
   "outputs": [
    {
     "data": {
      "text/plain": [
       "{'block_created_at': 1652247600790251,\n",
       " 'body_hash': 'f21730e759fc45a9d069c40066798cbc3e503d37a21966c5ba6e7419f0134138',\n",
       " 'previous_hash': 'f729db41655916215f8e9603030e2492775e8f8540084b221ea246de01b52aeb',\n",
       " 'nounce': 'NOUNCE?????'}"
      ]
     },
     "execution_count": 16,
     "metadata": {},
     "output_type": "execute_result"
    }
   ],
   "source": [
    "block_header2 =  { \n",
    "                 \"block_created_at\" : 1652247600790251,\n",
    "                 \"body_hash\" : body_hash2,\n",
    "                 'previous_hash' : hashlib.sha256(str(genesis_block).encode()).hexdigest(),\n",
    "                 \"nounce\" : \"NOUNCE?????\"\n",
    "                }\n",
    "block_header2"
   ]
  },
  {
   "cell_type": "code",
   "execution_count": 99,
   "metadata": {},
   "outputs": [
    {
     "data": {
      "text/plain": [
       "{'header': {'block_created_at': 1652247600790251,\n",
       "  'body_hash': '720c537048314c1ac2c12285cfd448088278c764d2606debe2d63e1b5f789d9a',\n",
       "  'nounce': 'NOUNCE?????',\n",
       "  'previous_hash': '0',\n",
       "  'version': 'miraeblock_chain_V_0.0'},\n",
       " 'transaction': {'transaction1': {'timestamp': 1652247422892844,\n",
       "   '개수': '3개',\n",
       "   '구매자': '김민수',\n",
       "   '판매자': '파공블'},\n",
       "  'transaction2': {'timestamp': 165224743233231,\n",
       "   '개수': '3개',\n",
       "   '구매자': '이영호',\n",
       "   '판매자': '파공블'}}}"
      ]
     },
     "execution_count": 99,
     "metadata": {},
     "output_type": "execute_result"
    }
   ],
   "source": [
    "block_2 =  {'header' : block_header2,\n",
    "                   'transaction' : block_body2\n",
    "                  }\n",
    "genesis_block"
   ]
  },
  {
   "cell_type": "code",
   "execution_count": null,
   "metadata": {},
   "outputs": [],
   "source": [
    "-\t블록의 생성 번호: 블록이 몇번쨰로 생성되었는지에 관한 정보\n",
    "-\t블록의 생성 시간: 블록이 생성된 시간\n",
    "-\t블록의 채굴자: 블록을 채굴하여 그 보상을 받아간 지갑 주소\n",
    "-\t블록 채굴자의 보상 값 : 채굻한 결과 받은 보상 값\n",
    "-\t블록 채굴 난이도: 블록을 채굴하기 위한 난이도 (이후 채굴과정에서 추가 설명예정)\n",
    "    논스\n",
    "-\t블록 사이즈: 블록에 저장된 데이터의 총 사이즈\n",
    "-\t이전 블록의 해시값: 과거 데이터의 변조여부 확인\n",
    "-\t이번 블록 몸통 내역의 해시값: 이번 블록에서 데이터 위변조 여부 확인 \n"
   ]
  },
  {
   "cell_type": "code",
   "execution_count": 25,
   "metadata": {},
   "outputs": [
    {
     "data": {
      "text/plain": [
       "'2022-08-13 22:18:18'"
      ]
     },
     "execution_count": 25,
     "metadata": {},
     "output_type": "execute_result"
    }
   ],
   "source": [
    "\n",
    "datetime.datetime.now().strftime(\"%Y-%m-%d %H:%M:%S\")"
   ]
  },
  {
   "cell_type": "code",
   "execution_count": 28,
   "metadata": {},
   "outputs": [
    {
     "data": {
      "text/plain": [
       "{'header': {'블록의 생성 번호': 0,\n",
       "  '블록의 생성 시간': '2022-08-13 22:25:58',\n",
       "  '블록의 채굴자': '0xea674fdde714fd979de3edf0f56aa9716b898ec8',\n",
       "  '블록 채굴자의 보상 값': 2.132,\n",
       "  '블록 채굴 난이도': 12382889997310022,\n",
       "  'Nonce': '0x7ccf42b8e05d031f',\n",
       "  '블록 사이즈': '178556 bytes',\n",
       "  '이전 블록의 해시값': '0xe1f3d0e83542e20735d453006cc6d8975920e7aec951c3b974eade52901e97e7',\n",
       "  '이번 블록 몸통 내역의 해시값': '8d326a9994caac14dba19c04bd8455e0166114fd9e10fd2e1059d63a05eb17a7'},\n",
       " 'transaction': {'거래내역1': {'판매자': '파공블',\n",
       "   '구매자': '김민수',\n",
       "   '개수': '3개',\n",
       "   '거래시간': '1990년 1월 1일 00시 00분 00초',\n",
       "   '거래수수료': '0.001개'},\n",
       "  '거래내역2': {'판매자': '김민수',\n",
       "   '구매자': '김영수',\n",
       "   '개수': '3개',\n",
       "   '거래시간': '1990년 1월 2일 01시 02분 03초',\n",
       "   '거래수수료': '0.001개'}}}"
      ]
     },
     "execution_count": 28,
     "metadata": {},
     "output_type": "execute_result"
    }
   ],
   "source": [
    "import datetime\n",
    "import hashlib\n",
    "\n",
    "block_body =  {   \"거래내역1\": {\n",
    "                            '판매자' : '파공블',\n",
    "                            '구매자' : '김민수',\n",
    "                            '개수' : '3개',\n",
    "                            '거래시간' : '1990년 1월 1일 00시 00분 00초',\n",
    "                            '거래수수료' : '0.001개'     \n",
    "                               },\n",
    "                    \"거래내역2\": {\n",
    "                            '판매자' : '김민수',\n",
    "                            '구매자' : '김영수',\n",
    "                            '개수' : '3개',\n",
    "                            '거래시간' : '1990년 1월 2일 01시 02분 03초',\n",
    "                            '거래수수료' : '0.001개'                        \n",
    "                               }\n",
    "                   }\n",
    "\n",
    "\n",
    "block_header =  {  '블록의 생성 번호' : 0,\n",
    "                   '블록의 생성 시간' : datetime.datetime.now().strftime(\"%Y-%m-%d %H:%M:%S\"),\n",
    "                   '블록의 채굴자' : \"0xea674fdde714fd979de3edf0f56aa9716b898ec8\",\n",
    "                   '블록 채굴자의 보상 값' : 2.132,\n",
    "                   '블록 채굴 난이도' : 12382889997310022,\n",
    "                   'Nonce'  : '0x7ccf42b8e05d031f',\n",
    "                   '블록 사이즈' : '178556 bytes',\n",
    "                   '이전 블록의 해시값' : '0xe1f3d0e83542e20735d453006cc6d8975920e7aec951c3b974eade52901e97e7',\n",
    "                   '이번 블록 몸통 내역의 해시값' : hashlib.sha256(str(block_body).encode()).hexdigest()\n",
    "                }\n",
    "\n",
    "\n",
    "body_hash = hashlib.sha256(str(block_body).encode()).hexdigest()\n",
    "\n",
    "\n",
    "block1 =  { 'header' : block_header,\n",
    "            'transaction' : block_body\n",
    "           }\n",
    "block1 "
   ]
  },
  {
   "cell_type": "code",
   "execution_count": 27,
   "metadata": {},
   "outputs": [
    {
     "data": {
      "text/plain": [
       "{'header': {'Block_height': 0,\n",
       "  'Block_created_at': '2022-08-13 22:23:23',\n",
       "  'Miner': '0xea674fdde714fd979de3edf0f56aa9716b898ec8',\n",
       "  'Block_Reward': 2.132,\n",
       "  'Difficulty': 12382889997310022,\n",
       "  'Nonce': '0x7ccf42b8e05d031f',\n",
       "  'Block_size': '178556 bytes',\n",
       "  'Parent_hash': '0xe1f3d0e83542e20735d453006cc6d8975920e7aec951c3b974eade52901e97e7',\n",
       "  'Body_hash': '081c9a086632d56fff9b3bfac32d122272f39ccb179f358240f0e31f765b5512'},\n",
       " 'transaction': {'transaction1': {'판매자': '파공블',\n",
       "   '구매자': '김민수',\n",
       "   '개수': '3개',\n",
       "   'timestamp': 1652247422892844},\n",
       "  'transaction2': {'판매자': '파공블',\n",
       "   '구매자': '이영호',\n",
       "   '개수': '3개',\n",
       "   'timestamp': 165224743233231}}}"
      ]
     },
     "execution_count": 27,
     "metadata": {},
     "output_type": "execute_result"
    }
   ],
   "source": [
    "import datetime\n",
    "import hashlib\n",
    "\n",
    "block_body =  { \"transaction1\": {\n",
    "                            '판매자' : '파공블',\n",
    "                            '구매자' : '김민수',\n",
    "                            '개수' : '3개',\n",
    "                            'timestamp' : 1652247422892844,\n",
    "                               },\n",
    "                    \"transaction2\": {\n",
    "                            '판매자' : '파공블',\n",
    "                            '구매자' : '이영호',\n",
    "                            '개수' : '3개',\n",
    "                             'timestamp' : 165224743233231\n",
    "                               }\n",
    "                   }\n",
    "\n",
    "\n",
    "block_header =  {  'Block_height' : 0,\n",
    "                   'Block_created_at' : datetime.datetime.now().strftime(\"%Y-%m-%d %H:%M:%S\"),\n",
    "                   'Miner' : \"0xea674fdde714fd979de3edf0f56aa9716b898ec8\",\n",
    "                   'Block_Reward' : 2.132,\n",
    "                   'Difficulty' : 12382889997310022,\n",
    "                   'Nonce'  : '0x7ccf42b8e05d031f',\n",
    "                   'Block_size' : '178556 bytes',\n",
    "                   'Parent_hash' : '0xe1f3d0e83542e20735d453006cc6d8975920e7aec951c3b974eade52901e97e7',\n",
    "                   'Body_hash' : hashlib.sha256(str(block_body).encode()).hexdigest()\n",
    "                }\n",
    "\n",
    "\n",
    "body_hash = hashlib.sha256(str(block_body).encode()).hexdigest()\n",
    "\n",
    "\n",
    "block1 =  { 'header' : block_header,\n",
    "            'transaction' : block_body\n",
    "           }\n",
    "block1 "
   ]
  },
  {
   "cell_type": "markdown",
   "metadata": {},
   "source": [
    "## smart Contracct"
   ]
  },
  {
   "cell_type": "code",
   "execution_count": 1,
   "metadata": {},
   "outputs": [
    {
     "data": {
      "text/plain": [
       "{'header': {'Block_height': 0,\n",
       "  'Block_created_at': '2022-08-15 01:17:19',\n",
       "  'Miner': '0xea674fdde714fd979de3edf0f56aa9716b898ec8',\n",
       "  'Block_Reward': 2.132,\n",
       "  'Difficulty': 12382889997310022,\n",
       "  'Nonce': '0x7ccf42b8e05d031f',\n",
       "  'Block_size': '178556 bytes',\n",
       "  'Parent_hash': '0xe1f3d0e83542e20735d453006cc6d8975920e7aec951c3b974eade52901e97e7',\n",
       "  'Body_hash': '06d389e561e94d71cf3952c35b547d4d063a547b5ad6ce532de1aba3c25465ae'},\n",
       " 'transaction': {'transaction1': {'판매자': '파공블',\n",
       "   '구매자': '김민수',\n",
       "   '개수': '3개',\n",
       "   'timestamp': 1652247422892844,\n",
       "   'smart_contract': {}},\n",
       "  'transaction2': {'판매자': '파공블',\n",
       "   '구매자': '이영호',\n",
       "   '개수': '3개',\n",
       "   'timestamp': 165224743233231,\n",
       "   'smart_contract': {}}}}"
      ]
     },
     "execution_count": 1,
     "metadata": {},
     "output_type": "execute_result"
    }
   ],
   "source": [
    "import datetime\n",
    "import hashlib\n",
    "\n",
    "block_body =  { \"transaction1\": {\n",
    "                            '판매자' : '장영희',\n",
    "                            '구매자' : '이박사',\n",
    "                            '개수' : '3개',\n",
    "                            'timestamp' : 1652247422892844,\n",
    "                            'smart_contract' :  { '파일명':    'wedding.jpg',\n",
    "                                                  '파일소개':  '장영희 결혼식 기념사진',\n",
    "                                                  '파일데이터' : 'bf9ed7487a7f0dfc'} #(이미지정보)\n",
    "                               },\n",
    "                    \"transaction2\": {\n",
    "                            '판매자' : '김민수',\n",
    "                            '구매자' : '최영호',\n",
    "                            '개수' : '1개',\n",
    "                             'timestamp' : 165224743233231,\n",
    "                            'smart_contract' :  { '파일명':    '이력서.jpg',\n",
    "                                                  '파일소개':  '김민수의 생애 첫 이력서',\n",
    "                                                  '파일데이터' : 'ef394130e1eb1'} #(이미지정보)\n",
    "                               }\n",
    "                   }\n",
    "\n",
    "\n",
    "block_header =  {  'Block_height' : 0,\n",
    "                   'Block_created_at' : datetime.datetime.now().strftime(\"%Y-%m-%d %H:%M:%S\"),\n",
    "                   'Miner' : \"0xea674fdde714fd979de3edf0f56aa9716b898ec8\",\n",
    "                   'Block_Reward' : 2.132,\n",
    "                   'Difficulty' : 12382889997310022,\n",
    "                   'Nonce'  : '0x7ccf42b8e05d031f',\n",
    "                   'Block_size' : '178556 bytes',\n",
    "                   'Parent_hash' : '0xe1f3d0e83542e20735d453006cc6d8975920e7aec951c3b974eade52901e97e7',\n",
    "                   'Body_hash' : hashlib.sha256(str(block_body).encode()).hexdigest()\n",
    "                }\n",
    "\n",
    "\n",
    "body_hash = hashlib.sha256(str(block_body).encode()).hexdigest()\n",
    "\n",
    "\n",
    "block1 =  { 'header' : block_header,\n",
    "            'transaction' : block_body\n",
    "           }\n",
    "block1 "
   ]
  },
  {
   "cell_type": "code",
   "execution_count": 4,
   "metadata": {},
   "outputs": [
    {
     "data": {
      "text/plain": [
       "{'header': {'Block_height': 0,\n",
       "  'Block_created_at': '2022-08-15 01:39:46',\n",
       "  'Miner': '0xea674fdde714fd979de3edf0f56aa9716b898ec8',\n",
       "  'Block_Reward': 2.132,\n",
       "  'Difficulty': 12382889997310022,\n",
       "  'Nonce': '0x7ccf42b8e05d031f',\n",
       "  'Block_size': '178556 bytes',\n",
       "  'Parent_hash': '0xe1f3d0e83542e20735d453006cc6d8975920e7aec951c3b974eade52901e97e7',\n",
       "  'Body_hash': 'ca55ee822bde2814d679d01f835a768c152148dfa78e5927161ba4b3bd0e8d02'},\n",
       " 'transaction': {'transaction1': {'판매자': '파공블',\n",
       "   '구매자': '',\n",
       "   '개수': '0개',\n",
       "   'timestamp': 1652247422892844,\n",
       "   'smart_contract': {'토큰명': 'PGB', '토큰설명': '파공블 코인', '토큰발행개수': 100}}}}"
      ]
     },
     "execution_count": 4,
     "metadata": {},
     "output_type": "execute_result"
    }
   ],
   "source": [
    "import datetime\n",
    "import hashlib\n",
    "\n",
    "block_body =  { \"transaction1\": {\n",
    "                            '판매자' : '파공블',\n",
    "                            '구매자' : '',\n",
    "                            '개수' : '0개',\n",
    "                            'timestamp' : 1652247422892844,\n",
    "                            'smart_contract' :  { '토큰명':    'PGB',\n",
    "                                                  '토큰설명':    '파공블 코인',\n",
    "                                                  '토큰발행개수':  100\n",
    "                                                  } \n",
    "                               },\n",
    "                   }\n",
    "\n",
    "\n",
    "block_header =  {  'Block_height' : 0,\n",
    "                   'Block_created_at' : datetime.datetime.now().strftime(\"%Y-%m-%d %H:%M:%S\"),\n",
    "                   'Miner' : \"0xea674fdde714fd979de3edf0f56aa9716b898ec8\",\n",
    "                   'Block_Reward' : 2.132,\n",
    "                   'Difficulty' : 12382889997310022,\n",
    "                   'Nonce'  : '0x7ccf42b8e05d031f',\n",
    "                   'Block_size' : '178556 bytes',\n",
    "                   'Parent_hash' : '0xe1f3d0e83542e20735d453006cc6d8975920e7aec951c3b974eade52901e97e7',\n",
    "                   'Body_hash' : hashlib.sha256(str(block_body).encode()).hexdigest()\n",
    "                }\n",
    "\n",
    "\n",
    "body_hash = hashlib.sha256(str(block_body).encode()).hexdigest()\n",
    "\n",
    "\n",
    "block2 =  { 'header' : block_header,\n",
    "            'transaction' : block_body\n",
    "           }\n",
    "block2 "
   ]
  },
  {
   "cell_type": "code",
   "execution_count": 7,
   "metadata": {},
   "outputs": [
    {
     "data": {
      "text/plain": [
       "{'header': {'Block_height': 0,\n",
       "  'Block_created_at': '2022-08-15 01:45:13',\n",
       "  'Miner': '0xea674fdde714fd979de3edf0f56aa9716b898ec8',\n",
       "  'Block_Reward': 2.132,\n",
       "  'Difficulty': 12382889997310022,\n",
       "  'Nonce': '0x7ccf42b8e05d031f',\n",
       "  'Block_size': '178556 bytes',\n",
       "  'Parent_hash': '0xe1f3d0e83542e20735d453006cc6d8975920e7aec951c3b974eade52901e97e7',\n",
       "  'Body_hash': '8b4625fa0d9c53aad03606f1c64f4380230d1073d3872a1d1fdc6e0e84a0a647'},\n",
       " 'transaction': {'transaction1': {'판매자': '파공블',\n",
       "   '구매자': '',\n",
       "   '개수': '0개',\n",
       "   'timestamp': 1652247422892844,\n",
       "   'smart_contract': {'함수명': 'PGB_DEFI',\n",
       "    '함수설명': '파공블 디파이 네트워크',\n",
       "    'INPUT 변수': ['사용자 지갑 주소', '요청 구분(예금 or 대출)', '금액'],\n",
       "    '함수내용': '\\n                                                                만약 예금 요청이 오면, 원금을 받고 매월 20%씩 이자를 준다\\n                                                                만약 대출 요청이 오면, 코인지갑을 담보로 100 USD를 대출해준다\\n                                                                    \\n                                                                '}}}}"
      ]
     },
     "execution_count": 7,
     "metadata": {},
     "output_type": "execute_result"
    }
   ],
   "source": [
    "import datetime\n",
    "import hashlib\n",
    "\n",
    "block_body =  { \"transaction1\": {\n",
    "                            '판매자' : '파공블',\n",
    "                            '구매자' : '',\n",
    "                            '개수' : '0개',\n",
    "                            'timestamp' : 1652247422892844,\n",
    "                            'smart_contract' :  { '함수명':    'PGB_DEFI',\n",
    "                                                  '함수설명':    '파공블 디파이 네트워크',\n",
    "                                                  'INPUT 변수':    ['사용자 지갑 주소','요청 구분(예금 or 대출)', \"금액\"],\n",
    "                                                  '함수내용':  \"\"\"\n",
    "                                                                만약 예금 요청이 오면, 원금을 받고 매월 20%씩 이자를 준다\n",
    "                                                                만약 대출 요청이 오면, 코인지갑을 담보로 100 USD를 대출해준다\n",
    "                                                                    \n",
    "                                                                \"\"\"\n",
    "                                                  } \n",
    "                               },\n",
    "                   }\n",
    "\n",
    "\n",
    "block_header =  {  'Block_height' : 0,\n",
    "                   'Block_created_at' : datetime.datetime.now().strftime(\"%Y-%m-%d %H:%M:%S\"),\n",
    "                   'Miner' : \"0xea674fdde714fd979de3edf0f56aa9716b898ec8\",\n",
    "                   'Block_Reward' : 2.132,\n",
    "                   'Difficulty' : 12382889997310022,\n",
    "                   'Nonce'  : '0x7ccf42b8e05d031f',\n",
    "                   'Block_size' : '178556 bytes',\n",
    "                   'Parent_hash' : '0xe1f3dㅃ0e83542e20735d453006cc6d8975920e7aec951c3b974eade52901e97e7',\n",
    "                   'Body_hash' : hashlib.sha256(str(block_body).encode()).hexdigest()\n",
    "                }\n",
    "\n",
    "\n",
    "body_hash = hashlib.sha256(str(block_body).encode()).hexdigest()\n",
    "\n",
    "\n",
    "block3 =  { 'header' : block_header,\n",
    "            'transaction' : block_body\n",
    "           }\n",
    "block3"
   ]
  },
  {
   "cell_type": "code",
   "execution_count": 2,
   "metadata": {},
   "outputs": [
    {
     "data": {
      "text/plain": [
       "{'header': {'Block_height': 0,\n",
       "  'Block_created_at': '2022-08-15 02:38:24',\n",
       "  'Miner': '0xea674fdde714fd979de3edf0f56aa9716b898ec8',\n",
       "  'Block_Reward': 2.132,\n",
       "  'Difficulty': 12382889997310022,\n",
       "  'Nonce': '0x7ccf42b8e05d031f',\n",
       "  'Block_size': '178556 bytes',\n",
       "  'Parent_hash': '0xe1f3dㅃ0e83542e20735d453006cc6d8975920e7aec951c3b974eade52901e97e7',\n",
       "  'Body_hash': 'c3cae896f3a9ea5e968c37484c27e333949e86c91b3b6660241927057d341ece'},\n",
       " 'transaction': {'transaction1': {'판매자': '파공블',\n",
       "   '구매자': '',\n",
       "   '개수': '0개',\n",
       "   'timestamp': 1652247422892844,\n",
       "   'smart_contract': {'함수명': 'PGB_DEFI',\n",
       "    '함수설명': '파공블 디파이 네트워크',\n",
       "    'INPUT 변수': ['사용자 지갑 주소', '요청 구분(예금 or 대출)', '금액'],\n",
       "    '함수내용': 'def add_(x,y):   return x+y'}}}}"
      ]
     },
     "execution_count": 2,
     "metadata": {},
     "output_type": "execute_result"
    }
   ],
   "source": [
    "import datetime\n",
    "import hashlib\n",
    "\n",
    "block_body =  { \"transaction1\": {\n",
    "                            '판매자' : '파공블',\n",
    "                            '구매자' : '',\n",
    "                            '개수' : '0개',\n",
    "                            'timestamp' : 1652247422892844,\n",
    "                            'smart_contract' :  { '함수명':    'PGB_DEFI',\n",
    "                                                  '함수설명':    '파공블 디파이 네트워크',\n",
    "                                                  'INPUT 변수':    ['사용자 지갑 주소','요청 구분(예금 or 대출)', \"금액\"],\n",
    "                                                  '함수내용':  \"def add_(x,y):   return x+y\"\n",
    "                                                  } \n",
    "                               },\n",
    "                   }\n",
    "\n",
    "\n",
    "block_header =  {  'Block_height' : 0,\n",
    "                   'Block_created_at' : datetime.datetime.now().strftime(\"%Y-%m-%d %H:%M:%S\"),\n",
    "                   'Miner' : \"0xea674fdde714fd979de3edf0f56aa9716b898ec8\",\n",
    "                   'Block_Reward' : 2.132,\n",
    "                   'Difficulty' : 12382889997310022,\n",
    "                   'Nonce'  : '0x7ccf42b8e05d031f',\n",
    "                   'Block_size' : '178556 bytes',\n",
    "                   'Parent_hash' : '0xe1f3dㅃ0e83542e20735d453006cc6d8975920e7aec951c3b974eade52901e97e7',\n",
    "                   'Body_hash' : hashlib.sha256(str(block_body).encode()).hexdigest()\n",
    "                }\n",
    "\n",
    "\n",
    "body_hash = hashlib.sha256(str(block_body).encode()).hexdigest()\n",
    "\n",
    "\n",
    "block3 =  { 'header' : block_header,\n",
    "            'transaction' : block_body\n",
    "           }\n",
    "block3"
   ]
  },
  {
   "cell_type": "code",
   "execution_count": 3,
   "metadata": {},
   "outputs": [],
   "source": [
    "text_file = open(\"example_SC.py\", \"w\")\n",
    "text_file.write(block_body['transaction1']['smart_contract']['함수내용'])\n",
    "text_file.close()\n",
    " "
   ]
  },
  {
   "cell_type": "code",
   "execution_count": 4,
   "metadata": {},
   "outputs": [
    {
     "data": {
      "text/plain": [
       "'def add_(x,y):   return x+y'"
      ]
     },
     "execution_count": 4,
     "metadata": {},
     "output_type": "execute_result"
    }
   ],
   "source": [
    "block_body['transaction1']['smart_contract']['함수내용']"
   ]
  },
  {
   "cell_type": "code",
   "execution_count": 6,
   "metadata": {},
   "outputs": [
    {
     "data": {
      "text/plain": [
       "3"
      ]
     },
     "execution_count": 6,
     "metadata": {},
     "output_type": "execute_result"
    }
   ],
   "source": [
    "import importlib\n",
    "\n",
    "import example_SC\n",
    "importlib.reload(example_SC)\n",
    "\n",
    "example_SC.add_(1,2)"
   ]
  },
  {
   "cell_type": "markdown",
   "metadata": {},
   "source": [
    "## 채굴\n",
    "#### 조건 : nounce의 첫 1개 값이 0 이어야함!!"
   ]
  },
  {
   "cell_type": "code",
   "execution_count": 33,
   "metadata": {},
   "outputs": [
    {
     "data": {
      "text/plain": [
       "'n'"
      ]
     },
     "execution_count": 33,
     "metadata": {},
     "output_type": "execute_result"
    }
   ],
   "source": [
    "import string\n",
    "import random\n",
    "random.choice(string.ascii_letters)"
   ]
  },
  {
   "cell_type": "code",
   "execution_count": null,
   "metadata": {},
   "outputs": [],
   "source": [
    "import string"
   ]
  },
  {
   "cell_type": "code",
   "execution_count": 61,
   "metadata": {
    "scrolled": false
   },
   "outputs": [
    {
     "name": "stdout",
     "output_type": "stream",
     "text": [
      "0 A0 aa508c2187fca56f397ff75adc52b94e02f38122cdd48bd42105106e5e0f8e14\n"
     ]
    }
   ],
   "source": [
    "import random\n",
    "import string\n",
    "\n",
    "## 이더리움 네트워크가 낸 문제\n",
    "PROBLEM_WORD = \"a\"       # 찾아야하는 단어\n",
    "PROBLEM_DIFFICULTY = 1   #난이도 숫자, 숫자가 높아질수록 난이도가 높아짐\n",
    "\n",
    "## 채굴\n",
    "start_nonce = random.choice(string.ascii_letters)\n",
    "\n",
    "i = 0\n",
    "while True:\n",
    "    nonce = start_nonce + str(i)\n",
    "    nonce_result =  hashlib.sha256((nonce).encode()).hexdigest()\n",
    "    print(i,nonce, nonce_result)\n",
    "    if nonce_result[0: PROBLEM_DIFFICULTY] == PROBLEM_WORD * PROBLEM_DIFFICULTY:\n",
    "        nonce = nonce_result\n",
    "        break\n",
    "    i += 1\n"
   ]
  },
  {
   "cell_type": "code",
   "execution_count": 62,
   "metadata": {},
   "outputs": [
    {
     "name": "stdout",
     "output_type": "stream",
     "text": [
      "0 E0 02606f3ecf2a08f424ba6b22f944ad70b14e65b35a60d5499785082acb6d4ee9\n",
      "1 E1 22249aa61fd2594e50910aa574afbb977f9df8f7377e6f02e19c72245d899ad8\n",
      "2 E2 713a5bb2d170c8684937ab1dd0311be88e0d95fbd9b253333965841517794f64\n",
      "3 E3 183499aaeec2b9ca37bd647ae892902fd61b9a1dd8867a54287fd2c19ee97ed7\n",
      "4 E4 de793ba19330c40e4999ec96737972345b49f02f8189ef581ee32c95e422b473\n",
      "5 E5 ef099fcece6eeca3777d0d4a6ac606beb557e08dcd95cf93d0d42a0334329c10\n",
      "6 E6 b073b98568c2ff91549c889fd15dec963294e98dbce6ee38c9b5f3c6cd112515\n",
      "7 E7 a29d84f0185eac917b8cb0a675f3b0b12ab6fe6e8ee9a6a5902f05a3a5cb9fbd\n",
      "8 E8 a8d0a1117e28efe9d9bcd29833dd103ca8f1110f68e814dbff635c08c6d71907\n",
      "9 E9 2032ea400f77275bc6a9cb1a27d5d6603e2e8486110c6244f881c9026ee5194b\n",
      "10 E10 334908efbe3f2ca9f7c602d0121d0d4bef394130e1eb1ff21a1879a12b0bceb6\n",
      "11 E11 34db7854bfc1fc23df76ec64c817fe2e041e555603bf4ff7077a7249dd905c97\n",
      "12 E12 0bc066aabf4b5141af8c0764e4c198037eb70f116c7740b59facc2e2bf1a7277\n",
      "13 E13 cf44d5252262fe0fce222c30fb73062bff412d644ffe402b48a13466d1734a15\n",
      "14 E14 b7f456e6e397d34ebb3f2c6f6e8ca7d82c6aa18406e03474cfc0a082110e7439\n",
      "15 E15 6dc97c07113e932d11f5c068a50eefe1c129d9d3246ddc593fbf619ab9cb8e79\n",
      "16 E16 506b14dd530a6f0a1582958c635288d2741450e7747941590bce61a072e69a9c\n",
      "17 E17 036d49609e998881fc2eed488bc07ba535bc39740fec14b7f114698583e80983\n",
      "18 E18 793360cb076d9f3d24a098e3149d561b6d419193294a0e97263eabfec88f692e\n",
      "19 E19 393086f40f30125904947f94943ae2f1de936c3ccfcae62cbe86bbda7cf03e2b\n",
      "20 E20 51e6a0c3a35eb806a5ee142738e5421556aa487e28d5658d718721592bdb7912\n",
      "21 E21 231b2f8e3757d33f118643c561f9c322f856dbac686334d1dda5b83c380d62e3\n",
      "22 E22 a65730c43a07137c0894232ba3c9619409d781507b59ec63aa70cc5fc92f7936\n",
      "23 E23 7d8343048bfd7668f0d2c91620e107c20ad7b36f53adeed7c70a690d91c9feae\n",
      "24 E24 370fbb66eb4c6599439b15cef549a8b4db480b404dffb1578e68e7e7831d4eba\n",
      "25 E25 6335dda863cd7d6d606daf6b1d6bcc57c2a5ef4bbdb4f3e322f1ca21088cb344\n",
      "26 E26 8b849ba8650d9cac7fec67aecf787d8d26a1adc683c84b9bff6d1959aa8805d4\n",
      "27 E27 d70ef566e7c73e534862e51db21d7708d98a26bdb81e823414a3b4b8168c6559\n",
      "28 E28 72ae3ed673f35a048a0c4e5887f87c4e074b0459f66e3cfeafdf759ab58f0d47\n",
      "29 E29 923194b48b4d1f6bce163436b129ec0b7faf0b5686ac5efd1a5d4da6746946d5\n",
      "30 E30 a7c2c677f355290b815d9157c2c22d9323df3d8b9ad34a99d0ccbfbef908b11f\n",
      "31 E31 7e0889515d49e18686b58df097a8dd29bc76bae798d99a22986be89dc48bab69\n",
      "32 E32 6dd4ee1b8b07e96899157fc472b4323cc2c9672bf65fce63705f73bf63a55252\n",
      "33 E33 f6769bd1324e0e4d7e36d66530aa56240fc9793a68372f0d68a3908a230e769a\n",
      "34 E34 85819be79f31aeb746251daac765c03d826025b366df8e777edf28812d948f72\n",
      "35 E35 de9001f3b15feb3dac45816f645f3aa42dfc7760e3fa09fbf2a8a3de85a9eede\n",
      "36 E36 e70ba215a23e2c438f86bc8ddf119c579b7bff180841c6bea16c8b32ddfc7dea\n",
      "37 E37 2ec1e6f720905433bbbe861e241d12af9699d693f0b2b858ac75d0a28a46b4b3\n",
      "38 E38 5caf6a6116b8a46e9672324d055f4c00268c6c025ba34ddb9b2b6c7b07480cf3\n",
      "39 E39 977f0fe871b2cc24bebdb5096407624954392ecad3023f3ac65d78826dd234d4\n",
      "40 E40 74e2b74d16f576c9ef12fc6c01a377299ec88294d40f21bb0bef6b8a74a8a73f\n",
      "41 E41 77f6e62a00e20ce6f0261f377cb89c7fb3e0bfa822c721113a6c0a1ff5be21ba\n",
      "42 E42 47aa6d193b4e5c802a62f66a62b3d9f6fe734b4ce4d9a361431732f6c08fcc66\n",
      "43 E43 3b40d292f8090c040a3a6dd741bca0e6cec1054bf63fac66968dc78f3ae814e3\n",
      "44 E44 e57843bfc3d6be872720d53d6f87f5ea8aadc3c6b70a30df413ff405cf6dd27e\n",
      "45 E45 87f815e385d5d6c14674ec1ede10955a38499d87a5d86169b115fd88451eae1b\n",
      "46 E46 68781db29be014199a40a50d93c5f1595dde7ca164c5b0b223b24864908a7576\n",
      "47 E47 13db62a0bc56302f3245957199200a0b1ad663767110c71edd6062d50d416a66\n",
      "48 E48 8a77a786a203419335f89c13030f3d109b4ca1e4395f4c5515eae0d6167398cf\n",
      "49 E49 31098ba063379ccdfb8ac347f4127820e736ec8c103edd479d2ed44c5aa7a09c\n",
      "50 E50 ce049d6c20e0cb14ce958c5b1cbae910719a7bfda172075087d9db6f5d37ec0b\n",
      "51 E51 d13e75a049e6120b5fb5b6d20cdbc128f204685d405ad0a27bcb01a808528188\n",
      "52 E52 d278886b4ac758f5c7c86e634f40be057b2286187b67ab880695367171dae37a\n",
      "53 E53 f010d2d4c0e11e9c1f96f7bacafd868058a1ba1048581410e79404b21eb4894e\n",
      "54 E54 27308b7f07a9223df008c5d42df5e744dbc0a556b824121afa6628d868a753e2\n",
      "55 E55 dd0bf44fe6172e137845bdef326536eaef260ab9a1d09c4e67afc078be26ca20\n",
      "56 E56 a5a69289236e37dc6f97f0a00d2833a7ee2218d65f29b116d545b451c84dad11\n",
      "57 E57 9c0162306b9496694f805e83c4b44830a81bd5c330af1219957f7f3b2a37e478\n",
      "58 E58 809ebb83bb52ff4a937228d019993afaa5fe85be08bb2c20e12ad58a3a8056e7\n",
      "59 E59 ffe1a482f98bdbfc4add46b99b807166f920156043f721dbbd88116fc7f497ce\n",
      "60 E60 9fd0e652e73465699e9a326023fd6f544cd2ce02de1f918257ff9b18232c465f\n",
      "61 E61 0e2eab35c6a9cb0a8e2b92a5eaa33f91cc9f94787aa2c3d65eceb73abbe65487\n",
      "62 E62 415f380a979e61f9b339039e6bf9b0629bd9b3e3f6f1994094409060b8e03508\n",
      "63 E63 3cab31d16c142a184623772896868ee9da5aef6009c7e14547ced3ed774978d9\n",
      "64 E64 5863351322376af6893b59e6806a178460a0510b3370fe0f09a4ab6862275d28\n",
      "65 E65 1c8a95661525795ff433e193985b0e9d5ba87dfd43a4b0fd941d049c7f2774eb\n",
      "66 E66 610c064a40ea079cd3f2821c5c28c11ddbabe9063fd6ad783eedad3ca187c19a\n",
      "67 E67 1aa01628a8d946b198f7e62ed3ead50bec11d2d5ff75bc2d6ccf3bab176baccc\n",
      "68 E68 806654289f855ced7c2d66853973d824898963bef7d8407367b8983da59ad113\n",
      "69 E69 859a1a870e17bd1d3cfe59e1850fab441cb3ee7b586df6178679773907a3cd67\n",
      "70 E70 2c261f0801c272c62d4d14abf2cb1c1418ce692995c765186ff6c129b83c549c\n",
      "71 E71 859b45f4a3da632231dffd2a6765726c3a9faee4559b1134be7f550fa5e40b8d\n",
      "72 E72 3562950bb01f56fe0155d8738356d42aef6de78d9068734a04ac4e590ee489cc\n",
      "73 E73 4d29f062e80a176ebfbba49b278d2fe9b3658c082bc21ce9e20cee95cf5ae689\n",
      "74 E74 a80f0c7def4e6b07524448bf74d9495cb74a518196864c8780b15da93ee67d5b\n",
      "75 E75 820725b8839ffc17950a8a36b316d73849b6cbfd535677b140c4e0bc99e2d072\n",
      "76 E76 13fc52d31ba858865b3305ab247961fe04eab82720575ee2eda35a9a0da97c14\n",
      "77 E77 e2f3213d0dd01b34af8a68a2e45fe797babadcba92d049c60bd5060d7be24386\n",
      "78 E78 099731190ec4bda18a2149df6b8fc1903b65992ecf486402325fb55621aa30b3\n",
      "79 E79 ee5c3c2abb0f8ef0ef859163b4cb1bb4444976319894d38145ffc540f2dc2690\n",
      "80 E80 a8106e6ebaa4f2247d300b2dfd2b0e177669f41bfb92d102bd3f6d4fa8513ecb\n",
      "81 E81 a3e50fe21ad209567e6bfecd0abb0e407754b2e15518c8e5b3115f4ee7ec3d08\n",
      "82 E82 bb05536243463dd9e221e5b0ae4485371816a687d715942c1e8bc66df2ee1bfe\n",
      "83 E83 27db53073599ae831e30ddafea55d258920ee1945f0b5ca9535ed54c35a2c7ba\n",
      "84 E84 f0ef9de93b05af70caad217428eb3ff9fd82d02041163cd6dbd12ddfbd3ea5c3\n",
      "85 E85 28b1b4a1e60d9b848f36d251c9d86bee7e640a23c40ebd681aedfa6f98e56598\n",
      "86 E86 8678bea24729826adcc46e0410a40515a4981cd7d89cd5d6ba18583c4600fdbd\n",
      "87 E87 7aff39723ef7f608833ea2bf8a4fa3586823992e0b66aabdc85cefb238b5c2a1\n",
      "88 E88 eb1f4db1db54b042b703af875a4ae86ee41420d73898d94abe9517602428f648\n",
      "89 E89 5131f3b003ae1934cb8b910c516f3e726d7d0011aa61f1126971e68e131f9529\n",
      "90 E90 43d83231fd8fa921a9f338c22cd9b8d0fabfe096567173ce3034e899e6c01a50\n",
      "91 E91 683be7379bf86857a76a7db1116539f0d378f7519c33d9b38d3f9a056d93241a\n",
      "92 E92 b5fa8deb31242acce069f95ed1d8ccbb6b8b63baa2ecd577d08de46c9da2a361\n",
      "93 E93 92a654b1a44c6991cbeb35b6df3e8444b96c9420edce9b52c1cd9748e0fb4083\n",
      "94 E94 93221ac11d2b362bb2ef20d7e1e226b0d5edf22824e3bf4f66928d2383e8243c\n",
      "95 E95 29fc72cbaa9b4e283267464ede497711962b0eefb3354dd68b1bc09da53b7e25\n",
      "96 E96 b9a94a86f3c5685bcdfd34c97c6a59887c505f60db20a8b341ec8b05c3b3135c\n",
      "97 E97 da75d389d25953b90998dd084e816659cafcc5e818d736a961db7d43a1f2bc23\n",
      "98 E98 07c47986c361865b7af4305487fa460e3dea3ce4ebf5051527462377e0247dfd\n",
      "99 E99 00a3056be878b56f3bb97cb13d7200ba2b8e6fcb7071f5f3835b045ae461b66a\n",
      "100 E100 c3973a491af3c7e9ba3921a3902f962bc5ba880bad66ee463827c5dfdfef6b76\n",
      "101 E101 85c134f55482319d860bd23bfa25054fcce14e20b57de3327680aecd58d273b7\n",
      "102 E102 2d8a9200a9c33a481f965e66a2e745ee7c0ddab99592106438e33c1b63c570fb\n",
      "103 E103 38c40c93cf77d137371728d3cbe7a0444e1668cd70a86540809181e5603450b9\n",
      "104 E104 20ada06697516f430bb71f24fbe53add9f5efe6232464b956b7fe7a83106c44d\n",
      "105 E105 2b5b5529f529825c3a323d19ba93c37a91630cd44ebaed8d86c87c7db596d3a2\n",
      "106 E106 6ef5d56e428f430c13b199ee8db4005bb6ea2af3c5ff3eb35a7002721467e167\n",
      "107 E107 04d527dc140c48cc53f0fe831cce4ae11678563a0590ef6cb7aaf3777cf91a05\n",
      "108 E108 acebcbbf8ebb585e2ec3a8450f2454ad295e28837d0e5e01ff5edf0806536ecc\n",
      "109 E109 b0013e7a6ed350239a17fcf7c015193ee8736fb084dd7c3d513fcb58ce44c1b3\n",
      "110 E110 0e0f738e43607f5f810836ebc4172e621fe141280ea65ed96908bcb01bb647e4\n",
      "111 E111 3ca98064f83ae1b0b1fbd64f4f9c0d4185d8cbaf8aa710dd81dc6cbaa3cf415f\n",
      "112 E112 9c36ce387d418ff3cc82b24f3f454aab01ced1d9f62c19ae2b78f11afd2d8dcc\n",
      "113 E113 e8542c8a7486bc88dd7c0ccc784272c21b9da16c771805e87d0f6d79e89399fb\n",
      "114 E114 00eff9e03ae25908c5ad44ed63d7fa985028329e75cd02bc8958d2e81cb92234\n",
      "115 E115 97900c26049fb522b88621de4d8148dc65f23e04d90e6ace6d943115d702fad7\n",
      "116 E116 b5308e21aff2cac62c475a5407f4398f72889a653efb6506a195be6b9120c082\n",
      "117 E117 07f9939efc9583f882ddee3a6fb42bbbf5d67c04207ad3495f9986af2bca246e\n",
      "118 E118 e8f963ea266865031796ccaac851075cfb9d9cfb07124f704fdb85b6fb7f4673\n",
      "119 E119 95a0525d059c56dda36c81086b8a2cdeaa45dcc92ec270ad3f1f61573a652b44\n",
      "120 E120 de530232cafcd45f510f130978dfef0c4ebf7748afd39eb3ff816dacdae492af\n",
      "121 E121 c620fe58b43a61dfebfc36f729a320d4b6265d63bbd32b2f1d8f440413b3163b\n",
      "122 E122 dd64d72c6d4f03b818462fcebeca49dd3805e45597035d5daa53e05355fc9a06\n",
      "123 E123 77c4ac78fcde840a979c0c02d96fa29ab0e7cc0a39151fd262a9b558d7c01b34\n",
      "124 E124 44f2f349ef38cc58e631636fa4d673a1bef5665203f220dbe6c699333ac1343f\n",
      "125 E125 0d1ad6c2d5eecfa32649201ab9a0ac8f573eae177e3b4cb68791f68c57a1088b\n",
      "126 E126 818bbe934d36ea6e9428a9a2ae6545f4f5783c027b80e559f5b8da9916fa47ed\n",
      "127 E127 5619d1f455334b8a91b307d21e391f525ad0380cf64da6c9ce266404728b82fe\n",
      "128 E128 f4b68fc31782769fae567561aa5eab608486234a3f0aacd7bfd61be63b3eedaa\n",
      "129 E129 ec1544564c3b206254d99a944e5926b2415da7499b8648f88ed16f4d0b22e818\n",
      "130 E130 77e2326e0df2d73c400ce841e6e4dcffcbb0c400900be864c7243a43eb919ef2\n",
      "131 E131 34ae024886065fd9109a75d6db64c5161d87afdccf895751a681f9100732e254\n",
      "132 E132 335dc8f027787386fbf446eac240daca0112291e31028077144e33f79c24acf4\n",
      "133 E133 3fdf9a5e99d7e1dbdaa0d3820343e446cd1b08cfdbe42ff99298494f1ed3b625\n",
      "134 E134 7531126a103627ab5db0aa75cd37b9c6999adef7b855134258df7167fe6f762a\n",
      "135 E135 b3b5fd5eda61722ecd50cbd61d540e9497df568937ea5f587acae35b98ee9491\n",
      "136 E136 4c715f64cd85ce10377582207d838d507d37f1ef86b567a23f800ae162fe7afa\n",
      "137 E137 d8e90de59fe91abe7deb3d06d6a4314d580b0cd6cd3ec271b8a84adeace2124d\n",
      "138 E138 4bc68e6bff7ded27de59339c35e33887d6c2b52415181bc2c684357c246e5587\n",
      "139 E139 cf675b24e781f8aadfe8abaea32f9b741ce7dde100d6edcad4f64c5c4125e331\n",
      "140 E140 daa3799379ba4dc7f4521fd89479aad0dc436d7cde840f1d2548242c690cb62a\n",
      "141 E141 a3215bbb6ab3e6b0d7690b20a27aff3f25fbe76bce6bb24c934db36f01afa71f\n",
      "142 E142 44fd1bf19e4753f396ad472eb8d2dde961124db872430ee90e0ac2950843e18a\n",
      "143 E143 f5cf70a63b1a40df1f65fa68a8bf55680d243f801592d71de2c0506ca47194e1\n",
      "144 E144 93fb2e34558d48673a54bc48243e748a32f1afccc20bd7d81d5bed857e36bc16\n",
      "145 E145 998511e011edf41af3d39fa9ff611ecace00a1b4b37108d9bcfab408c20db71a\n",
      "146 E146 3fd1f80c2915579a4194c8c2ef82daeffa19867708dfa021e6ea8cecc2ddc9ac\n",
      "147 E147 69951347043341a1b7edde90a9ce7263ceb5116e46b897e50a7e57d92d5b4405\n",
      "148 E148 de7afdf98881d9c4f43d6ac22d14dbd73fa9b5d517ec391f89a5c4aac90cdd21\n",
      "149 E149 0cd2a9db9b742815e66abb8c007c0a09ffb6529f95090d8ab9a19ddb84c4a10c\n",
      "150 E150 44d4754a4dfaf034b07dbfbc5cb4e80fad21544b31380fe3beaca18ed5ef168f\n",
      "151 E151 5494639939ae5d6448fb85a18603dd9d723d3f4662053d465cb82bd024ff9212\n",
      "152 E152 b1bfb2a1e58d534d7a53d325dd2f7a77aaa57127403257924b1c80d09fc3a341\n",
      "153 E153 fa475dd1e8877557eb419381d69cbf15dd7c065153c81b336053e1631b1a8081\n",
      "154 E154 759abb44d41503e5bd98bb4637c9ec0e0f1b32d9b29b9972a88ee415d336dd16\n",
      "155 E155 a7273f5c04f2e1f7abad69fa943eff72c1c66c49e4ce3c0d0949f692234eb960\n",
      "156 E156 3492c6abbf4b8c73d23e55a99b78404e93a3a8405bdfa5e027edc1feaf65cae0\n",
      "157 E157 8e77bd2716ee5f1c3563b9007216e1b7d2cd4a183ce0cf05e633d948577c7273\n",
      "158 E158 cb8dbc840edb34c1980ac2f9dc85e2a02c9ea632ffb943351863c8e2f4220ed4\n",
      "159 E159 736dc536d5d7b58c4bde6f5a74b2eaae23eb6e3744f9cdf52d4c5a468b04f1c7\n",
      "160 E160 5362cf4377db7d2a1222049410255a3cfb4c43405dece30e54e5e6a6cbd37b0a\n",
      "161 E161 cccc855faa10f3a2748b7548f0db3c26c59378078b02790f144c6a2f44dffd88\n",
      "162 E162 7ab8788fe6fa074e36e091709f6ca8a8c24ce7935c6a34b40e6814853ab4b0a7\n",
      "163 E163 b690d866f9d672eea02bed7f02d567399b1eb0195642d81d75ba46b5141622e4\n",
      "164 E164 383ec19c92c9dde0768bc05e24e56af897cb3ca01e27679bb766066b0cf30c6f\n",
      "165 E165 a60314630bca6a110a36287327cce205a2dc45cc5816aeffda87d764cb883480\n",
      "166 E166 427abf28fb0dc69fad3d58aa4a5761bbe9c56e9e1a259c87a21f17f512bebb99\n",
      "167 E167 09361ea48e93ae190dc3ea18bc1dd684d42149cb67a4b17a81d073f2eaac4a9e\n",
      "168 E168 832a24b1025e83726d6ac38083809197ac872c31283704fc44ba724f191fe15a\n",
      "169 E169 a75908830d661420f5c1cfa65f82df48fd37bb6922554dd1eed68abed702a01b\n",
      "170 E170 98cf90d54466e0ccd0c18de65cc2d2a555b02b769d3dc7a07064d45f2f5dc4fc\n",
      "171 E171 33fce41919ce14ccc4ffaad15fb976cde6cd62174979d20be8a425884c79fce4\n",
      "172 E172 097d00f99e78450166d24a2b0e4a4c9da8c3b337ac3bc39ee858ab7b6b3234ca\n",
      "173 E173 074276b312b86a52b53f8a929355ad3e738e515c5b81566335998d9f4317bfce\n",
      "174 E174 c7a11a263d9af86ddb114d380a0321f9b81d8832c6fdaeab8a5bced4b3e3c405\n",
      "175 E175 e626f3a5c2871a2f49659273a59e6be77b7680734938021df22e9870481a8398\n",
      "176 E176 d71f52ae80ece64087826b99fafbd0785b483f4977d8e29a5618b7a833becbd4\n",
      "177 E177 5e486d28fb95b7bf607d46faac67298408cf505370fdc74719b427f4679cd4ba\n",
      "178 E178 f4f1572e921e56f8b31f19ac51a1f2ca806ab0682ba1ccb281e2ea732fceb5ab\n",
      "179 E179 7cf475ea2151a8deabd6c330e63cb036bd2fce271fe4dfff685c44c9b84f71be\n",
      "180 E180 19ff3342f943169efce42ccf964087276df399f8ce9546ee9b143bb4b5b1c963\n",
      "181 E181 4959c461f702dff12f2984a7c2839f591c950b22432aca27583ae978e7b4e819\n",
      "182 E182 7dddf37ea068b9a2ec8d153013ecd85234593c6b9e48c8ea6b195c4481d3c9c6\n",
      "183 E183 dc809bdbcc0dbd493afcd2e761e0534e5f908680ba1b25a987c743b590b00cda\n",
      "184 E184 864f244fb31b4ed2d88e34117ebe3636c0ff990ddf48d8067d3cd3a711023b45\n",
      "185 E185 ab1ce03eaa0716fe5de9725ddeb0c05e69bac017071f823f07a6a53b0a2a1ada\n",
      "186 E186 576fdfb3f7dc9e7ab6b2bdd92476493c1d324e97666f2a870286160a6f05a3c0\n",
      "187 E187 e49dd0de1cd3981adaaf1acc8224312b7c531013914ec8f8feb6b312d5538ff5\n",
      "188 E188 e378a6972b3a1898fb415f581471996182397d0d5cd79ab27b9743008e8ff829\n",
      "189 E189 0f6a8aa15f73d668d1822c2af9efc3d42368f6214807321bd7fe8ec9595546f7\n",
      "190 E190 89be7db30f3078561e079160837634b575e4d2103fc40f7df48849c805a72a22\n",
      "191 E191 fa81432dd7421f126dc2f527e099d796680200b66422ffe2e6eeab1941f9b04d\n",
      "192 E192 af93550e83fc5ada4330bc00561b3f1a66c867e9033931a17959cd19513b89d3\n",
      "193 E193 badefd7e76710e621863b150bea9c60a473483e14afdacf6546d48d3f2c5842b\n",
      "194 E194 dc82c5c9819b13e2593c135cf6270fd34fef2746af6dfadea747b5816edf57cc\n",
      "195 E195 34197f0f8ae80ea7380b99478f96ca961fe62237b103e4108b03dcd39d5a5ef1\n",
      "196 E196 f6ba2570ddf2994de780af240b3fd54bee7f70dad0770b832f42a6f59698cb49\n",
      "197 E197 1504f682d6b30b57bdaf571f96bf18c410c47cb5183ef61dc24618ce6191b485\n",
      "198 E198 a82339742ccd5ef4a22f0a3a7a9105de1c28bace7c1955a19516711dccfd5b30\n",
      "199 E199 6cbbe384f41b3ccdf3c53c6bf7319287a5b897bc75f92bb49039f1dc0bffadf1\n",
      "200 E200 7733fe6cf31adae40db575ca93aefa365fc715483ba3ae557c24c323e0b2ab18\n",
      "201 E201 bbb8cf335142181fdc23bd3ce7a4d9e8105bf23faaddd1749f16a71ed5c0621e\n",
      "202 E202 0e8a7a5f777e226ec62c4d2eb6fb041cb46b9371d2b6e4b6e0011cacbc9dbf6b\n",
      "203 E203 9dca01832724bfa867033c0d4c63e38ee73ce07d6282d42670b3c2bbe560e75d\n",
      "204 E204 afb1cd0adbd7566d5f56c2b6990dbd58bbe558e41bb46e81afa289fabb15c808\n",
      "205 E205 7e806dd5a611210be1504ba26e44a71081b8152f39590f2d555d608aa2953cbb\n",
      "206 E206 373bd3b5d9c06c3cbdede3a16b5fd8784d0c5fa76cf5feb72817eff7a319938f\n",
      "207 E207 7fb780c9ca6918f6bf446ee78785c19a8099507d3ae1287aa5c32f07100d95a1\n",
      "208 E208 bae072b1d44990c44ccc13732c56187e9aeceaa400be4046b1365e41cc723fc4\n",
      "209 E209 08ddca945172fc11fcdbed9d09b1694386d08502b06f446ddff4418f86e58967\n",
      "210 E210 28c84c2be1556fba3c1a398f324bb40d6e328817ea2d13a8505a81880322c25a\n",
      "211 E211 90e018d79fa0f0d04565088e00fe480e739a1c823cf80761d7e2c79d93bff946\n",
      "212 E212 3e3b70a0012e94251441caf1fac0b4184648abbd1a9f432a0feaee53c7c08395\n",
      "213 E213 c35967e4ba510d838b5d7605898a969013ca6a1ba4f1849bdb89b3c9772c060c\n",
      "214 E214 8cf4b50ff30e08569622b03ee91388e826d7fc1e3299144fa7b11e4b0b9e748f\n",
      "215 E215 cb1d8b30938e0c2094fdc6686a87df5738b0501591fc2a5be4cf7836fbfe5a75\n",
      "216 E216 2dfae6e34813a066b0e94dbdfb615562dd39b7c043319d8c659aed57cc9fb108\n",
      "217 E217 3042266a253c830a538e9bc251a8fc050bb3b5901a73b4986d05d5881e315e56\n",
      "218 E218 2b2a4c45bd341a4bbc8476333d1ab6993350d6f09a8265c991794d5111f38aa7\n",
      "219 E219 bc9224c62319cc0d576efcb658bdc0d9b724158dc53b0e2b938127355251d15d\n",
      "220 E220 1f8d131b2d53686ea93eb3fde44765cbdce2cfdd1bc49c21c3d96475ca562d18\n",
      "221 E221 00cd408b2a5d3d232e8cb87c18c782ee65e451e4e628c8a85092c622d9200212\n",
      "222 E222 fc3f49b3ec30c161c979ba86e75127915978ce248f570f02cf6c23dd1e374aaf\n",
      "223 E223 cfaad5407da44408744d55c1a2e6adb47694432a69eebbbbbcd577bcb5422b30\n",
      "224 E224 e1dc2bcabc34677ca15ed8c41f181c1690a66e725f4d1a4024d823a2885aa65c\n",
      "225 E225 66e4a727687ece6a316cca737187c9efc13d4d433e54312c8b57c8da71ae0475\n",
      "226 E226 d99308b76c82ae2a977f69c82a8bcd2d07ee1a473f6db813cacf5a566ebf207b\n",
      "227 E227 5805fe526f70378152039781e931bb89c0f7e5121aa07c878da3c2011997639d\n",
      "228 E228 611208b71d10b49429a2df0ddedfac3991445cfefb3524f5f120ff5603d43cf2\n",
      "229 E229 77037d7e64106aac56228cf7bd5416780568e7102533deba174425328f7793f7\n",
      "230 E230 7e6fb39958d7c1fae3e72c10643bc3dddae5cb1b4422a3cf643f66956355d0c8\n",
      "231 E231 f74d72f04caf93b6021b2aa3118ecd072154e212bdb6c89c973d4c1f608956db\n",
      "232 E232 73c3a3f3a1a27d5f3ab10432dbdcbd54149f78d466ab36793a1f4f87e429f3d6\n",
      "233 E233 e03eded015a5f70d2399497a1aa18ccf8dc9527a341700743f62944ebb69d569\n",
      "234 E234 cf9d68dddfd8fcaf69bc4967fcee1ba7dd1e413062894492592cc85a939df586\n",
      "235 E235 74d62411f6e1792bd31e98b5f03b0ee558439e59e3f6379cb833e4c0db711953\n",
      "236 E236 7470d8e80ae57d509b926d0f84c863fa795e75f8238ad886b2c39b0c9215435a\n",
      "237 E237 57bd74115e221a85e8208aadc352c060524e3cf2e55fb5b50162867b0856f21e\n",
      "238 E238 1b174663ccbc69f498096f36594ed519e5e9c3a078fe2d5b888aca0d773ffb79\n",
      "239 E239 cb0663a6cd089abdaa09a222b4ba55ae1b8dfc9efaf6bb53f60c1880b7466946\n",
      "240 E240 dad3d89608b018b567a6a7c1e263d91952d6acac3ba98e33539f0d7ec1d37126\n",
      "241 E241 3ab6e11dceb906a23e22ef5db24d7138881b303f7025485dff048fa29650107d\n",
      "242 E242 bad8ce2cd44ccc34ed9ad326ed406f60a50200d7796f76f1a916b6a67ad03d40\n",
      "243 E243 8e5cccce1ad2bc8f39070cb0e12c98412e56dbb658edc31adfff49e0262cec8c\n",
      "244 E244 93d363d382e024cfa5fe1d487e58675905814572d8fb3d056fcc977b6f4d9776\n",
      "245 E245 d829195ffda1c697c908ae591587ae152da7e34cb21dc2ee1a17175ce447ec85\n",
      "246 E246 47107caf3e67a1f431d2b12f56b7c65800d94b4c5051fa8c6bd71933db712ab2\n",
      "247 E247 052e844059b226828bf674fea0cebb31db530d3b69bc66b886ba304a6a833425\n",
      "248 E248 58d859972da9259047fddabd1e2df72a80d6b9e7e68438c116af5ca5a4fe107e\n",
      "249 E249 a13becb3594867495ce3abb230d320606c5644e24241bed9c1e00d0e95f771be\n",
      "250 E250 d8c1688b7bd1306ee0627e03f36ac2beab1111dce6e9159d5a1d245edbcf9580\n",
      "251 E251 4e2902c42e03445a2ecc9fb8aa7c6c22598c8d2becac80db009f9c5e2b5a8606\n",
      "252 E252 2646c99fd00d4164fff0dbedcb877877b3a6257e0e0977af959f6b355d033147\n",
      "253 E253 87241161ba383d705f2e49de1a1fb89d6085569fb3db69424ea59f2709cdcbb8\n",
      "254 E254 e31fbd99c78e1d589c2bdcd5ee845ce8197152224c77a97e52f6afad654afa56\n",
      "255 E255 6b1c338a87aec61a36a63948d90b24f56955731ed1d9bf7b8e03b1d1f77e0f4a\n",
      "256 E256 140db6c08d103ec1ee552f656648e078db070b5faa775bdacb20694713e4f33c\n",
      "257 E257 24e0ebded66f40c9e7137ebc607a6d9449e623b07688c68d321aa5297cf9b777\n",
      "258 E258 ff126e04a74fe4d89bc68c6c8790629e43079a5b96b7278ccc19d74f3168987f\n",
      "259 E259 a6dc89d3a0f4706a8e533d4432e64cc058798a7a1420b5eab95c340b06e896f3\n",
      "260 E260 60b2b88e7e5480711baa4d6d5ad91d0b44932e914e747ef40e385eeea6e47237\n",
      "261 E261 d4ee0661fe097ff0668cf9b36bdcab6aaf963ff682e406b417cddab4d4f1b6fe\n",
      "262 E262 01ff649b5bd9465d75ce3f021898a46f18b2a0cbc28fe85459c97d71ba66502b\n",
      "263 E263 12850df378cd5f1abb26218c2d2608b8b89085ee0541725eb38380f47f3fb694\n",
      "264 E264 9bc99ae1af66a0e63c623186a56fd6b6d66ca1f3a9302ce0a6e220e768a93175\n",
      "265 E265 e8b0c331f2bc7d5358aae05b6bda73e9ff6b556e8c10fa32c5d414d883fbeaa8\n",
      "266 E266 238cc3df14bf9c230896237d27a74c2a8e2ab75d4b31317fcbaeb67ae8984ce6\n",
      "267 E267 6c9268e11819d568c7799039ed312622332bb40170f32d79b274f91fc0e513ae\n",
      "268 E268 f9c2635463495c5df0686ef87e256950e8b210ed07af0a1c912d6c99f0506750\n",
      "269 E269 b55ba3158b95720cef21010ebe82009ba0f755424cc8005d4a90c03732917406\n",
      "270 E270 fcaec3966148b5340df847d7a2e234b8734a93948065cdb52ef1af50c29930f3\n",
      "271 E271 022b899253d2a67309f8a8ff5eed3c2087b15116eaa8b713e7da38b151eda4e1\n",
      "272 E272 4d91218788530d9e8291676c828d16bc519362feab16eac6e5470f99367010ab\n",
      "273 E273 0f3ff391983a8663cba1ed6f64de0623af136c0ad6eff8cdcff26f083c2029d0\n",
      "274 E274 78203ecf872b445b4b6f8bcaecacbd72aff42e5f19c7a5af8f79bb87c4868c26\n",
      "275 E275 ecc993b9ffc532ef0612cf9f70876e8dc88021208791d7e39f126d7c275b2c68\n",
      "276 E276 725d108a089aa09e16d61dee64d67691c0610b78fef902be1c9b7ba95279e6b5\n",
      "277 E277 d4316101aab6e685716cd2054f3c696c784d4e990363c8f92982dbea6061fb4b\n",
      "278 E278 40838c37a5ad8e36c3a54dd18f0b5d4af17e50bdeae1fd9628fa63bd485ce076\n",
      "279 E279 d294c5ea173ac6e3c99d4258774eea6f632e737b6f664df8d97e9e514bc95c9d\n",
      "280 E280 56a92503f874ad9d72f3f06ac13351cda1ab012693183b446158597883c57c08\n",
      "281 E281 645a9e4b35516b261fa8d2e1b5d5a51a8b4a5cf35885dcb63ce95ff98e77ccc4\n",
      "282 E282 72aff70fc3b3397c934c369b3c0af20eae8e6ba2613bfa49bfe5dc24141533cb\n",
      "283 E283 d1a136760cf6990e1a775b0df509dbb565855c15a0e9fbff7efa1dc1231b9122\n",
      "284 E284 074fd457f19268f8a2850e998da70f0ea6cc36edcfd2c78558e2cf55b2756d79\n",
      "285 E285 08a355ca9a2427381a5874bc45fa8408366f393d2a16e0ee07687979b861481e\n",
      "286 E286 affc8ced1281e8d50d0bc122dff4b6de8624b38d840ff6266c999235b0e37d76\n",
      "287 E287 968b3608f81d6bfd3f4fb8f7128b27ea482334bd2391553019aef8e6587e4fe7\n",
      "288 E288 852a0f90d07c01ca9f82d7b2c3a2699cc132e56e26a14064a7068e3bb3f9c7d5\n",
      "289 E289 598b7690ef8a72f96a0bbd1f20bba72039fa3f99a0007bca0380163c06d537c1\n",
      "290 E290 0d5987bed319f5ddd68f3b0a4d3bca43fcacd77eff1c09e40fcedcb81ef6f0b8\n",
      "291 E291 995e9505f3d75b3597dbd5d98728cba5763f9d2bd8b020b56c4083b7f228be4d\n",
      "292 E292 73270f870e36ae5a2b69e2fc20922306afec325f7b0985fdf7c311407da94c6d\n",
      "293 E293 2563f01570343f18172be3b73b1062d02b00945fb17dd695f9ac66cc97476515\n",
      "294 E294 f7faa238a71eda9bffe52017c0e37068d3900e9c2746516f41dd8fdc7bba1829\n",
      "295 E295 2e1d22057298d43f3eb9da3dadbeb07bd29016adfcdcc28185b8a95358bccabf\n",
      "296 E296 b4315229bb59c755d38144495216c6a525da0669f39c90cfaa2d5ec142b2a42f\n",
      "297 E297 500d280f53c0d59a483f6ce02c0d2c039b9dfe81b8b1077d8b3bc962be3e3c60\n",
      "298 E298 c4f64e8f34edefb57812df0fac7d8b4c191e26f1248f0014e8e065a21936b6ba\n",
      "299 E299 94310f0858bee13a6f52d7b755dfd874229e2245bdf7ebeeeb410cea3c543231\n",
      "300 E300 f7a67ad01c06f54f47c0dd806eed82c00b4ee04eb5bb0681f05f3654e38338e8\n",
      "301 E301 0a12b31a10300ccbb5cff3a3db1a9345839292fd6ba83b77d72a7787ad01cc38\n",
      "302 E302 f225bfb2d2022a8f266f73fc903edcf1f1173c6a66400211544bea2d1aaad029\n",
      "303 E303 29b10feccc8e36cc4b7dec3033e108ecd6abe173cbbe075a7751692600edd6ff\n",
      "304 E304 95364f3345f06fb7b5f49c86a0e16fa1c9d3db68804aec37c44bea7ff468b988\n",
      "305 E305 020f3253ca9a15e3ddff05d8785d6e9b4dfbd75be0ddae5af2bd66708125a5a6\n",
      "306 E306 b18cf6785a9a7004a2e5f990bcfd513fd05c29d1105e8e9a8a7200acb28b9a89\n",
      "307 E307 d99ab1f3e646efaaaa8d6d38d54b6f29cafd27c8cdb3af469e6e68d0fe97fba6\n",
      "308 E308 3fa4fc7cdeda1959820c4ad2d147446ff03fa33e8c8d3b260ca771b74148b696\n",
      "309 E309 bc447412bd203bdbf6f0ec22fe1c478f4d4010bc49d6f26b260e6dff1b2f4bbb\n",
      "310 E310 665c5e9ed1f6dac457b4cba6f0fda05871d11d819b96eab90662561c2eec98b3\n",
      "311 E311 ca81a0d4badc83f50261826188fdd37ac9d7e2512c7f34dd0b1949e558bfbca4\n",
      "312 E312 8d7643b99321f2e3b306baf307160b18a9374f87e6fe4e8516f14074bd23eec6\n",
      "313 E313 57b05cecc80705964177d2d525d87dd55b5dee94328f8559e2d0d196e5577257\n",
      "314 E314 6860d67f9bfd2358e97e3e5ecb187fe6a15dfb2e052958ec70abe04a5aaea804\n",
      "315 E315 5180d9291e9f01c5a49721ce684c1cbc84ee6f0057d93252550057559bf4ade7\n",
      "316 E316 010b7bb1622c0370f13f524294a67ca7c13304c440633392c2dc8d66cbbe4872\n",
      "317 E317 a9c9cf38b75c6c40242fff55f2865506fcf725a691c46d2e90bf326a5d7d06ad\n",
      "318 E318 11e231c0f8f8a3fa46dca712d3913b9b18589906378e210d6dab2abbbab1e8b4\n"
     ]
    }
   ],
   "source": [
    "import random\n",
    "import string\n",
    "\n",
    "## 이더리움 네트워크가 낸 문제\n",
    "PROBLEM_WORD = \"1\"       # 찾아야하는 단어\n",
    "PROBLEM_DIFFICULTY = 2   #난이도 숫자, 숫자가 높아질수록 난이도가 높아짐\n",
    "\n",
    "## 채굴\n",
    "start_nonce = random.choice(string.ascii_letters)\n",
    "\n",
    "i = 0\n",
    "while True:\n",
    "    nonce = start_nonce + str(i)\n",
    "    nonce_result =  hashlib.sha256((nonce).encode()).hexdigest()\n",
    "    print(i,nonce, nonce_result)\n",
    "    if nonce_result[0: PROBLEM_DIFFICULTY] == PROBLEM_WORD * PROBLEM_DIFFICULTY:\n",
    "        nonce = nonce_result\n",
    "        break\n",
    "    i += 1\n"
   ]
  },
  {
   "cell_type": "code",
   "execution_count": 146,
   "metadata": {},
   "outputs": [
    {
     "name": "stdout",
     "output_type": "stream",
     "text": [
      "18ea13eb0fb76f0876c878d118d4948298590182400893d6419f769f805af59d\n"
     ]
    }
   ],
   "source": [
    "## 첫번쨰 블록생성\n",
    "import hashlib\n",
    "\n",
    "genesis_block =   {'INDEX':0,\n",
    "                    '판매자' : '파공블',\n",
    "                    '구매자' : '김민수',\n",
    "                    '개수' : '3개',\n",
    "                    '시간' : '2022년 5월 11일 16시 25분 16초',\n",
    "                    'previous_block' : None,\n",
    "                    'nounce' : nounce\n",
    "                  }\n",
    "hash_data = hashlib.sha256(str(genesis_block).encode()).hexdigest()\n",
    "print(hash_data)"
   ]
  },
  {
   "cell_type": "code",
   "execution_count": 33,
   "metadata": {},
   "outputs": [
    {
     "name": "stdout",
     "output_type": "stream",
     "text": [
      "0 e3b0c44298fc1c149afbf4c8996fb92427ae41e4649b934ca495991b7852b855\n",
      "1 fc8d68952a710381b4876a265439b2a3c5521fd4ae3a64a53dfd3ca196ff9f29\n",
      "2 559acdf40cec9aacb5879708807b374d193f33e959ac99b8fbe0e42097faa90f\n",
      "3 fda3d65a0f053800a60b29b2986234fca19e7dec82f8432bba9facb6a3e0d668\n",
      "4 8111eb0f294fa0a1650508888e1604020c635ea13b790e3499a886c0d26190f9\n",
      "5 767fa9675c9559e9c3513b60f52795c16598199a56bdd59d4ea27c62080ca378\n",
      "6 7c4b09077f154d920110028f9f0664d5c2655f931c6b4e3864e34e9fe73d176d\n",
      "7 afb3e86a72d3c99e565b4eb0b7f75dcaacf2009a7c9208d3c2ecce609a734af9\n",
      "8 7a04c7c23c21b97736648ed57f582ec8c93b337f7c577a3ff9df8afe2a01b6bd\n",
      "9 5f433a2022bf92d3cd90c25d1ff3a0bd4ff0d88f6d2ce0280f03788fb24c9117\n",
      "10 e1f5bee3bdbf19ead9042331e3dee4cae38e459abdfd1f3d2e9fa6c107f040b2\n",
      "11 efc87cfefe285691611ccdbaa72c4f091337d73a36cd1aa70b288e420d67b4a6\n",
      "12 10aa8e17596aa53baab3d14a47be5b3afe792d1362b3d6caef28baa16404c3bb\n",
      "13 18b81d2e34b07d4a4c9bc32598d06439d2ff78002fcf1fde46ccd972ff999d89\n",
      "14 ab05e177deae2826aa30accada2328669f6d87f4e41528a1dbc74d0378785c80\n",
      "15 8b982ff9ecf5473fa1698a4c6cb3f8f814279615f4b3d7c7a5973eb6bd3baf44\n",
      "16 c349afab0fa97071696c9bf9ed7487a7f0dfcfd09251b84bd1823208cbc3e35e\n",
      "17 32df6ff5306329b7509fd62dfaefc5983149cc77fe414df58a02be2c141ed524\n",
      "18 288bb2c7d3cac0493f3a4b4758a406e789a3898ad05025e09a7c116d61f8cf96\n",
      "19 d27535b16eed4cf10a39adf68d91f1182a25a12e967dcec70981427a7a5879de\n",
      "20 df41755fad34be501c4be17aab648c3bc79db11f7e381665310c989a91685b30\n",
      "21 ba6ef81a89c38b916a5203b2f1bd44337d2860c8a1e8da5221c11974d0ad6edc\n",
      "22 332f3f0cdcdd542020ef3e65c99c056a78e97952c0bd1768db5a435d89628f95\n",
      "23 1b8e79aae5006f7ab5f41ceeefce92f450496285d909af23d7359107f730515f\n",
      "24 0d6bbf0cc4c4c186efed8abe93f445fbe6dd7ed387283423d343009ac4c67be4\n",
      "25 8110dfd6826c4e7b4d4339553e23fa77e43957dbac42ffaf78f415aefdd394b6\n",
      "26 c823c810879f6109b33b60d23854dda5f6e23f4ac8c078a30c7cbb15cbde3767\n",
      "27 45a16bceff6a91bfbb0bd9ac34505f367d4d40f2d57b47bedbb62deb0d622603\n",
      "28 178e3f7b1ea0894ce8e2de65af2daa9456799e7899a3267311cf5a38622580ce\n",
      "29 7d50b0ed4ff3b78c8c1f583c48835d1a4f953d2442dc76970d54dff9e8d1ad35\n",
      "30 726a850894cd3634f38569334ccad11e4474a918674100e86b7a67c6ed58da3a\n",
      "31 5943976e36cdc30ec762a2ffa5d1d7ecb0276e5fa4efa86feeabdc4c7034ea79\n",
      "32 b58faee55e723a14b00c52d1a47781b2e43e1fa8a491212b7837ea4b4b695b08\n",
      "33 ebba66e4ac2a2fe88004d01ad72e13d18bc168eb81157c348f9fba55695f9997\n",
      "34 46adb3d58401a889ac19b878dd43d9a34387d7a99b381573632a71a685d388c8\n",
      "35 c5f790d4eb86f087a36ef600b960e674583080c968b2585fd05e771562bda1e7\n",
      "36 81bdcfae7150cd029d08d5e779308a44614d066ca05a6e4fb63ca8fbff27f090\n",
      "37 ce5b0c62afbebd742a1e5db440d0218a76c5028fbfdd02e90eab8b0f777c9f9f\n",
      "38 74f593ff5518fd9088fff823d91a454525b898caf10b01964a331ba6eaf2a421\n",
      "39 bc8e4498fc241e10592eaef34eb579b25dfeed167920e1677f38fe98d4650dba\n",
      "40 af4c68cd7ab12c0f51bb8d99379a5f3dc56898e85e8bb68db2bf24f17880307c\n",
      "41 8659a8bb45b08a60e19c04a8abea6b19df648b8f8ebad2a23b3fc9edbf6c28b5\n",
      "42 cbfa4a8b099eddcd5ce129acd305fd149f7848b9bebf26e0e88f01dd9368d388\n",
      "43 017c8835cc8d7e86495ca86c8cfcfb0a4c6c47003b1d2e74f0d9af7efb844f42\n",
      "44 c2d26b14bff47e317b7226db7a55650bca0d621c4392060f1c3a8fa0ee58dde1\n",
      "45 1f4218e1d2d71500439a8ea20e511cdf15816609be8a5016b3f880156e0d7011\n",
      "46 62dcd84a91c4c09104399fb0474316c794fa9a66242a1f37df28eee2d09bc3a5\n",
      "47 f962d9c10eed30a1eb9fb24c03e3cff24190c3f621b0ef59bca5919608552648\n",
      "48 f8d0fee8c5ea2f4067fa52cd4e7a1d172b3f8ade9d4e8b13ed8891111c85672b\n",
      "49 0bfd20375898937d75d656053001e2e65e82c7fc438fedf9a31d56606888775e\n",
      "50 b5514f4c3b368a295c6d26d8ab5605a4f748e7c6bea441c2234836347505af0b\n",
      "51 8af11cdae7b0c98f9cf752b716fe634b80a18a2900e0ba421014b4865ea04062\n",
      "52 1e4dd3e3a591e593e84b0628e3e35fe50cb8f3c44a4d7b929b671db8ef9d92e3\n",
      "53 3beef4c8b311f8cc58e714b17fc6b0f7e8aba23a33ea360f990621940ad1c61c\n",
      "54 7c700671611e4139cabb1ffeb8c9f4e083ebb4a26259f8b73c42105e63c3cf69\n",
      "55 970ee8979841ada48f85cee538d6acdad80e3276a178edc0c96c0037b18f018e\n",
      "56 ddb468238702327b1e7c66d176dddee6c3dff591539fbdcec71e32d0e1f6e9e0\n",
      "57 87a4acc07c382d1260d9983e0bc8e56c3d27f1999467f72853a2e0d2c2805999\n",
      "58 1e08b501cdd8705f4c943d7f2419daac68cc4eca621c0ac4e934b2a0a9feccc6\n",
      "59 47b4686e29ef153f8f141b4c568a42cf61d0ea86e5a72d94c4bd6ddbff1a4ee1\n",
      "60 6b777d12b1791ac5a66ea5555ca46f8cd7bc983afab668cd323b3d7c6aba3e22\n",
      "61 b3337be41a2a9e1b8bd189e017cfb447941b89bee0fe16c015b74dde4719ebae\n",
      "62 79fb57a38d344499043380352a44b5d02729953701b8f08cd25366bf8d046fc1\n",
      "63 3e4a9ce05cf1ca97c66579d7878d5a4d6d775f1ce44c03ad1f72a72f28f6a5a2\n",
      "64 88567cf030e7a3562cc917301b9078c6afe311fac716a44c4442aaa52b7c09ba\n",
      "65 9477ba792370e0ffe114ff5f57ad44a560f71471cbbb14ec50df691ae357278c\n",
      "66 2bc53b4a4330d3966db0121318bd356091208e9c5f8b2fc2cdbb638cc2a8434f\n",
      "67 c9d803847609ada3f511d18f926e23724e1d2b5deca222a3461a6f4162cf84a6\n",
      "68 3da6dac68f57f864202f88f9dec778fc3b808eae030c6142932fff31a94d9b3a\n",
      "69 48ca19790343789fe73c255f8bdda1ed2d72c3ccbabafcff304ec9b01abb02a2\n",
      "70 2559ce084d9b6b9d1be5ff434f15bfd44432c7edc3d87fb0db9d03ab0986e640\n",
      "71 808fb6f747ff504ca52e0c60c040c6efcee44ceb22cb69cd1644c8da0d2f54e5\n",
      "72 2ef69396eae40acb6629ce56b43f7fb919188477e719de9a9898db95df86faa8\n",
      "73 647b765c3366a51b0188fc17eca48126c1e78a596783b44be2b89ba09e88df6e\n",
      "74 e860b6628be2345b83bc1df75d3eaeed2ccb85344d18e69a3e7367b3a58d2fb6\n",
      "75 1ba906a9af52f0ceb561fffd59429f20fe1bf2800e0a6473d42607ab1ad9fc58\n",
      "76 7efaf9b2d3c73976ccd72c804402b06e4dbdf60201387399592c85f35e755235\n",
      "77 8218077d44bde2f8f273d5d4c42f05e276abd5cc235aeeecf9a12e16abb68bef\n",
      "78 2063175ca53a1753fa43b916865fda40419cfa1bd82dfbd8d9d2ac29309ee88d\n",
      "79 a6380f3b156783135bead7ffcaaf6b067c97e7e3e8e03eaf5561d37f51031da6\n",
      "80 e84720e0ac067c435826772ab7f8e9cef65159ec3047ce5815ee00d145500291\n",
      "81 212948d4db52e454246161326039dbfa41fec138855e2fdfd3e560015fd5b9ad\n",
      "82 7754310007e0055a9f6f13f2398edc52150dbe1c5803f0dc9263ca6c4e6de2b5\n",
      "83 7c4628788e27dd69e14f49ef29b01ac4392a78bd9ee9f49014babd15f2e62a1a\n",
      "84 0a17b34faaacb5aac51b4344957533d30d6e2a43e97e439f3919405197df2ab2\n",
      "85 08c16fc51b29b3e860ff3212d79143d3b9aa4b5cc75d3e86ba101aa00c416b82\n",
      "86 b4fd71b32faa7d9104c0b867e73481464e1143bf9fe179b47abb689b15400555\n",
      "87 1ef1eebc1bc925b2b95860e97189809a3c4d4c9b115d353550cf8928dcec7bca\n",
      "88 bb3123fc2cfad0657b0ede82215f17a7aca9b4270c857eaeac04aa37317e9dd3\n",
      "89 1c95d60753a2b58e317d7432780ec0962aa917f786ee22ecc3028f783326d40b\n",
      "90 ee42b3de5dd3d07dc597c7b9a791606cb93a907a49b032b8876a8356e9e8d8c6\n",
      "91 52f40ca49f3b497e108a293b6a0ab87c0e1b7d73e18fff62f9c24e338432b022\n",
      "92 f41a374956c2de31440e639eea5466b180a7b0e29a4d99890a6aba187515c046\n",
      "93 b4b741eb0fed944b9445540d593cb4d7f3153af222d5b8e5cf0d7fad329b1264\n",
      "94 4a77f4123495dc4569a042213ae004a277338240b3b146550e4de3f1e5822fea\n",
      "95 c27b7c5792b7463fb536f183efbde8978194d1ead6eb06fadf5d371193422fa3\n",
      "96 2800814cffbcf160b036fdab5e1205ad0a7cd05d03aa34c0d0a31d181d789b4a\n",
      "97 befc42192745bcddce4fffcb359eda41c1ba60c3e9a1b18028e1002d3e30535a\n",
      "98 857a1ce1d8046034fa3366181b38850c4c0262a48bd409d7498dd9da66e57d8b\n",
      "99 362a291a610ed4d0c16a1f685242365a3607ecd61625823d5bdf0606c87316d4\n",
      "100 f6c1092fffc294076a79942cd8528bdadc027b7be5789024e495c24811807370\n",
      "101 a67d7a377102063421b2552cd4b2716e2081c65c1f71513912d7b019a734899f\n",
      "102 54eeaafb3d4f83cba01150cd07c37fbc31d6f81765e03909624db94bc6d3ad4b\n",
      "103 cc8ab28ad176647a5ee1cb4f39e7a09eb94ea81a633d791ecac3132fee741cee\n",
      "104 fc87ca87cfbbbe2322bdcc9775db78e49ae28878cfa370f6e64a2fe627e93116\n",
      "105 69dc3da2c83ee8767858bc0d03728534db5febe4a0cc601a3520fda51fe449a7\n",
      "106 e74304435be10571c0ecc20d9fc111fb5e8cb0400bc5aaf0c6bb1b492ddb26c2\n",
      "107 b0d62bf90f7d9f8310529f65aa26f8ab5bc42fade8acef33d1a3673666f174d0\n",
      "108 94fb8642b8aa5ec968197c218cf9e656357dc54d2e72d62a923486a85bf4c7c9\n",
      "109 c481ad9ea08ec5a9a4ac9afde7a554b42c562aca389537407fee8c40aa3ce791\n",
      "110 9fa5ea0ac83cf84a32394d748d720847b74d8297080422101f3b1e2f455695fe\n",
      "111 8c1abe2eedcb32e46eb4514240049e69cbe3d8a4e00cdee77984bcce0e0bca7c\n",
      "112 76b805c77dd26902d76f32e5368f207f80323da1a8e63f3bc80271205204b939\n",
      "113 4ea691c2c9ac9cadd65f87529429ee24e0e93762791e69b71f0436cc71ae8762\n",
      "114 dc1658eb676c0ae79323dbf1c88f045fc3006db898f04c6ebb24f5544dcb9171\n",
      "115 9a88719570ff86c9a81b56e8b3c30d806c30d428cc4ea229d303d55972f0e285\n",
      "116 13b908d112b58739bff5e27555f5cd39dca6609741503333a0ecf622b7105112\n",
      "117 6cbf816b588d66a1e513c7f97a9a41d7d1c9fcd24e534f2230cf8e6ec40a504b\n",
      "118 bc687f6bbe431842256831e2a9546a170cd5cd05e8f72fa8dd1ec5d6900e4349\n",
      "119 65432556625b8bf652f1d6575bf4c113d882327dfcfc5f773c9d32f6e64db111\n",
      "120 5c618243c862522668e3828c2f01627a9973e77f5c2d72e024929aa0c9dfaa47\n",
      "121 678b54b70791255efd4149e0fb43e176b5065b4f932e01c9e6e6692ee6317efa\n",
      "122 873a63086e7164f607fb2dee28751d8c8df77b7e0955ace850dd9a715c22a1aa\n",
      "123 db751685971a59f2c6427f499e10f5ff6fb03248dc65d22e6d144ec6271c5e51\n",
      "124 b0b13dc0cf9ed3a2514909d9afbde9df4dcf36ee73cfe70513db083879a12ea0\n",
      "125 32fc3b6ff16edbb88dae398cc669dd9b9b15be799ae59941413487ffa4038617\n",
      "126 91e3ae046171557a3ae73efee35b92ea8aed83c918735888d220016535ff28f6\n",
      "127 11ef3c7074a862b6a02da7987367a7ff9b60f620e568807a6bc2899f290d50fa\n",
      "128 ee59d739ba379d9590d31887636daab9ee04eeca93b7d2fc2f82e79583634287\n",
      "129 8458e695c124cadc324d2789f2c68f5ea1a3a7ecc5ac1210d6897c156aaab3e5\n",
      "130 fab87c64c8944dfafd817961c63a3ded02010ddfb958b9e1d1b44a2e3647e6f0\n",
      "131 173864a80f2ef781447ef45e2754a5f761cfec735c14c823d90ca306aabf640c\n",
      "132 0597ede43d1b2334331353b01517710281738a5693f7612717a154466316720b\n",
      "133 13f97f8a2088cacabcd0d18230fd5336d5c59cc4966f46337e7dea9a51ee85ba\n",
      "134 95e3f2eef963347eb9934805e7096ed8833e916744c1e8f056ac0e51ab369f7a\n",
      "135 436e983d43db51e5aa584a241bfaefeb3a63fff59295143cea519ba1f8ed7c1d\n",
      "136 cfc1f173a860346788ffcf47158b5adfaf14550787847cb1b0b902f7dd4ab452\n",
      "137 8d975e7787b1964f680602432fb6a15a0bc0705031a8f2f8c55a1e21b8f6ab69\n",
      "138 6f7f6ef1acb29d67d2b0d223c958d02b5a9f0d037f319f8aa59c9dd24a2d92b4\n",
      "139 3679085ff65bdeb99537f19f48959a1ce233bc1f83d5407d3a68f143359a298e\n",
      "140 ce4c2a6d764204551e609f7287babe033f22aa1dc895f59ccf8f61abab7d738d\n",
      "141 fe2068d4566c566070392cab6ba01ce33e3d4a72a4bb72adb1e2c886fa56747d\n",
      "142 65a99b33f098b551e0fbab78b80b970b530ae53e36226af371e41cf44c9adab6\n",
      "143 254fad2f1e9e4f63f4110b1369265e66739490195d6533b2951363debc9639e1\n",
      "144 e476065af3fbdbce2cb5b7c9332dabcc28ff7591aae924035be5b3b6da4df274\n",
      "145 85a589fba83d3a0b0ec4494fb24ce5b8e06d6de91b9ce446d026a9f1c331d678\n",
      "146 3c3158f47aa326e7e7c7e1bc4969bd9ea0e9f0db58f41aaaed4338745489df9b\n",
      "147 88d187cbf6f54615c8de984863ea33a087633d67722ae5624d8f6f0453883632\n",
      "148 c88ec6b5917f757c988ff7f960dafad081b041c57d923a38ac7ebd9a91a23504\n",
      "149 44dd7f93cab6c2f6194b1ad10fae8e16c16a51b05d7e813d0fa828c7624df307\n",
      "150 493e50c1863824be5663bfd308ca6feea6e714f9cb070f851b6d917d662b5f27\n",
      "151 4cf68b6fdbcde50b932e157348c40b6e6eb4b668af2421951f444301b78e5565\n",
      "152 3950d349c29d0977a7fd18eb47a1e35c261cd9c0e960906b51ec9be586ab8b26\n",
      "153 faf1d010039e9fe611cc7af5aa5f4750965fcb5637adbbe588b1462b764ece61\n",
      "154 bb3d076e4a29b8421c1a3fb5fef3efb5cd8e459be809a9c7027e5edfd7f06f80\n",
      "155 fd07ba57378510b36738519c86ad89d163c1f1026dcc5db8fe08c3923e77a865\n",
      "156 8fe04850bacb479898a1858c4367be9cd7607d7f598acf8ac9db13670f0b4b34\n",
      "157 8633478ddb1c59024714f846d26fe673fbab7607bc776e28eceb753afeb13f7c\n",
      "158 9d560391fbbb6f652f79736df1da336c10ee51a42138c046be4a79ddcd142975\n",
      "159 8680b674a6ed57252ad52f5c3d6da3bebcac85cedd39b80e852c913a81f50c61\n",
      "160 aa7633c4d5e68dc1667536334209d6f878a8839ceca0172f4232e7cdbea1ca35\n",
      "161 94c97cc80f8ee6849e3f250df22fb48b40d0e60a2ba8ba75c77af52a15b679b5\n",
      "162 c41776a760cf1fc53c6c6abdddd3438ca8c20bda704efaba5b1df2554d709025\n",
      "163 aa187bbe1f9575f15615de3cdcdce3f7745d0d7bed54092779f73d39b9d82cd8\n",
      "164 13dea102fb857a83ce13947132c0d5a0d8d9dc2e076e45773a350d377b116a22\n",
      "165 525b4867d86c94f0003521bd42c2fa044a5e909c38cf1837f602563910cf3501\n",
      "166 7f6a12bee35378c1ae07f4a1a402e87a82f254ddfd093327e31301aca9aa5383\n",
      "167 27e82a32abb44262997a08bceae7fddc7df4d4aee9a4ac4890619f3a5a68edb8\n",
      "168 9cc1acbffc1eb97bee72bedd9b7243545539acb6917101a907f65cd0f5407e6c\n",
      "169 1c14a7a6fc73c9af5f4c2584c90d40da679089468298cb29b93129cd9d85d125\n",
      "170 58983862f6308ce1618fe981e9e6b191926adbab585d6fae4115a570e38c4387\n",
      "171 3ee9e648e957139b115d27139b64b766f036a045d608d04991abdd7915265860\n",
      "172 858a678bdc285bb85798e2100a30d4699fa5df55a1afce5695a2331036fac942\n",
      "173 071e94bdc895b49c2ba08458b534c143e26afdacf359566e5a13e46c4edf306b\n",
      "174 9861413d3773d1771c398b34d972b9a6d76857a18c535df663f63e6e4af5b6f7\n",
      "175 73cf5b82af1fe97c8d772b8e882b316386ef276463a143a5c7995d0e611d1de4\n",
      "176 758d4abf84a923a5baeecd307dcab660288666f2e8d4a3047e56c6743cc261a9\n",
      "177 230f4342e872eb5cf19add2057c4041aeaef31a7bb69e73b0cc8edbbdb81fb16\n",
      "178 a2c5ffdc096b3021aeb3efa64b227c4b30cf0a3f6b23acb0d362cdf045d65c3a\n",
      "179 f999e393cf03fa09e275234ae3ace028f664af790c9fd69ab1033b272d8222cf\n",
      "180 bbb503bd31e442edccf72ee1e280f11db5e8f2bbbbe56561b3751e35a3b6fe3f\n",
      "181 ac05337c8fb223e68696d38673f32324ebc2171000a3d1a713a0ab66a3c5b929\n",
      "182 c6fd478c6f8c73a3ab78692874519a8e06198f7c7d4a8857ca3181cd78c2559a\n",
      "183 08ccaab188a5353a4cbfc61dad1e3b3b7b5c450ca7769cc2cd0f45551bff1417\n",
      "184 a3308e99841d4d6af987cd437fcd619614d619ad58d612cceac19377ecc05cc8\n",
      "185 bf10bdc7e23189755c37e4c91c8a4a651662448ec273188df7597bbd75969ab6\n",
      "186 b64b45649562f120126a3d0f11e08e315d3c19c80692ad240993fea3c059be35\n",
      "187 3b9452f180e20ba58dc894a57ffd5da5b1f9f1d4c54627b270e3c937be8b0f56\n",
      "188 11e5d5c3eff77cc34e72fb575702d7704e79ae6b3ab22682167813fe0bdbf91e\n",
      "189 79f6640d033f57705669909c97756170f0be90230b35ff19f656125bb44f6264\n",
      "190 38e1ee2004924f317280b9afe2c4ef7445c76e252645ed025fe6b933ea5b0cd1\n",
      "191 8c0dd4029ef688e1a096e58c5938105939ac89df6930f4026483609ea91e3b14\n",
      "192 a81ebf15b39df1aab6eb92c4ee2de35f67b7de56a55ded03446394b3380ff6cf\n",
      "193 a88f25cbff519fb090232a50ceec4a141457f5aa1dd3ded89a4a5bc4ddb1d12e\n",
      "194 4ee2e122f6f07fcae2510708360737edcd7afc0013c21d3b1650ad7fd174cead\n",
      "195 17405d28582ec8f1355792e23894451e14185a297eec5ed4a0ac45b8cc91c2ee\n",
      "196 170ffee1e822cda146dbae91b93110fa4121a11f038dae82c3e109d23196c1cf\n",
      "197 45ed6af139cd84e8de7fa8fcad079b4296cd30a6c453ce3481b5c7861009939b\n",
      "198 05ded029c3d8898ce0850a29ebc6f65cf12a7b604106b7abeccf10ad24daefc9\n",
      "199 8777768e421dbc7f7421002e978b57f985959087c2055ec22356997ceffb324c\n",
      "200 ae846b5cb4d20e82c4f7ab09850fc356390a0a307d9c4e59ee4dc319a6a1c3e3\n",
      "201 9181ca751a4a727a8c45332b7755c99c408c57625b7d97b06f2720e9115ee528\n",
      "202 0c1da920358baffc050476ff753ff46d42ff3631801d75ae93f1c28a3328fdd0\n",
      "203 23a8bd44a742cb24ef9a03adac5caa04572f223d1a87aa88d14c78ae227077e5\n",
      "204 4f4c92ebad3fd3d60c412140a50e8575029171070a00e875581fab1b8de12c61\n",
      "205 4761701d6810010ec9a03bef19e513610a8f332e21980421e8874d4a9864950c\n",
      "206 550c6a5b9daa7abdb5364b3283c073d1b996e694f0d4ba303e40668e8ad882f0\n",
      "207 d48184f1009cabb4708aa8f026c722206ed783cf2f6abb6a81ada3467c83678a\n",
      "208 7db19f9d6205bb43330f0c3a3c0f4df7154ee883ac275424bae53427dc4ecb1c\n",
      "209 a676631ca5d0422bf598c80cfa4f3c881e6d4221854517137cde527a7cf7de3a\n",
      "210 1d91f1677cc263aa6b3da4ec221a039aabcc3ff28f8c56247bfcc356c08d65dc\n",
      "211 e52b30463444b4eec6e34de323cfd76b3f1e51b795f672a596260f003f5fe495\n",
      "212 d5f8f6b97faac58a753c24dc0a26f71d9725c7b4b67f3580bf9e00c61c26462c\n",
      "213 720d4b0dc996bc4fbaccbaaeff579d2bb3c0374677606d452e8dde9fb0f734fc\n",
      "214 6cf01e43fc2c6eda4bd8244d691006093a019b913f50d521c29bbf11f1e863a0\n",
      "215 0595053e3da7af62040638bda0f6d3389ae32086d8756861ae499edd95ab643d\n",
      "216 2deaf9a37a089f2b465c98dce534279ab781e0b5fd7c9712ef92cc8e4c5d2f82\n",
      "217 7c0f9f59eaee1e58bfb643ab8f23a0ee0aab561f12a8d8ba34ac046ffe87e73c\n",
      "218 6ef1b24c310ba016c2dcb1b3a80437f95d38aaf4b21be88f6978cfaf7200f09a\n",
      "219 7b01d369bf9a58f76e7bf5830d1de35c4d6d5d98830b43d19a31f623c34a7a3a\n",
      "220 fb3cb43f754af31fae7d5a96b86c8bc40266e6d093141a6a0065edb5ac389320\n",
      "221 10ae3fea21e8ea4eafdde6c03482add5620ffaca000f7d545115284c02ad5096\n",
      "222 5421fefe8c6b5356db86110c431206258206dfa43c2d97921541c064f56cdd67\n",
      "223 42b40f22fac638ae278da667576c5bd6411037c961c5f91781086ca1f36142f4\n",
      "224 b2a662bb2ef3d9f31d3fb853e2e6e850ee3a83f3c1e29963b88220edf0c6c6a1\n",
      "225 d7925ca73915768ad525aa97fe9cdc2f1b9f89b153edaed9d2f4abdd221ba5d3\n",
      "226 43617500e262881f82c581d18e456fc61c1f643e3ad07fc225501d25f12d6238\n",
      "227 3a22485f71db1fb100b6a73c5b3c26bba1348a6cb98cebc9e90a6a5d916fca0e\n",
      "228 66d763321fcab84966f4ded951ec8d9b06c477255b1c5d46ae4987c39e337161\n",
      "229 d5ff24bc61949c2df717e2391bcdde7c4cca426bed49223d2e9a4ad38d62e05e\n",
      "230 7aa1fa4194f4483e054c9a1321bd386d8845836326383c76f96eedc08acdf27e\n",
      "231 225490b7cb91cbc1afdc15caf9bac88a9c6530fed411f88174e4923fe160d2b8\n",
      "232 117902f36db20d88b9881d3d942f6773c38afbff0314684d598d397791ce34cb\n",
      "233 923770aa8e49d88f2d712352a527c2db940c3f37771c572f70c47f2c6cb0191a\n",
      "234 9cb1329bdbf82c5010842eed89d5cfe5d4c0832eabd4717b51d58e535454dd34\n",
      "235 9db1b8e06141a55d2a817c877a4834d07f95ccd9b801417364515c37d389c73b\n",
      "236 428c00871b30170238b0b84a39eff4be9ed34c02f9cc47a6cd721e2b85f452fd\n",
      "237 0ec4468ec1620d8f36bbdbd5cfa45f8dea8da57cdcdc5f2d823b378c88333c3a\n",
      "238 51e3691a95f60c751f75c130bac33c23ee0adcf50f0ae8ed8a56ce7f49542bb9\n",
      "239 1ecd0d311fb9912009f9ca05735fadb52ace5fa5f30ec0f379eb3559e042a0b9\n",
      "240 6c44762bd295f0c457a447ad446cab724ae0b69bf35017c0fdf8b148d3d5345a\n",
      "241 f514fbce507e3cca069ba4efe6e09e7dd7d6f495eec1bb1565b5455f0e60a142\n",
      "242 32a2df37960d2bdcf9a6243fead0a96e2da76d400fe3895c92db8c62237e0e00\n",
      "243 4f63664256dd94961acfbcfe776112dd0b1a9a66ce1195fdf18abb7369d38c09\n",
      "244 93c026dda63fc74394060d55d76dfcd9a60771b09e86163b95d6f0400359ae86\n",
      "245 e7b49694b10dcdba12b220a7bf7ad4be4b8932c27cd0bcf14a6139a6a26b338d\n",
      "246 1a414bbda8c0263d892c9b540f9886b65554d88a00d5147e95eaf882d2bf2ad0\n",
      "247 e874184c7db3d405ae01e45caaea127244e576d858fdb2a1487ad1baaaef939f\n",
      "248 bf1e3a1edbb82359fc7bd212a803279472c820ffc41e31081fb982fd9cc3ff85\n",
      "249 b8d06218dbfc0166170831faf629fb3ffca6a5c7f3af7a136bca6f03cf075739\n",
      "250 c0480f7fb7e5628ba0ac74fb7d4f36594d5dd5c7e3daaf565db0f90b35a4dcae\n",
      "251 5dab761b2fb6fb3a2ce1b4844fc50a301d68ff21814b8ed0e1960c3fa4c850a5\n",
      "252 a303e844a103c8a0388e3eb18a81a0746ee0464686eba3a98590107aa094aee2\n",
      "253 6ec0bbcf022a5727e7a9a3572e915a011b615b5cc1c2257a0ab19a0b34a22fe4\n",
      "254 a378e07ac8a8dbc857ab3168a71307bb41b6222eea23d469ef06b8680a694a61\n",
      "255 af471c4dd0905c63caba4ea05248c4e4c44fc862df3bae376b94c4de48490d2b\n",
      "256 f8dd4745cdf87af637198207e422aa8bc1dde4be1dfb0214925221cf26bf95b5\n",
      "257 370a55b30f4c674d23ed68c5ff0a1b952f3160753daef316db8423a7ba60e7f1\n",
      "258 50d082035be15c9fe7559f9d4fea194e75c7eff5e5c6d7e8ed13970309f02b5d\n",
      "259 d7a3f5501855e63cfda0383a93ba1559a826a43aac0db2ffd245edf9e3b7c456\n",
      "260 e069a696444ae81ebdb6aa0945f329c6c42acc220b0de24a84ea27ccedb399cf\n",
      "261 b3dac97235fe08637578c1ee610cbe9805ce3584851b6e33b813a96cc7095d68\n",
      "262 ad43dcd369bfc294ab59a2417620d18b6c95f23a98490fa9810d01faf62b5df8\n",
      "263 b6639a71d4d7804c1952f1fb7e5d2d5e4ce34e40376d6d47bd907bf828324178\n",
      "264 da78c184b8961f3bf299cff8e4e7a65760db7f263136fc47b5e697b05a727def\n",
      "265 40d8ef7158385584414560bea74f0134b7257b3e43db377ce6c5f6df6af93f8b\n",
      "266 49eea727e24608396ce1f6528f93eaf99474ad116f3e192f7de79b4b3f7ca37c\n",
      "267 c73505411ef20416f99b056ce63e724ff1085424f31d2da151ab9afdcd368caa\n",
      "268 b0ffe99dc9f29a47d41770f4f3c81e06dc20ada3f559fd7a94b1eb08c9b6b297\n",
      "269 458e5aec80274b60984615414cc55dd7dbbe57cdffdb398f85d0dae49d199cae\n",
      "270 90849a56d32a6e72405bb361185b01651345d9618b0d17cfe82fdb0708c5a647\n",
      "271 eda83747a9dc8cfbe9624616fa6e59f4b31b5065fc2a1a1204631432cdcba08c\n",
      "272 8d01cf66abed10407962d068eb8e2c95a9f6e17eb2cc3415007a08affd3bd655\n",
      "273 5a501b966bb872d9e0d493f110b9cbe31c96682154d7271618afb93fef58b129\n",
      "274 b95d56716d0fef076c6178d8873664bdb109cd26dfc74553bd8ae1883fa243c1\n",
      "275 53ffc4bce9f73d9c40a1d0715672f729e45e8534b8cc27ef8ef21ffc32ddcab1\n",
      "276 fff02fa676d3e89d8652f074344a67ca2ac43b31e7d8b62d913a7e0c1ad19e50\n",
      "277 8ad94e9863c59b5a18fef9c29ef040e12bf1012dfcfbd6f9abf1b06d1f48db7f\n",
      "278 f11fea08d7d31ea573b9359a89b021b6cc5616b0e31192e3f1bbe28271023fbf\n",
      "279 705ec9a077c69cc6daec95685998dbb9e689e600dba0f715536f17569eb1f2c6\n",
      "280 7e56bbf912953af98081b18162ba96bc2979736d4827d4eba810f414248ac4e3\n",
      "281 e4196cbe05246eed1b559b2b10c7da8ccf0875d70664ace79fa109299597c79a\n",
      "282 844768fcb4628a9587b73406cf9a266cd2c7a662d1524f2654a8752bd94b441d\n",
      "283 b291f7e6a88bc6802e096fc91404654cb658afd1301fb41df93fb2d96097fdd2\n",
      "284 2f083d24a3da911bf3049e83cb679f3708d980149f508bef84ea788e02969b5c\n",
      "285 247cf093755b1ccffb2c7d2d34afd9452b924797adb28fe4edb1e4e8e621500b\n",
      "286 899ff099075a28e2acd7b5d74415d829f998b93714c01c3c2959f068e57f3512\n",
      "287 38cf5613a2d4b8fec598a3407dcc13a793c4a0568bec9aa8e65f92810892c9d4\n",
      "288 e98c5af3be8ef5eaf7054a04f1ba3308827357b37655e48b37598b4ba5e47998\n",
      "289 35ad6f7338fb452f909e9fe33642e6dd1c00a496e7ff34523c03a6c32e2f6116\n",
      "290 33a4ef272f5beffb78a9749778d6e75fa0461630319d7d7635966e31a8ab33c4\n",
      "291 81c0b214881091d65252c5951d0eb9ff991d4de08168a8af85b767078d914ef5\n",
      "292 0d81eb88e2ff4443c2a3cefde02e7a38481a50614600e85bcd6adb23f85e781c\n",
      "293 9ac5e1ed7cb17a6a88359f63b2060b31e12e268dfe3a329986c3544d522b47fa\n",
      "294 235a1e95cbab9bd05ba99308e03f4407c97b89ee147f74d5c125df16eafb03b1\n",
      "295 e3fc8153b8939a183df75cd2306ececd41ee956b706cc94d6be4d0c7bff92f79\n",
      "296 0b9858fa81f8cec86896ab6bf373d9a055ba89b8bc717e82e5285da6d95fae94\n",
      "297 0b1031d0fac722d8b5472c9d5d35d91a1641f4d5b12ddae7e11fd16315e9a7d1\n",
      "298 3cf7927169bb8a47ab5124da3c5700dba1946aeac52f134b661456f06a1224af\n",
      "299 42633c453598f85e7fa3a1f61a6e5711e6b3cd082e6e8b3addbb518cf3d8e652\n",
      "300 485043f39356738706becbdfd966745e46e00059169102a1bf61d7c68fae0e8c\n",
      "301 c1da9555b51c565a801f0075e15edd35a05f5b7800f83e87741b65c745774142\n",
      "302 4ea8ef072c6841cb4e6f8690c2f01b053072fbd595346f9dc5c42f7d6ae1532c\n",
      "303 13eaa15da7a7396e8567a0469ec470defac0a28b31aee89c1bfb22b6b5f7da39\n",
      "304 44467e605cdbb51661c7a84c776ba642f28b278ad5d828abfaa255cf411e416b\n",
      "305 15860f7b9db18afb9f0d401b3bf361ecb0c408ef6f9f76c812c786c75a6bae97\n",
      "306 5c94ad8ac5bcd6e6f3a8b44d5b11e2aa9ddd28e23dc60a2f4f20b345f976b734\n",
      "307 bab06b31f1f54e2de32c94a2857529e7654f5d4bebb62311d23dc395122d52a2\n",
      "308 ca1feeaecdc0334a9972a1df8026c4787618f118539f871368f7b31931ac4eda\n",
      "309 16d79cfdda50a060f7c3764169c5d9246f4c520949fc1d2a4b88135fc1b9018e\n",
      "310 44a0648688972fafccbc45d0719d4fa98953af17a06b9f30acbb9a2e59b472de\n",
      "311 e058cea53d47dff9bec9a3ddd483b362b5193d58d2d12c9df19972440ec9ef1c\n",
      "312 e42d4cde17ace7969964d140946bc182ea6b99e141c3a417631d4d8e955fe1bd\n",
      "313 45b5f2406b4040e0e120aed551eadb922d640c543a2bd8a73b590ce35afec47d\n",
      "314 1112dc9ebe46c64ef536a2b06f29243e144d61853f30a25a7fa137c972bbd739\n",
      "315 92f7220f14a9b8b99a6f5d0758d58ed996022cabcf82db3af19154221c4beb08\n",
      "316 5bf4e63cf14965431ab647885ce538530f377ed22954c8fa7d0bf1d7221cfb2b\n",
      "317 74d91695f7969ffc17e1d8993664fed268a4731e7a7d7a3fe17c939bfaee0e0a\n",
      "318 5e6ddbe8eed90d2d1fecd14ca0e79d0c0978894c42d7635fca618b39907a0163\n",
      "319 c83fe4ba335591f5da95454d03eb6b6a410540baaa765b4912b19d1e9c6fb4e5\n",
      "320 7fc8dce186e5d2d68de3ef584b34efaefac85144f51b1548b1262d6733336b18\n",
      "321 d137f16776a953d9dc342e745e45e4a127372a0231f29610e6f0d08f62ae7742\n",
      "322 75449c2eabba54a08b8bd5236b068e307d41806d68adec25ad28eba765c46656\n",
      "323 4b45346530935d8fbd2528ffda1fba6d0e56a62226bad949581c32c5c1f7e63d\n",
      "324 e9ad270508ae1f3e40ab85854c2c0be9784c630e47adc3f67d0cf17e9be191fb\n",
      "325 ee86969846cf1722ac3c4f7e5481099617d70f18a52a6edb4e0e63f40065d0f5\n",
      "326 8f941dcd441944ee7cb9715633baa119f0edc7be5e866b63c4b4fa479fb2cdb7\n",
      "327 80c756e74957274eb69ac72d3f24253da50bd08c7cc010e1d406452fc95ec126\n",
      "328 f24e67fddc742352762f3618d75c2f0bc0f5c9e5f10aa0452d189a792b77e723\n",
      "329 fd136000b618d1441d7b6a34feb6db729c49c5f49babe2a7d8878f2e3bcaff3e\n",
      "330 88470c5c3e00ab983a671105ed5ad27a21a294e5fcee02da2a332ff07b15034d\n",
      "331 e0c728cb8a8674ee753fe58774b63b0fc2b81d31c228c560cdb00af7d69caf85\n",
      "332 7bcaa6b867e80b4d3c12744127fe105dd406d91f35ada4be6fe51465c9e68626\n",
      "333 aee8fc006f58e034c2f2922ece5464c9d05634ce106955eb1f43bca77196dc62\n",
      "334 384d40525a1db0657fa9c82685fb12ac214827f624098dbb1b6116f707b061db\n",
      "335 ee9aa79da9d5477bb6ec6f7dcbf58ccd1ee5bcac91f2202444582eb1ea7e2bb9\n",
      "336 d6dac108b510d258cf762329a19bf3281855b57d338102ccc1aa450d35e52194\n",
      "337 e3c36ef121f87e14dcf68895efecc1be7116c473adba96e9b40f07efcacfca89\n",
      "338 e8c03f57d5878e8d30d71d115668f6452b367b1231b7bd53fd3cb01c41e2f7bd\n",
      "339 f9ca5265b515bd1702d6d341d5b74dd375510d9ff43515f13642b4bf2aa858e1\n",
      "340 0f1cad1890ed6c03b186ff231d942cbfa080442242a43455bd3cd0370f0bb0a7\n",
      "341 2d12149d39df52779795c5131ba46dca1156522840cc220d6034eb25a2900857\n",
      "342 967fd900c518d64862cf4cefd19015049f3a933d0e24f1e8ac78038cf7939a44\n",
      "343 054151727804c3ab876777fb2c39e856b02f19125c4303efd1f2dcbf25fd173d\n",
      "344 7f604a9c4e56aacd5483bd3155b5dfd150be7599a8f20227c66f831deb15ef8d\n",
      "345 9a287e829cc7efb84bf05a2c6f6ca1760bcc5e6b8c24c1ca4c45bbfd6799dfe8\n",
      "346 3bba9c0f611ff3ab07c888d6fc6e8a31d4631d1324cbd6c4b94e5e5552e10117\n",
      "347 787e1630794b5fa7705852c65d053ff351e53bcf8e09f3561e43c6a182ca3327\n",
      "348 a10ff701fe1f5dff20973cc427c3dc3222e75814b0fbdd7630845a51d0d7b742\n",
      "349 88de9c0b78a2275265c48e19f5a00f1ba7488dcd6908a4e2d25787e3d46f6315\n",
      "350 682d8fb4c74313db8304dd5aed2309c1989a91690063767d657015cf2daac87d\n",
      "351 04a67e4c7a809784bfc56fb8694bf3c10878d1d45c577ed4b3cf88afe837454f\n",
      "352 38a7550aebbb2813b7d41ffeed1b811f6ef8994d35d520d02e6249806969e3a8\n",
      "353 c0678cee2475369c906d1bf9393f6e1c6ce71f76b4eaa1f9a5b55c428b02e746\n",
      "354 36081465a260700976ee463fd170d6c97b316cdf5002ba3e57e5728c220ceeb0\n",
      "355 5b501049adf3b7250183fd0406a3575caf7881c96724cdf2484352fc01c3ad5c\n",
      "356 5728a705b8dc7721fa3a2095f6aca97903faf182df8e59db51dbea1a85b97107\n",
      "357 74c78e96c893d9b14ebb9605a4d2a8399cf88baa0ecaabebfba7bb31c95bf19b\n",
      "358 cea8057c0eee6e30a2778966b8235249b17dd703f5e6b389f5900f121fde37fa\n",
      "359 e8249f50153c971d9e34ec9851e26e80609edf3bf1b8c5d8460224230e822e16\n",
      "360 fe08e723f6d521248b532629148097738663920063a47d6ebb04074b58a99779\n",
      "361 8e318fcd0d098010294fc7444e05d9d5dc4b438aea7b04390b89528ed88f84e2\n",
      "362 34f94fe665c8809eaa5c2c7b2579b2db12834e0e7908a00af7a18586633f3498\n",
      "363 09fb215858a45b321ea05fd0244ceee4f796b8f60743a83bd2314002fdb8fc97\n",
      "364 196937c648a64ade1f7c75e7eb5b2a1549b234be16b3dc59a19227b5b5e9307d\n",
      "365 d7a21e8cd7a276412a43a3af0aff72f1e4d15a16dfdda3daf6d8bc716015785e\n",
      "366 4ca2d8ded1306c093ad431a9abf59906827eb63f350b64d7c22ff9564397302a\n",
      "367 abc42e75ca08cab08a9aa16758bd4681791c4ce262b3ff8f8cfa0befa47721ab\n",
      "368 e60f25113ed65504c2d3a6c5c06c9407f073d532ff917be69da3fafdac0ca27d\n",
      "369 329b4d457dafd0defb6e30cf50a312d81cc34706afa596f05a9df3ecf9d36842\n",
      "370 3e8616fecb7a52a91449d7fdfc44f98c1315d4161f2e50d96f559104b6c64ad9\n",
      "371 ef4e4723698c06f1164f23d27b56cd8e2676dbbbb6341c9f0e0aca896b2a4db8\n",
      "372 e66179e7accfee095ac7ba739796571b79a601bf8bd66999d4a85ebc66d5ecd0\n",
      "373 8442dc91c70072ee16ee816118f4f62617811f66feb2dceef8af6106e7ec6ec1\n",
      "374 0a1fe0aa97209efcde7795c6537da9391107adf93083e22c15ca4c3093cdf371\n",
      "375 eea70f9ee073a2312ec125d51e43b841c41999c3c5b4f17b90905edea9d4d579\n",
      "376 9c570c1d7e476709de0d4f062ccd70e25dcf50e8bbc44f93cee9ae6812f37f47\n",
      "377 3ce21354b7c4a5200cba8ee7f5a4f91570fdaa714389716696e5aa9655f57568\n",
      "378 9e204dc7cb70d530e6dda9674d23b6f021611cf5d46f48c07173cd9ea5eb369d\n",
      "379 e1709cf7d51bdfafd6f61bdd16ec7f81b05d789e8bd6bdf73c6f38fc1ace2cf2\n",
      "380 cbb4b60ec763aa4f5326e86a34c739e5d4d16897dca5f783d0af98833f861ba8\n",
      "381 c63349c8b796101db70fa8d516600b34b4c3a1d45a8d587af85e1380ecfce86a\n",
      "382 97a1c7a430075d45afa836127e3896c809429895af2af525261b7d9febbc60fe\n",
      "383 c0bf2693a199bb26fbc25c34bacff6e9e0fc03553cc30a1dde16c15dc71fd88e\n",
      "384 5726ae960645eded6e93a01766df416f5d446fec8bb93c5420809915f4b4dc20\n",
      "385 a3870161e1dbb5e3d9d7f8a0a2343ebe85ab77fb3dd8427627cd2fd26b798241\n",
      "386 e8350899e1c475e84c778b6769b482dc1d749102fa09264dd399a5fce539f335\n",
      "387 9aeeb4b2d5cfe171a51047afc19d837eeb8d3b4be67ddafed76b3dc63d32c1e9\n",
      "388 972a32ceee767dfb2528aa6e6b2a43480f796b563474b7fe7f1aaf9d4ecd8d24\n",
      "389 295e43decec6d25c5744efe38f55d9b983c02ce2c3078f67d5622d5def9884f0\n",
      "390 ebb5dea601b5e4c41761754abb7207e0ce0886d2c523bd706e06dd908f9711c0\n",
      "391 eb044b184db0816c86c23bb4f850a8e8c94e805f1a2412d6947c2237092e24c0\n",
      "392 60c3a47b18ef4dc2ca0bf1b55f37752826a3d2121b5bf48bfa303a9d761f4f8e\n",
      "393 b4715747da4b300b4d699b1a61b89cfe14b385b464183a2e7ea5651376e820a5\n",
      "394 35cee42d53e530a228e4f542b1b9261cdd47f2d4284a89c19cae0f6102e51dee\n",
      "395 e344f2d0f6828aab857cc74ca9603f3591addc9a22d9f3f3a8dbefc125d99565\n",
      "396 960a2ce8a78198788f5c5faed5e69e44f27e4cc50e8d882f9c826f7e1bcce3a3\n",
      "397 4423587a241a50c87e8b0a7761145aff7d049ba8ec3f83fb69d82793df22b156\n",
      "398 69465c450a41416dabe305d738532ace630a2edd615e9ca8e336fee29457cf65\n",
      "399 5194f7c9e0d964444f93429045ad8230dd04a31909565792fce5686b2e6f3d14\n",
      "400 46c736ee6ed84889f401428876636bdf965f407791023e7d2048a0a3ea4b3bf5\n",
      "401 bc93ee86a52912f5f92c703809b42c081e1d3d7a263c33bef461f648e2b53932\n",
      "402 17d36d4e5a89992f70b2a1a8f18623665b11984027c4b9a03399b38a7c5eed3b\n",
      "403 5bc1d0e50479e8aa589127eeb9740c0544c4e4e43267415b3966de5a9d025987\n",
      "404 02a8a72aabc3addfc86834bd4c24cdc68a6b1560e6b708414113785232f17e57\n",
      "405 45a550cd3ea513cf624eabf4b2752a200be8fa22959e63a586c1075b447e763c\n",
      "406 b88e9e1bd6e42ae031a62684b5e27ed1864a781a844e092397b6178e24c1ac6a\n",
      "407 0a5ca5ea39b66bfb898be5705de8882711b16ba78cfd09a4305ac09288b32c4d\n",
      "408 45caa4d1b01ae39afdc0d618a9bb2eb82c78fe1638195ec89fd951ff97b2b54d\n",
      "409 c3146061027b53c8b4fce62d63b514ec99955fd1f71f66ea20578f898fecfd21\n",
      "410 a5b85cfb035c5acae80d3fa0a7fa9a63eb25ff8a2f07375af4c099af79ef70b4\n",
      "411 71ae003caefc6a7a9486eb6dabeafad929f610a10b811a1b476e952b0eafed4d\n",
      "412 880bce38843b79c3dea25bc6a869a4f4389fb545d1f0a8c90fb61918d9f2ad6c\n",
      "413 7844aa0c866d3196dcfaf710bcb213acd5d5dd9fe8c701e1db02b3ad7ec76267\n",
      "414 0f58f79f2f53e4466497f83d3e031bdcf1f9c31894633ca6b1e13578de8fa7a6\n",
      "415 7a283d2f02d8f09b2de2f49d271e12d0bd727a13a26cf45d05b7fe4c8d1291ce\n",
      "416 7ff31e410a776984905f102ef39d2ecec5a3a49d57bb94e1634e8d481a63c4b1\n",
      "417 2f4d1ef27900d600093d99439b19a5b7837f67341f231783a176b9373321dc79\n",
      "418 e1c1699ee9b75b44abab937c499a6debb384af328169acc85f2ca406be7e75bc\n",
      "419 99aa9e74c7965eea396dba26885f8a4d886169c4051e0ac6bcc386a1d7d2f193\n",
      "420 941c5fd5de6b04b0b183d33f7c72b6005d0dad107732074968169a112af5e6fb\n",
      "421 8201a31676b28194825409f07705ec7e954321da9a079c8ff765e4dbb1d4063f\n",
      "422 6a449eb05af6789f68f33623377af0d86f70d1b50ea0d91758ff8ca9476797ff\n",
      "423 77b8719b0e8cf012c0de1f2ca092bb00ae00154d535e827cd8b8132686461c83\n",
      "424 a4d2d14c39e527dc11c8945b3c9bfb8394c1713cd5238173298a803b08b496e3\n",
      "425 95e7091d6c24356e738aa6af3d472d91fee94d2889c0756f263703ca269bfb75\n",
      "426 9c5ff39ff79ecfcf54c748305e03efd0e2456b072ec4a582a75903ecd46a2764\n",
      "427 c97584fa675abd597f30b0401ffae2740d1e63164def79b709968e793ca005e7\n",
      "428 97f3b0bf8e91efe874cb0793e3cb5add01d45b4839e07582413760cf62986564\n",
      "429 c8e1fb4caeddd39aa4361b7bd241b59425ae0b996e793f57a84a543e5f7cd138\n",
      "430 fdc7aafb4e3266c7ea599cbd88657b1dfa63eaabb5876509fa0481ea259d1d59\n",
      "431 675eaaa8b11736fd8dc09fcd734781c59a7de2415d1967f66883b3da797fa3b3\n",
      "432 75f3412a90b1d6296d69e1e96891fd150882e92bb1dada6374bdacd1cbf20dee\n",
      "433 81f2ddcd08f23a0a5a43493d5f17349cccd25901e543d3f677654a291e6113cb\n",
      "434 6c555034c2496c484ddda922f17c2b66636c6dc93e87a8cc2affe2bfc16b1619\n",
      "435 19e94930a01ec5ece9f26058a87fa7cf66c9454ff9c6e5b77468a37304a57320\n",
      "436 55b38455101c7ad913b8b00b2b7cff16663f9a1cd10904d699dd3e418a0b8102\n",
      "437 48e4a5bc7f97bf4099de0e70d0f526ad7bf275448293f115702706e46af4aad5\n",
      "438 12fcb56a3fb3b7c1390a436e3cbfb5e76a147b9f536031b919a4853cf194ada7\n",
      "439 6b48d484719f76aab898bc31880ce92fa52e98f7612918ab5363e675d757af48\n",
      "440 a5c197b6aa2afff45f1a1f0777ff3d615264fb5cc6320cb2929f39176119bc0b\n",
      "441 a4ac5bfcd1a2105fae5e2ad9eba1aaac23f547d1591839c4cd489bd0429e1613\n",
      "442 e4209a6ad0840addccf09dc464c2a5d74d0a2e6024a08bc7bdaa0422d0c5d1b5\n",
      "443 9088f0211f9a19584936da08176352cb93ae7fc33d96c8812a3766d1db4af5d1\n",
      "444 d1f3e80bac6de77dd26a12344260d18471a71136d063b7af3cac076b76bf487a\n",
      "445 15026c8cb7b9341298a9445161a1cd343a8fd679b54bc10fb2d8c16e9bd0b4f9\n",
      "446 f67a05784f1343a289030736bbe61ae202c377478f74630b1060b40a774b1084\n",
      "447 fafff67fb2793e71bf733ffdd114520f1dea607d9cebd7a9c36ca37665dc8ef8\n",
      "448 1a43798a67baf34196b5035033635b84d01d3375aef9bbdb8c5a052f60e1cba6\n",
      "449 9d3a7162dd318637521bc43f6872d64644cea55e48172cbc82259780489fb08f\n",
      "450 bb1b6aed863b47fc63a0ed269c67a67b10b0dce20aa1ab7b9964000b60b8b1eb\n",
      "451 cacd79a176c266c80d162cf63551520b937086e4bfbb307c6d8ae4bf740c6305\n",
      "452 988b8666d8d3b5bf093ed6cf4766d54dbfbc47c001c4cf9980472c733ca1f11e\n",
      "453 8ca589fd0eabaeef72765e270b84fe1ec918705632caf3b15bdfe80adce25d3f\n",
      "454 78282712349c08b9fe0c4a3267a53ae65295c3c2fb7c882d472f2aef9e4033c1\n",
      "455 37356a7a93666c9d4c000aaf79cfc1ddf7c12aabadf16f73c044f29daf5163ff\n",
      "456 9fc472d74189600c67c8fa31ff20f5d226c49d8db0fbd442b571bb5f75040a7a\n",
      "457 d321a0d03c0919d8ab22bff8de8cae13334393024fa0eab96978ad50d46f4fd2\n",
      "458 36cc9116dfedb7c1f9fca2dfe9a07bf1c13311c79e68104b2745712ba56d1786\n",
      "459 c787763163073d5c57c31192c215b4f95480163f770b9bc59e7fa86703d9e0dc\n",
      "460 10784eb68592fd856b9a6c30daf7822a8fa603ef69b7d0e03be6a9e4a9ed4bda\n",
      "461 a351e4884c3dac73a28dde63dcb301de552ecc29f081c885d52b38d86a9897b0\n",
      "462 3fede15401983626f5ef49015279743b6156881a59acaac3b0fde7b75130cf99\n",
      "463 43cabee17099055bea0bb392ffbc02e40fc4e19708ab7cc8d45aca6a6e7a95fe\n",
      "464 0e0946bf8bce2eea2f4606e0254b6d0885513a46a8a8795176ea7823ea9b6e8b\n",
      "465 ab4d188dd16d5908b0a6972bc3c9916b9d21788a87a03a0a3ba6100446b35428\n",
      "466 5ac94a25ea5ffeccf6257980497e094e91dc0bb94f887f5d9a41a70c1f5c91d6\n",
      "467 ce0397d90da9f152a7a26f579ec09eb1ce3a954a1a19d319598d3555183096fd\n",
      "468 9e26391095d47de859d49889d3ac410c3ded6a5f5f0875aaa262bf1c99ab8e0c\n",
      "469 436989caa3e051a888e00df7201c54b695f7225b9b6be9d8da23e6e6584a2f74\n",
      "470 1979d6c7e7b4a8f11c0dec4b6f5de6314d4aef670d3898233a90f3ccde9a8ee8\n",
      "471 01197f118ca8b0485af78c06d1633fe828c385b21f0e9c450c16a495c1bc6185\n",
      "472 3e0af0733f22be93dfca4a9cb267e00b4b46eac4d057f85f8f73d5e3960564ca\n",
      "473 289665d3af5828226599a1825e81ca4da07193355806992d122029645e4067b8\n",
      "474 716bdd762d4886ba3557959276b8d1cc9181539bdc948bf6f10335dc592c33f8\n",
      "475 27b74f55cc8b03365259665eafb9280b80aae13ef1723d2b43512aedb644602a\n",
      "476 03c15010e24c5fc76489842b03e252e777780db51ad7aeda127132939c8fd92f\n",
      "477 5c156caf46be656fe98be0fbfda8446c5fb98d4266078e5291be3111bee6cfcf\n",
      "478 5812778e134c48006fb5376ecd5f1ee03ddafeec06fb16837f1ba94b774815a8\n",
      "479 a84928d95c43b89a94aeb599b057e65926f47202d3d7c710c12e89b2d31788c1\n",
      "480 a5358c6262351e02a2c0eddaafb53c4ba227ba198cb3dc5402f070bd27375bb4\n",
      "481 017e98a4513121ab746a78564d6e85083e41e86b471706865d2e0ce2371e861f\n",
      "482 a54ad2e66d6f148f8c77243691aadd5d240b9ab75d4b45423d038db6acf58a4f\n",
      "483 c11e34f233219d52f4bb235f29ca05853d04ffb0f844ed39b31d355fd0314dc9\n",
      "484 c4c6fa23c9fa8c8f7ee667fa20fb86ddba54dd49c0aad944a3f8ba8ace8c8189\n",
      "485 fa62afd36d838238b5a8ef45c8950784f7ff45e6874c0629cdf48752081d23e0\n",
      "486 e8b0607beab1fd4484355f6183bb07e5b7bdde562a3e792867b20e72e3b64867\n",
      "487 5a11d209b011e95b61eb52b18d568e469007e3e26fcf0088719fecd6e9663943\n",
      "488 98a8b6986026b5c707467de2e49bec69a71f07317eb543e8a2a789b01b4f2f1d\n",
      "489 d15eeaeb1aeae5740822a951f385b3877395492d79e5e03a8e03b82062744e73\n",
      "490 2d7f6f5be702708c86972c51e130fc40f96ae473483bd024ef6322d36ac517d9\n",
      "491 4404465a974c7d6b000ec97879bd12e55d6fb2a3685e55b4abf710c7425de387\n",
      "492 179e3b857a8208e8ba467f8d2884b6f152df6b3bf8b521164748d9fcc92cba29\n",
      "493 d63c417115c0fd067270487c41edb1d2dbd804719b324c93611190c23a39a435\n",
      "494 57ba06cbe9ba83f98a9effbe3fd568aecf11e1e9d0f178a15cd7292ee6379b45\n",
      "495 92b206bb4446d788878c4fa386f517e17c35fdcbc8d2fad841bdd4c0a6eceafb\n",
      "496 4f269a7abcb693f554ed5958f385d8d148680b1d0b552a6c1e08fa3817d18ed2\n",
      "497 daec98d8c00ff86b1fe4655facbfa0a3429dfa3a07828ab54c5c2eae33af5487\n",
      "498 4e431d280085985aae2499b962ce6d926b579fa8de47b07727a9b426c0aa4e51\n",
      "499 ad74d3e42f28b7ed09fce757d7033e9b24c13529dcab52efe06a7e31fe67c5c6\n",
      "500 a68d87cad18bf9ece9bc25c6624a992feddb48d6ce1ab536125edcd84f18ce32\n",
      "501 74befe45db2f086bf6b6133bc2b6a19c86435573060a47f031bc3a3505911aba\n",
      "502 e340e41bd7e30094b36206d372c175dd47b6778c08917108dbe23fe3b120caf7\n",
      "503 f67f1664ede379e514672e26021ae18587ea79d18e12897d3d096eceadcc15c1\n",
      "504 e771c9105375178594d985714874b967a9b55adee7b7f9637d54c2c760c4cfcb\n",
      "505 52c97cd4e012b5ccf5e09620524ca6b43ec8ac697b56f5ff9419b9ac672ee2e6\n",
      "506 6b1e0c32a3cf238f3dfa0fc38be3d8d8111874e2d5d1415c8a38c608b202781e\n",
      "507 296667af4da586954687738505f96601a2591c123fb54180e3b1f4d6b3c965fe\n",
      "508 3624cf36df531a643768afbf3cde65b6e22ce4bfa6c01265812152dae6234966\n",
      "509 da18f8327445508ef54412da21f185d407daff617121c8d708a8bb0df2302ea2\n",
      "510 ed0e2cde046cbdfd1e82c0e7a09f488c2c775d32a9a4696dcd2e2cd177956492\n",
      "511 ab0236cbf9b8bd5576740bd1a212adcd0a84f519f38ab7d9dc142f745acf3058\n",
      "512 3184fff60d5f958aab9d0bc53c8747676d468420e88392a2193d58ab86333ea5\n",
      "513 a79d431d504764de04faf076132d6c6ac2466494a26b9952de8d2d5a6a3b4951\n",
      "514 95e4362cdae2d5b7c9bb430654063dc855110c10dd8f79b67dfb8d86e841a680\n",
      "515 b47ce08ec1e1456a2db3632a82486ecb5cb1f330d1d776a811193448eefddee9\n",
      "516 342e830a8b05ccb6fd33eaf2b6113ae064f06ca0119f69dc3637f0204516741e\n",
      "517 55b0b3081eb43dff8f2d292ca6ea1fbbdc12dbfd519764f6559761343aa08262\n",
      "518 12cd91d7047b69c6a69cb93f3c0f0039f1580b5424f057420697d42fac95f923\n",
      "519 5ba5c985eed5cb8440a5b854aff96a83b83ebd5f5452d6ebe7c6622495dfee31\n",
      "520 7a4934aa3e02d6c8bc1c1f782f85357aadce4855e43742a49d0a0c324c69b27e\n",
      "521 292446034be90e365a30b059d65f9fa60990f839ae5d9aa5155e27fb9906f52b\n",
      "522 317b6a3d112ff796428bacf34ff495d66b8f7dece7947f7639586ae073c764fe\n",
      "523 6caa46f074408f800dd0f5f617072e1265336afbd7f4171c6ea0372f0c2a09a8\n",
      "524 802bff112a3313b3334b2447632cc93e4542aa093872b946a8c7faf009a0b1b0\n",
      "525 63d83ece83e5355146f587b83ba04e4f6045b6edef06f740646dbd9f20a521ea\n",
      "526 48227d67bdb54d4bd20fcabd31705363ef1807ec3133dafee29ec26819fb2181\n",
      "527 924cbda54644050f890a37e2044efd9e4aec0cf2a928721c1d43487c210f680e\n",
      "528 657f85e86f64fd5619244a5fbfd23fb9da2ff7040338aed91e76b4182d9e66eb\n",
      "529 b648234472ed54e7e75e4f276b3278660af6daf183f4d369083cf7600d9b3933\n",
      "530 5214df141dc436940de64cd9840d154557bd3f26a8ddcbca19a9dea64b341afd\n",
      "531 cfeba083f0f6c2420a5cf113a9843e67f520b1b922c8428dd1ac123a8a235052\n",
      "532 8f88544e6241fdd3726ff7c5e206b803bc280f381f97cf11a471efb5cefb0631\n",
      "533 3a14b1b5db38683ab5a30ed303fa8224b33ed280ee608f481420acd809554e28\n",
      "534 71f2850f7fb6e698a1baf60055d4d6e66cbd339b2a8ab4c5519fc73eb17b7be0\n",
      "535 9f58cf87c77a9d80bffd36377f3b9ea277ce3095a161f48236da46f069b22ed7\n",
      "536 45aaa06ce4ee307fd65050c475556b552c0368a77eb9241109754e942f30b1c1\n",
      "537 55c905c8866be103a09cac32eb7b5625bd44e89aaccf8fee541215347e0ea09c\n",
      "538 1c978b45c4b3f47e88275148848c8368c7d1672c86f75c348b697a82a5938d9c\n",
      "539 1bc572d331a8fc27f07e3a515932c6b09dcf308d27453d98259351a1eb101c88\n",
      "540 b06c1971fad527e926a86fa714641383fc2cd3c3fe24ffdb0335204336eabd94\n",
      "541 d4f976ac20455eb07686dd0e59694a0128e8bfaddcae07ef47254971000e0ce6\n",
      "542 2545bd88177c01148aeeaa3e21e457e7df17d4c5deae0f102f9207c428dc1bd3\n",
      "543 a16dc179beb1e4ba43ac27f7c41b2f71117ebf59e80d5803e08c91bd5083c7c4\n",
      "544 52cf799b6d4dead500b22549bfa51a6cc115db2413bbfc44f6f7b0614f7c7c0b\n",
      "545 510c668e4ac07bd614a2bef535a2f60f05d871133b1373f49d1041c1e2dd0e13\n",
      "546 5089f3046245e52014978a638d16a535e0edbf380c846edc4c1c451f5ee0f0d1\n",
      "547 54e7207cd25010bf2471f134bbe182c349d9e082cc3a2bd62e3e270f21cff994\n",
      "548 2168efd1364cdc6c9c632e26d7de31c041d53c38ad2d9b862c7f4fa280259fa2\n",
      "549 4500576789d26a26457a781e19eda78bbd75ff11002ab262065eb091c48d8561\n",
      "550 2f112c92ca566dd95a2f3f206954a8a6c2f3901770d7e491930ebda5094498c1\n",
      "551 188b7a7a6f04884943ccd1e1971c5135297610395b4579e58f8ae95b8eff5622\n",
      "552 4c1047874880f8f948ef377fadbc44fc14c1c1dfa997ee97dc89a5013a7bb973\n",
      "553 5c186e447bed69355d055ab5aa2540d8c228addf404956c0986fed14e2d58829\n",
      "554 09afde848086fc2ed87117f04478bfc6fb77ac73aacea394d0c427b52a74ca65\n",
      "555 cb35d5a7731cc4fb25c57fe07210c758ed9fbb6439d72096410a7ffea89ddbe6\n",
      "556 47515ed27a1c3d780bedc41c395edd97119942fc7f689f346c1551c13d79a022\n",
      "557 b417c345304d75a0dcc46d794550a26e287b4a238152f5979978deeeb6074958\n",
      "558 171386eeef0091db67f69ee2eba4eb79b447f516d9f775a1f1e2ec699ab39366\n",
      "559 01a581e680a2ec3815c512d2945740de8dab818ce87de933ad89be621741e0ea\n",
      "560 86e295343ea179fc0932b3192d7cabea28117062f191506181abb691fae8332e\n",
      "561 442be09431e2de3f07af85a01ecafa9635e98571f34891467ef2d74072d8f986\n",
      "562 33e7f6ce6f9f484adff464329e46a029ab47f9d2ae2b93c7741e72920d978a20\n",
      "563 6c83c060f3b03df1e0d41b642ba10e4f4ca0ceae258d92edfcf2758313fa7e96\n",
      "564 d86e51277dcec2b14b4297311a0b7e4c0142ab78e5b7c30e2f93f067a25e44fc\n",
      "565 f4f879a1ab3d758e128e7773da232a648ada6dddceb06e0d7e5c74c27658c7c1\n",
      "566 6e70625382617a19b1b6524bf4d853eab84db92de4a294e9b3922286a404fa37\n",
      "567 9ae5abdff6c492398b4e6d3feb9f546bb8bb5f12d27bdb7cc6653cdefdbccc14\n",
      "568 a9fc2926d3842fe7dfbdf802bd1ea9a8581ce24e80d75571e18c9f7fac63bde3\n",
      "569 855a4357bb75a3d16b589d881484ebf44a42cef406aace38d0b767f927870a4c\n",
      "570 cd9a6508ae947eef1c70daaaca1f799f171601008e90987cf64d7f333ec0d032\n",
      "571 6069d4a848cab9cef3f3bb0b01f06b0d15c9b2b56b499b35532d6f949a0513bd\n",
      "572 18fc4731240f2007c18705a90e5754ae3e961fc239200e3733b79403accaa3f2\n",
      "573 c0ef24e9572f4cee918df25854f7cedb2c9ec9aa8fc8254a42256ff256f6e3fa\n",
      "574 b61d42c2ddc4807151a6b185012ffc237fe676486cd8f4e0465dc475fdb3e62c\n",
      "575 d9234d28d28f34bbf8e181935f163f51fef02d05d09c131bf3bf5a78e283bb21\n",
      "576 dd7c11ebbb43a31a93af1d080161d536a7a2235fa060dce0e0d70fb19f6cf7da\n",
      "577 6584c9e02b4856bc0c276c0fa5352cea9324d5a7c9d50563396b8008d6d7dc59\n",
      "578 3e7e57cef29133e4b07d4b49acf0a2a8f99714e14e821d3bce9a2929162ec26f\n",
      "579 52a87c2f32b4973022d8b69ce52c3fd82a22e4f3fae00e96182831d4bfcedd67\n",
      "580 0a324467b0648df443bc415c4fa559ed032767b632de38b1de600cc2383e8259\n",
      "581 b887955afa483de5481e0445e28c249e084653400bc8549ebab4c5c87e62a2c0\n",
      "582 802c2499376617b5114c12094b04ff1f96f0872faa0e250c100e260924c3c8e2\n",
      "583 4601af83763f8557aa549cb992f7b46df1e91ba63800fd8cb792557a6e947372\n",
      "584 46e9f93ac0865c4a46303f769898b2a7e1b7c8f5bfd9968a51af517d9a71273d\n",
      "585 f5e16a240c5a25fbd1d0fab6e5b99d3ff0e969763a3035871ed060b577f3d06e\n",
      "586 25c1f94b0f795ab7a846b45c5b25b74f9310978eccd319a675632189895da582\n",
      "587 87ee75c69ed9ce32549cc7140d6130c030ae96fe15f34f70a06e4b4caab10eaa\n",
      "588 e0117b1f1951ffabfcf169419d3c0894686300932b14c9e414a1719fd04fe0ab\n",
      "589 fd76e19557f5e234efb93ff651033489100dc794b04793117d29ac16ff46c199\n",
      "590 e62760e9a10f505041fe613532ea9f240d37933ca0eb370d5b78250bd44236e6\n",
      "591 6c47c90fc2ae567196e7bc43f44d7b03096602e51b655d0e39deb0c7ced2129f\n",
      "592 eb18558aaf1cd767b3ab0f9bc175425a8e8cad97683d9db289e9ef2a5a442fcb\n",
      "593 9d62038c8c939753a7625f97b510a5b28972506a58c2ec6d6761eeaddb0126ed\n",
      "594 b7eda5b2f4ac8f5ecdaa2db9a06a2d4c2e7f52e23985448bdfc8e15090e7e4af\n",
      "595 f5f5daa27af869d978f283b98581c938b23057980f14fcd8938c9fe94bf28fd1\n",
      "596 d5dfd50f3bcd03a366c19c6e12a9f6f65f7c104f0de2ecbbdbd4509658b5ab04\n",
      "597 218b5688bd951e6729464fa7b5d98519de8da00e2726ef6e65b5bfdcb50feb63\n",
      "598 d644f686df6df5c11005b4a87c254d453ffdd0c96695d07bdc98d879eb53b907\n",
      "599 43e0f7c12301d697b8fadab19d74535d932d1640cd10ea8c77edba452e3169c9\n",
      "600 08217e64f9fe7a355cb678f05530df29067329651ddb04b60d4fc3db5bed6b93\n",
      "601 154b58aa3d2e5a0cd91214939e3ef55c087744d18fc90ba39581c2aa02e73d31\n",
      "602 acf297e7ed606581209dbec2c7e90436f4efa262d24649b11c3b573b79aae3df\n",
      "603 3246e659ed34d898e1c6b8f3d8a0591fd33ee489949a874fbe40d8443d5a84f0\n",
      "604 d41c81979481fde1ba79cf223c26c4399794ab5a87074e49120a7d12ba6e6041\n",
      "605 1e6686f896a16c46860665ca67612b453bb7a1d9edc1ed6e849a8be0d6efc1f5\n",
      "606 7b5241e7d19069b4469108aa273079d5f3cde6ddf08dcad6789204ae25921b5c\n",
      "607 61bab89d7520bb56c0caff3b2240f1a8f993658d550ac85095631ab37950effb\n",
      "608 9a8fdd8e2a3caa7ebd4ea8470a899e87a7387602800e1904ac08ffb8554b8bf1\n",
      "609 78188b440761fe93849fa26f07f63fde0070ef358665062d907f00dce37e99b6\n",
      "610 f6f7c03aeacd5563de477f45df6a850f21e61a32cce8746bde36df1e72be7fb0\n",
      "611 c6be492634563fe5f1c74e0a3687b74ac2e44aaa71afaf45471bbc90b21120c3\n",
      "612 b6293d3e6d66850cf380f0472c501ced8d783b6610cf9d5f36301ae359447a1c\n",
      "613 557cd75a2eed5e9f25bb266045bd736ffd9bd8e1244c1836a92e9a50a62804f5\n",
      "614 92e7f144c5edfba1d417f1edcc66c399c3f721e3ea26259847ba39e884bce420\n",
      "615 ef8d8ad76d78db319f6abd8cdc7a8f9bfd6a780288541439da421ad1f5a51dd9\n",
      "616 0dfec33320bb1fbf30735b08a1cdf68c4999f107cc1ef10f748ac3e60e8cd78c\n",
      "617 e0ebef367ba859fd9532f53225839c27d1edcfdb8a79766f45d6002778e9e578\n",
      "618 55874ee351f94988dacd6d149915e51b858073df87b6b41613973d21318f1ce2\n",
      "619 fe7da4ad6fb8eb9799c10f4fc7deed646e3e85b1abf6ac357f4eaada9726b646\n",
      "620 f421091b41e038ded9bba900c896c5415e18e287f242d4ce44c97c8fd682866a\n",
      "621 f6de930b4fa9562b7d6efacb6cacc0e4b22fbfda6a9c6427adb1357d60195755\n",
      "622 1804a08d382d17ac9d8407f43a3c8b31829defe51f27456604f35c292e46cc78\n",
      "623 b0f83e478459b3f717903c878787a067ca78492fdd6aa7b8732d2df6bb3739fc\n",
      "624 b62ba883d3f889508874ea40699a659c0a6333458d28b07af43d0649075d957b\n",
      "625 e199ca1d13fae41964e64fa904facb4c12805b0952340a0215c00b5c13737e60\n",
      "626 19e69fd66c1be9113ccb6d5efadcc31741d401d176fd60989b45bb8c1e686a03\n",
      "627 f7735880016128f722cf8555249d2bfa68c278f1b69b743e1b983e827536d218\n",
      "628 57505538413294d42efe167b21c04eed1fe4b2ac89cfa953761ce070f81c959d\n",
      "629 95af51951be7a918d4c0243562f2de4ed6f1771e9efd85be45c99650827619c5\n",
      "630 affa42d7eaf27085d723a6189f2338acab9c6572af22940df202b30e83e49fae\n",
      "631 5b36a389c9b37a902d7190ac6ea58a05e89a7f87417d29f8b00a00a3af8502c4\n",
      "632 e3b766e4050ea98b85b9d47322ece3921a72c2c373d13ba737dcc3a6fc195487\n",
      "633 744c45ac19c63f37c4b69ac88278aa357008bd7a2856a7a8223aa127e4194974\n",
      "634 d6cc67743e9a91a8bbfdb96824756dd82bb9be83150bf2e9ffaeb94744c6871d\n",
      "635 9fa57c958f0eca9d673d226de6f94b47f88f51b4ae8dfb6a29366bff3010d8ef\n",
      "636 ea8cafd3b7ce376a8e06baf3cbcecd59252f30dc9bcb5fec1756c41797f69637\n",
      "637 044ecc21e287f104192f7d5eb24876c5d7561431e5711f3f1c7a94ad63f45c4b\n",
      "638 42638bb30276f4715b96a24ddbafbc7e5656e77ffc2486799c29eca99902bfeb\n",
      "639 e0556f90ca947ef165c1877fd9613626cf5d8e78b742ab1ee7fb0d867d26b154\n",
      "640 ba9968493b57d93ce256c70983a6baa1d09fe4bf30f46969b089f276b05998a0\n",
      "641 2069b345cfdfcd177f073a043dcfb07ffc7a302a076c2f17222f08916fc5dee9\n",
      "642 0e94f47867944ef52f3d0e3b18b1b690f907f8847602d90818902d18adddc3bf\n",
      "643 c4aae491ca687e68a57942760171e2f6d3cf11c3f217c1973e36925135901367\n",
      "644 6c7ec6dd7aa66eddeeacc1952b0b1e0e612d6b2cbaa9e0f18b4d36dcb638c053\n",
      "645 b57084b8aad7602b5016974ad99c1bbc29d09d7cd15e08b2603090ce569e1c44\n",
      "646 0b8ce014c8d5dbd2ef2b2fcce422876b72d04ff22b1f31caae8b1fe7d90514ca\n",
      "647 36041a2dad1296c2a7df8fbfa9379bc903891f7ba19f81ee3c2e8d6b4f7a7ab1\n",
      "648 e9e36e01b91c92a9937531c10fe4e79223387fdb44e216d1c55c5ffa1b27f89d\n",
      "649 fcaae18b8eddf09c067aa4dbfae889b9c5b9c9b8efdf2a3bbcbbb451ff45a30f\n",
      "650 e85199b9a33b69eeafef69dd16f9aca4bfd8400cd131c70596a6f59eaaa33863\n",
      "651 678b7d5726373242664f08e1afbf400392b9710af02a7355f2399637933a50e6\n",
      "652 a2d814f22097c5328ca7cd850541f614b314c6ae41eb3c3d5533824873bfeba4\n",
      "653 abaa8266d6503ea544c8a93018ec09dbcd9192dabecff715995f7bda188e3744\n",
      "654 9814048bafe97a11a97d7973e85412924b27bf18b6f0efb3ccc533a4dc9559ee\n",
      "655 5cba6e91c18536867c2a44a74c957bbdbef68ac0a96c57178b9bd7da41915d58\n",
      "656 528e5c43e50849f3d4bd6e31fab6b21abb0bab9e7973c246793e5984d91f0350\n",
      "657 55fde7206f6cd49b315215f64b23fcab2bb841823e038a44f476bb15fb9c509b\n",
      "658 0abeb5006d545fb0c70e5851512f0dfb3cc92b42f0ffcb88c6bb3cc919bc9746\n",
      "659 af80701be76223d078080210e715ce0ffb996b50766b524b3d827bbebd5ed38c\n",
      "660 1a209d9f4fb43c54ab1dec770b10c893a4a393a66ed23d4d3109c353a13671ab\n",
      "661 d95fd93055b99a2a64eb3aea8bad6f605cfc466cb67e81b1ac37e703c49e8172\n",
      "662 280322bf6e045c28108ab3f31e5794829d1fd76063918c794f8422e4b3427e5e\n",
      "663 aaa86d55e2d8c08c911385821c5ea990c676dd9b0034e4a8df37089e4bcef0be\n",
      "664 4a261f763e91cc4eafb1ec21471edb53dc95ac6dcff01c09735659e65e7ebc27\n",
      "665 2353a058e3a58c832af7533c3e28f0fa1a58b326808061ec93abfd4941d70496\n",
      "666 aec7e76b268a133e4e2162545ad0f3440667980dd197fc1d1889055781b50e91\n",
      "667 d16fc476dd939f4e5d5c5112064f58bc78f3d8f01eb6f8d30c109c60a42bb142\n",
      "668 666a54e2d1753228be9b40f77ca2836c818e8521dfe98a0b165dca0b5251001e\n",
      "669 5e44efdcf3cd2b9823eddd6dba16042cb7c53e9cb6fc1a4c286b67f7bf70996d\n",
      "670 155cf1864c17d26ea6643ddb18573f3835c056ee8eeba07589ddb8c2d5b3f3af\n",
      "671 2e66a8ffeebc513c061c55eafbab2962eda970c2341e7aa34d0889324feff1b7\n",
      "672 49d49e1829145a5361ec2fa59b246a120c77e4eafd2e378090ca30c21278257b\n",
      "673 30c608c011f7426ca10fea028b3400cc80ccdc00d30b1e751c5147e3126bcaf7\n",
      "674 164192652157065021e17a981f7cb47db6bac26defb3d92ea32317160ecf68c4\n",
      "675 0a183d58c5b1390289b2d690c045faf47a27dc573465a8c91637a4d81c23967c\n",
      "676 db20452caaa32de4f0bb0ab3b68842beb95a141839dc297dcb5c974e2274ce45\n",
      "677 5e0091777e7f42825e7932ab22d39d39cebb4ed6594753bc88606574e3c94dee\n",
      "678 c833de3c18edefa4e575d18df02caf993689e3cf439fdae8b8c4812cd0c55a7c\n",
      "679 204d7d458072ee3997580db14fe238a97e41673a08af3fa3fdfd201b9f7d33a6\n",
      "680 db281bbf3a73e6da237a796f998ddf6e109c000b6f87cc473a7e04b91c698757\n",
      "681 9680ced63423cece72d6be9eb73dbe151c4645857e401301b5dc4c82c41ce0b6\n",
      "682 4d8b0b543b61f06356e72fd300980b6d42699353ab7fdbf8a974e4bbc2eaa03a\n",
      "683 7e89a1878f49525c31c0bb03b16c791a6c977ec014ca40c1baa7753a0f7942eb\n",
      "684 915bd54941242d7e1c1b65618fb96d9802312e100c2ceb2e612f42fa44681cab\n",
      "685 01a779518945515e58f0680b18bb4043f35c95310341a991991e7a0fc4cae130\n",
      "686 633b618b46539a8a3c83114371c6cdbe3acea8798098962edbfc6b83231a5dd2\n",
      "687 d8de274cc6c3883304f9a67af2cc63184f3b1ee64e5098f493f4ec877d34bcee\n",
      "688 914cd60e2baa27a7b165f9d0f86d80f63cec06340979fee1b26443db898b63ee\n",
      "689 5e47f2b303be128f039ae4ce17ef264e24c4e8b03efbaa600295a5bf88d3baa3\n",
      "690 97ea86120db4b6448adb677d2a87946da713e83a82829f2125ff86466ec578d4\n",
      "691 8d31b6e12b5bfedcee57777b9c9304d775ed7bb9f2c786ea2c7d553554b4e43c\n",
      "692 e0749b399244e6b1fd451929eca1e37392a688d503c9fdc3f71e5bbc8eb0cf1f\n",
      "693 923e1d37566a1b95a2c58bfcc78835ee824a2044ebb3f1dc3515eabe7b9e4ca5\n",
      "694 685f14776627babade04e7dce4a9fa8c70b8cc4f29466d2cec2976d9884fccd7\n",
      "695 7a400915a0f703dace0a6740833b576645646d4539993d2d4945e26011bcc3c9\n",
      "696 362e159d18464aaa9b82d48c4abb35e14ae01152e9a81ae9152996bcd21ff161\n",
      "697 417eaac8bd3911db57396a7c28d82bb9f3cb0ee0722835ef8cc3f2258e08fd2c\n",
      "698 76b25793e27dd8a34240faf16bb14f9e74fca7445b180327140f77d1bc0f1dd5\n",
      "699 48c68e18ec5b1867a3fc1cd518fc7a6f9cef4487eef424effcbf01ed5213eb1b\n",
      "700 75f54555002749e906380b0ff08f13fab7eee884fde042fdcf542590ae39f3d8\n",
      "701 7bbcb9532c7bfc64099a4007a5891b6711cce505c0d9e2e20569241a165bf641\n",
      "702 bfcf80d755c59995a942677899025b5675cf178ab04c18b01110aa2b892c5cab\n",
      "703 939e4be5a05cc23438ab713ad8269ff31b4c74ba790d4bd0e92eef7f62cc7622\n",
      "704 dc8dc48c892593c4d964412dae418f98ef72fd3512a4ac924c211a6e8234e5b3\n",
      "705 2714f0704994d5b3f7e5d0927ff94a7ddc7ca96c29b2260f926004ef1a1948d8\n",
      "706 3cb955fd75c45dd6b05a7400908ea704ca7e2606b2375949a13ce454c572266e\n",
      "707 fe9b1bbf803c4a1ae65881bc924c972d07f1037c30706db527f24e839823ee1a\n",
      "708 85e5750bfa26aef812edbf0e9e5cc5654004b1dfb42de35166f534d00f8dccc8\n",
      "709 20a1a320c33456f14b04457beda447630df34e6cd1a4473aaf7192758527e78b\n",
      "710 0e94fe0a23db8b19ec3292b6d704b148d8bfd385304d27261af443cc916225a4\n",
      "711 a3aea69950a29002203a16be9930e223a0b8b3762540581168d5891584b25c93\n",
      "712 19d94b9763784076e06c843d64fd01145e37c38854c45a7c116681aadcff9a94\n",
      "713 6ca08f0f8979812fcc4ea64587f87669cfbf1ca675d98e764d4709485e28bdb6\n",
      "714 5e41b33bfa27b6300ed424c6d0db0106a72b4b8bfc6a6e5d0625a4161252a2c3\n",
      "715 0a43cc2755d1f6b04a4f1f2735bde0c979824dbeecc41769bd4919726c2acb8d\n",
      "716 487db2ce01b20a58eefaf121c102ea086779edde2750dff35a1f029fb47ade4d\n",
      "717 1662351e5132ae53d49c60a47088e62fe24b2834718b5dce76999e9ef4f8f449\n",
      "718 301e146c0b9132eb0ed4def454a1d1c25c1e380f32df996327dc3604d2ba0a2a\n",
      "719 8e34b98532ac45d4b0071bab649aba380c4cd48df26ae2b6fb54dcde0311088c\n",
      "720 28fa9950e8c28ee1948513ecd7f656dc470564fa6aa6fb0aa5f854a6b08cb2fd\n",
      "721 4ac4dcacb238e4b69bc4bfd09391f3fe6ebae8eeb154c647d026ca6146e7e818\n",
      "722 0ed6fd292b245c56b9588c9ffc173bce94ef6e41de726d3a811a461c37131653\n",
      "723 11a7bb9025133510f5b1c68680cca5c2daa12d5d5bced755b48ad7e0e23fc77a\n",
      "724 65fef2ed348e92120f1a82fd00e1df5a9efbdee5f0f9b0041238f4af0b5d6c08\n",
      "725 e217c728cb0c0d239dbd34ea4c189b195af8d50a320699a352a65a264e8c87b9\n",
      "726 93a6f020e842c397c04b51046d64beb3b37064499f7ab0e4f5bbbabfc98cf9c8\n",
      "727 68207ff321289357174a3bf447260fe216617142f57f8308f341a4f330250f70\n",
      "728 83783cb0bd3f740ca137bc38511846c756bd571cebac9cd2d7cb77c71bbcb4f7\n",
      "729 38e45d021ae48eb87615cb37347cf4cdd4d912670012c8a96a71dbb539959837\n",
      "730 46b63be9f43fdd0724cc5c9d019e8415744ceb1d1e4ae8524a432d054b469858\n",
      "731 1a7b5f1aeb5720e1d2e3455856aa6516a34cae15d188118b8fece9b0b9f76f0c\n",
      "732 65b99b12d0bd02ebb02eeed8ebeb42b1aa84ecea5450f6e421f48cf2992e157a\n",
      "733 72d9520368f9742f60bc41f7023599272154b571b1fb3814574e3440c94c879b\n",
      "734 ea44eaf1d8ecf1bfef4fe9756b865ce72758d06b94d1d0bc09f9f9bd37a46e2e\n",
      "735 e9713da01808cf1ed2bda9536b2190d69642b1429245ead36854747fccd6805d\n",
      "736 d762b53b3ca6a077a9182562808298ac819de094ad8029d90beadf785050e794\n",
      "737 79fb4eebe4e55aa485382f4537c542598d401c79b32079a9a1b035479c7192eb\n",
      "738 882943640f95ba288df90da9ae69a2d49dffaf322c605264122edb706b540b23\n",
      "739 2a9b084702472edb436e9882456e74f7d905278908b62fed542fa7ffc342ba66\n",
      "740 3924f6f6fcd46c0d8050d7b517f6ec7f99d099d2fc9f97e15613015f22482165\n",
      "741 0823026f244121044bea930c39d351446f90206a34aac9235b27f827c67e4428\n",
      "742 83c95f983a94ce68d1de008eebd122f17ae320b8b2ae91f085574fe9dff0875e\n",
      "743 0ac10ba2c2c9a7a619dcfdba9120963e8abce261f7bc007359c8609647e517dd\n",
      "744 38eb2bbc6ab296873fb4de306e12299849e5b33a00be89e011051ae5124df8d8\n",
      "745 1fbe0047433cea0a4cb72309b383a043fe87bb5ef60863c489881e3a0d423749\n",
      "746 8aa369a4989d9196824465361fe4c8702b6dab47e9e64b84ccc02c5c4e41a351\n",
      "747 b0abd3818200153df512132672cc29477ecc5b1a65a919e34a0f1b152c7b6adb\n",
      "748 b3c1db567d805f5f9d54d19a4ba0b9bad274032a254f94972819576cacd4dda3\n",
      "749 ac6fcbdc4be14266b33a1cc28dc77213c41044969c8de7d5c85a1e158ea8e2c0\n",
      "750 56ac18e29af1d191f261c29c2458520082ad1bdd3c86de6adb0ff2780e3a22f0\n",
      "751 3bdf212ebc9c576214d71cfb2f6eec8f0275be57e45b197ea641ee10241a46ec\n",
      "752 b8bb4ed187f88d70acf22957270363403ade49434f231ae0f6c8a5d50e1775fe\n",
      "753 c4f1130d2acaee51dd2c782a6a067e75def03883e69f6e3a5e1aa8ca1f330ccf\n",
      "754 ce1406b46ad252f515639b7b1c4d6bf958cc8f6f9d5ace67ee5691e86279f07c\n",
      "755 d935879b849f527cda35c926fb38d4c8a77071a0b9ced1dfc37d6be8506881c8\n",
      "756 f8f87347a5be0309bdcadf0c167650060c8428f6c22f5de2eb0ef38e171e7808\n",
      "757 4f1bc0270df1e49cf78ca6f76ece506b1bf8b590642679320df49de631a364eb\n",
      "758 781793ca90c70c3b7bd3b8f65b2eee2840e3da55fd9b39a9233cc6ca3ff60075\n",
      "759 bbbb241f592f24210b29017c7bdcc2d34ef9bd393459dc883b18465628dc1c80\n",
      "760 6298ef332edd22532e2a172fac7d2f986166f8f33d73928b6c18db766d4e3a62\n",
      "761 e7fff2bb077ce32fc006936eca6320265fd561d2d477f2e5dbcc07b2b50c6fd1\n",
      "762 e0d8e9bdf5634635ea157ecce86acb77b682e0afe9598ff081766e0db53e900c\n",
      "763 45389c9e58fabd263e827947e359f6b22784368600004c2091b7785ab5fb0f94\n",
      "764 616fa17d5148471e266c500e3247659068e3ae106db71f1d85a051631e7a61f7\n",
      "765 3115e714daa55cc2318bfedca8dac43b644a22ed0c4a50065d612d49a352a236\n",
      "766 772617e1c1d6bcb81cb5a4ccd354418a6150bee3e0b4ce948bc70fce75826cd4\n",
      "767 a69f68d5e7c58266ecfcf2c84df568e6dea941562834bb1a3045ae894affd980\n",
      "768 443bdfda2813b5d400a2b38a72f05cd2dcdc0c7d66e83d8eb62fe5ef85fbf8d2\n",
      "769 d8b8cfcb276405481ac14798b10417fa951f2fff7a087ab5d269071b76090233\n",
      "770 a78c614b76c3e7a011a29b176852225118e2a356630703fe3f181c8d7111408a\n",
      "771 5496c40868cdd6a7d21384a3ae78413bfef0aace2699990df386778c099e82bd\n",
      "772 508cce7d13e12999d531258b63ab5e567f36bbe2b580c8000d53612949866440\n",
      "773 7f706afbd603209e71f681d29e575d52ddd1eb8d13a961c706ce47ecd23f92b0\n",
      "774 c3b9968f50459947d3fc72b194ec620a9f01dea9835b1dc102d7d7d41624c1e0\n",
      "775 84b97e3ca104c707b068008eea64f004d1153954f52044f5f7ddf7a83d3ff600\n",
      "776 13983e9d86d619746ffc26aaf77fdb64e0cba829bfa643f5f8e4fd6c900c4324\n",
      "777 84f93ee8362010f06fbcead7bf6ff050694fb34acf49624a9acc4cdc90a0ccb1\n",
      "778 b41deaf117f2f42d395b774abf8d7c9a26c8a4a1832575c99daa176763c8c3aa\n",
      "779 b9e8810ca21fc1c8fdba6381f7966fb170d94acdb64150536c5cafebd7ad10ed\n",
      "780 24e5d93d37079a2c1488cc5aa8d2d7680929326fc71aa5ed92a254048da8e2b8\n",
      "781 a3abd97af5c31ef2a9b43b510bf9241b95aab3432b6724115d20cc96c84d624f\n",
      "782 9d012e02d93f6b4a924010a661656a274758ca994860e8118a3e0c80d3723766\n",
      "783 9f78618ce1d57a222f1c43b3e9b6026015484945fe22ec71d73ba221ee241998\n",
      "784 cf025520b2fcd6344f9fd8a23206ce866b1af45b03e9dbeb11c36de279953a13\n",
      "785 2895f45ab4c890394e8fa368b9376f8629f0693beb441d9d8bffffcc58d37cfa\n",
      "786 77c6bdce4bf0d2aeb1862f0dab15654860fb7107432acabd96a8c6a0895ac567\n",
      "787 472be0b5430c238e7c457f06b842e272727662c926f0dce782179c64b8d16b04\n",
      "788 03a376a5c665aa6d67ea907451d4209791fe84ddff63ef81e3c4c732dd1e7fb8\n",
      "789 f2da9b077af65d092e45ae3a87280db53afdc87edf98f7ef96a017812f885d42\n",
      "790 3a0b639f9707f444969bed7dd5ef635b5e797fd009826170d1faff4f23f2c98b\n",
      "791 323cecdf027fa2ee8ee4acd4910be505d8c18cb495ed83051e7b56342bcc8ff2\n",
      "792 d52a38b63df77a80a5cc3719dd349e548b1d3d4fd12e53dcdbc0561df4ad5819\n",
      "793 6663fe1dc2b0821f7ff5a0ab6fbe08d6ed8d85be3ac55e931a95363f22d373c3\n",
      "794 172ed5698f672e62a3c59a7e65b6b725c4b35040e49dac4012f4cd49f592bdc9\n",
      "795 1bc742e9776cfc76bda064a68a497d4dba7faf59239d6180e9905f41e1645582\n",
      "796 d0794b4de432f34d14ec3ae42eaf1c79c7322a50f3edebf62cbb71cf6745cbeb\n",
      "797 4d8926088bd3e84580a4934fe8e92c128d8cd0d2dbe64b51c228f22febf11a68\n",
      "798 5c2b86d73358a170057554e2bb950dfce4599ce1fa2d72f54fdd06d601c3f323\n",
      "799 6f37dbee22390beb3f435eed7d58b0ff47543ba4b91c037769ec14dcaba6e805\n",
      "800 d26ca157a2aefcf91bcf9ad150def8a97ab20196fb622d830e8613e8c9fd55e3\n",
      "801 aa3e9e86c9fbaf3f53e3e70d560ead380ef5db44b65b25ea10f51e40c8192cb9\n",
      "802 903ec7de23a1c2b67ca7ec030feb97ce95362f576ba8a3adc211f6685a2a1039\n",
      "803 95931f5797f6a0d87d038a651e8121e87f677f1bd7c42f64c384c20058ddbd5b\n",
      "804 9597c5f88a5bc032465f8d5764b2ad725dddba44686bba9e9c34246dcda23349\n",
      "805 c0607e3e86388de90a5a156247c6a792bd25a1f648dcffd75c3b9aee53c83254\n",
      "806 ae6419f5ec24c5d3d4a4f97ed9005557df15fecb442cba4a9abb82a576b2c4eb\n",
      "807 95bf1829865747605a49b95455a5f26ef2ea975d72765e42557171a17ff949c2\n",
      "808 1a33dd017411ee2773d63fb10905efd16e38992c83569ed8aa6035b2618975d6\n",
      "809 8abea133c1b9053e7954ac1b285a7c3158b32038fc2423610aceb066c6d00472\n",
      "810 0c8c6cfd9dcefff422142fcf04b3ff0dd6750df8c13fb92cd6ade81e9ad809b3\n",
      "811 9f6146cb58c61b71ede37f9f03f60e50e061cae52fdfbb1ef0dc2c24d39dd84d\n",
      "812 86ef44bc5f1c7c2807d86f5693bb2435bf079c90ec6aa2203b2dfd08076c70de\n",
      "813 9061c45108b3355a12e18f2e819c674dcd5c21269e02c71f3f90566fcb166656\n",
      "814 6b0fabd4aaff591659adcc33d5ce5371e1de9f4e61766af77b9f6770107f0842\n",
      "815 e07024146b658ea85ce303582234ba9dab9f8d368e3d84c8053d4ecd2807e95b\n",
      "816 5d9b27ae392b7c1b6b55fe941ef15461ce24008db39931e62ca997a5cd500be8\n",
      "817 c8817479533d07bd5a351c648a25b0abecf5fa24f0570a0d872533a22ecea313\n",
      "818 ff70894bfe27519dca9aec41be35a598c026e53268c289151ca0572b5bd061ff\n",
      "819 be93d1794a5bb45ce78ddd65c3e62d9166c14d76cb7b33010d0f10217d220273\n",
      "820 bc32a42e666e979332a58d8ff71f657bafca6a6204a390e69799ee9d694c0c8a\n",
      "821 a24b41ba66489a15b67df1fac859ab56c7c0f4b069b20c16988857a12fa85c05\n",
      "822 6085981e59af73555838025caeae38d70c66dfb1717c49c6bcd67e909d4ff11e\n",
      "823 5c39457a838330b37688c9a79f8c8d6b038c6189e2db61fca56af8bf59345436\n",
      "824 a9cc102d092bc466555514d6ed62b8a524374e6adf174b4bf6fc367bc9bb058c\n",
      "825 1db764f656525241814542b6c9157c1af522cadd495451cbf2566410b2efbd75\n",
      "826 9b2ec9ad1c4c9d305f5472e73e222f868c27b6b13b93edace9495f8fb69eeeb9\n",
      "827 929885f105ca54ceaa1bb7883b6906d13fa714265749210d404475390fc978a3\n",
      "828 8fe1c438a7a21e9a7e4ff7630a2b4a4649046ce52aaa408aa790ba123b4e694c\n",
      "829 3f1554493c7eb05e7dda9b2590c18435800b0f6bb4e42daa4bb8ee0da21bdcc5\n",
      "830 e287f86e4559fb11d5b4aa65cda543c01abe8b1fd1b1acb676600928e0f0fda2\n",
      "831 6077d58feb55eca5f76ab44cd474438b4abbf2b672bf638d2d9f248f9b10a7a0\n",
      "832 d4c50533732536aae497f1ad425c1656107c71a229a81912e4abe11e4fee3870\n",
      "833 0feccb18737b61dd99782048e3529e6234196f262e345ede27aaf8d683076904\n",
      "834 f6ba556ce1fd3ed30989de46cae7bc08646378f469f8b71816b1f8f29ede1fb4\n",
      "835 9977ba8c0302fb43b36f044912714267bc76cf6e5d3177458c0eee8cd34bf1cc\n",
      "836 0c1428ae3eaf3a81cbe46df9cd87bf3345b212c355cb839a694296a0460ef992\n",
      "837 0fd9af154c63b37a5af4f3323628a48ce50bc06160855e7afbdf75cae1a9d361\n",
      "838 9e06bb407ff958845d26b1204a65110caed27ed87fef30b4d2451e4154ed67d2\n",
      "839 c85cc61b8536cefb40b3072029309e685eba544f3b65a68f39484280a6019f8f\n",
      "840 8ad97762c938c3e5d3e87e157ef0bb62342147b440b1be892d50b2a00ac67ae9\n",
      "841 43e35ab53d6a7146cf75e5ecf8b49281348d69adaef0f894909913e344fb0c1d\n",
      "842 1f503363f7cd3e730098696964f9d264458fd1858f47b2fd335299e47a5eb99b\n",
      "843 0d414afdad5511b47de3aabf67ad276f755e8f91c790be62f26c082e0e330e99\n",
      "844 4bfb4249c534a3c20498f0f1a22717620458d6a1a31cdc06bb625a20d2acbfd1\n",
      "845 54611f56acfbc87515eedccf82ea11c52332565f6b2949fe58c01143c7028a2c\n",
      "846 e0f197ae978fcd7a064c1339f3d20141db7e55ff0bc415c696985af91088e947\n",
      "847 4e5838679df00c815e44d39d21c8e3f9b41372a78d0a4921e705da24f61b9d79\n",
      "848 ea379da98bf24631eb11deff84db90dd89a4cfbe6afc8f6d6c42df86dcd68e4e\n",
      "849 b37a75c40d8813d9af1373ba490aff38fd0df3a2ad8db35722397ca1852a8436\n",
      "850 8759e64858e06f0bc6728aa2423ba31c2c0de1ca8af43ae8416a061bbe9fd08b\n",
      "851 8581ac4756c970f40c4df7af8080424eea154f14079359e9de3badeac27433a1\n",
      "852 f2c35b4c11da2dfbf492a21fa20313b4fe01fca8ab2571c0fc3d2bb3ebc5c827\n",
      "853 6203fe5b11626e892ace6ab6026efd319a018e1654834f453c3e05b38a9f549e\n",
      "854 7645dea02ff04e90d54b8fae75bf2c81611e92564141cbb8b55b7878860aaeb3\n",
      "855 a3852dc4afadee5adfb169ae9b2b138ba580e844992242bcda9af19564a969f1\n",
      "856 84551061197611563e110cc26008462c034b74e031129d0c41bc6692a3dd8508\n",
      "857 c0350bfa82665b84165cab4ce3e8ca68ae398d7e62c227b496e7a2fec70fb176\n",
      "858 a1a0408f80e9dcd7c8dbe02c0fde01fc4009bbbede74f495752cc32619a4ab8b\n",
      "859 51db51416a8fb72a21d083acb975b70974b5e545d1e1af892794ea745d0719f9\n",
      "860 db8957b7fcbfd8706ceb513ebdcbf37b3f10a72338f39421e65331246365121e\n",
      "861 fdbf5d6ea30b0dc12473f599cadc63bd25bef56fdc2058c202c38942ac2ade5f\n",
      "862 aeaa58fc2f49aac68e088bdc657d6a39f5ffa38553849f2692751d52e78a69ff\n",
      "863 608cbcf3a1c794cd17c4156aaac07d244e2f5226f8d2c80bffdb48b857ab0782\n",
      "864 f83cbf5b84a64baad3605c91fbb5424905958c16af486b4abc1fd4ef2fc301ca\n",
      "865 a2188c181bda69c1c123c95625865b7f9cd9cfcabd3ae71d6285403bc4c04acb\n",
      "866 65638db38109bb7fa4369f5df6c9deab303500bfd8812c88e42fe5be4c0bfa56\n",
      "867 e34bfcfb2e710bf4702b0290c2e879959f2452435b7dd5aa7b95c1eff200ed51\n",
      "868 34b6734d79d53491d461eaf504ab4f9427fef698e6ee6eeda7eb1ad7df59e465\n",
      "869 65c083d25e204282e17993a36bd2bd5a8a53420f9e4d5fed109dc691c4344d43\n",
      "870 90e0e9fe66ce868b88597112bf3dade715984eb99a30d5e11602977bb40b9430\n",
      "871 a374ff7ff60ef0c6397a007cd5bcdecd3eb7921f8d93e60610c6b7686860e27f\n",
      "872 549565cffd4db15c0c61f46cbf5c4b431b8fa3fae93fe624b8bbff91b8b46957\n",
      "873 d5ae5a393a4fcf1656321fd12f8a1d5fc88fbf992046839886ea36e1f418a072\n",
      "874 00314755c57771ab2d794ae395936ff3ab5f1317c3917e4ab77ab54aedaa08a5\n"
     ]
    }
   ],
   "source": [
    "## 난이도가 높은 채굴\n",
    "start_nonce = nonce\n",
    "i = 0\n",
    "while True:\n",
    "    nounce_candidate =  hashlib.sha256(str(start_nounce * i).encode()).hexdigest()\n",
    "    print(i,nounce_candidate)\n",
    "    if nounce_candidate[0:2] == '00':\n",
    "        nounce = nounce_candidate\n",
    "        break\n",
    "    i += 1"
   ]
  },
  {
   "cell_type": "code",
   "execution_count": 149,
   "metadata": {},
   "outputs": [
    {
     "name": "stdout",
     "output_type": "stream",
     "text": [
      "a1aa13b299895d8b6790c6ca05d8e3e15c1fad919e70553983535ed94b671881\n"
     ]
    }
   ],
   "source": [
    "## 두번쨰 블록 생성\n",
    "block_2 = {'INDEX':1,\n",
    "            '판매자' : '김민수',\n",
    "            '구매자' : '김영수',\n",
    "            '개수' : '3개',\n",
    "            '시간' : '2022년 5월 12일 13시 25분 16초',\n",
    "                \"previous_hash\" : hash_data,\n",
    "           'nounce' : nounce\n",
    "              }\n",
    "\n",
    "hash_data = hashlib.sha256(str(block_1).encode()).hexdigest()\n",
    "print(hash_data)"
   ]
  },
  {
   "cell_type": "code",
   "execution_count": 153,
   "metadata": {},
   "outputs": [],
   "source": [
    "## 난이도가 오른 세번째 채굴\n",
    "start_nounce = nounce\n",
    "i = 0\n",
    "while True:\n",
    "    nounce_candidate =  hashlib.sha256(str(start_nounce * i).encode()).hexdigest()\n",
    "    print(i,nounce_candidate)\n",
    "    ## 앞 3개가 모두 0이어야함!!!\n",
    "    if nounce_candidate[0:3] == '000':\n",
    "        nounce = nounce_candidate\n",
    "        break\n",
    "    i += 1"
   ]
  },
  {
   "cell_type": "markdown",
   "metadata": {},
   "source": [
    "## 이더리움과 NFT"
   ]
  },
  {
   "cell_type": "code",
   "execution_count": 101,
   "metadata": {},
   "outputs": [
    {
     "name": "stdout",
     "output_type": "stream",
     "text": [
      "a97da2ba4aad9cd3458554f6f36e14762ff2c540cc5885a87aecf7a9cb0791c0\n"
     ]
    }
   ],
   "source": [
    "import hashlib\n",
    "\n",
    "genesis_block =   {'INDEX':0,\n",
    "                    \"previous_hash\" : hash_data,\n",
    "                    '판매자' : '파공블',\n",
    "                    '구매자' : '김민수',\n",
    "                    '개수' : '3개',\n",
    "                    '시간' : '2022년 5월 11일 16시 25분 16초',\n",
    "                    'SMART CONTRACT' : { '파일명':    'first_transaction.jpg',\n",
    "                                   '파일소개':  '첫 거래내역',\n",
    "                                   '파일데이터' : 'ASDFN8190u9w38fdd98982fdd (이미지정보)'} ,\n",
    "                    'previous_block' : None\n",
    "                  }\n",
    "hash_data = hashlib.sha256(str(genesis_block).encode()).hexdigest()\n",
    "print(hash_data)"
   ]
  },
  {
   "cell_type": "code",
   "execution_count": 102,
   "metadata": {},
   "outputs": [
    {
     "name": "stdout",
     "output_type": "stream",
     "text": [
      "a1aa13b299895d8b6790c6ca05d8e3e15c1fad919e70553983535ed94b671881\n"
     ]
    }
   ],
   "source": [
    "block_2 = {'INDEX':1,\n",
    "            \"previous_hash\" : hash_data,\n",
    "            '판매자' : '김민수',\n",
    "            '구매자' : '김영수',\n",
    "            '개수' : '3개',\n",
    "            '시간' : '2022년 5월 12일 13시 25분 16초',\n",
    "           'SMART CONTRACT' : { '파일명':    '민수영수.jpg',\n",
    "               '파일소개':  '민수와영수가 함께찍은 사진',\n",
    "               '파일데이터' : '157190u9w38fdd98982fdd (이미지정보)'} ,\n",
    "               \n",
    "              }\n",
    "\n",
    "hash_data = hashlib.sha256(str(block_1).encode()).hexdigest()\n",
    "print(hash_data)"
   ]
  },
  {
   "cell_type": "code",
   "execution_count": 103,
   "metadata": {},
   "outputs": [
    {
     "name": "stdout",
     "output_type": "stream",
     "text": [
      "0537d91e4eefe266459d3fe9030c2e4b8ca5c4c93da8e9d4dd83d4784fec742a\n"
     ]
    }
   ],
   "source": [
    "block_3 = {'INDEX':3,\n",
    "           \"previous_hash\" : hash_data,\n",
    "            '판매자' : '김영수',\n",
    "            '구매자' : '박명수',\n",
    "            '개수' : '3개',\n",
    "            '시간' : '2022년 5월 13일 16시 25분 16초',\n",
    "            'SMART CONTRACT' : { '파일명':    '영수와명수의동영상.mp4',\n",
    "               '파일소개':  '영수와명수의 인수인계영상',\n",
    "               '파일데이터' : '157190u9w38fdd98982fdd (영상정보)'} ,\n",
    "                \n",
    "              }\n",
    "\n",
    "hash_data = hashlib.sha256(str(block_3).encode()).hexdigest()\n",
    "print(hash_data)\n"
   ]
  },
  {
   "cell_type": "markdown",
   "metadata": {},
   "source": [
    "## defi랑 DAO도 있다\n",
    "#### 예시일뿐 실제로는 더욱 복잡한 내용이 숨어져있습니다!!"
   ]
  },
  {
   "cell_type": "code",
   "execution_count": 107,
   "metadata": {},
   "outputs": [
    {
     "name": "stdout",
     "output_type": "stream",
     "text": [
      "0537d91e4eefe266459d3fe9030c2e4b8ca5c4c93da8e9d4dd83d4784fec742a\n"
     ]
    }
   ],
   "source": [
    "## DEFI\n",
    "block_4 = {'INDEX':4,\n",
    "            '판매자' : '김영수',\n",
    "            '구매자' : '파공블 Defi',\n",
    "            '개수' : '3000개',\n",
    "            '시간' : '2022년 5월 18일 16시 25분 16초',\n",
    "            'SMART CONTRACT' : 'code 내용을 여기에 심어서 작동되도록 설정 - int a int b a+b for i in range(a+n)' ,\n",
    "             \"previous_hash\" : hash_data              }\n",
    "\n",
    "hash_data = hashlib.sha256(str(block_3).encode()).hexdigest()\n",
    "print(hash_data)\n"
   ]
  },
  {
   "cell_type": "code",
   "execution_count": 108,
   "metadata": {},
   "outputs": [
    {
     "name": "stdout",
     "output_type": "stream",
     "text": [
      "0537d91e4eefe266459d3fe9030c2e4b8ca5c4c93da8e9d4dd83d4784fec742a\n"
     ]
    }
   ],
   "source": [
    "## DAO\n",
    "block_4 = {'INDEX':4,\n",
    "            '판매자' : '김영수',\n",
    "            '구매자' : '파공블DAO',\n",
    "            '개수' : '3000개',\n",
    "            '시간' : '2022년 5월 18일 16시 25분 16초',\n",
    "            'SMART CONTRACT' : { '조직명':    '파공블',\n",
    "                           '조직운영룰':  {'1': '회장은 홍길동으로 한다', '2':'본사는 서울시 종로구이다'},\n",
    "                           '조직의결권' : 'DAO코인을 가진사람은 DAO코인 개수에 따라 의결권을 갖는다'\n",
    "                     \n",
    "                         } ,\n",
    "             \"previous_hash\" : hash_data\n",
    "              }\n",
    "\n",
    "hash_data = hashlib.sha256(str(block_3).encode()).hexdigest()\n",
    "print(hash_data)\n"
   ]
  },
  {
   "cell_type": "code",
   "execution_count": null,
   "metadata": {},
   "outputs": [],
   "source": []
  }
 ],
 "metadata": {
  "kernelspec": {
   "display_name": "Python 3",
   "language": "python",
   "name": "python3"
  },
  "language_info": {
   "codemirror_mode": {
    "name": "ipython",
    "version": 3
   },
   "file_extension": ".py",
   "mimetype": "text/x-python",
   "name": "python",
   "nbconvert_exporter": "python",
   "pygments_lexer": "ipython3",
   "version": "3.8.8"
  }
 },
 "nbformat": 4,
 "nbformat_minor": 2
}
