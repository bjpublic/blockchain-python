{
 "cells": [
  {
   "cell_type": "code",
   "execution_count": null,
   "id": "94b7bec1",
   "metadata": {},
   "outputs": [],
   "source": [
    "## 미리 알려줄 것!! python의 exec 용법!"
   ]
  },
  {
   "cell_type": "code",
   "execution_count": 1,
   "id": "e4397b59",
   "metadata": {},
   "outputs": [],
   "source": [
    "import requests\n",
    "import json\n",
    "import pandas as pd\n",
    "import hashlib # hash 함수용 sha256 사용할 라이브러리|\n",
    "import random"
   ]
  },
  {
   "cell_type": "markdown",
   "id": "4a2c3864",
   "metadata": {},
   "source": [
    "## 노드의 블록 정보 확인"
   ]
  },
  {
   "cell_type": "code",
   "execution_count": 3,
   "id": "26d585ba",
   "metadata": {},
   "outputs": [
    {
     "data": {
      "text/plain": [
       "{'chain': [{'index': 1,\n",
       "   'nonce': 100,\n",
       "   'previous_hash': 1,\n",
       "   'timestamp': 1673518970.3987138,\n",
       "   'transactions': []}],\n",
       " 'length': 1}"
      ]
     },
     "execution_count": 3,
     "metadata": {},
     "output_type": "execute_result"
    }
   ],
   "source": [
    "headers = {'Content-Type' : 'application/json; charset=utf-8'}\n",
    "res = requests.get(\"http://localhost:5000/chain\", headers=headers)\n",
    "json.loads(res.content)"
   ]
  },
  {
   "cell_type": "markdown",
   "id": "22f62fb1",
   "metadata": {},
   "source": [
    "## transaction 입력하기"
   ]
  },
  {
   "cell_type": "code",
   "execution_count": 4,
   "id": "fe3958ef",
   "metadata": {},
   "outputs": [
    {
     "data": {
      "text/plain": [
       "b'{\"message\":\"Transaction will be added to Block {2}\"}\\n'"
      ]
     },
     "execution_count": 4,
     "metadata": {},
     "output_type": "execute_result"
    }
   ],
   "source": [
    "headers = {'Content-Type' : 'application/json; charset=utf-8'}\n",
    "data = {\n",
    "        \"sender\": \"test_from\",\n",
    "        \"recipient\": \"smart_contract\",\n",
    "        \"amount\": 0,\n",
    "        \"smart_contract\": {\"contract_address\":\"myaddress\",\n",
    "                           \"contract_code\":\"print('hello smart contract')\"}\n",
    "}\n",
    "requests.post(\"http://localhost:5000/transactions/new\", headers=headers, data=json.dumps(data)).content"
   ]
  },
  {
   "cell_type": "markdown",
   "id": "8ffed183",
   "metadata": {},
   "source": [
    "## 노드의 블록정보 확인 - 2"
   ]
  },
  {
   "cell_type": "code",
   "execution_count": 5,
   "id": "cd862740",
   "metadata": {},
   "outputs": [
    {
     "data": {
      "text/plain": [
       "{'chain': [{'index': 1,\n",
       "   'nonce': 100,\n",
       "   'previous_hash': 1,\n",
       "   'timestamp': 1673518970.3987138,\n",
       "   'transactions': []}],\n",
       " 'length': 1}"
      ]
     },
     "execution_count": 5,
     "metadata": {},
     "output_type": "execute_result"
    }
   ],
   "source": [
    "headers = {'Content-Type' : 'application/json; charset=utf-8'}\n",
    "res = requests.get(\"http://localhost:5000/chain\", headers=headers)\n",
    "json.loads(res.content)"
   ]
  },
  {
   "cell_type": "markdown",
   "id": "de078099",
   "metadata": {},
   "source": [
    "##  채굴하기 - 1"
   ]
  },
  {
   "cell_type": "code",
   "execution_count": 6,
   "id": "ca6e8f84",
   "metadata": {},
   "outputs": [
    {
     "name": "stdout",
     "output_type": "stream",
     "text": [
      "<Response [200]>\n"
     ]
    }
   ],
   "source": [
    "headers = {'Content-Type' : 'application/json; charset=utf-8'}\n",
    "res = requests.get(\"http://localhost:5000/mine\")\n",
    "print(res)"
   ]
  },
  {
   "cell_type": "markdown",
   "id": "a8f956fe",
   "metadata": {},
   "source": [
    "## 노드의 블록정보 확인 - 3"
   ]
  },
  {
   "cell_type": "code",
   "execution_count": 7,
   "id": "17f93c4a",
   "metadata": {},
   "outputs": [
    {
     "data": {
      "text/plain": [
       "{'chain': [{'index': 1,\n",
       "   'nonce': 100,\n",
       "   'previous_hash': 1,\n",
       "   'timestamp': 1673518970.3987138,\n",
       "   'transactions': []},\n",
       "  {'index': 2,\n",
       "   'nonce': 680492,\n",
       "   'previous_hash': 'd2d23c670f90f314481441fb226c8a9018008773ec95d84d891d5ae69e52d87d',\n",
       "   'timestamp': 1673518979.840789,\n",
       "   'transactions': [{'amount': 0,\n",
       "     'recipient': 'smart_contract',\n",
       "     'sender': 'test_from',\n",
       "     'smart_contract': {'contract_address': 'myaddress',\n",
       "      'contract_code': \"print('hello smart contract')\"},\n",
       "     'timestamp': 1673518977.002757},\n",
       "    {'amount': 0.1,\n",
       "     'recipient': 'node_5000',\n",
       "     'sender': 'master',\n",
       "     'smart_contract': {'contract_address': 'mining_profit'},\n",
       "     'timestamp': 1673518979.840789}]}],\n",
       " 'length': 2}"
      ]
     },
     "execution_count": 7,
     "metadata": {},
     "output_type": "execute_result"
    }
   ],
   "source": [
    "headers = {'Content-Type' : 'application/json; charset=utf-8'}\n",
    "res = requests.get(\"http://localhost:5000/chain\", headers=headers)\n",
    "json.loads(res.content)"
   ]
  },
  {
   "cell_type": "markdown",
   "id": "c4593807",
   "metadata": {},
   "source": [
    "## Smart Contract 호출 -1"
   ]
  },
  {
   "cell_type": "code",
   "execution_count": 8,
   "id": "741bf835",
   "metadata": {},
   "outputs": [],
   "source": [
    "headers = {'Content-Type' : 'application/json; charset=utf-8'}\n",
    "res = requests.get(\"http://localhost:5000/chain\", headers=headers)\n",
    "res_json = json.loads(res.content)"
   ]
  },
  {
   "cell_type": "code",
   "execution_count": 10,
   "id": "7c1418db",
   "metadata": {},
   "outputs": [
    {
     "name": "stdout",
     "output_type": "stream",
     "text": [
      "hello smart contract\n"
     ]
    }
   ],
   "source": [
    "for _block in res_json['chain']:\n",
    "    for _tx in _block['transactions']:\n",
    "        if _tx['smart_contract']['contract_address'] == 'myaddress':\n",
    "            exec( _tx['smart_contract']['contract_code'])\n",
    "            "
   ]
  },
  {
   "cell_type": "markdown",
   "id": "cff38e24",
   "metadata": {},
   "source": [
    "## Smart Contract 입력하기 -2  / 계산기"
   ]
  },
  {
   "cell_type": "code",
   "execution_count": 11,
   "id": "a1355a99",
   "metadata": {
    "scrolled": false
   },
   "outputs": [
    {
     "name": "stdout",
     "output_type": "stream",
     "text": [
      "<Response [200]>\n"
     ]
    }
   ],
   "source": [
    "headers = {'Content-Type' : 'application/json; charset=utf-8'}\n",
    "data = {\n",
    "        \"sender\": \"test_from\",\n",
    "        \"recipient\": \"smart_contract\",\n",
    "        \"amount\": 0,\n",
    "        \"smart_contract\": {\"contract_address\":\"calculator\",\n",
    "                           \"contract_code\" : \"calculate_result = {}{}{}\"}\n",
    "}\n",
    "requests.post(\"http://localhost:5000/transactions/new\", headers=headers, data=json.dumps(data)).content\n",
    "\n",
    "headers = {'Content-Type' : 'application/json; charset=utf-8'}\n",
    "res = requests.get(\"http://localhost:5000/mine\")\n",
    "print(res)"
   ]
  },
  {
   "cell_type": "code",
   "execution_count": 12,
   "id": "88cda02d",
   "metadata": {},
   "outputs": [
    {
     "name": "stdout",
     "output_type": "stream",
     "text": [
      "15\n"
     ]
    }
   ],
   "source": [
    "headers = {'Content-Type' : 'application/json; charset=utf-8'}\n",
    "res = requests.get(\"http://localhost:5000/chain\", headers=headers)\n",
    "res_json = json.loads(res.content)\n",
    "\n",
    "for _block in res_json['chain']:\n",
    "    for _tx in _block['transactions']:\n",
    "        if _tx['smart_contract']['contract_address'] == 'calculator':\n",
    "            exec( _tx['smart_contract']['contract_code'].format(3,\"*\",5))\n",
    "            break\n",
    "print(calculate_result)        "
   ]
  },
  {
   "cell_type": "markdown",
   "id": "50cc35ca",
   "metadata": {},
   "source": [
    "## Smart Contract 입력하기 -3  / Token 만들기"
   ]
  },
  {
   "cell_type": "code",
   "execution_count": 13,
   "id": "5797f30a",
   "metadata": {},
   "outputs": [
    {
     "name": "stdout",
     "output_type": "stream",
     "text": [
      "<Response [200]>\n"
     ]
    }
   ],
   "source": [
    "headers = {'Content-Type' : 'application/json; charset=utf-8'}\n",
    "data = {\n",
    "        \"sender\": \"test_from\",\n",
    "        \"recipient\": \"smart_contract\",\n",
    "        \"amount\": 0,\n",
    "        \"smart_contract\": {\"contract_address\":\"make_token\",\n",
    "                           \"contract_code\" :\"token_name = 'pyTOKEN' \\ntoken_total_volume = 10000\"\n",
    "                                            }\n",
    "            }\n",
    "requests.post(\"http://localhost:5000/transactions/new\", headers=headers, data=json.dumps(data)).content\n",
    "\n",
    "headers = {'Content-Type' : 'application/json; charset=utf-8'}\n",
    "res = requests.get(\"http://localhost:5000/mine\")\n",
    "print(res)"
   ]
  },
  {
   "cell_type": "code",
   "execution_count": 14,
   "id": "5aedce65",
   "metadata": {},
   "outputs": [],
   "source": [
    "headers = {'Content-Type' : 'application/json; charset=utf-8'}\n",
    "res = requests.get(\"http://localhost:5000/chain\", headers=headers)\n",
    "res_json = json.loads(res.content)\n",
    "\n",
    "for _block in res_json['chain']:\n",
    "    for _tx in _block['transactions']:\n",
    "        if _tx['smart_contract']['contract_address'] == 'make_token':\n",
    "            exec( _tx['smart_contract']['contract_code'])\n",
    "            break\n",
    "    "
   ]
  },
  {
   "cell_type": "code",
   "execution_count": 15,
   "id": "490654ca",
   "metadata": {},
   "outputs": [
    {
     "data": {
      "text/plain": [
       "'pyTOKEN'"
      ]
     },
     "execution_count": 15,
     "metadata": {},
     "output_type": "execute_result"
    }
   ],
   "source": [
    "token_name"
   ]
  },
  {
   "cell_type": "code",
   "execution_count": 16,
   "id": "41b22ae1",
   "metadata": {},
   "outputs": [
    {
     "data": {
      "text/plain": [
       "10000"
      ]
     },
     "execution_count": 16,
     "metadata": {},
     "output_type": "execute_result"
    }
   ],
   "source": [
    "token_total_volume"
   ]
  },
  {
   "cell_type": "markdown",
   "id": "ed126fe1",
   "metadata": {},
   "source": [
    "## Smart Contract 입력하기 -4  / 거래 가능한 Token 만들기"
   ]
  },
  {
   "cell_type": "code",
   "execution_count": 17,
   "id": "5842274d",
   "metadata": {},
   "outputs": [
    {
     "name": "stdout",
     "output_type": "stream",
     "text": [
      "<Response [200]>\n"
     ]
    }
   ],
   "source": [
    "headers = {'Content-Type' : 'application/json; charset=utf-8'}\n",
    "data = {\n",
    "        \"sender\": \"test_from\",\n",
    "        \"recipient\": \"test_to\",\n",
    "        \"amount\": 3,\n",
    "        \"smart_contract\": {\"contract_address\":\"make_token2\",\n",
    "                           \"contract_code\" :\"token_name = 'pyTOKEN' \\ntoken_total_volume = 10000\\ntoken_owner = {'USER1' : 10000}\",\n",
    "                           \"contract_function_getBalance\" :\"\"\"\n",
    "def get_balance(user_id):\n",
    "    print('{} Balance is : '.format(user_id), token_owner[user_id])\n",
    "    return token_owner[user_id]\n",
    "\"\"\",\n",
    "                           \"contract_function_sendToken\" :\"\"\"\n",
    "def send_token(sender,recipent,amount):\n",
    "    if sender in token_owner.keys():\n",
    "        if get_balance(sender) > amount:\n",
    "            token_owner[sender]  = token_owner[sender] - amount\n",
    "            if recipent in token_owner.keys():\n",
    "                token_owner[recipent]  = token_owner[recipent] + amount\n",
    "            else :\n",
    "                token_owner[recipent]  =  amount\n",
    "            print(\"Transaction Completed\")\n",
    "            get_balance(sender) \n",
    "            get_balance(recipent) \n",
    "\n",
    "        else:\n",
    "            return \"Insufficient Balance\"\n",
    "    else:\n",
    "        return \"Unavailable Sender id\"\n",
    "\"\"\"\n",
    "                           \n",
    "\n",
    "                                            }\n",
    "            }\n",
    "requests.post(\"http://localhost:5000/transactions/new\", headers=headers, data=json.dumps(data)).content\n",
    "\n",
    "headers = {'Content-Type' : 'application/json; charset=utf-8'}\n",
    "res = requests.get(\"http://localhost:5000/mine\")\n",
    "print(res)"
   ]
  },
  {
   "cell_type": "code",
   "execution_count": 18,
   "id": "44cab093",
   "metadata": {},
   "outputs": [],
   "source": [
    "headers = {'Content-Type' : 'application/json; charset=utf-8'}\n",
    "res = requests.get(\"http://localhost:5000/chain\", headers=headers)\n",
    "res_json = json.loads(res.content)\n",
    "\n",
    "for _block in res_json['chain']:\n",
    "    for _tx in _block['transactions']:\n",
    "        if _tx['smart_contract']['contract_address'] == 'make_token2':\n",
    "            exec( _tx['smart_contract']['contract_code'])\n",
    "            break\n",
    "    "
   ]
  },
  {
   "cell_type": "code",
   "execution_count": 19,
   "id": "97423dae",
   "metadata": {},
   "outputs": [
    {
     "data": {
      "text/plain": [
       "'pyTOKEN'"
      ]
     },
     "execution_count": 19,
     "metadata": {},
     "output_type": "execute_result"
    }
   ],
   "source": [
    "token_name "
   ]
  },
  {
   "cell_type": "code",
   "execution_count": 20,
   "id": "e4e89e0e",
   "metadata": {},
   "outputs": [
    {
     "data": {
      "text/plain": [
       "10000"
      ]
     },
     "execution_count": 20,
     "metadata": {},
     "output_type": "execute_result"
    }
   ],
   "source": [
    "token_total_volume"
   ]
  },
  {
   "cell_type": "code",
   "execution_count": 21,
   "id": "2910210d",
   "metadata": {},
   "outputs": [
    {
     "name": "stdout",
     "output_type": "stream",
     "text": [
      "USER1 Balance is :  10000\n"
     ]
    },
    {
     "data": {
      "text/plain": [
       "10000"
      ]
     },
     "execution_count": 21,
     "metadata": {},
     "output_type": "execute_result"
    }
   ],
   "source": [
    "exec(_tx['smart_contract']['contract_function_getBalance'])\n",
    "get_balance('USER1')"
   ]
  },
  {
   "cell_type": "code",
   "execution_count": 22,
   "id": "e010d1f8",
   "metadata": {},
   "outputs": [
    {
     "name": "stdout",
     "output_type": "stream",
     "text": [
      "USER1 Balance is :  10000\n",
      "Transaction Completed\n",
      "USER1 Balance is :  9950\n",
      "USER2 Balance is :  50\n"
     ]
    }
   ],
   "source": [
    "exec(_tx['smart_contract']['contract_function_sendToken'])\n",
    "send_token('USER1','USER2',50)"
   ]
  },
  {
   "cell_type": "code",
   "execution_count": 23,
   "id": "17da70f0",
   "metadata": {},
   "outputs": [
    {
     "name": "stdout",
     "output_type": "stream",
     "text": [
      "USER1 Balance is :  9950\n"
     ]
    },
    {
     "data": {
      "text/plain": [
       "9950"
      ]
     },
     "execution_count": 23,
     "metadata": {},
     "output_type": "execute_result"
    }
   ],
   "source": [
    "exec(_tx['smart_contract']['contract_function_getBalance'])\n",
    "get_balance('USER1')"
   ]
  },
  {
   "cell_type": "code",
   "execution_count": 25,
   "id": "c0e228d7",
   "metadata": {},
   "outputs": [
    {
     "name": "stdout",
     "output_type": "stream",
     "text": [
      "USER2 Balance is :  50\n"
     ]
    },
    {
     "data": {
      "text/plain": [
       "50"
      ]
     },
     "execution_count": 25,
     "metadata": {},
     "output_type": "execute_result"
    }
   ],
   "source": [
    "exec(_tx['smart_contract']['contract_function_getBalance'])\n",
    "get_balance('USER2')"
   ]
  },
  {
   "cell_type": "code",
   "execution_count": null,
   "id": "af1d39f5",
   "metadata": {},
   "outputs": [],
   "source": [
    "exec(_tx['smart_contract']['contract_function_sendToken'])\n",
    "send_token('USER1','USER2',50)"
   ]
  },
  {
   "cell_type": "code",
   "execution_count": null,
   "id": "c79d618e",
   "metadata": {},
   "outputs": [],
   "source": [
    "get_balance('USER1')"
   ]
  },
  {
   "cell_type": "code",
   "execution_count": 26,
   "id": "e9ff3e21",
   "metadata": {},
   "outputs": [
    {
     "name": "stdout",
     "output_type": "stream",
     "text": [
      "USER1 Balance is :  9950\n",
      "Transaction Completed\n",
      "USER1 Balance is :  6950\n",
      "USER3 Balance is :  3000\n"
     ]
    }
   ],
   "source": [
    "send_token('USER1','USER3',3000)"
   ]
  },
  {
   "cell_type": "code",
   "execution_count": 27,
   "id": "8a19fad3",
   "metadata": {},
   "outputs": [
    {
     "name": "stdout",
     "output_type": "stream",
     "text": [
      "USER1 Balance is :  6950\n"
     ]
    },
    {
     "data": {
      "text/plain": [
       "6950"
      ]
     },
     "execution_count": 27,
     "metadata": {},
     "output_type": "execute_result"
    }
   ],
   "source": [
    "exec(_tx['smart_contract']['contract_function_getBalance'])\n",
    "get_balance('USER1')"
   ]
  },
  {
   "cell_type": "code",
   "execution_count": 28,
   "id": "376a91af",
   "metadata": {},
   "outputs": [
    {
     "name": "stdout",
     "output_type": "stream",
     "text": [
      "USER2 Balance is :  50\n"
     ]
    },
    {
     "data": {
      "text/plain": [
       "50"
      ]
     },
     "execution_count": 28,
     "metadata": {},
     "output_type": "execute_result"
    }
   ],
   "source": [
    "exec(_tx['smart_contract']['contract_function_getBalance'])\n",
    "get_balance('USER2')"
   ]
  },
  {
   "cell_type": "code",
   "execution_count": 29,
   "id": "bc29d43e",
   "metadata": {},
   "outputs": [
    {
     "name": "stdout",
     "output_type": "stream",
     "text": [
      "USER3 Balance is :  3000\n"
     ]
    },
    {
     "data": {
      "text/plain": [
       "3000"
      ]
     },
     "execution_count": 29,
     "metadata": {},
     "output_type": "execute_result"
    }
   ],
   "source": [
    "exec(_tx['smart_contract']['contract_function_getBalance'])\n",
    "get_balance('USER3')"
   ]
  },
  {
   "cell_type": "code",
   "execution_count": null,
   "id": "e729ef1c",
   "metadata": {},
   "outputs": [],
   "source": []
  },
  {
   "cell_type": "code",
   "execution_count": null,
   "id": "221c23d1",
   "metadata": {},
   "outputs": [],
   "source": []
  },
  {
   "cell_type": "code",
   "execution_count": null,
   "id": "1d0f6bb5",
   "metadata": {},
   "outputs": [],
   "source": [
    "ccc = \"\"\"token_name = \"pyTOKEN\" \\\n",
    "token_total_volume = 10000\n",
    "                                            \"\"\""
   ]
  },
  {
   "cell_type": "code",
   "execution_count": null,
   "id": "c3d0ab32",
   "metadata": {},
   "outputs": [],
   "source": [
    "exec(ccc)"
   ]
  },
  {
   "cell_type": "code",
   "execution_count": null,
   "id": "78bc5217",
   "metadata": {},
   "outputs": [],
   "source": [
    "token_name"
   ]
  },
  {
   "cell_type": "code",
   "execution_count": null,
   "id": "73f4ed43",
   "metadata": {},
   "outputs": [],
   "source": [
    "for _block in res_json['chain']:\n",
    "    for _tx in _block['transactions']:\n",
    "        if _tx['smart_contract']['contract_address'] == 'myaddress':\n",
    "            exec( _tx['smart_contract']['contract_code'])\n",
    "            "
   ]
  },
  {
   "cell_type": "code",
   "execution_count": null,
   "id": "748b946c",
   "metadata": {},
   "outputs": [],
   "source": [
    "\"x+y= {} + {}\".format(3,3)"
   ]
  },
  {
   "cell_type": "markdown",
   "id": "6d68c4a3",
   "metadata": {},
   "source": [
    "## Pandas 를 활용한 거래내역 조회"
   ]
  },
  {
   "cell_type": "code",
   "execution_count": null,
   "id": "fb5a1c13",
   "metadata": {},
   "outputs": [],
   "source": [
    "status_json = json.loads(res.text)\n",
    "status_json['chain']    \n",
    "tx_amount_l = []\n",
    "tx_sender_l = []\n",
    "tx_reciv_l  = []\n",
    "tx_time_l   = []\n",
    "\n",
    "for chain_index in range(len(status_json['chain'])):\n",
    "    chain_tx = status_json['chain'][chain_index]['transactions']\n",
    "    for each_tx in range(len(chain_tx)):\n",
    "        tx_amount_l.append(chain_tx[each_tx]['amount'])\n",
    "        tx_sender_l.append(chain_tx[each_tx]['sender'])\n",
    "        tx_reciv_l.append(chain_tx[each_tx]['recipient'])\n",
    "        tx_time_l.append(chain_tx[each_tx]['timestamp'])\n",
    "\n",
    "df_tx = pd.DataFrame()\n",
    "df_tx['timestamp'] = tx_time_l  \n",
    "df_tx['sender'] = tx_sender_l \n",
    "df_tx['recipient'] = tx_reciv_l\n",
    "df_tx['amount'] = tx_amount_l   \n",
    "df_tx"
   ]
  },
  {
   "cell_type": "markdown",
   "id": "39389b1c",
   "metadata": {},
   "source": [
    "## 거래내역 기반 계정별 잔액 조회"
   ]
  },
  {
   "cell_type": "code",
   "execution_count": null,
   "id": "ff011825",
   "metadata": {},
   "outputs": [],
   "source": [
    "df_sended = pd.DataFrame(df_tx.groupby('sender')['amount'].sum()).reset_index()\n",
    "df_sended.columns = ['user','sended_amount']\n",
    "df_received= pd.DataFrame(df_tx.groupby('recipient')['amount'].sum()).reset_index()\n",
    "df_received.columns = ['user','received_amount']\n",
    "df_received\n",
    "\n",
    "df_status = pd.merge(df_received,df_sended, on ='user', how=  'outer').fillna(0)\n",
    "df_status['balance'] = df_status['received_amount']  - df_status['sended_amount']  \n",
    "df_status"
   ]
  }
 ],
 "metadata": {
  "kernelspec": {
   "display_name": "Python 3",
   "language": "python",
   "name": "python3"
  },
  "language_info": {
   "codemirror_mode": {
    "name": "ipython",
    "version": 3
   },
   "file_extension": ".py",
   "mimetype": "text/x-python",
   "name": "python",
   "nbconvert_exporter": "python",
   "pygments_lexer": "ipython3",
   "version": "3.8.8"
  }
 },
 "nbformat": 4,
 "nbformat_minor": 5
}
