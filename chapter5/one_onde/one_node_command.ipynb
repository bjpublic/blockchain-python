{
 "cells": [
  {
   "cell_type": "code",
   "execution_count": 1,
   "id": "e4397b59",
   "metadata": {},
   "outputs": [],
   "source": [
    "import requests\n",
    "import json\n",
    "import pandas as pd\n",
    "import hashlib # hash 함수용 sha256 사용할 라이브러리\n",
    "import random"
   ]
  },
  {
   "cell_type": "markdown",
   "id": "4a2c3864",
   "metadata": {},
   "source": [
    "## 노드의 블록 정보 확인"
   ]
  },
  {
   "cell_type": "code",
   "execution_count": 2,
   "id": "26d585ba",
   "metadata": {},
   "outputs": [
    {
     "data": {
      "text/plain": [
       "{'chain': [{'hash': 'aad5fb35a0beccdeb9fc9b985af63e2d9dd32ef3307c3ab86ad4757a26c0e8c4',\n",
       "   'index': 1,\n",
       "   'previous_hash': 'genesis_block',\n",
       "   'timestamp': 1675332391.8821566,\n",
       "   'transactions': [],\n",
       "   'validator': 'master'}],\n",
       " 'length': 1}"
      ]
     },
     "execution_count": 2,
     "metadata": {},
     "output_type": "execute_result"
    }
   ],
   "source": [
    "headers = {'Content-Type' : 'application/json; charset=utf-8'}\n",
    "res = requests.get(\"http://localhost:5000/chain\", headers=headers)\n",
    "json.loads(res.content)"
   ]
  },
  {
   "cell_type": "markdown",
   "id": "22f62fb1",
   "metadata": {},
   "source": [
    "## transaction 입력하기"
   ]
  },
  {
   "cell_type": "code",
   "execution_count": 3,
   "id": "fe3958ef",
   "metadata": {},
   "outputs": [
    {
     "data": {
      "text/plain": [
       "b'{\"message\":\"Transaction will be added to Block {2}\"}\\n'"
      ]
     },
     "execution_count": 3,
     "metadata": {},
     "output_type": "execute_result"
    }
   ],
   "source": [
    "headers = {'Content-Type' : 'application/json; charset=utf-8'}\n",
    "data = {\n",
    "        \"sender\": \"test_from\",\n",
    "        \"recipient\": \"test_to\",\n",
    "    \"amount\": 3\n",
    "}\n",
    "requests.post(\"http://localhost:5000/transactions/new\", headers=headers, data=json.dumps(data)).content"
   ]
  },
  {
   "cell_type": "markdown",
   "id": "8ffed183",
   "metadata": {},
   "source": [
    "## 노드의 블록정보 확인 - 2"
   ]
  },
  {
   "cell_type": "code",
   "execution_count": 4,
   "id": "cd862740",
   "metadata": {},
   "outputs": [
    {
     "data": {
      "text/plain": [
       "{'chain': [{'hash': 'aad5fb35a0beccdeb9fc9b985af63e2d9dd32ef3307c3ab86ad4757a26c0e8c4',\n",
       "   'index': 1,\n",
       "   'previous_hash': 'genesis_block',\n",
       "   'timestamp': 1675332391.8821566,\n",
       "   'transactions': [],\n",
       "   'validator': 'master'}],\n",
       " 'length': 1}"
      ]
     },
     "execution_count": 4,
     "metadata": {},
     "output_type": "execute_result"
    }
   ],
   "source": [
    "headers = {'Content-Type' : 'application/json; charset=utf-8'}\n",
    "res = requests.get(\"http://localhost:5000/chain\", headers=headers)\n",
    "json.loads(res.content)"
   ]
  },
  {
   "cell_type": "markdown",
   "id": "de078099",
   "metadata": {},
   "source": [
    "##  채굴하기 - 1"
   ]
  },
  {
   "cell_type": "code",
   "execution_count": 5,
   "id": "ca6e8f84",
   "metadata": {},
   "outputs": [
    {
     "name": "stdout",
     "output_type": "stream",
     "text": [
      "<Response [200]>\n"
     ]
    }
   ],
   "source": [
    "headers = {'Content-Type' : 'appl|ication/json; charset=utf-8'}\n",
    "res = requests.get(\"http://localhost:5000/mine\")\n",
    "print(res)"
   ]
  },
  {
   "cell_type": "code",
   "execution_count": 6,
   "id": "bf082328",
   "metadata": {},
   "outputs": [
    {
     "data": {
      "text/plain": [
       "b'{\"hash\":\"cc342ff342bf09a63ceda44dbdd22e909902ac7d0825e187c6002d1d9e34414a\",\"index\":2,\"message\":\"new block found\",\"nonce\":\"master\",\"previous_hash\":\"d20919fb3f60cfc306af9bc60af7d05dcf1c9135289f066e7c5a5cb4bc182ab0\",\"transactions\":[{\"amount\":3,\"recipient\":\"test_to\",\"sender\":\"test_from\",\"smart_contract\":\"empty\",\"timestamp\":1675332399.9949694},{\"amount\":0.1,\"recipient\":\"node_5000\",\"sender\":\"master\",\"smart_contract\":{\"contract_address\":\"mining_profit\"},\"timestamp\":1675332406.86142}]}\\n'"
      ]
     },
     "execution_count": 6,
     "metadata": {},
     "output_type": "execute_result"
    }
   ],
   "source": [
    "res.content"
   ]
  },
  {
   "cell_type": "markdown",
   "id": "a8f956fe",
   "metadata": {},
   "source": [
    "## 노드의 블록정보 확인 - 3"
   ]
  },
  {
   "cell_type": "code",
   "execution_count": 37,
   "id": "17f93c4a",
   "metadata": {},
   "outputs": [
    {
     "data": {
      "text/plain": [
       "{'chain': [{'hash': '2fc60e1ee6e87b8f4af8009b4351d7c6530ea8ce0f27e2feab2d32d1479b6a22',\n",
       "   'index': 1,\n",
       "   'previous_hash': 'genesis_block',\n",
       "   'timestamp': 1674997846.066656,\n",
       "   'transactions': [],\n",
       "   'validator': 'master'},\n",
       "  {'hash': 'c38c40b6c4a9285e0f0540a936e1d1e27f29ff514a3b24ecb740cb0bf53b6dbd',\n",
       "   'index': 2,\n",
       "   'previous_hash': '894408a33064dd78cd654426f37147a3627964246a3e2ae0c574ebd58a5baeb8',\n",
       "   'timestamp': 1674997859.0681138,\n",
       "   'transactions': [{'amount': 3,\n",
       "     'recipient': 'test_to',\n",
       "     'sender': 'test_from',\n",
       "     'smart_contract': 'empty',\n",
       "     'timestamp': 1674997852.9136126},\n",
       "    {'amount': 0.1,\n",
       "     'recipient': 'node_5000',\n",
       "     'sender': 'master',\n",
       "     'smart_contract': {'contract_address': 'mining_profit'},\n",
       "     'timestamp': 1674997859.0681138}],\n",
       "   'validator': 'master'}],\n",
       " 'length': 2}"
      ]
     },
     "execution_count": 37,
     "metadata": {},
     "output_type": "execute_result"
    }
   ],
   "source": [
    "headers = {'Content-Type' : 'application/json; charset=utf-8'}\n",
    "res = requests.get(\"http://localhost:5000/chain\", headers=headers)\n",
    "json.loads(res.content)"
   ]
  },
  {
   "cell_type": "markdown",
   "id": "cff38e24",
   "metadata": {},
   "source": [
    "## transaction 입력하기 -2  / 채굴 / 블록정보 확인"
   ]
  },
  {
   "cell_type": "code",
   "execution_count": 38,
   "id": "a1355a99",
   "metadata": {
    "scrolled": false
   },
   "outputs": [
    {
     "name": "stdout",
     "output_type": "stream",
     "text": [
      "<Response [200]>\n"
     ]
    }
   ],
   "source": [
    "## transaction 입력하기 -2\n",
    "headers = {'Content-Type' : 'application/json; charset=utf-8'}\n",
    "data = {\n",
    "        \"sender\": \"test_from\",\n",
    "        \"recipient\": \"test_to2\",\n",
    "    \"amount\": 30,\n",
    "}\n",
    "requests.post(\"http://localhost:5000/transactions/new\", headers=headers, data=json.dumps(data)).content\n",
    "\n",
    "## transaction3 입력하기\n",
    "headers = {'Content-Type' : 'application/json; charset=utf-8'}\n",
    "data = {\n",
    "        \"sender\": \"test_from\",\n",
    "        \"recipient\": \"test_to3\",\n",
    "    \"amount\": 300,\n",
    "}\n",
    "requests.post(\"http://localhost:5000/transactions/new\", headers=headers, data=json.dumps(data)).content\n",
    "\n",
    "##  채굴하기\n",
    "headers = {'Content-Type' : 'application/json; charset=utf-8'}\n",
    "res = requests.get(\"http://localhost:5000/mine\")\n",
    "print(res)\n",
    "\n",
    "## 노드의 블록정보 확인 - 4\n",
    "headers = {'Content-Type' : 'application/json; charset=utf-8'}\n",
    "res = requests.get(\"http://localhost:5000/chain\", headers=headers)"
   ]
  },
  {
   "cell_type": "code",
   "execution_count": 39,
   "id": "748b946c",
   "metadata": {},
   "outputs": [
    {
     "data": {
      "text/plain": [
       "'{\"chain\":[{\"hash\":\"2fc60e1ee6e87b8f4af8009b4351d7c6530ea8ce0f27e2feab2d32d1479b6a22\",\"index\":1,\"previous_hash\":\"genesis_block\",\"timestamp\":1674997846.066656,\"transactions\":[],\"validator\":\"master\"},{\"hash\":\"c38c40b6c4a9285e0f0540a936e1d1e27f29ff514a3b24ecb740cb0bf53b6dbd\",\"index\":2,\"previous_hash\":\"894408a33064dd78cd654426f37147a3627964246a3e2ae0c574ebd58a5baeb8\",\"timestamp\":1674997859.0681138,\"transactions\":[{\"amount\":3,\"recipient\":\"test_to\",\"sender\":\"test_from\",\"smart_contract\":\"empty\",\"timestamp\":1674997852.9136126},{\"amount\":0.1,\"recipient\":\"node_5000\",\"sender\":\"master\",\"smart_contract\":{\"contract_address\":\"mining_profit\"},\"timestamp\":1674997859.0681138}],\"validator\":\"master\"},{\"hash\":\"7689492fd9ac86862522370e5554f8568e4985c1edaef183166b195e1a0d7535\",\"index\":3,\"previous_hash\":\"e671628c8f6f8567db6baa979ea2352917b0283972f2c13389dadd767d5e78b2\",\"timestamp\":1674997869.3397465,\"transactions\":[{\"amount\":30,\"recipient\":\"test_to2\",\"sender\":\"test_from\",\"smart_contract\":\"empty\",\"timestamp\":1674997863.2059813},{\"amount\":300,\"recipient\":\"test_to3\",\"sender\":\"test_from\",\"smart_contract\":\"empty\",\"timestamp\":1674997865.2683372},{\"amount\":0.1,\"recipient\":\"node_5000\",\"sender\":\"master\",\"smart_contract\":{\"contract_address\":\"mining_profit\"},\"timestamp\":1674997869.3397465}],\"validator\":\"master\"}],\"length\":3}\\n'"
      ]
     },
     "execution_count": 39,
     "metadata": {},
     "output_type": "execute_result"
    }
   ],
   "source": [
    "res.text"
   ]
  },
  {
   "cell_type": "markdown",
   "id": "cf9f52b7",
   "metadata": {},
   "source": [
    "## 노드의 블록 정보 확인 -2"
   ]
  },
  {
   "cell_type": "code",
   "execution_count": 41,
   "id": "cdfacca0",
   "metadata": {},
   "outputs": [
    {
     "data": {
      "text/plain": [
       "{'chain': [{'hash': '2fc60e1ee6e87b8f4af8009b4351d7c6530ea8ce0f27e2feab2d32d1479b6a22',\n",
       "   'index': 1,\n",
       "   'previous_hash': 'genesis_block',\n",
       "   'timestamp': 1674997846.066656,\n",
       "   'transactions': [],\n",
       "   'validator': 'master'},\n",
       "  {'hash': 'c38c40b6c4a9285e0f0540a936e1d1e27f29ff514a3b24ecb740cb0bf53b6dbd',\n",
       "   'index': 2,\n",
       "   'previous_hash': '894408a33064dd78cd654426f37147a3627964246a3e2ae0c574ebd58a5baeb8',\n",
       "   'timestamp': 1674997859.0681138,\n",
       "   'transactions': [{'amount': 3,\n",
       "     'recipient': 'test_to',\n",
       "     'sender': 'test_from',\n",
       "     'smart_contract': 'empty',\n",
       "     'timestamp': 1674997852.9136126},\n",
       "    {'amount': 0.1,\n",
       "     'recipient': 'node_5000',\n",
       "     'sender': 'master',\n",
       "     'smart_contract': {'contract_address': 'mining_profit'},\n",
       "     'timestamp': 1674997859.0681138}],\n",
       "   'validator': 'master'},\n",
       "  {'hash': '7689492fd9ac86862522370e5554f8568e4985c1edaef183166b195e1a0d7535',\n",
       "   'index': 3,\n",
       "   'previous_hash': 'e671628c8f6f8567db6baa979ea2352917b0283972f2c13389dadd767d5e78b2',\n",
       "   'timestamp': 1674997869.3397465,\n",
       "   'transactions': [{'amount': 30,\n",
       "     'recipient': 'test_to2',\n",
       "     'sender': 'test_from',\n",
       "     'smart_contract': 'empty',\n",
       "     'timestamp': 1674997863.2059813},\n",
       "    {'amount': 300,\n",
       "     'recipient': 'test_to3',\n",
       "     'sender': 'test_from',\n",
       "     'smart_contract': 'empty',\n",
       "     'timestamp': 1674997865.2683372},\n",
       "    {'amount': 0.1,\n",
       "     'recipient': 'node_5000',\n",
       "     'sender': 'master',\n",
       "     'smart_contract': {'contract_address': 'mining_profit'},\n",
       "     'timestamp': 1674997869.3397465}],\n",
       "   'validator': 'master'}],\n",
       " 'length': 3}"
      ]
     },
     "execution_count": 41,
     "metadata": {},
     "output_type": "execute_result"
    }
   ],
   "source": [
    "headers = {'Content-Type' : 'application/json; charset=utf-8'}\n",
    "res = requests.get(\"http://localhost:5000/chain\", headers=headers)\n",
    "json.loads(res.content)"
   ]
  },
  {
   "cell_type": "markdown",
   "id": "6d68c4a3",
   "metadata": {},
   "source": [
    "## Pandas 를 활용한 거래내역 조회"
   ]
  },
  {
   "cell_type": "code",
   "execution_count": 40,
   "id": "fb5a1c13",
   "metadata": {},
   "outputs": [
    {
     "data": {
      "text/html": [
       "<div>\n",
       "<style scoped>\n",
       "    .dataframe tbody tr th:only-of-type {\n",
       "        vertical-align: middle;\n",
       "    }\n",
       "\n",
       "    .dataframe tbody tr th {\n",
       "        vertical-align: top;\n",
       "    }\n",
       "\n",
       "    .dataframe thead th {\n",
       "        text-align: right;\n",
       "    }\n",
       "</style>\n",
       "<table border=\"1\" class=\"dataframe\">\n",
       "  <thead>\n",
       "    <tr style=\"text-align: right;\">\n",
       "      <th></th>\n",
       "      <th>timestamp</th>\n",
       "      <th>sender</th>\n",
       "      <th>recipient</th>\n",
       "      <th>amount</th>\n",
       "    </tr>\n",
       "  </thead>\n",
       "  <tbody>\n",
       "    <tr>\n",
       "      <th>0</th>\n",
       "      <td>1.674998e+09</td>\n",
       "      <td>test_from</td>\n",
       "      <td>test_to</td>\n",
       "      <td>3.0</td>\n",
       "    </tr>\n",
       "    <tr>\n",
       "      <th>1</th>\n",
       "      <td>1.674998e+09</td>\n",
       "      <td>master</td>\n",
       "      <td>node_5000</td>\n",
       "      <td>0.1</td>\n",
       "    </tr>\n",
       "    <tr>\n",
       "      <th>2</th>\n",
       "      <td>1.674998e+09</td>\n",
       "      <td>test_from</td>\n",
       "      <td>test_to2</td>\n",
       "      <td>30.0</td>\n",
       "    </tr>\n",
       "    <tr>\n",
       "      <th>3</th>\n",
       "      <td>1.674998e+09</td>\n",
       "      <td>test_from</td>\n",
       "      <td>test_to3</td>\n",
       "      <td>300.0</td>\n",
       "    </tr>\n",
       "    <tr>\n",
       "      <th>4</th>\n",
       "      <td>1.674998e+09</td>\n",
       "      <td>master</td>\n",
       "      <td>node_5000</td>\n",
       "      <td>0.1</td>\n",
       "    </tr>\n",
       "  </tbody>\n",
       "</table>\n",
       "</div>"
      ],
      "text/plain": [
       "      timestamp     sender  recipient  amount\n",
       "0  1.674998e+09  test_from    test_to     3.0\n",
       "1  1.674998e+09     master  node_5000     0.1\n",
       "2  1.674998e+09  test_from   test_to2    30.0\n",
       "3  1.674998e+09  test_from   test_to3   300.0\n",
       "4  1.674998e+09     master  node_5000     0.1"
      ]
     },
     "execution_count": 40,
     "metadata": {},
     "output_type": "execute_result"
    }
   ],
   "source": [
    "status_json = json.loads(res.text)\n",
    "status_json['chain']    \n",
    "tx_amount_l = []\n",
    "tx_sender_l = []\n",
    "tx_reciv_l  = []\n",
    "tx_time_l   = []\n",
    "\n",
    "for chain_index in range(len(status_json['chain'])):\n",
    "    chain_tx = status_json['chain'][chain_index]['transactions']\n",
    "    for each_tx in range(len(chain_tx)):\n",
    "        tx_amount_l.append(chain_tx[each_tx]['amount'])\n",
    "        tx_sender_l.append(chain_tx[each_tx]['sender'])\n",
    "        tx_reciv_l.append(chain_tx[each_tx]['recipient'])\n",
    "        tx_time_l.append(chain_tx[each_tx]['timestamp'])\n",
    "\n",
    "df_tx = pd.DataFrame()\n",
    "df_tx['timestamp'] = tx_time_l  \n",
    "df_tx['sender'] = tx_sender_l \n",
    "df_tx['recipient'] = tx_reciv_l\n",
    "df_tx['amount'] = tx_amount_l   \n",
    "df_tx"
   ]
  },
  {
   "cell_type": "markdown",
   "id": "39389b1c",
   "metadata": {},
   "source": [
    "## 거래내역 기반 계정별 잔액 조회"
   ]
  },
  {
   "cell_type": "code",
   "execution_count": 26,
   "id": "47540d56",
   "metadata": {},
   "outputs": [
    {
     "data": {
      "text/html": [
       "<div>\n",
       "<style scoped>\n",
       "    .dataframe tbody tr th:only-of-type {\n",
       "        vertical-align: middle;\n",
       "    }\n",
       "\n",
       "    .dataframe tbody tr th {\n",
       "        vertical-align: top;\n",
       "    }\n",
       "\n",
       "    .dataframe thead th {\n",
       "        text-align: right;\n",
       "    }\n",
       "</style>\n",
       "<table border=\"1\" class=\"dataframe\">\n",
       "  <thead>\n",
       "    <tr style=\"text-align: right;\">\n",
       "      <th></th>\n",
       "      <th>user</th>\n",
       "      <th>received_amount</th>\n",
       "      <th>sended_amount</th>\n",
       "      <th>balance</th>\n",
       "    </tr>\n",
       "  </thead>\n",
       "  <tbody>\n",
       "    <tr>\n",
       "      <th>0</th>\n",
       "      <td>node_5000</td>\n",
       "      <td>0.2</td>\n",
       "      <td>0.0</td>\n",
       "      <td>0.2</td>\n",
       "    </tr>\n",
       "    <tr>\n",
       "      <th>1</th>\n",
       "      <td>test_to</td>\n",
       "      <td>3.0</td>\n",
       "      <td>0.0</td>\n",
       "      <td>3.0</td>\n",
       "    </tr>\n",
       "    <tr>\n",
       "      <th>2</th>\n",
       "      <td>test_to2</td>\n",
       "      <td>30.0</td>\n",
       "      <td>0.0</td>\n",
       "      <td>30.0</td>\n",
       "    </tr>\n",
       "    <tr>\n",
       "      <th>3</th>\n",
       "      <td>test_to3</td>\n",
       "      <td>300.0</td>\n",
       "      <td>0.0</td>\n",
       "      <td>300.0</td>\n",
       "    </tr>\n",
       "    <tr>\n",
       "      <th>4</th>\n",
       "      <td>master</td>\n",
       "      <td>0.0</td>\n",
       "      <td>0.2</td>\n",
       "      <td>-0.2</td>\n",
       "    </tr>\n",
       "    <tr>\n",
       "      <th>5</th>\n",
       "      <td>test_from</td>\n",
       "      <td>0.0</td>\n",
       "      <td>333.0</td>\n",
       "      <td>-333.0</td>\n",
       "    </tr>\n",
       "  </tbody>\n",
       "</table>\n",
       "</div>"
      ],
      "text/plain": [
       "        user  received_amount  sended_amount  balance\n",
       "0  node_5000              0.2            0.0      0.2\n",
       "1    test_to              3.0            0.0      3.0\n",
       "2   test_to2             30.0            0.0     30.0\n",
       "3   test_to3            300.0            0.0    300.0\n",
       "4     master              0.0            0.2     -0.2\n",
       "5  test_from              0.0          333.0   -333.0"
      ]
     },
     "execution_count": 26,
     "metadata": {},
     "output_type": "execute_result"
    }
   ],
   "source": [
    "df_sended = pd.DataFrame(df_tx.groupby('sender')['amount'].sum()).reset_index()\n",
    "df_sended.columns = ['user','sended_amount']\n",
    "df_received= pd.DataFrame(df_tx.groupby('recipient')['amount'].sum()).reset_index()\n",
    "df_received.columns = ['user','received_amount']\n",
    "df_received\n",
    "\n",
    "df_status = pd.merge(df_received,df_sended, on ='user', how=  'outer').fillna(0)\n",
    "df_status['balance'] = df_status['received_amount']  - df_status['sended_amount']  \n",
    "df_status"
   ]
  },
  {
   "cell_type": "code",
   "execution_count": null,
   "id": "cc81aed1",
   "metadata": {},
   "outputs": [],
   "source": []
  }
 ],
 "metadata": {
  "kernelspec": {
   "display_name": "Python 3",
   "language": "python",
   "name": "python3"
  },
  "language_info": {
   "codemirror_mode": {
    "name": "ipython",
    "version": 3
   },
   "file_extension": ".py",
   "mimetype": "text/x-python",
   "name": "python",
   "nbconvert_exporter": "python",
   "pygments_lexer": "ipython3",
   "version": "3.8.8"
  }
 },
 "nbformat": 4,
 "nbformat_minor": 5
}
