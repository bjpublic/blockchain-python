{
 "cells": [
  {
   "cell_type": "markdown",
   "id": "09d52509",
   "metadata": {},
   "source": [
    "## 관련 패키지 import"
   ]
  },
  {
   "cell_type": "code",
   "execution_count": 1,
   "id": "6787859c",
   "metadata": {},
   "outputs": [],
   "source": [
    "import hashlib # hash 함수용 sha256 사용할 라이브러리\n",
    "import json\n",
    "import time\n",
    "import random\n",
    "import requests\n",
    "from flask import Flask, request, jsonify\n",
    "\n",
    "from urllib.parse import urlparse"
   ]
  },
  {
   "cell_type": "markdown",
   "id": "16221830",
   "metadata": {},
   "source": [
    "## Blockchain 객채 생성"
   ]
  },
  {
   "cell_type": "code",
   "execution_count": 2,
   "id": "455e3708",
   "metadata": {},
   "outputs": [],
   "source": [
    "class Blockchain(object):\n",
    "    \n",
    "    def __init__(self, account_name, account_weight):\n",
    "        self.chain = []                                   # chain에 여러 block들 들어옴\n",
    "        self.current_transaction = []                     # 임시 transaction 넣어줌\n",
    "        self.nodes = set()                                # Node 목록을 보관\n",
    "        self.miner_wallet = {'account_name': account_name, 'weight': account_weight}  # 지갑정보 생성\n",
    "        self.new_block(previous_hash='genesis_block', address = account_name)        # genesis block 생성\n",
    "        self.account_name = account_name\n",
    "        self.account_weight = account_weight\n",
    "\n",
    "        \n",
    "    @staticmethod\n",
    "    def hash(block):\n",
    "        block_string = json.dumps(block, sort_keys=True).encode() \n",
    "        return hashlib.sha256(block_string).hexdigest()   # hash 라이브러리로 sha256 사용\n",
    "    \n",
    "    @property\n",
    "    def last_block(self):\n",
    "        return self.chain[-1]                             # 체인의 마지막 블록 가져오기!!\n",
    "\n",
    "\n",
    "    def pos(self):\n",
    "        winner_list = []            # 각 노드에서 pick_winner 결과 뽑힌 winner 리스트\n",
    "        \n",
    "        ## POS 가 시작되면 나뿐만 아니라 주변 모든 노드가 함께 Proof OF Staking을 진행\n",
    "        self.resolve_conflict()      #  PoS 시작 전 노드의 정상여부 선 검증 \n",
    "        time.sleep(1)\n",
    "        \n",
    "        my_winner = self.pick_winner(account_name = self.account_name, account_weight = self.account_weight) # 본 노드에서 pick_winner 진행  : 확률로 승자 뽑기\n",
    "        winner_list.append(my_winner)   # winner 리스트에 내노드 결과 넣기\n",
    "        time.sleep(1)\n",
    "        \n",
    "        \n",
    "        for target_node in blockchain.nodes:            # 다른 노드들도 pick_winner 진행 \n",
    "            print(target_node)\n",
    "\n",
    "            headers = {'Content-Type' : 'application/json; charset=utf-8'}\n",
    "\n",
    "            res = requests.get('http://' + target_node   + \"/nodes/pick_winner\", headers=headers)\n",
    "            \n",
    "            winner_info = json.loads(res.content)  # 근처 노드들 선정결과 받아와서\n",
    "            print(winner_info)\n",
    "            winner_list.append(winner_info['winner']) \n",
    "                \n",
    "\n",
    "        final_winner = max(winner_list,key = winner_list.count)  # 각 노드들의 pos 결과로 가장 많이 선정된 winner를 최종 winner 로 선정\n",
    "        print(\"final_winner selected : \", final_winner)\n",
    "        \n",
    "        return final_winner\n",
    "#         if final_winner == self.account_name: # 본 노드가 final_winner             \n",
    "#             return True\n",
    "#         else:            # 본 노드가 final_winner가 아닐경우  \n",
    "#                     \n",
    "                \n",
    "                \n",
    "#             return False#  ### FALSE 값을 리턴!!!!\n",
    "    \n",
    "            \n",
    "        \n",
    "    def pick_winner(self,account_name, account_weight):  ### 누가누가 블록 만들래!! 만들사람 뽑기\n",
    "        \n",
    "        candidate_list = []  # POS 대상자를 뽑을 전체 풀!!\n",
    "             \n",
    "        for w in range(account_weight):  # 나의 노드들의 weight 수만큼 추가\n",
    "            candidate_list.append(account_name)\n",
    "                \n",
    "        for target_node in blockchain.nodes:            # 근처 노드들의 weight 수만큼 추가\n",
    "            print(target_node)\n",
    "\n",
    "            headers = {'Content-Type' : 'application/json; charset=utf-8'}\n",
    "\n",
    "            res = requests.get('http://' + target_node   + \"/nodes/node_weight\", headers=headers)\n",
    "            target_node_info = json.loads(res.content)  # 근처 노드들의 weight 정보 받아와서\n",
    "\n",
    "            for repeated in range(target_node_info['account_weight']):\n",
    "                candidate_list.append(target_node_info['account_name'])  # weight값 만큼  candidate_list에 추가\n",
    "\n",
    "        random.shuffle(candidate_list)       #  랜덤으로 섞고!\n",
    "        for x in  candidate_list:           #  첫번째 node를 winner로 선정\n",
    "            winner  = x\n",
    "            print(\"WINNER SELECTED : \", winner)\n",
    "            break\n",
    "\n",
    "        return winner                       # winner 공개\n",
    "    \n",
    "    \n",
    "        \n",
    "    def new_transaction(self, sender, recipient, amount, smart_contract):\n",
    "        self.current_transaction.append(\n",
    "            {\n",
    "                'sender' : sender, # 송신자\n",
    "                'recipient' : recipient, # 수신자\n",
    "                'amount' : amount, # 금액\n",
    "                'timestamp':time.time(),\n",
    "                'smart_contract' : smart_contract\n",
    "            }\n",
    "        )\n",
    "        return self.last_block['index'] + 1   \n",
    "\n",
    "    def new_block(self, previous_hash=None, address = ''):\n",
    "        block = {\n",
    "            'index' : len(self.chain)+1,\n",
    "            'timestamp' : time.time(), # timestamp from 1970\n",
    "            'transactions' : self.current_transaction,\n",
    "            'previous_hash' : previous_hash ,\n",
    "            'validator' : address\n",
    "        }\n",
    "        block[\"hash\"] = self.hash(block)\n",
    "        self.current_transaction = []\n",
    "        self.chain.append(block) \n",
    "        \n",
    "        return block\n",
    "\n",
    "    def is_chain_valid(self, chain):           \n",
    "        last_block = chain['chain'][-1]\n",
    "        current_index = 1\n",
    "\n",
    "        while current_index < len(chain): \n",
    "            block = chain[current_index]\n",
    "            print('%s' % last_block)\n",
    "            print('%s' % block)\n",
    "            print(\"\\n--------\\n\")\n",
    "            if block['previous_hash'] != self.hash(last_block):\n",
    "                return False\n",
    "            last_block = block\n",
    "            current_index += 1\n",
    "            \n",
    "        return True\n",
    "## 네트워크로 추가된부분 \n",
    "    def register_node(self, address): # url 주소를 넣게 됨\n",
    "        parsed_url = urlparse(address)\n",
    "        self.nodes.add(parsed_url.netloc) # set 자료형태 안에 목록을 저장\n",
    "        \n",
    "        \n",
    "    def resolve_conflict(self):    # 다른노드들이랑 비교하며 지금의 내 노드 상태가 정상인지 검증\n",
    "        \n",
    "        for registering_node in blockchain.nodes:            # 근처 노드들의 weight 수만큼 추가\n",
    "            headers = {'Content-Type' : 'application/json; charset=utf-8'}\n",
    "            print(registering_node,  '    /http://' + registering_node   + \"/chain\")\n",
    "            res = requests.get('http://' + registering_node   + \"/chain\", headers=headers)\n",
    "            target_node_info = json.loads(res.content)\n",
    "            \n",
    "            \n",
    "            if target_node_info['length'] > len(self.chain):  # 다른노드의 블록이 내 노드의 블록보다 길경우\n",
    "                if self.is_chain_valid(target_node_info):     # 그리고 그 노드가 valid 할 경우 \n",
    "                    self.blockchain = target_node_info        # 내 노드를 그 노드로 덮어씌우기\n",
    "                    return\n",
    "        return     "
   ]
  },
  {
   "cell_type": "markdown",
   "id": "cccc5e32",
   "metadata": {},
   "source": [
    "## Blockchain 객채를 기반으로 노드 생성"
   ]
  },
  {
   "cell_type": "code",
   "execution_count": 3,
   "id": "fdd2e589",
   "metadata": {},
   "outputs": [],
   "source": [
    "my_ip = 'localhost'\n",
    "my_port = '5000'\n",
    "node_identifier = 'node_'+my_port\n",
    "mine_owner = 'validator_1'\n",
    "mine_profit = 0.1\n",
    "\n",
    "blockchain = Blockchain(account_name=mine_owner, account_weight= 5)"
   ]
  },
  {
   "cell_type": "code",
   "execution_count": 4,
   "id": "2228cdbe",
   "metadata": {
    "scrolled": false
   },
   "outputs": [
    {
     "name": "stdout",
     "output_type": "stream",
     "text": [
      " * Serving Flask app \"__main__\" (lazy loading)\n",
      " * Environment: production\n",
      "   WARNING: This is a development server. Do not use it in a production deployment.\n",
      "   Use a production WSGI server instead.\n",
      " * Debug mode: off\n"
     ]
    },
    {
     "name": "stderr",
     "output_type": "stream",
     "text": [
      " * Running on http://localhost:5000/ (Press CTRL+C to quit)\n",
      "127.0.0.1 - - [02/Feb/2023 23:55:19] \"\u001b[37mGET /chain HTTP/1.1\u001b[0m\" 200 -\n"
     ]
    },
    {
     "name": "stdout",
     "output_type": "stream",
     "text": [
      "chain info requested!!\n",
      "register nodes !!! :  {'nodes': 'http://localhost:5001'}\n",
      "MY NODE INFO  http://localhost:5000\n"
     ]
    },
    {
     "name": "stderr",
     "output_type": "stream",
     "text": [
      "127.0.0.1 - - [02/Feb/2023 23:55:30] \"\u001b[37mPOST /nodes/register HTTP/1.1\u001b[0m\" 201 -\n",
      "127.0.0.1 - - [02/Feb/2023 23:55:30] \"\u001b[37mPOST /nodes/register HTTP/1.1\u001b[0m\" 201 -\n"
     ]
    },
    {
     "name": "stdout",
     "output_type": "stream",
     "text": [
      "register nodes !!! :  {'nodes': 'http://localhost:5001'}\n",
      "Node already registered\n",
      "register nodes !!! :  {'nodes': 'http://localhost:5002'}\n",
      "MY NODE INFO  http://localhost:5000\n"
     ]
    },
    {
     "name": "stderr",
     "output_type": "stream",
     "text": [
      "127.0.0.1 - - [02/Feb/2023 23:55:36] \"\u001b[37mPOST /nodes/register HTTP/1.1\u001b[0m\" 201 -\n"
     ]
    },
    {
     "name": "stdout",
     "output_type": "stream",
     "text": [
      "register nodes !!! :  {'nodes': 'http://localhost:5002'}\n",
      "Node already registered\n",
      "add_node :  localhost:5001\n"
     ]
    },
    {
     "name": "stderr",
     "output_type": "stream",
     "text": [
      "127.0.0.1 - - [02/Feb/2023 23:55:44] \"\u001b[37mPOST /nodes/register HTTP/1.1\u001b[0m\" 201 -\n"
     ]
    },
    {
     "name": "stdout",
     "output_type": "stream",
     "text": [
      "register nodes !!! :  {'nodes': 'http://localhost:5001'}\n",
      "Node already registered\n"
     ]
    },
    {
     "name": "stderr",
     "output_type": "stream",
     "text": [
      "127.0.0.1 - - [02/Feb/2023 23:55:46] \"\u001b[37mPOST /nodes/register HTTP/1.1\u001b[0m\" 201 -\n",
      "127.0.0.1 - - [02/Feb/2023 23:55:46] \"\u001b[37mPOST /nodes/register HTTP/1.1\u001b[0m\" 201 -\n"
     ]
    },
    {
     "name": "stdout",
     "output_type": "stream",
     "text": [
      "register nodes !!! :  {'nodes': 'http://localhost:5002'}\n",
      "Node already registered\n",
      "transactions_new!!! :  {'sender': 'test_from', 'recipient': 'test_to', 'amount': 3}\n",
      "share transaction to >>    http://localhost:5002\n"
     ]
    },
    {
     "name": "stderr",
     "output_type": "stream",
     "text": [
      "127.0.0.1 - - [02/Feb/2023 23:55:52] \"\u001b[37mPOST /transactions/new HTTP/1.1\u001b[0m\" 201 -\n"
     ]
    },
    {
     "name": "stdout",
     "output_type": "stream",
     "text": [
      "share transaction to >>    http://localhost:5001\n"
     ]
    },
    {
     "name": "stderr",
     "output_type": "stream",
     "text": [
      "127.0.0.1 - - [02/Feb/2023 23:55:54] \"\u001b[37mGET /chain HTTP/1.1\u001b[0m\" 200 -\n"
     ]
    },
    {
     "name": "stdout",
     "output_type": "stream",
     "text": [
      "chain info requested!!\n",
      "MINING STARTED\n",
      "localhost:5002     /http://localhost:5002/chain\n",
      "localhost:5001     /http://localhost:5001/chain\n",
      "localhost:5002\n",
      "localhost:5001\n",
      "WINNER SELECTED :  validator_2\n",
      "localhost:5002\n"
     ]
    },
    {
     "name": "stderr",
     "output_type": "stream",
     "text": [
      "127.0.0.1 - - [02/Feb/2023 23:56:17] \"\u001b[37mGET /nodes/node_weight HTTP/1.1\u001b[0m\" 200 -\n"
     ]
    },
    {
     "name": "stdout",
     "output_type": "stream",
     "text": [
      "node_weight requested!!\n",
      "{'winner': 'validator_1'}\n",
      "localhost:5001\n"
     ]
    },
    {
     "name": "stderr",
     "output_type": "stream",
     "text": [
      "127.0.0.1 - - [02/Feb/2023 23:56:21] \"\u001b[37mGET /nodes/node_weight HTTP/1.1\u001b[0m\" 200 -\n"
     ]
    },
    {
     "name": "stdout",
     "output_type": "stream",
     "text": [
      "node_weight requested!!\n",
      "{'winner': 'validator_1'}\n",
      "final_winner selected :  validator_1\n",
      "MY NODE IS SELECTED AS MINER NODE\n",
      "validator_1  IS SELECTED AS MINER NODE\n",
      "b'{\"message\":\"Transaction will be added to Block {2}\"}\\n'\n"
     ]
    },
    {
     "name": "stderr",
     "output_type": "stream",
     "text": [
      "127.0.0.1 - - [02/Feb/2023 23:56:27] \"\u001b[37mGET /mine HTTP/1.1\u001b[0m\" 200 -\n"
     ]
    },
    {
     "name": "stdout",
     "output_type": "stream",
     "text": [
      "b'{\"message\":\"Transaction will be added to Block {2}\"}\\n'\n"
     ]
    },
    {
     "name": "stderr",
     "output_type": "stream",
     "text": [
      "127.0.0.1 - - [02/Feb/2023 23:56:29] \"\u001b[37mGET /chain HTTP/1.1\u001b[0m\" 200 -\n"
     ]
    },
    {
     "name": "stdout",
     "output_type": "stream",
     "text": [
      "chain info requested!!\n",
      "transactions_new!!! :  {'sender': 'test_from', 'recipient': 'test_to2', 'amount': 30}\n",
      "share transaction to >>    http://localhost:5002\n"
     ]
    },
    {
     "name": "stderr",
     "output_type": "stream",
     "text": [
      "127.0.0.1 - - [02/Feb/2023 23:56:39] \"\u001b[37mPOST /transactions/new HTTP/1.1\u001b[0m\" 201 -\n"
     ]
    },
    {
     "name": "stdout",
     "output_type": "stream",
     "text": [
      "share transaction to >>    http://localhost:5001\n",
      "MINING STARTED\n",
      "localhost:5002     /http://localhost:5002/chain\n",
      "localhost:5001     /http://localhost:5001/chain\n",
      "localhost:5002\n",
      "localhost:5001\n",
      "WINNER SELECTED :  validator_3\n",
      "localhost:5002\n"
     ]
    },
    {
     "name": "stderr",
     "output_type": "stream",
     "text": [
      "127.0.0.1 - - [02/Feb/2023 23:56:58] \"\u001b[37mGET /nodes/node_weight HTTP/1.1\u001b[0m\" 200 -\n"
     ]
    },
    {
     "name": "stdout",
     "output_type": "stream",
     "text": [
      "node_weight requested!!\n",
      "{'winner': 'validator_1'}\n",
      "localhost:5001\n"
     ]
    },
    {
     "name": "stderr",
     "output_type": "stream",
     "text": [
      "127.0.0.1 - - [02/Feb/2023 23:57:02] \"\u001b[37mGET /nodes/node_weight HTTP/1.1\u001b[0m\" 200 -\n"
     ]
    },
    {
     "name": "stdout",
     "output_type": "stream",
     "text": [
      "node_weight requested!!\n",
      "{'winner': 'validator_2'}\n",
      "final_winner selected :  validator_3\n",
      "MY NODE IS NOT SELECTED AS MINER NODE\n",
      "validator_3  IS SELECTED AS MINER NODE\n",
      "b'{\"message\":\"Transaction will be added to Block {3}\"}\\n'\n"
     ]
    },
    {
     "name": "stderr",
     "output_type": "stream",
     "text": [
      "127.0.0.1 - - [02/Feb/2023 23:57:08] \"\u001b[37mGET /mine HTTP/1.1\u001b[0m\" 200 -\n"
     ]
    },
    {
     "name": "stdout",
     "output_type": "stream",
     "text": [
      "b'{\"message\":\"Transaction will be added to Block {3}\"}\\n'\n",
      "transactions_new!!! :  {'sender': 'test_from', 'recipient': 'test_to3', 'amount': 300}\n",
      "share transaction to >>    http://localhost:5002\n"
     ]
    },
    {
     "name": "stderr",
     "output_type": "stream",
     "text": [
      "127.0.0.1 - - [02/Feb/2023 23:57:14] \"\u001b[37mPOST /transactions/new HTTP/1.1\u001b[0m\" 201 -\n"
     ]
    },
    {
     "name": "stdout",
     "output_type": "stream",
     "text": [
      "share transaction to >>    http://localhost:5001\n",
      "MINING STARTED\n",
      "localhost:5002     /http://localhost:5002/chain\n",
      "localhost:5001     /http://localhost:5001/chain\n",
      "localhost:5002\n",
      "localhost:5001\n",
      "WINNER SELECTED :  validator_1\n",
      "localhost:5002\n"
     ]
    },
    {
     "name": "stderr",
     "output_type": "stream",
     "text": [
      "127.0.0.1 - - [02/Feb/2023 23:57:33] \"\u001b[37mGET /nodes/node_weight HTTP/1.1\u001b[0m\" 200 -\n"
     ]
    },
    {
     "name": "stdout",
     "output_type": "stream",
     "text": [
      "node_weight requested!!\n",
      "{'winner': 'validator_2'}\n",
      "localhost:5001\n"
     ]
    },
    {
     "name": "stderr",
     "output_type": "stream",
     "text": [
      "127.0.0.1 - - [02/Feb/2023 23:57:37] \"\u001b[37mGET /nodes/node_weight HTTP/1.1\u001b[0m\" 200 -\n"
     ]
    },
    {
     "name": "stdout",
     "output_type": "stream",
     "text": [
      "node_weight requested!!\n",
      "{'winner': 'validator_3'}\n",
      "final_winner selected :  validator_1\n",
      "MY NODE IS SELECTED AS MINER NODE\n",
      "validator_1  IS SELECTED AS MINER NODE\n",
      "b'{\"message\":\"Transaction will be added to Block {4}\"}\\n'\n"
     ]
    },
    {
     "name": "stderr",
     "output_type": "stream",
     "text": [
      "127.0.0.1 - - [02/Feb/2023 23:57:43] \"\u001b[37mGET /mine HTTP/1.1\u001b[0m\" 200 -\n"
     ]
    },
    {
     "name": "stdout",
     "output_type": "stream",
     "text": [
      "b'{\"message\":\"Transaction will be added to Block {4}\"}\\n'\n",
      "transactions_new!!! :  {'sender': 'test_from', 'recipient': 'test_to4', 'amount': 300}\n",
      "share transaction to >>    http://localhost:5002\n"
     ]
    },
    {
     "name": "stderr",
     "output_type": "stream",
     "text": [
      "127.0.0.1 - - [02/Feb/2023 23:57:49] \"\u001b[37mPOST /transactions/new HTTP/1.1\u001b[0m\" 201 -\n"
     ]
    },
    {
     "name": "stdout",
     "output_type": "stream",
     "text": [
      "share transaction to >>    http://localhost:5001\n",
      "MINING STARTED\n",
      "localhost:5002     /http://localhost:5002/chain\n",
      "localhost:5001     /http://localhost:5001/chain\n",
      "localhost:5002\n",
      "localhost:5001\n",
      "WINNER SELECTED :  validator_3\n",
      "localhost:5002\n"
     ]
    },
    {
     "name": "stderr",
     "output_type": "stream",
     "text": [
      "127.0.0.1 - - [02/Feb/2023 23:58:08] \"\u001b[37mGET /nodes/node_weight HTTP/1.1\u001b[0m\" 200 -\n"
     ]
    },
    {
     "name": "stdout",
     "output_type": "stream",
     "text": [
      "node_weight requested!!\n",
      "{'winner': 'validator_3'}\n",
      "localhost:5001\n"
     ]
    },
    {
     "name": "stderr",
     "output_type": "stream",
     "text": [
      "127.0.0.1 - - [02/Feb/2023 23:58:12] \"\u001b[37mGET /nodes/node_weight HTTP/1.1\u001b[0m\" 200 -\n"
     ]
    },
    {
     "name": "stdout",
     "output_type": "stream",
     "text": [
      "node_weight requested!!\n",
      "{'winner': 'validator_1'}\n",
      "final_winner selected :  validator_3\n",
      "MY NODE IS NOT SELECTED AS MINER NODE\n",
      "validator_3  IS SELECTED AS MINER NODE\n",
      "b'{\"message\":\"Transaction will be added to Block {5}\"}\\n'\n"
     ]
    },
    {
     "name": "stderr",
     "output_type": "stream",
     "text": [
      "127.0.0.1 - - [02/Feb/2023 23:58:18] \"\u001b[37mGET /mine HTTP/1.1\u001b[0m\" 200 -\n"
     ]
    },
    {
     "name": "stdout",
     "output_type": "stream",
     "text": [
      "b'{\"message\":\"Transaction will be added to Block {5}\"}\\n'\n",
      "transactions_new!!! :  {'sender': 'test_from', 'recipient': 'test_to2', 'amount': 30}\n",
      "share transaction to >>    http://localhost:5002\n"
     ]
    },
    {
     "name": "stderr",
     "output_type": "stream",
     "text": [
      "127.0.0.1 - - [02/Feb/2023 23:58:24] \"\u001b[37mPOST /transactions/new HTTP/1.1\u001b[0m\" 201 -\n"
     ]
    },
    {
     "name": "stdout",
     "output_type": "stream",
     "text": [
      "share transaction to >>    http://localhost:5001\n",
      "MINING STARTED\n",
      "localhost:5002     /http://localhost:5002/chain\n",
      "localhost:5001     /http://localhost:5001/chain\n",
      "localhost:5002\n",
      "localhost:5001\n",
      "WINNER SELECTED :  validator_3\n",
      "localhost:5002\n"
     ]
    },
    {
     "name": "stderr",
     "output_type": "stream",
     "text": [
      "127.0.0.1 - - [02/Feb/2023 23:58:42] \"\u001b[37mGET /nodes/node_weight HTTP/1.1\u001b[0m\" 200 -\n"
     ]
    },
    {
     "name": "stdout",
     "output_type": "stream",
     "text": [
      "node_weight requested!!\n",
      "{'winner': 'validator_1'}\n",
      "localhost:5001\n"
     ]
    },
    {
     "name": "stderr",
     "output_type": "stream",
     "text": [
      "127.0.0.1 - - [02/Feb/2023 23:58:47] \"\u001b[37mGET /nodes/node_weight HTTP/1.1\u001b[0m\" 200 -\n"
     ]
    },
    {
     "name": "stdout",
     "output_type": "stream",
     "text": [
      "node_weight requested!!\n",
      "{'winner': 'validator_1'}\n",
      "final_winner selected :  validator_1\n",
      "MY NODE IS SELECTED AS MINER NODE\n",
      "validator_1  IS SELECTED AS MINER NODE\n",
      "b'{\"message\":\"Transaction will be added to Block {6}\"}\\n'\n"
     ]
    },
    {
     "name": "stderr",
     "output_type": "stream",
     "text": [
      "127.0.0.1 - - [02/Feb/2023 23:58:53] \"\u001b[37mGET /mine HTTP/1.1\u001b[0m\" 200 -\n"
     ]
    },
    {
     "name": "stdout",
     "output_type": "stream",
     "text": [
      "b'{\"message\":\"Transaction will be added to Block {6}\"}\\n'\n",
      "transactions_new!!! :  {'sender': 'test_from', 'recipient': 'test_to3', 'amount': 300}\n",
      "share transaction to >>    http://localhost:5002\n"
     ]
    },
    {
     "name": "stderr",
     "output_type": "stream",
     "text": [
      "127.0.0.1 - - [02/Feb/2023 23:58:59] \"\u001b[37mPOST /transactions/new HTTP/1.1\u001b[0m\" 201 -\n"
     ]
    },
    {
     "name": "stdout",
     "output_type": "stream",
     "text": [
      "share transaction to >>    http://localhost:5001\n",
      "MINING STARTED\n",
      "localhost:5002     /http://localhost:5002/chain\n",
      "localhost:5001     /http://localhost:5001/chain\n",
      "localhost:5002\n",
      "localhost:5001\n",
      "WINNER SELECTED :  validator_1\n",
      "localhost:5002\n"
     ]
    },
    {
     "name": "stderr",
     "output_type": "stream",
     "text": [
      "127.0.0.1 - - [02/Feb/2023 23:59:17] \"\u001b[37mGET /nodes/node_weight HTTP/1.1\u001b[0m\" 200 -\n"
     ]
    },
    {
     "name": "stdout",
     "output_type": "stream",
     "text": [
      "node_weight requested!!\n",
      "{'winner': 'validator_1'}\n",
      "localhost:5001\n"
     ]
    },
    {
     "name": "stderr",
     "output_type": "stream",
     "text": [
      "127.0.0.1 - - [02/Feb/2023 23:59:21] \"\u001b[37mGET /nodes/node_weight HTTP/1.1\u001b[0m\" 200 -\n"
     ]
    },
    {
     "name": "stdout",
     "output_type": "stream",
     "text": [
      "node_weight requested!!\n",
      "{'winner': 'validator_1'}\n",
      "final_winner selected :  validator_1\n",
      "MY NODE IS SELECTED AS MINER NODE\n",
      "validator_1  IS SELECTED AS MINER NODE\n",
      "b'{\"message\":\"Transaction will be added to Block {7}\"}\\n'\n"
     ]
    },
    {
     "name": "stderr",
     "output_type": "stream",
     "text": [
      "127.0.0.1 - - [02/Feb/2023 23:59:27] \"\u001b[37mGET /mine HTTP/1.1\u001b[0m\" 200 -\n"
     ]
    },
    {
     "name": "stdout",
     "output_type": "stream",
     "text": [
      "b'{\"message\":\"Transaction will be added to Block {7}\"}\\n'\n",
      "transactions_new!!! :  {'sender': 'test_from', 'recipient': 'test_to4', 'amount': 300}\n",
      "share transaction to >>    http://localhost:5002\n"
     ]
    },
    {
     "name": "stderr",
     "output_type": "stream",
     "text": [
      "127.0.0.1 - - [02/Feb/2023 23:59:34] \"\u001b[37mPOST /transactions/new HTTP/1.1\u001b[0m\" 201 -\n"
     ]
    },
    {
     "name": "stdout",
     "output_type": "stream",
     "text": [
      "share transaction to >>    http://localhost:5001\n",
      "MINING STARTED\n",
      "localhost:5002     /http://localhost:5002/chain\n",
      "localhost:5001     /http://localhost:5001/chain\n",
      "localhost:5002\n",
      "localhost:5001\n",
      "WINNER SELECTED :  validator_2\n",
      "localhost:5002\n"
     ]
    },
    {
     "name": "stderr",
     "output_type": "stream",
     "text": [
      "127.0.0.1 - - [02/Feb/2023 23:59:52] \"\u001b[37mGET /nodes/node_weight HTTP/1.1\u001b[0m\" 200 -\n"
     ]
    },
    {
     "name": "stdout",
     "output_type": "stream",
     "text": [
      "node_weight requested!!\n",
      "{'winner': 'validator_2'}\n",
      "localhost:5001\n"
     ]
    },
    {
     "name": "stderr",
     "output_type": "stream",
     "text": [
      "127.0.0.1 - - [02/Feb/2023 23:59:56] \"\u001b[37mGET /nodes/node_weight HTTP/1.1\u001b[0m\" 200 -\n"
     ]
    },
    {
     "name": "stdout",
     "output_type": "stream",
     "text": [
      "node_weight requested!!\n",
      "{'winner': 'validator_3'}\n",
      "final_winner selected :  validator_2\n",
      "MY NODE IS NOT SELECTED AS MINER NODE\n",
      "validator_2  IS SELECTED AS MINER NODE\n",
      "b'{\"message\":\"Transaction will be added to Block {8}\"}\\n'\n"
     ]
    },
    {
     "name": "stderr",
     "output_type": "stream",
     "text": [
      "127.0.0.1 - - [03/Feb/2023 00:00:02] \"\u001b[37mGET /mine HTTP/1.1\u001b[0m\" 200 -\n"
     ]
    },
    {
     "name": "stdout",
     "output_type": "stream",
     "text": [
      "b'{\"message\":\"Transaction will be added to Block {8}\"}\\n'\n"
     ]
    },
    {
     "name": "stderr",
     "output_type": "stream",
     "text": [
      "127.0.0.1 - - [03/Feb/2023 00:00:04] \"\u001b[37mGET /chain HTTP/1.1\u001b[0m\" 200 -\n"
     ]
    },
    {
     "name": "stdout",
     "output_type": "stream",
     "text": [
      "chain info requested!!\n"
     ]
    },
    {
     "name": "stderr",
     "output_type": "stream",
     "text": [
      "127.0.0.1 - - [03/Feb/2023 00:05:17] \"\u001b[37mGET /chain HTTP/1.1\u001b[0m\" 200 -\n"
     ]
    },
    {
     "name": "stdout",
     "output_type": "stream",
     "text": [
      "chain info requested!!\n",
      "transactions_new!!! :  {'sender': 'test_from', 'recipient': 'test_to2', 'amount': 30}\n",
      "share transaction to >>    http://localhost:5002\n"
     ]
    },
    {
     "name": "stderr",
     "output_type": "stream",
     "text": [
      "127.0.0.1 - - [03/Feb/2023 00:05:46] \"\u001b[37mPOST /transactions/new HTTP/1.1\u001b[0m\" 201 -\n"
     ]
    },
    {
     "name": "stdout",
     "output_type": "stream",
     "text": [
      "share transaction to >>    http://localhost:5001\n",
      "MINING STARTED\n",
      "localhost:5002     /http://localhost:5002/chain\n",
      "localhost:5001     /http://localhost:5001/chain\n",
      "localhost:5002\n",
      "localhost:5001\n",
      "WINNER SELECTED :  validator_2\n",
      "localhost:5002\n"
     ]
    },
    {
     "name": "stderr",
     "output_type": "stream",
     "text": [
      "127.0.0.1 - - [03/Feb/2023 00:06:05] \"\u001b[37mGET /nodes/node_weight HTTP/1.1\u001b[0m\" 200 -\n"
     ]
    },
    {
     "name": "stdout",
     "output_type": "stream",
     "text": [
      "node_weight requested!!\n",
      "{'winner': 'validator_1'}\n",
      "localhost:5001\n"
     ]
    },
    {
     "name": "stderr",
     "output_type": "stream",
     "text": [
      "127.0.0.1 - - [03/Feb/2023 00:06:09] \"\u001b[37mGET /nodes/node_weight HTTP/1.1\u001b[0m\" 200 -\n"
     ]
    },
    {
     "name": "stdout",
     "output_type": "stream",
     "text": [
      "node_weight requested!!\n",
      "{'winner': 'validator_1'}\n",
      "final_winner selected :  validator_1\n",
      "MY NODE IS SELECTED AS MINER NODE\n",
      "validator_1  IS SELECTED AS MINER NODE\n",
      "b'{\"message\":\"Transaction will be added to Block {9}\"}\\n'\n"
     ]
    },
    {
     "name": "stderr",
     "output_type": "stream",
     "text": [
      "127.0.0.1 - - [03/Feb/2023 00:06:15] \"\u001b[37mGET /mine HTTP/1.1\u001b[0m\" 200 -\n"
     ]
    },
    {
     "name": "stdout",
     "output_type": "stream",
     "text": [
      "b'{\"message\":\"Transaction will be added to Block {9}\"}\\n'\n",
      "transactions_new!!! :  {'sender': 'test_from', 'recipient': 'test_to3', 'amount': 300}\n",
      "share transaction to >>    http://localhost:5002\n"
     ]
    },
    {
     "name": "stderr",
     "output_type": "stream",
     "text": [
      "127.0.0.1 - - [03/Feb/2023 00:06:21] \"\u001b[37mPOST /transactions/new HTTP/1.1\u001b[0m\" 201 -\n"
     ]
    },
    {
     "name": "stdout",
     "output_type": "stream",
     "text": [
      "share transaction to >>    http://localhost:5001\n",
      "MINING STARTED\n",
      "localhost:5002     /http://localhost:5002/chain\n",
      "localhost:5001     /http://localhost:5001/chain\n",
      "localhost:5002\n",
      "localhost:5001\n",
      "WINNER SELECTED :  validator_2\n",
      "localhost:5002\n"
     ]
    },
    {
     "name": "stderr",
     "output_type": "stream",
     "text": [
      "127.0.0.1 - - [03/Feb/2023 00:06:40] \"\u001b[37mGET /nodes/node_weight HTTP/1.1\u001b[0m\" 200 -\n"
     ]
    },
    {
     "name": "stdout",
     "output_type": "stream",
     "text": [
      "node_weight requested!!\n",
      "{'winner': 'validator_2'}\n",
      "localhost:5001\n"
     ]
    },
    {
     "name": "stderr",
     "output_type": "stream",
     "text": [
      "127.0.0.1 - - [03/Feb/2023 00:06:44] \"\u001b[37mGET /nodes/node_weight HTTP/1.1\u001b[0m\" 200 -\n"
     ]
    },
    {
     "name": "stdout",
     "output_type": "stream",
     "text": [
      "node_weight requested!!\n",
      "{'winner': 'validator_1'}\n",
      "final_winner selected :  validator_2\n",
      "MY NODE IS NOT SELECTED AS MINER NODE\n",
      "validator_2  IS SELECTED AS MINER NODE\n",
      "b'{\"message\":\"Transaction will be added to Block {10}\"}\\n'\n"
     ]
    },
    {
     "name": "stderr",
     "output_type": "stream",
     "text": [
      "127.0.0.1 - - [03/Feb/2023 00:06:50] \"\u001b[37mGET /mine HTTP/1.1\u001b[0m\" 200 -\n"
     ]
    },
    {
     "name": "stdout",
     "output_type": "stream",
     "text": [
      "b'{\"message\":\"Transaction will be added to Block {10}\"}\\n'\n",
      "transactions_new!!! :  {'sender': 'test_from', 'recipient': 'test_to4', 'amount': 300}\n",
      "share transaction to >>    http://localhost:5002\n"
     ]
    },
    {
     "name": "stderr",
     "output_type": "stream",
     "text": [
      "127.0.0.1 - - [03/Feb/2023 00:06:56] \"\u001b[37mPOST /transactions/new HTTP/1.1\u001b[0m\" 201 -\n"
     ]
    },
    {
     "name": "stdout",
     "output_type": "stream",
     "text": [
      "share transaction to >>    http://localhost:5001\n",
      "MINING STARTED\n",
      "localhost:5002     /http://localhost:5002/chain\n",
      "localhost:5001     /http://localhost:5001/chain\n",
      "localhost:5002\n",
      "localhost:5001\n",
      "WINNER SELECTED :  validator_2\n",
      "localhost:5002\n"
     ]
    },
    {
     "name": "stderr",
     "output_type": "stream",
     "text": [
      "127.0.0.1 - - [03/Feb/2023 00:07:14] \"\u001b[37mGET /nodes/node_weight HTTP/1.1\u001b[0m\" 200 -\n"
     ]
    },
    {
     "name": "stdout",
     "output_type": "stream",
     "text": [
      "node_weight requested!!\n",
      "{'winner': 'validator_3'}\n",
      "localhost:5001\n"
     ]
    },
    {
     "name": "stderr",
     "output_type": "stream",
     "text": [
      "127.0.0.1 - - [03/Feb/2023 00:07:18] \"\u001b[37mGET /nodes/node_weight HTTP/1.1\u001b[0m\" 200 -\n"
     ]
    },
    {
     "name": "stdout",
     "output_type": "stream",
     "text": [
      "node_weight requested!!\n",
      "{'winner': 'validator_1'}\n",
      "final_winner selected :  validator_2\n",
      "MY NODE IS NOT SELECTED AS MINER NODE\n",
      "validator_2  IS SELECTED AS MINER NODE\n",
      "b'{\"message\":\"Transaction will be added to Block {11}\"}\\n'\n"
     ]
    },
    {
     "name": "stderr",
     "output_type": "stream",
     "text": [
      "127.0.0.1 - - [03/Feb/2023 00:07:25] \"\u001b[37mGET /mine HTTP/1.1\u001b[0m\" 200 -\n"
     ]
    },
    {
     "name": "stdout",
     "output_type": "stream",
     "text": [
      "b'{\"message\":\"Transaction will be added to Block {11}\"}\\n'\n",
      "transactions_new!!! :  {'sender': 'test_from', 'recipient': 'test_to2', 'amount': 30}\n",
      "share transaction to >>    http://localhost:5002\n"
     ]
    },
    {
     "name": "stderr",
     "output_type": "stream",
     "text": [
      "127.0.0.1 - - [03/Feb/2023 00:07:31] \"\u001b[37mPOST /transactions/new HTTP/1.1\u001b[0m\" 201 -\n"
     ]
    },
    {
     "name": "stdout",
     "output_type": "stream",
     "text": [
      "share transaction to >>    http://localhost:5001\n",
      "MINING STARTED\n",
      "localhost:5002     /http://localhost:5002/chain\n",
      "localhost:5001     /http://localhost:5001/chain\n",
      "localhost:5002\n",
      "localhost:5001\n",
      "WINNER SELECTED :  validator_2\n",
      "localhost:5002\n"
     ]
    },
    {
     "name": "stderr",
     "output_type": "stream",
     "text": [
      "127.0.0.1 - - [03/Feb/2023 00:07:49] \"\u001b[37mGET /nodes/node_weight HTTP/1.1\u001b[0m\" 200 -\n"
     ]
    },
    {
     "name": "stdout",
     "output_type": "stream",
     "text": [
      "node_weight requested!!\n",
      "{'winner': 'validator_1'}\n",
      "localhost:5001\n"
     ]
    },
    {
     "name": "stderr",
     "output_type": "stream",
     "text": [
      "127.0.0.1 - - [03/Feb/2023 00:07:53] \"\u001b[37mGET /nodes/node_weight HTTP/1.1\u001b[0m\" 200 -\n"
     ]
    },
    {
     "name": "stdout",
     "output_type": "stream",
     "text": [
      "node_weight requested!!\n",
      "{'winner': 'validator_2'}\n",
      "final_winner selected :  validator_2\n",
      "MY NODE IS NOT SELECTED AS MINER NODE\n",
      "validator_2  IS SELECTED AS MINER NODE\n",
      "b'{\"message\":\"Transaction will be added to Block {12}\"}\\n'\n"
     ]
    },
    {
     "name": "stderr",
     "output_type": "stream",
     "text": [
      "127.0.0.1 - - [03/Feb/2023 00:07:59] \"\u001b[37mGET /mine HTTP/1.1\u001b[0m\" 200 -\n"
     ]
    },
    {
     "name": "stdout",
     "output_type": "stream",
     "text": [
      "b'{\"message\":\"Transaction will be added to Block {12}\"}\\n'\n",
      "transactions_new!!! :  {'sender': 'test_from', 'recipient': 'test_to3', 'amount': 300}\n",
      "share transaction to >>    http://localhost:5002\n"
     ]
    },
    {
     "name": "stderr",
     "output_type": "stream",
     "text": [
      "127.0.0.1 - - [03/Feb/2023 00:08:06] \"\u001b[37mPOST /transactions/new HTTP/1.1\u001b[0m\" 201 -\n"
     ]
    },
    {
     "name": "stdout",
     "output_type": "stream",
     "text": [
      "share transaction to >>    http://localhost:5001\n",
      "MINING STARTED\n",
      "localhost:5002     /http://localhost:5002/chain\n",
      "localhost:5001     /http://localhost:5001/chain\n",
      "localhost:5002\n",
      "localhost:5001\n",
      "WINNER SELECTED :  validator_1\n",
      "localhost:5002\n"
     ]
    },
    {
     "name": "stderr",
     "output_type": "stream",
     "text": [
      "127.0.0.1 - - [03/Feb/2023 00:08:24] \"\u001b[37mGET /nodes/node_weight HTTP/1.1\u001b[0m\" 200 -\n"
     ]
    },
    {
     "name": "stdout",
     "output_type": "stream",
     "text": [
      "node_weight requested!!\n",
      "{'winner': 'validator_3'}\n",
      "localhost:5001\n"
     ]
    },
    {
     "name": "stderr",
     "output_type": "stream",
     "text": [
      "127.0.0.1 - - [03/Feb/2023 00:08:28] \"\u001b[37mGET /nodes/node_weight HTTP/1.1\u001b[0m\" 200 -\n"
     ]
    },
    {
     "name": "stdout",
     "output_type": "stream",
     "text": [
      "node_weight requested!!\n",
      "{'winner': 'validator_2'}\n",
      "final_winner selected :  validator_1\n",
      "MY NODE IS SELECTED AS MINER NODE\n",
      "validator_1  IS SELECTED AS MINER NODE\n",
      "b'{\"message\":\"Transaction will be added to Block {13}\"}\\n'\n"
     ]
    },
    {
     "name": "stderr",
     "output_type": "stream",
     "text": [
      "127.0.0.1 - - [03/Feb/2023 00:08:34] \"\u001b[37mGET /mine HTTP/1.1\u001b[0m\" 200 -\n"
     ]
    },
    {
     "name": "stdout",
     "output_type": "stream",
     "text": [
      "b'{\"message\":\"Transaction will be added to Block {13}\"}\\n'\n",
      "transactions_new!!! :  {'sender': 'test_from', 'recipient': 'test_to4', 'amount': 300}\n",
      "share transaction to >>    http://localhost:5002\n"
     ]
    },
    {
     "name": "stderr",
     "output_type": "stream",
     "text": [
      "127.0.0.1 - - [03/Feb/2023 00:08:40] \"\u001b[37mPOST /transactions/new HTTP/1.1\u001b[0m\" 201 -\n"
     ]
    },
    {
     "name": "stdout",
     "output_type": "stream",
     "text": [
      "share transaction to >>    http://localhost:5001\n",
      "MINING STARTED\n",
      "localhost:5002     /http://localhost:5002/chain\n",
      "localhost:5001     /http://localhost:5001/chain\n",
      "localhost:5002\n",
      "localhost:5001\n",
      "WINNER SELECTED :  validator_2\n",
      "localhost:5002\n"
     ]
    },
    {
     "name": "stderr",
     "output_type": "stream",
     "text": [
      "127.0.0.1 - - [03/Feb/2023 00:08:59] \"\u001b[37mGET /nodes/node_weight HTTP/1.1\u001b[0m\" 200 -\n"
     ]
    },
    {
     "name": "stdout",
     "output_type": "stream",
     "text": [
      "node_weight requested!!\n",
      "{'winner': 'validator_3'}\n",
      "localhost:5001\n"
     ]
    },
    {
     "name": "stderr",
     "output_type": "stream",
     "text": [
      "127.0.0.1 - - [03/Feb/2023 00:09:03] \"\u001b[37mGET /nodes/node_weight HTTP/1.1\u001b[0m\" 200 -\n"
     ]
    },
    {
     "name": "stdout",
     "output_type": "stream",
     "text": [
      "node_weight requested!!\n",
      "{'winner': 'validator_1'}\n",
      "final_winner selected :  validator_2\n",
      "MY NODE IS NOT SELECTED AS MINER NODE\n",
      "validator_2  IS SELECTED AS MINER NODE\n",
      "b'{\"message\":\"Transaction will be added to Block {14}\"}\\n'\n"
     ]
    },
    {
     "name": "stderr",
     "output_type": "stream",
     "text": [
      "127.0.0.1 - - [03/Feb/2023 00:09:09] \"\u001b[37mGET /mine HTTP/1.1\u001b[0m\" 200 -\n"
     ]
    },
    {
     "name": "stdout",
     "output_type": "stream",
     "text": [
      "b'{\"message\":\"Transaction will be added to Block {14}\"}\\n'\n"
     ]
    },
    {
     "name": "stderr",
     "output_type": "stream",
     "text": [
      "127.0.0.1 - - [03/Feb/2023 00:09:11] \"\u001b[37mGET /chain HTTP/1.1\u001b[0m\" 200 -\n"
     ]
    },
    {
     "name": "stdout",
     "output_type": "stream",
     "text": [
      "chain info requested!!\n"
     ]
    },
    {
     "name": "stderr",
     "output_type": "stream",
     "text": [
      "127.0.0.1 - - [03/Feb/2023 00:13:12] \"\u001b[37mGET /chain HTTP/1.1\u001b[0m\" 200 -\n"
     ]
    },
    {
     "name": "stdout",
     "output_type": "stream",
     "text": [
      "chain info requested!!\n"
     ]
    }
   ],
   "source": [
    "app = Flask(__name__)\n",
    "\n",
    "@app.route('/chain', methods=['GET'])\n",
    "def full_chain():\n",
    "    print(\"chain info requested!!\")\n",
    "    response = {\n",
    "        'chain' : blockchain.chain, \n",
    "        'length' : len(blockchain.chain), \n",
    "    }\n",
    "    return jsonify(response), 200\n",
    "\n",
    "@app.route('/transactions/new', methods=['POST'])\n",
    "def new_transaction():\n",
    "    values = request.get_json() \n",
    "    print(\"transactions_new!!! : \", values)\n",
    "    required = ['sender', 'recipient', 'amount'] \n",
    "\n",
    "    if not all(k in values for k in required):\n",
    "        return 'missing values', 400\n",
    "    \n",
    "    if 'smart_contract' not in values:\n",
    "        values['smart_contract'] = 'empty'\n",
    "\n",
    "    index = blockchain.new_transaction(values['sender'],values['recipient'],\n",
    "values['amount'], values['smart_contract'])\n",
    "        \n",
    "    response = {'message' : 'Transaction will be added to Block {%s}' % index}\n",
    "    \n",
    "    if \"type\" not in values:  ## 신규로 추가된 경우 type 이라는 정보가 포함되어 없다. 해당 내용은 전파 필요\n",
    "        for node in blockchain.nodes:  # nodes에 저장된 모든 노드에 정보를 전달한다.\n",
    "            headers = {'Content-Type' : 'application/json; charset=utf-8'}\n",
    "            data = {\n",
    "                \"sender\": values['sender'],\n",
    "                \"recipient\": values['recipient'],\n",
    "                \"amount\": values['amount'],\n",
    "                \"type\" : \"sharing\"   # 전파이기에 sharing이라는 type 이 꼭 필요하다.\n",
    "            }\n",
    "            requests.post(\"http://\" + node  + \"/transactions/new\", headers=headers, data=json.dumps(data))\n",
    "            print(\"share transaction to >>   \",\"http://\" + node )\n",
    "            \n",
    "    return jsonify(response), 201\n",
    "\n",
    "@app.route('/block/new', methods=['POST'])\n",
    "def new_block():\n",
    "    block = request.get_json() \n",
    "    print(\"NEW BLOCK  ADDED!!! : \", block)\n",
    "    \n",
    "    blockchain.current_transaction = []\n",
    "    blockchain.chain.append(block) \n",
    "    response = {'message' : 'Transaction will be added to Block {%s}' % block['index']}\n",
    "    return jsonify(response), 201\n",
    "\n",
    "\n",
    "\n",
    "@app.route('/mine', methods=['GET'])\n",
    "def mine():\n",
    "    print(\"MINING STARTED\")    \n",
    "    final_winner = blockchain.pos()  \n",
    "    \n",
    "    if final_winner == blockchain.account_name:  # 만약 본 노드가 winner로 선정되었으면 아래와 같이\n",
    "        print(\"MY NODE IS SELECTED AS MINER NODE\")\n",
    "\n",
    "    \n",
    "    else : # isWinner = False : 본 노드가 winner가 아님\n",
    "        print(\"MY NODE IS NOT SELECTED AS MINER NODE\")\n",
    "\n",
    "    blockchain.new_transaction(           #  선정된 노드에게 보상을 주고\n",
    "        sender=\"mining_profit\", \n",
    "        recipient=final_winner, \n",
    "        amount=mine_profit, # coinbase transaction \n",
    "        smart_contract={\"contract_address\":\"mining_profit\"}, \n",
    "    )\n",
    "\n",
    "    previous_hash = blockchain.hash(blockchain.chain[-1])\n",
    "    block = blockchain.new_block(previous_hash = previous_hash, address = final_winner)  #  신규 블록 생성\n",
    "    print(final_winner,\" IS SELECTED AS MINER NODE\")\n",
    "    #####\n",
    "    #다른노드들에 전파해야해!!!\n",
    "    #####\n",
    "    ################### 노드 연결을 위해 추가되는 부분\n",
    "    for node in blockchain.nodes: # nodes에 연결된 모든 노드에 작업증명(PoW)가 완료되었음을 전파한다.\n",
    "        headers = {'Content-Type' : 'application/json; charset=utf-8'}\n",
    "\n",
    "        alarm_newBlock = requests.post(\"http://\" + node  + \"/block/new\", headers=headers, data = json.dumps(blockchain.chain[-1] ) ) \n",
    "        print(alarm_newBlock.content)\n",
    "\n",
    "    response = {\n",
    "        'message' : 'new block found',\n",
    "        'index' : block['index'],\n",
    "        'transactions' : block['transactions'],\n",
    "        'validator' : block['validator'],\n",
    "        'previous_hash' : block['previous_hash'],\n",
    "        'hash' : block['hash']\n",
    "    }\n",
    "\n",
    "\n",
    "    response = {'message' : 'Mining Complete'}\n",
    "    return jsonify(response), 200\n",
    "\n",
    "\n",
    "\n",
    "################### 노드 연결을 위해 추가되는 함수 : 다른 Node 등록!\n",
    "@app.route('/nodes/register', methods=['POST'])\n",
    "def register_nodes():\n",
    "    values = request.get_json() # json 형태로 보내면 노드가 저장이 됨\n",
    "    print(\"register nodes !!! : \", values)\n",
    "    registering_node =  values.get('nodes')\n",
    "    if registering_node == None: # 요청된 node 값이 없다면! \n",
    "        return \"Error: Please supply a valid list of nodes\", 400\n",
    "     \n",
    "    ## 요청받은 노드드이 이미 등록된 노드와 중복인지 검사\n",
    "    ## 중복인인 경우\n",
    "    if registering_node.split(\"//\")[1] in blockchain.nodes:\n",
    "        print(\"Node already registered\")  # 이미 등록된 노드입니다.\n",
    "        response = {\n",
    "            'message' : 'Already Registered Node',\n",
    "            'total_nodes' : list(blockchain.nodes),\n",
    "        }\n",
    "\n",
    "    ## 중복  안되었다면\n",
    "    else:  \n",
    "        # 내 노드리스트에 추가\n",
    "        blockchain.register_node(registering_node) \n",
    "        \n",
    "        ## 이 후 해당 노드에 내정보를  등록하기\n",
    "        headers = {'Content-Type' : 'application/json; charset=utf-8'}\n",
    "        data = {\n",
    "            \"nodes\": 'http://' + my_ip + \":\" + my_port\n",
    "        }\n",
    "        print(\"MY NODE INFO \" , 'http://' + my_ip + \":\" + my_port)\n",
    "        requests.post( registering_node + \"/nodes/register\", headers=headers, data=json.dumps(data))\n",
    "        \n",
    "        # 이후 주변 노드들에도 새로운 노드가 등장함을 전파\n",
    "        for add_node in blockchain.nodes:\n",
    "            if add_node != registering_node.split(\"//\")[1]:\n",
    "                print('add_node : ', add_node)\n",
    "                ## 노드 등록하기\n",
    "                headers = {'Content-Type' : 'application/json; charset=utf-8'}\n",
    "                data = {\n",
    "                    \"nodes\": registering_node\n",
    "                }\n",
    "                requests.post('http://' + add_node   + \"/nodes/register\", headers=headers, data=json.dumps(data))\n",
    "\n",
    "        response = {\n",
    "            'message' : 'New nodes have been added',\n",
    "            'total_nodes' : list(blockchain.nodes),\n",
    "        }\n",
    "    return jsonify(response), 201\n",
    "\n",
    "\n",
    "@app.route('/nodes/node_weight', methods=['GET'])\n",
    "def node_weight():\n",
    "    print(\"node_weight requested!!\")\n",
    "\n",
    "    response = {\n",
    "        'account_name' : blockchain.account_name,\n",
    "        'account_weight' : blockchain.account_weight\n",
    "    }\n",
    "    return jsonify(response), 200    \n",
    "\n",
    "    \n",
    "@app.route('/nodes/pick_winner', methods=['GET'])\n",
    "def pick_winner():\n",
    "    print(\"pick_winner requested!!\")\n",
    "    \n",
    "    candidate_list = []  # POS 대상자를 뽑을 전체 풀!!\n",
    "    for w in range(blockchain.account_weight):  # 나의 노드들의 weight 수만큼 추가\n",
    "        candidate_list.append(blockchain.account_name)\n",
    "\n",
    "    for target_node in blockchain.nodes:            # 근처 노드들의 weight 수만큼 추가\n",
    "        print(target_node)\n",
    "        \n",
    "        headers = {'Content-Type' : 'application/json; charset=utf-8'}\n",
    "        res = requests.get('http://' + target_node   + \"/nodes/node_weight\", headers=headers)\n",
    "        target_node_info = json.loads(res.content)\n",
    "                \n",
    "        for repeated in range(target_node_info['account_weight']):\n",
    "            candidate_list.append(target_node_info['account_name'])\n",
    "\n",
    "    random.shuffle(candidate_list)       #  랜덤으로 섞고!\n",
    "    for x in  candidate_list:           #  첫번째 node를 winner로 선정\n",
    "        winner  = x\n",
    "        print(\"WINNER SELECTED : \", winner)\n",
    "        break\n",
    "\n",
    "    \n",
    "    response = {\n",
    "        'winner' : winner, \n",
    "    }\n",
    "    return jsonify(response), 200\n",
    "\n",
    "if __name__ == '__main__':\n",
    "    app.run(host=my_ip, port=my_port)"
   ]
  }
 ],
 "metadata": {
  "kernelspec": {
   "display_name": "Python 3",
   "language": "python",
   "name": "python3"
  },
  "language_info": {
   "codemirror_mode": {
    "name": "ipython",
    "version": 3
   },
   "file_extension": ".py",
   "mimetype": "text/x-python",
   "name": "python",
   "nbconvert_exporter": "python",
   "pygments_lexer": "ipython3",
   "version": "3.8.8"
  }
 },
 "nbformat": 4,
 "nbformat_minor": 5
}
