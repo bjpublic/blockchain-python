{
 "cells": [
  {
   "cell_type": "code",
   "execution_count": 1,
   "id": "e4397b59",
   "metadata": {},
   "outputs": [],
   "source": [
    "import requests\n",
    "import json\n",
    "import pandas as pd\n",
    "import hashlib # hash 함수용 sha256 사용할 라이브러리\n",
    "import random"
   ]
  },
  {
   "cell_type": "markdown",
   "id": "4a2c3864",
   "metadata": {},
   "source": [
    "## 노드의 블록 정보 확인"
   ]
  },
  {
   "cell_type": "code",
   "execution_count": 2,
   "id": "26d585ba",
   "metadata": {},
   "outputs": [
    {
     "data": {
      "text/plain": [
       "{'chain': [{'hash': '5cd140c02b28c265ebd27dcc4f5570be2dee176c70effd3a4f12052117876086',\n",
       "   'index': 1,\n",
       "   'previous_hash': 'genesis_block',\n",
       "   'timestamp': 1675349704.4321828,\n",
       "   'transactions': [],\n",
       "   'validator': 'validator_1'}],\n",
       " 'length': 1}"
      ]
     },
     "execution_count": 2,
     "metadata": {},
     "output_type": "execute_result"
    }
   ],
   "source": [
    "headers = {'Content-Type' : 'application/json; charset=utf-8'}\n",
    "res = requests.get(\"http://localhost:5000/chain\", headers=headers)\n",
    "json.loads(res.content)"
   ]
  },
  {
   "cell_type": "code",
   "execution_count": 3,
   "id": "160cc414",
   "metadata": {},
   "outputs": [
    {
     "data": {
      "text/plain": [
       "{'chain': [{'hash': '0a6af138e06a57fa0d5a93b87c10e856d57a5cb5420548a7820ccd64a431d960',\n",
       "   'index': 1,\n",
       "   'previous_hash': 'genesis_block',\n",
       "   'timestamp': 1675349707.8404486,\n",
       "   'transactions': [],\n",
       "   'validator': 'validator_2'}],\n",
       " 'length': 1}"
      ]
     },
     "execution_count": 3,
     "metadata": {},
     "output_type": "execute_result"
    }
   ],
   "source": [
    "headers = {'Content-Type' : 'application/json; charset=utf-8'}\n",
    "res = requests.get(\"http://localhost:5001/chain\", headers=headers)\n",
    "json.loads(res.content)"
   ]
  },
  {
   "cell_type": "code",
   "execution_count": 4,
   "id": "d4d30c2e",
   "metadata": {},
   "outputs": [
    {
     "data": {
      "text/plain": [
       "{'chain': [{'hash': 'f5e611fbb90a22489dbb16dcc112b7a9cadbdc303da71ffd321708fa64986b0e',\n",
       "   'index': 1,\n",
       "   'previous_hash': 'genesis_block',\n",
       "   'timestamp': 1675349709.058871,\n",
       "   'transactions': [],\n",
       "   'validator': 'validator_3'}],\n",
       " 'length': 1}"
      ]
     },
     "execution_count": 4,
     "metadata": {},
     "output_type": "execute_result"
    }
   ],
   "source": [
    "headers = {'Content-Type' : 'application/json; charset=utf-8'}\n",
    "res = requests.get(\"http://localhost:5002/chain\", headers=headers)\n",
    "json.loads(res.content)"
   ]
  },
  {
   "cell_type": "markdown",
   "id": "98f8e8b4",
   "metadata": {},
   "source": [
    "## 노드 정보 추가"
   ]
  },
  {
   "cell_type": "code",
   "execution_count": 5,
   "id": "6ec6183e",
   "metadata": {},
   "outputs": [
    {
     "data": {
      "text/plain": [
       "b'{\"message\":\"New nodes have been added\",\"total_nodes\":[\"localhost:5001\"]}\\n'"
      ]
     },
     "execution_count": 5,
     "metadata": {},
     "output_type": "execute_result"
    }
   ],
   "source": [
    "## 노드 등록하기\n",
    "headers = {'Content-Type' : 'application/json; charset=utf-8'}\n",
    "data = {\n",
    "    \"nodes\": 'http://localhost:5001'\n",
    "}\n",
    "requests.post(\"http://localhost:5000/nodes/register\", headers=headers, data=json.dumps(data)).content"
   ]
  },
  {
   "cell_type": "code",
   "execution_count": 6,
   "id": "51ee61cd",
   "metadata": {},
   "outputs": [
    {
     "data": {
      "text/plain": [
       "b'{\"message\":\"New nodes have been added\",\"total_nodes\":[\"localhost:5002\",\"localhost:5001\"]}\\n'"
      ]
     },
     "execution_count": 6,
     "metadata": {},
     "output_type": "execute_result"
    }
   ],
   "source": [
    "## 노드 등록하기\n",
    "headers = {'Content-Type' : 'application/json; charset=utf-8'}\n",
    "data = {\n",
    "    \"nodes\": 'http://localhost:5002'\n",
    "}\n",
    "requests.post(\"http://localhost:5000/nodes/register\", headers=headers, data=json.dumps(data)).content"
   ]
  },
  {
   "cell_type": "markdown",
   "id": "22f62fb1",
   "metadata": {},
   "source": [
    "## transaction 입력하기"
   ]
  },
  {
   "cell_type": "code",
   "execution_count": 7,
   "id": "fe3958ef",
   "metadata": {},
   "outputs": [
    {
     "data": {
      "text/plain": [
       "b'{\"message\":\"Transaction will be added to Block {2}\"}\\n'"
      ]
     },
     "execution_count": 7,
     "metadata": {},
     "output_type": "execute_result"
    }
   ],
   "source": [
    "headers = {'Content-Type' : 'application/json; charset=utf-8'}\n",
    "data = {\n",
    "        \"sender\": \"test_from\",\n",
    "        \"recipient\": \"test_to\",\n",
    "    \"amount\": 3,\n",
    "}\n",
    "requests.post(\"http://localhost:5000/transactions/new\", headers=headers, data=json.dumps(data)).content"
   ]
  },
  {
   "cell_type": "markdown",
   "id": "8ffed183",
   "metadata": {},
   "source": [
    "## 노드별 블록정보 확인 - 2"
   ]
  },
  {
   "cell_type": "code",
   "execution_count": 8,
   "id": "cd862740",
   "metadata": {},
   "outputs": [
    {
     "data": {
      "text/plain": [
       "{'chain': [{'hash': '5cd140c02b28c265ebd27dcc4f5570be2dee176c70effd3a4f12052117876086',\n",
       "   'index': 1,\n",
       "   'previous_hash': 'genesis_block',\n",
       "   'timestamp': 1675349704.4321828,\n",
       "   'transactions': [],\n",
       "   'validator': 'validator_1'}],\n",
       " 'length': 1}"
      ]
     },
     "execution_count": 8,
     "metadata": {},
     "output_type": "execute_result"
    }
   ],
   "source": [
    "headers = {'Content-Type' : 'application/json; charset=utf-8'}\n",
    "res = requests.get(\"http://localhost:5000/chain\", headers=headers)\n",
    "json.loads(res.content)"
   ]
  },
  {
   "cell_type": "code",
   "execution_count": 9,
   "id": "2da57fc1",
   "metadata": {},
   "outputs": [
    {
     "data": {
      "text/plain": [
       "{'chain': [{'hash': '0a6af138e06a57fa0d5a93b87c10e856d57a5cb5420548a7820ccd64a431d960',\n",
       "   'index': 1,\n",
       "   'previous_hash': 'genesis_block',\n",
       "   'timestamp': 1675349707.8404486,\n",
       "   'transactions': [],\n",
       "   'validator': 'validator_2'}],\n",
       " 'length': 1}"
      ]
     },
     "execution_count": 9,
     "metadata": {},
     "output_type": "execute_result"
    }
   ],
   "source": [
    "headers = {'Content-Type' : 'application/json; charset=utf-8'}\n",
    "res = requests.get(\"http://localhost:5001/chain\", headers=headers)\n",
    "json.loads(res.content)"
   ]
  },
  {
   "cell_type": "code",
   "execution_count": 10,
   "id": "a099498c",
   "metadata": {},
   "outputs": [
    {
     "data": {
      "text/plain": [
       "{'chain': [{'hash': 'f5e611fbb90a22489dbb16dcc112b7a9cadbdc303da71ffd321708fa64986b0e',\n",
       "   'index': 1,\n",
       "   'previous_hash': 'genesis_block',\n",
       "   'timestamp': 1675349709.058871,\n",
       "   'transactions': [],\n",
       "   'validator': 'validator_3'}],\n",
       " 'length': 1}"
      ]
     },
     "execution_count": 10,
     "metadata": {},
     "output_type": "execute_result"
    }
   ],
   "source": [
    "headers = {'Content-Type' : 'application/json; charset=utf-8'}\n",
    "res = requests.get(\"http://localhost:5002/chain\", headers=headers)\n",
    "json.loads(res.content)"
   ]
  },
  {
   "cell_type": "markdown",
   "id": "de078099",
   "metadata": {},
   "source": [
    "##  채굴하기 - 1"
   ]
  },
  {
   "cell_type": "code",
   "execution_count": 11,
   "id": "ca6e8f84",
   "metadata": {},
   "outputs": [
    {
     "name": "stdout",
     "output_type": "stream",
     "text": [
      "<Response [200]>\n"
     ]
    }
   ],
   "source": [
    "headers = {'Content-Type' : 'application/json; charset=utf-8'}\n",
    "res = requests.get(\"http://localhost:5000/mine\")\n",
    "print(res)"
   ]
  },
  {
   "cell_type": "code",
   "execution_count": 12,
   "id": "8d0ddf73",
   "metadata": {},
   "outputs": [
    {
     "data": {
      "text/plain": [
       "{'chain': [{'hash': '5cd140c02b28c265ebd27dcc4f5570be2dee176c70effd3a4f12052117876086',\n",
       "   'index': 1,\n",
       "   'previous_hash': 'genesis_block',\n",
       "   'timestamp': 1675349704.4321828,\n",
       "   'transactions': [],\n",
       "   'validator': 'validator_1'},\n",
       "  {'hash': '3fe19e8020b9f0b196faae8cb9ebe947426e5926eaff5e194d22477743c2995d',\n",
       "   'index': 2,\n",
       "   'previous_hash': '43e7dbb4ea28329679c300bbc3bc0cb423765f7eb15ef25d83c60cb3d255e6db',\n",
       "   'timestamp': 1675349783.472173,\n",
       "   'transactions': [{'amount': 3,\n",
       "     'recipient': 'test_to',\n",
       "     'sender': 'test_from',\n",
       "     'smart_contract': 'empty',\n",
       "     'timestamp': 1675349748.6953106},\n",
       "    {'amount': 0.1,\n",
       "     'recipient': 'validator_1',\n",
       "     'sender': 'mining_profit',\n",
       "     'smart_contract': {'contract_address': 'mining_profit'},\n",
       "     'timestamp': 1675349783.472173}],\n",
       "   'validator': 'validator_1'}],\n",
       " 'length': 2}"
      ]
     },
     "execution_count": 12,
     "metadata": {},
     "output_type": "execute_result"
    }
   ],
   "source": [
    "headers = {'Content-Type' : 'application/json; charset=utf-8'}\n",
    "res = requests.get(\"http://localhost:5000/chain\", headers=headers)\n",
    "json.loads(res.content)"
   ]
  },
  {
   "cell_type": "code",
   "execution_count": 13,
   "id": "9095a69e",
   "metadata": {},
   "outputs": [
    {
     "data": {
      "text/plain": [
       "{'chain': [{'hash': '0a6af138e06a57fa0d5a93b87c10e856d57a5cb5420548a7820ccd64a431d960',\n",
       "   'index': 1,\n",
       "   'previous_hash': 'genesis_block',\n",
       "   'timestamp': 1675349707.8404486,\n",
       "   'transactions': [],\n",
       "   'validator': 'validator_2'},\n",
       "  {'hash': '3fe19e8020b9f0b196faae8cb9ebe947426e5926eaff5e194d22477743c2995d',\n",
       "   'index': 2,\n",
       "   'previous_hash': '43e7dbb4ea28329679c300bbc3bc0cb423765f7eb15ef25d83c60cb3d255e6db',\n",
       "   'timestamp': 1675349783.472173,\n",
       "   'transactions': [{'amount': 3,\n",
       "     'recipient': 'test_to',\n",
       "     'sender': 'test_from',\n",
       "     'smart_contract': 'empty',\n",
       "     'timestamp': 1675349748.6953106},\n",
       "    {'amount': 0.1,\n",
       "     'recipient': 'validator_1',\n",
       "     'sender': 'mining_profit',\n",
       "     'smart_contract': {'contract_address': 'mining_profit'},\n",
       "     'timestamp': 1675349783.472173}],\n",
       "   'validator': 'validator_1'}],\n",
       " 'length': 2}"
      ]
     },
     "execution_count": 13,
     "metadata": {},
     "output_type": "execute_result"
    }
   ],
   "source": [
    "headers = {'Content-Type' : 'application/json; charset=utf-8'}\n",
    "res = requests.get(\"http://localhost:5001/chain\", headers=headers)\n",
    "json.loads(res.content)"
   ]
  },
  {
   "cell_type": "code",
   "execution_count": 14,
   "id": "daac3263",
   "metadata": {},
   "outputs": [
    {
     "data": {
      "text/plain": [
       "{'chain': [{'hash': 'f5e611fbb90a22489dbb16dcc112b7a9cadbdc303da71ffd321708fa64986b0e',\n",
       "   'index': 1,\n",
       "   'previous_hash': 'genesis_block',\n",
       "   'timestamp': 1675349709.058871,\n",
       "   'transactions': [],\n",
       "   'validator': 'validator_3'},\n",
       "  {'hash': '3fe19e8020b9f0b196faae8cb9ebe947426e5926eaff5e194d22477743c2995d',\n",
       "   'index': 2,\n",
       "   'previous_hash': '43e7dbb4ea28329679c300bbc3bc0cb423765f7eb15ef25d83c60cb3d255e6db',\n",
       "   'timestamp': 1675349783.472173,\n",
       "   'transactions': [{'amount': 3,\n",
       "     'recipient': 'test_to',\n",
       "     'sender': 'test_from',\n",
       "     'smart_contract': 'empty',\n",
       "     'timestamp': 1675349748.6953106},\n",
       "    {'amount': 0.1,\n",
       "     'recipient': 'validator_1',\n",
       "     'sender': 'mining_profit',\n",
       "     'smart_contract': {'contract_address': 'mining_profit'},\n",
       "     'timestamp': 1675349783.472173}],\n",
       "   'validator': 'validator_1'}],\n",
       " 'length': 2}"
      ]
     },
     "execution_count": 14,
     "metadata": {},
     "output_type": "execute_result"
    }
   ],
   "source": [
    "headers = {'Content-Type' : 'application/json; charset=utf-8'}\n",
    "res = requests.get(\"http://localhost:5002/chain\", headers=headers)\n",
    "json.loads(res.content)"
   ]
  },
  {
   "cell_type": "markdown",
   "id": "e16a206d",
   "metadata": {},
   "source": [
    "##  6번 반복되는 거래내역 추가 및 채굴"
   ]
  },
  {
   "cell_type": "code",
   "execution_count": 24,
   "id": "d56ecfe6",
   "metadata": {},
   "outputs": [
    {
     "name": "stdout",
     "output_type": "stream",
     "text": [
      "<Response [200]>\n",
      "<Response [200]>\n",
      "<Response [200]>\n",
      "<Response [200]>\n",
      "<Response [200]>\n",
      "<Response [200]>\n"
     ]
    }
   ],
   "source": [
    "## transaction2 입력하기 \n",
    "headers = {'Content-Type' : 'application/json; charset=utf-8'}\n",
    "data = {\n",
    "        \"sender\": \"test_from\",\n",
    "        \"recipient\": \"test_to2\",\n",
    "    \"amount\": 30,\n",
    "}\n",
    "requests.post(\"http://localhost:5000/transactions/new\", headers=headers, data=json.dumps(data)).content\n",
    "\n",
    "##  채굴하기\n",
    "headers = {'Content-Type' : 'application/json; charset=utf-8'}\n",
    "res = requests.get(\"http://localhost:5000/mine\")\n",
    "print(res)\n",
    "\n",
    "## transaction3 입력하기\n",
    "headers = {'Content-Type' : 'application/json; charset=utf-8'}\n",
    "data = {\n",
    "        \"sender\": \"test_from\",\n",
    "        \"recipient\": \"test_to3\",\n",
    "    \"amount\": 300,\n",
    "}\n",
    "requests.post(\"http://localhost:5000/transactions/new\", headers=headers, data=json.dumps(data)).content\n",
    "\n",
    "##  채굴하기\n",
    "headers = {'Content-Type' : 'application/json; charset=utf-8'}\n",
    "res = requests.get(\"http://localhost:5000/mine\")\n",
    "print(res)\n",
    "\n",
    "## transaction4 입력하기\n",
    "headers = {'Content-Type' : 'application/json; charset=utf-8'}\n",
    "data = {\n",
    "        \"sender\": \"test_from\",\n",
    "        \"recipient\": \"test_to4\",\n",
    "    \"amount\": 300,\n",
    "}\n",
    "requests.post(\"http://localhost:5000/transactions/new\", headers=headers, data=json.dumps(data)).content\n",
    "\n",
    "##  채굴하기\n",
    "headers = {'Content-Type' : 'application/json; charset=utf-8'}\n",
    "res = requests.get(\"http://localhost:5000/mine\")\n",
    "print(res)\n",
    "\n",
    "## transaction5 입력하기 \n",
    "headers = {'Content-Type' : 'application/json; charset=utf-8'}\n",
    "data = {\n",
    "        \"sender\": \"test_from\",\n",
    "        \"recipient\": \"test_to2\",\n",
    "    \"amount\": 30,\n",
    "}\n",
    "requests.post(\"http://localhost:5000/transactions/new\", headers=headers, data=json.dumps(data)).content\n",
    "\n",
    "##  채굴하기\n",
    "headers = {'Content-Type' : 'application/json; charset=utf-8'}\n",
    "res = requests.get(\"http://localhost:5000/mine\")\n",
    "print(res)\n",
    "\n",
    "## transaction6 입력하기\n",
    "headers = {'Content-Type' : 'application/json; charset=utf-8'}\n",
    "data = {\n",
    "        \"sender\": \"test_from\",\n",
    "        \"recipient\": \"test_to3\",\n",
    "    \"amount\": 300,\n",
    "}\n",
    "requests.post(\"http://localhost:5000/transactions/new\", headers=headers, data=json.dumps(data)).content\n",
    "\n",
    "##  채굴하기\n",
    "headers = {'Content-Type' : 'application/json; charset=utf-8'}\n",
    "res = requests.get(\"http://localhost:5000/mine\")\n",
    "print(res)\n",
    "\n",
    "## transaction7 입력하기\n",
    "headers = {'Content-Type' : 'application/json; charset=utf-8'}\n",
    "data = {\n",
    "        \"sender\": \"test_from\",\n",
    "        \"recipient\": \"test_to4\",\n",
    "    \"amount\": 300,\n",
    "}\n",
    "requests.post(\"http://localhost:5000/transactions/new\", headers=headers, data=json.dumps(data)).content\n",
    "\n",
    "##  채굴하기\n",
    "headers = {'Content-Type' : 'application/json; charset=utf-8'}\n",
    "res = requests.get(\"http://localhost:5000/mine\")\n",
    "print(res)\n"
   ]
  },
  {
   "cell_type": "markdown",
   "id": "6d68c4a3",
   "metadata": {},
   "source": [
    "## Pandas 를 활용한 거래내역 및 검증자(Validator) 정보 조회"
   ]
  },
  {
   "cell_type": "code",
   "execution_count": 31,
   "id": "fb5a1c13",
   "metadata": {
    "scrolled": true
   },
   "outputs": [
    {
     "data": {
      "text/plain": [
       "validator\n",
       "validator_1    12\n",
       "validator_2    10\n",
       "validator_3     4\n",
       "Name: timestamp, dtype: int64"
      ]
     },
     "execution_count": 31,
     "metadata": {},
     "output_type": "execute_result"
    }
   ],
   "source": [
    "## 노드의 블록정보 확인\n",
    "headers = {'Content-Type' : 'application/json; charset=utf-8'}\n",
    "res = requests.get(\"http://localhost:5000/chain\", headers=headers)\n",
    "final_result = json.loads(res.content)\n",
    "final_result\n",
    "\n",
    "## 거래내역 취합\n",
    "status_json = json.loads(res.text)\n",
    "status_json['chain']    \n",
    "tx_amount_l = []\n",
    "tx_sender_l = []\n",
    "tx_reciv_l  = []\n",
    "tx_time_l   = []\n",
    "validator_l = []\n",
    "\n",
    "for chain_index in range(len(status_json['chain'])):\n",
    "    chain_tx = status_json['chain'][chain_index]['transactions']\n",
    "    for each_tx in range(len(chain_tx)):\n",
    "        tx_amount_l.append(chain_tx[each_tx]['amount'])\n",
    "        tx_sender_l.append(chain_tx[each_tx]['sender'])\n",
    "        tx_reciv_l.append(chain_tx[each_tx]['recipient'])\n",
    "        tx_time_l.append(chain_tx[each_tx]['timestamp'])\n",
    "        validator_l.append(status_json['chain'][chain_index]['validator'])\n",
    "\n",
    "df_tx = pd.DataFrame()\n",
    "df_tx['timestamp'] = tx_time_l  \n",
    "df_tx['validator'] = validator_l\n",
    "df_tx['sender'] = tx_sender_l \n",
    "df_tx['recipient'] = tx_reciv_l\n",
    "df_tx['amount'] = tx_amount_l   \n",
    "\n",
    "#최종 결론\n",
    "df_tx.groupby('validator')['timestamp'].count()"
   ]
  },
  {
   "cell_type": "code",
   "execution_count": 27,
   "id": "459ecf44",
   "metadata": {},
   "outputs": [
    {
     "data": {
      "text/plain": [
       "validator\n",
       "validator_1    12\n",
       "validator_2    10\n",
       "validator_3     4\n",
       "Name: timestamp, dtype: int64"
      ]
     },
     "execution_count": 27,
     "metadata": {},
     "output_type": "execute_result"
    }
   ],
   "source": []
  },
  {
   "cell_type": "code",
   "execution_count": 28,
   "id": "ec19b4f2",
   "metadata": {},
   "outputs": [
    {
     "data": {
      "text/plain": [
       "{'chain': [{'hash': 'f5e611fbb90a22489dbb16dcc112b7a9cadbdc303da71ffd321708fa64986b0e',\n",
       "   'index': 1,\n",
       "   'previous_hash': 'genesis_block',\n",
       "   'timestamp': 1675349709.058871,\n",
       "   'transactions': [],\n",
       "   'validator': 'validator_3'},\n",
       "  {'hash': '3fe19e8020b9f0b196faae8cb9ebe947426e5926eaff5e194d22477743c2995d',\n",
       "   'index': 2,\n",
       "   'previous_hash': '43e7dbb4ea28329679c300bbc3bc0cb423765f7eb15ef25d83c60cb3d255e6db',\n",
       "   'timestamp': 1675349783.472173,\n",
       "   'transactions': [{'amount': 3,\n",
       "     'recipient': 'test_to',\n",
       "     'sender': 'test_from',\n",
       "     'smart_contract': 'empty',\n",
       "     'timestamp': 1675349748.6953106},\n",
       "    {'amount': 0.1,\n",
       "     'recipient': 'validator_1',\n",
       "     'sender': 'mining_profit',\n",
       "     'smart_contract': {'contract_address': 'mining_profit'},\n",
       "     'timestamp': 1675349783.472173}],\n",
       "   'validator': 'validator_1'},\n",
       "  {'hash': '8513794ea18d8bd041a066653e1af9e7e0fa33037eb94bc0d35a1545faf050cd',\n",
       "   'index': 3,\n",
       "   'previous_hash': '262c131e8fb0340f3920c1f295f4c31825f1d2da5c88deffab09f4820c5b3ae3',\n",
       "   'timestamp': 1675349824.5249255,\n",
       "   'transactions': [{'amount': 30,\n",
       "     'recipient': 'test_to2',\n",
       "     'sender': 'test_from',\n",
       "     'smart_contract': 'empty',\n",
       "     'timestamp': 1675349795.805068},\n",
       "    {'amount': 0.1,\n",
       "     'recipient': 'validator_3',\n",
       "     'sender': 'mining_profit',\n",
       "     'smart_contract': {'contract_address': 'mining_profit'},\n",
       "     'timestamp': 1675349824.5249255}],\n",
       "   'validator': 'validator_3'},\n",
       "  {'hash': '0f67143cd8972743f9ef78b83bbfc3bda1d2675bc6a2f4b327ddb5e62675077a',\n",
       "   'index': 4,\n",
       "   'previous_hash': '041c659364c83953bfbffeff7a7dbac53384d25a944f7d31453055a007e1c5a9',\n",
       "   'timestamp': 1675349859.3749483,\n",
       "   'transactions': [{'amount': 300,\n",
       "     'recipient': 'test_to3',\n",
       "     'sender': 'test_from',\n",
       "     'smart_contract': 'empty',\n",
       "     'timestamp': 1675349830.668227},\n",
       "    {'amount': 0.1,\n",
       "     'recipient': 'validator_1',\n",
       "     'sender': 'mining_profit',\n",
       "     'smart_contract': {'contract_address': 'mining_profit'},\n",
       "     'timestamp': 1675349859.3749483}],\n",
       "   'validator': 'validator_1'},\n",
       "  {'hash': '50566b9a488c704ac73bea0250802a9414c520f566db63966fd2106935664095',\n",
       "   'index': 5,\n",
       "   'previous_hash': '491ac1a019904e57d640ceef972248044924043de26575d921af353b598dc6bf',\n",
       "   'timestamp': 1675349894.1829486,\n",
       "   'transactions': [{'amount': 300,\n",
       "     'recipient': 'test_to4',\n",
       "     'sender': 'test_from',\n",
       "     'smart_contract': 'empty',\n",
       "     'timestamp': 1675349865.509525},\n",
       "    {'amount': 0.1,\n",
       "     'recipient': 'validator_3',\n",
       "     'sender': 'mining_profit',\n",
       "     'smart_contract': {'contract_address': 'mining_profit'},\n",
       "     'timestamp': 1675349894.1829486}],\n",
       "   'validator': 'validator_3'},\n",
       "  {'hash': '5b62a1e1c359c20920fb7f31c77885c5060017e686aff07904fedabc778dbc78',\n",
       "   'index': 6,\n",
       "   'previous_hash': '0d49e1de82795b629710f0aaa776e786ec14908383ca0a857491cb19972d28df',\n",
       "   'timestamp': 1675349929.1000934,\n",
       "   'transactions': [{'amount': 30,\n",
       "     'recipient': 'test_to2',\n",
       "     'sender': 'test_from',\n",
       "     'smart_contract': 'empty',\n",
       "     'timestamp': 1675349900.4141548},\n",
       "    {'amount': 0.1,\n",
       "     'recipient': 'validator_1',\n",
       "     'sender': 'mining_profit',\n",
       "     'smart_contract': {'contract_address': 'mining_profit'},\n",
       "     'timestamp': 1675349929.1000934}],\n",
       "   'validator': 'validator_1'},\n",
       "  {'hash': '26e397dac93e53a64d4dfb0a68f5b2a5ec4f465021129526cd223657ef04c5a7',\n",
       "   'index': 7,\n",
       "   'previous_hash': '2bd2e6902dff924baee97ac80d977fbded22b37529adb8aa8e78ffdb6f6d2663',\n",
       "   'timestamp': 1675349963.860276,\n",
       "   'transactions': [{'amount': 300,\n",
       "     'recipient': 'test_to3',\n",
       "     'sender': 'test_from',\n",
       "     'smart_contract': 'empty',\n",
       "     'timestamp': 1675349935.2480335},\n",
       "    {'amount': 0.1,\n",
       "     'recipient': 'validator_1',\n",
       "     'sender': 'mining_profit',\n",
       "     'smart_contract': {'contract_address': 'mining_profit'},\n",
       "     'timestamp': 1675349963.860276}],\n",
       "   'validator': 'validator_1'},\n",
       "  {'hash': 'b94f2681e84a00821f75798f361865b165046516807c181c63b43b6baf64e902',\n",
       "   'index': 8,\n",
       "   'previous_hash': '5913c69ccb38fc076f7a385b13597c40df5abcf64169147f716a4882cfeabdad',\n",
       "   'timestamp': 1675349998.7671442,\n",
       "   'transactions': [{'amount': 300,\n",
       "     'recipient': 'test_to4',\n",
       "     'sender': 'test_from',\n",
       "     'smart_contract': 'empty',\n",
       "     'timestamp': 1675349970.010403},\n",
       "    {'amount': 0.1,\n",
       "     'recipient': 'validator_2',\n",
       "     'sender': 'mining_profit',\n",
       "     'smart_contract': {'contract_address': 'mining_profit'},\n",
       "     'timestamp': 1675349998.7671442}],\n",
       "   'validator': 'validator_2'},\n",
       "  {'hash': '8cf3208b3b56dd972703434fd79909303aa7776c31e4f9d6f7a3fba7af1cfea3',\n",
       "   'index': 9,\n",
       "   'previous_hash': 'b87c4d990f402c34a740740e3e82d608fd20ec08ab3a965b7b5e53b7ae0cffda',\n",
       "   'timestamp': 1675350371.4539397,\n",
       "   'transactions': [{'amount': 30,\n",
       "     'recipient': 'test_to2',\n",
       "     'sender': 'test_from',\n",
       "     'smart_contract': 'empty',\n",
       "     'timestamp': 1675350342.7308006},\n",
       "    {'amount': 0.1,\n",
       "     'recipient': 'validator_1',\n",
       "     'sender': 'mining_profit',\n",
       "     'smart_contract': {'contract_address': 'mining_profit'},\n",
       "     'timestamp': 1675350371.4529366}],\n",
       "   'validator': 'validator_1'},\n",
       "  {'hash': '2224f401316d1cff5ce54dbd2d0ff14ea2e1c00553b59539fcd00c7042f78e25',\n",
       "   'index': 10,\n",
       "   'previous_hash': '277cdedab849241e3048e03ea0d8ec91e37aee260acf47ee49be53c5b912539c',\n",
       "   'timestamp': 1675350406.2703598,\n",
       "   'transactions': [{'amount': 300,\n",
       "     'recipient': 'test_to3',\n",
       "     'sender': 'test_from',\n",
       "     'smart_contract': 'empty',\n",
       "     'timestamp': 1675350377.5879426},\n",
       "    {'amount': 0.1,\n",
       "     'recipient': 'validator_2',\n",
       "     'sender': 'mining_profit',\n",
       "     'smart_contract': {'contract_address': 'mining_profit'},\n",
       "     'timestamp': 1675350406.2703598}],\n",
       "   'validator': 'validator_2'},\n",
       "  {'hash': 'e20b4ffa24ce5b1fc80ad6223eb9c881982d2aa33fa67f6b5bc42a002b563c5e',\n",
       "   'index': 11,\n",
       "   'previous_hash': '8b3f4bed780b4dfcb04acf2a37d15ce069c41a24686a70f7692a08642c9cdc61',\n",
       "   'timestamp': 1675350441.0001183,\n",
       "   'transactions': [{'amount': 300,\n",
       "     'recipient': 'test_to4',\n",
       "     'sender': 'test_from',\n",
       "     'smart_contract': 'empty',\n",
       "     'timestamp': 1675350412.3923814},\n",
       "    {'amount': 0.1,\n",
       "     'recipient': 'validator_2',\n",
       "     'sender': 'mining_profit',\n",
       "     'smart_contract': {'contract_address': 'mining_profit'},\n",
       "     'timestamp': 1675350441.0001183}],\n",
       "   'validator': 'validator_2'},\n",
       "  {'hash': 'd8515fb94a2835af343ec5ed8ccb158e52f4bbb3a2d92aaef8b8b60566832af7',\n",
       "   'index': 12,\n",
       "   'previous_hash': '6ce95824c28762baaf9da3ae31a0f62410fc10a7d5fea9687b12ec4da7479eee',\n",
       "   'timestamp': 1675350475.811125,\n",
       "   'transactions': [{'amount': 30,\n",
       "     'recipient': 'test_to2',\n",
       "     'sender': 'test_from',\n",
       "     'smart_contract': 'empty',\n",
       "     'timestamp': 1675350447.1511662},\n",
       "    {'amount': 0.1,\n",
       "     'recipient': 'validator_2',\n",
       "     'sender': 'mining_profit',\n",
       "     'smart_contract': {'contract_address': 'mining_profit'},\n",
       "     'timestamp': 1675350475.811125}],\n",
       "   'validator': 'validator_2'},\n",
       "  {'hash': 'a43fa53d0141a23d359bf2c761e3cf455ad393904c4f0d25441afa4903df3deb',\n",
       "   'index': 13,\n",
       "   'previous_hash': 'cac2828d5540819f12caa8ccb9ecd3df9b2942a99ef1aaf65e2b1d6ddec2f535',\n",
       "   'timestamp': 1675350510.602596,\n",
       "   'transactions': [{'amount': 300,\n",
       "     'recipient': 'test_to3',\n",
       "     'sender': 'test_from',\n",
       "     'smart_contract': 'empty',\n",
       "     'timestamp': 1675350481.9381597},\n",
       "    {'amount': 0.1,\n",
       "     'recipient': 'validator_1',\n",
       "     'sender': 'mining_profit',\n",
       "     'smart_contract': {'contract_address': 'mining_profit'},\n",
       "     'timestamp': 1675350510.602596}],\n",
       "   'validator': 'validator_1'},\n",
       "  {'hash': 'e604029c30c48de5c50c3fe01039d6e75d14a56861372ea7e7fa476cb85e7da7',\n",
       "   'index': 14,\n",
       "   'previous_hash': '737996931ddeeb1c775c389dd7914a0736a3e67fe21a6ba8d5e43e68ac56de7e',\n",
       "   'timestamp': 1675350545.6316743,\n",
       "   'transactions': [{'amount': 300,\n",
       "     'recipient': 'test_to4',\n",
       "     'sender': 'test_from',\n",
       "     'smart_contract': 'empty',\n",
       "     'timestamp': 1675350516.7374246},\n",
       "    {'amount': 0.1,\n",
       "     'recipient': 'validator_2',\n",
       "     'sender': 'mining_profit',\n",
       "     'smart_contract': {'contract_address': 'mining_profit'},\n",
       "     'timestamp': 1675350545.6316743}],\n",
       "   'validator': 'validator_2'}],\n",
       " 'length': 14}"
      ]
     },
     "execution_count": 28,
     "metadata": {},
     "output_type": "execute_result"
    }
   ],
   "source": [
    "## 노드의 블록정보 확인 - 4\n",
    "headers = {'Content-Type' : 'application/json; charset=utf-8'}\n",
    "res = requests.get(\"http://localhost:5002/chain\", headers=headers)\n",
    "final_result = json.loads(res.content)\n",
    "final_result"
   ]
  },
  {
   "cell_type": "code",
   "execution_count": 29,
   "id": "f4786e51",
   "metadata": {},
   "outputs": [
    {
     "data": {
      "text/html": [
       "<div>\n",
       "<style scoped>\n",
       "    .dataframe tbody tr th:only-of-type {\n",
       "        vertical-align: middle;\n",
       "    }\n",
       "\n",
       "    .dataframe tbody tr th {\n",
       "        vertical-align: top;\n",
       "    }\n",
       "\n",
       "    .dataframe thead th {\n",
       "        text-align: right;\n",
       "    }\n",
       "</style>\n",
       "<table border=\"1\" class=\"dataframe\">\n",
       "  <thead>\n",
       "    <tr style=\"text-align: right;\">\n",
       "      <th></th>\n",
       "      <th>timestamp</th>\n",
       "      <th>validator</th>\n",
       "      <th>sender</th>\n",
       "      <th>recipient</th>\n",
       "      <th>amount</th>\n",
       "    </tr>\n",
       "  </thead>\n",
       "  <tbody>\n",
       "    <tr>\n",
       "      <th>0</th>\n",
       "      <td>1.675350e+09</td>\n",
       "      <td>validator_1</td>\n",
       "      <td>test_from</td>\n",
       "      <td>test_to</td>\n",
       "      <td>3.0</td>\n",
       "    </tr>\n",
       "    <tr>\n",
       "      <th>1</th>\n",
       "      <td>1.675350e+09</td>\n",
       "      <td>validator_1</td>\n",
       "      <td>mining_profit</td>\n",
       "      <td>validator_1</td>\n",
       "      <td>0.1</td>\n",
       "    </tr>\n",
       "    <tr>\n",
       "      <th>2</th>\n",
       "      <td>1.675350e+09</td>\n",
       "      <td>validator_3</td>\n",
       "      <td>test_from</td>\n",
       "      <td>test_to2</td>\n",
       "      <td>30.0</td>\n",
       "    </tr>\n",
       "    <tr>\n",
       "      <th>3</th>\n",
       "      <td>1.675350e+09</td>\n",
       "      <td>validator_3</td>\n",
       "      <td>mining_profit</td>\n",
       "      <td>validator_3</td>\n",
       "      <td>0.1</td>\n",
       "    </tr>\n",
       "    <tr>\n",
       "      <th>4</th>\n",
       "      <td>1.675350e+09</td>\n",
       "      <td>validator_1</td>\n",
       "      <td>test_from</td>\n",
       "      <td>test_to3</td>\n",
       "      <td>300.0</td>\n",
       "    </tr>\n",
       "    <tr>\n",
       "      <th>5</th>\n",
       "      <td>1.675350e+09</td>\n",
       "      <td>validator_1</td>\n",
       "      <td>mining_profit</td>\n",
       "      <td>validator_1</td>\n",
       "      <td>0.1</td>\n",
       "    </tr>\n",
       "    <tr>\n",
       "      <th>6</th>\n",
       "      <td>1.675350e+09</td>\n",
       "      <td>validator_3</td>\n",
       "      <td>test_from</td>\n",
       "      <td>test_to4</td>\n",
       "      <td>300.0</td>\n",
       "    </tr>\n",
       "    <tr>\n",
       "      <th>7</th>\n",
       "      <td>1.675350e+09</td>\n",
       "      <td>validator_3</td>\n",
       "      <td>mining_profit</td>\n",
       "      <td>validator_3</td>\n",
       "      <td>0.1</td>\n",
       "    </tr>\n",
       "    <tr>\n",
       "      <th>8</th>\n",
       "      <td>1.675350e+09</td>\n",
       "      <td>validator_1</td>\n",
       "      <td>test_from</td>\n",
       "      <td>test_to2</td>\n",
       "      <td>30.0</td>\n",
       "    </tr>\n",
       "    <tr>\n",
       "      <th>9</th>\n",
       "      <td>1.675350e+09</td>\n",
       "      <td>validator_1</td>\n",
       "      <td>mining_profit</td>\n",
       "      <td>validator_1</td>\n",
       "      <td>0.1</td>\n",
       "    </tr>\n",
       "    <tr>\n",
       "      <th>10</th>\n",
       "      <td>1.675350e+09</td>\n",
       "      <td>validator_1</td>\n",
       "      <td>test_from</td>\n",
       "      <td>test_to3</td>\n",
       "      <td>300.0</td>\n",
       "    </tr>\n",
       "    <tr>\n",
       "      <th>11</th>\n",
       "      <td>1.675350e+09</td>\n",
       "      <td>validator_1</td>\n",
       "      <td>mining_profit</td>\n",
       "      <td>validator_1</td>\n",
       "      <td>0.1</td>\n",
       "    </tr>\n",
       "    <tr>\n",
       "      <th>12</th>\n",
       "      <td>1.675350e+09</td>\n",
       "      <td>validator_2</td>\n",
       "      <td>test_from</td>\n",
       "      <td>test_to4</td>\n",
       "      <td>300.0</td>\n",
       "    </tr>\n",
       "    <tr>\n",
       "      <th>13</th>\n",
       "      <td>1.675350e+09</td>\n",
       "      <td>validator_2</td>\n",
       "      <td>mining_profit</td>\n",
       "      <td>validator_2</td>\n",
       "      <td>0.1</td>\n",
       "    </tr>\n",
       "    <tr>\n",
       "      <th>14</th>\n",
       "      <td>1.675350e+09</td>\n",
       "      <td>validator_1</td>\n",
       "      <td>test_from</td>\n",
       "      <td>test_to2</td>\n",
       "      <td>30.0</td>\n",
       "    </tr>\n",
       "    <tr>\n",
       "      <th>15</th>\n",
       "      <td>1.675350e+09</td>\n",
       "      <td>validator_1</td>\n",
       "      <td>mining_profit</td>\n",
       "      <td>validator_1</td>\n",
       "      <td>0.1</td>\n",
       "    </tr>\n",
       "    <tr>\n",
       "      <th>16</th>\n",
       "      <td>1.675350e+09</td>\n",
       "      <td>validator_2</td>\n",
       "      <td>test_from</td>\n",
       "      <td>test_to3</td>\n",
       "      <td>300.0</td>\n",
       "    </tr>\n",
       "    <tr>\n",
       "      <th>17</th>\n",
       "      <td>1.675350e+09</td>\n",
       "      <td>validator_2</td>\n",
       "      <td>mining_profit</td>\n",
       "      <td>validator_2</td>\n",
       "      <td>0.1</td>\n",
       "    </tr>\n",
       "    <tr>\n",
       "      <th>18</th>\n",
       "      <td>1.675350e+09</td>\n",
       "      <td>validator_2</td>\n",
       "      <td>test_from</td>\n",
       "      <td>test_to4</td>\n",
       "      <td>300.0</td>\n",
       "    </tr>\n",
       "    <tr>\n",
       "      <th>19</th>\n",
       "      <td>1.675350e+09</td>\n",
       "      <td>validator_2</td>\n",
       "      <td>mining_profit</td>\n",
       "      <td>validator_2</td>\n",
       "      <td>0.1</td>\n",
       "    </tr>\n",
       "    <tr>\n",
       "      <th>20</th>\n",
       "      <td>1.675350e+09</td>\n",
       "      <td>validator_2</td>\n",
       "      <td>test_from</td>\n",
       "      <td>test_to2</td>\n",
       "      <td>30.0</td>\n",
       "    </tr>\n",
       "    <tr>\n",
       "      <th>21</th>\n",
       "      <td>1.675350e+09</td>\n",
       "      <td>validator_2</td>\n",
       "      <td>mining_profit</td>\n",
       "      <td>validator_2</td>\n",
       "      <td>0.1</td>\n",
       "    </tr>\n",
       "    <tr>\n",
       "      <th>22</th>\n",
       "      <td>1.675350e+09</td>\n",
       "      <td>validator_1</td>\n",
       "      <td>test_from</td>\n",
       "      <td>test_to3</td>\n",
       "      <td>300.0</td>\n",
       "    </tr>\n",
       "    <tr>\n",
       "      <th>23</th>\n",
       "      <td>1.675351e+09</td>\n",
       "      <td>validator_1</td>\n",
       "      <td>mining_profit</td>\n",
       "      <td>validator_1</td>\n",
       "      <td>0.1</td>\n",
       "    </tr>\n",
       "    <tr>\n",
       "      <th>24</th>\n",
       "      <td>1.675351e+09</td>\n",
       "      <td>validator_2</td>\n",
       "      <td>test_from</td>\n",
       "      <td>test_to4</td>\n",
       "      <td>300.0</td>\n",
       "    </tr>\n",
       "    <tr>\n",
       "      <th>25</th>\n",
       "      <td>1.675351e+09</td>\n",
       "      <td>validator_2</td>\n",
       "      <td>mining_profit</td>\n",
       "      <td>validator_2</td>\n",
       "      <td>0.1</td>\n",
       "    </tr>\n",
       "  </tbody>\n",
       "</table>\n",
       "</div>"
      ],
      "text/plain": [
       "       timestamp    validator         sender    recipient  amount\n",
       "0   1.675350e+09  validator_1      test_from      test_to     3.0\n",
       "1   1.675350e+09  validator_1  mining_profit  validator_1     0.1\n",
       "2   1.675350e+09  validator_3      test_from     test_to2    30.0\n",
       "3   1.675350e+09  validator_3  mining_profit  validator_3     0.1\n",
       "4   1.675350e+09  validator_1      test_from     test_to3   300.0\n",
       "5   1.675350e+09  validator_1  mining_profit  validator_1     0.1\n",
       "6   1.675350e+09  validator_3      test_from     test_to4   300.0\n",
       "7   1.675350e+09  validator_3  mining_profit  validator_3     0.1\n",
       "8   1.675350e+09  validator_1      test_from     test_to2    30.0\n",
       "9   1.675350e+09  validator_1  mining_profit  validator_1     0.1\n",
       "10  1.675350e+09  validator_1      test_from     test_to3   300.0\n",
       "11  1.675350e+09  validator_1  mining_profit  validator_1     0.1\n",
       "12  1.675350e+09  validator_2      test_from     test_to4   300.0\n",
       "13  1.675350e+09  validator_2  mining_profit  validator_2     0.1\n",
       "14  1.675350e+09  validator_1      test_from     test_to2    30.0\n",
       "15  1.675350e+09  validator_1  mining_profit  validator_1     0.1\n",
       "16  1.675350e+09  validator_2      test_from     test_to3   300.0\n",
       "17  1.675350e+09  validator_2  mining_profit  validator_2     0.1\n",
       "18  1.675350e+09  validator_2      test_from     test_to4   300.0\n",
       "19  1.675350e+09  validator_2  mining_profit  validator_2     0.1\n",
       "20  1.675350e+09  validator_2      test_from     test_to2    30.0\n",
       "21  1.675350e+09  validator_2  mining_profit  validator_2     0.1\n",
       "22  1.675350e+09  validator_1      test_from     test_to3   300.0\n",
       "23  1.675351e+09  validator_1  mining_profit  validator_1     0.1\n",
       "24  1.675351e+09  validator_2      test_from     test_to4   300.0\n",
       "25  1.675351e+09  validator_2  mining_profit  validator_2     0.1"
      ]
     },
     "execution_count": 29,
     "metadata": {},
     "output_type": "execute_result"
    }
   ],
   "source": [
    "status_json = json.loads(res.text)\n",
    "status_json['chain']    \n",
    "tx_amount_l = []\n",
    "tx_sender_l = []\n",
    "tx_reciv_l  = []\n",
    "tx_time_l   = []\n",
    "validator_l = []\n",
    "\n",
    "for chain_index in range(len(status_json['chain'])):\n",
    "    chain_tx = status_json['chain'][chain_index]['transactions']\n",
    "    for each_tx in range(len(chain_tx)):\n",
    "        tx_amount_l.append(chain_tx[each_tx]['amount'])\n",
    "        tx_sender_l.append(chain_tx[each_tx]['sender'])\n",
    "        tx_reciv_l.append(chain_tx[each_tx]['recipient'])\n",
    "        tx_time_l.append(chain_tx[each_tx]['timestamp'])\n",
    "        validator_l.append(status_json['chain'][chain_index]['validator'])\n",
    "\n",
    "df_tx = pd.DataFrame()\n",
    "df_tx['timestamp'] = tx_time_l  \n",
    "df_tx['validator'] = validator_l\n",
    "df_tx['sender'] = tx_sender_l \n",
    "df_tx['recipient'] = tx_reciv_l\n",
    "df_tx['amount'] = tx_amount_l   \n",
    "df_tx"
   ]
  },
  {
   "cell_type": "code",
   "execution_count": 30,
   "id": "a0929003",
   "metadata": {},
   "outputs": [
    {
     "data": {
      "text/plain": [
       "validator\n",
       "validator_1    12\n",
       "validator_2    10\n",
       "validator_3     4\n",
       "Name: timestamp, dtype: int64"
      ]
     },
     "execution_count": 30,
     "metadata": {},
     "output_type": "execute_result"
    }
   ],
   "source": [
    "df_tx.groupby('validator')['timestamp'].count()"
   ]
  }
 ],
 "metadata": {
  "kernelspec": {
   "display_name": "Python 3",
   "language": "python",
   "name": "python3"
  },
  "language_info": {
   "codemirror_mode": {
    "name": "ipython",
    "version": 3
   },
   "file_extension": ".py",
   "mimetype": "text/x-python",
   "name": "python",
   "nbconvert_exporter": "python",
   "pygments_lexer": "ipython3",
   "version": "3.8.8"
  }
 },
 "nbformat": 4,
 "nbformat_minor": 5
}
