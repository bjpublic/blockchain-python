{
 "cells": [
  {
   "cell_type": "markdown",
   "id": "09d52509",
   "metadata": {},
   "source": [
    "## 관련 패키지 import"
   ]
  },
  {
   "cell_type": "code",
   "execution_count": 1,
   "id": "6787859c",
   "metadata": {},
   "outputs": [],
   "source": [
    "import hashlib # hash 함수용 sha256 사용할 라이브러리\n",
    "import json\n",
    "import time\n",
    "import random\n",
    "import requests\n",
    "import datetime\n",
    "from flask import Flask, request, jsonify"
   ]
  },
  {
   "cell_type": "markdown",
   "id": "16221830",
   "metadata": {},
   "source": [
    "## Blockchain 객채 생성"
   ]
  },
  {
   "cell_type": "code",
   "execution_count": 2,
   "id": "455e3708",
   "metadata": {},
   "outputs": [],
   "source": [
    "class Blockchain(object):\n",
    "    \n",
    "    def __init__(self, account_name, account_weight):\n",
    "        self.chain = []                                   # chain에 여러 block들 들어옴\n",
    "        self.current_transaction = []                     # 임시 transaction 넣어줌\n",
    "        self.nodes = set()                                # Node 목록을 보관\n",
    "        self.miner_wallet = {'account_name': account_name, 'weight': account_weight}  # 지갑정보 생성\n",
    "        self.new_block(previous_hash='genesis_block', address = account_name)        # genesis block 생성\n",
    "        self.account_name = account_name\n",
    "        self.account_weight = account_weight\n",
    "\n",
    "        \n",
    "    @staticmethod\n",
    "    def hash(block):\n",
    "        block_string = json.dumps(block, sort_keys=True).encode() \n",
    "        return hashlib.sha256(block_string).hexdigest()   # hash 라이브러리로 sha256 사용\n",
    "    \n",
    "    @property\n",
    "    def last_block(self):\n",
    "        return self.chain[-1]                             # 체인의 마지막 블록 가져오기!!\n",
    "\n",
    "\n",
    "    def pos(self):\n",
    "        winner_list = []            # 각 노드에서 pick_winner 결과 뽑힌 winner 리스트\n",
    "        time.sleep(1)\n",
    "        my_winner = self.pick_winner(account_name = self.account_name, account_weight = self.account_weight)   \n",
    "        winner_list.append(my_winner)   # winner 리스트에 내노드 결과 넣기\n",
    "        time.sleep(1)\n",
    "        \n",
    "        for target_node in blockchain.nodes:            # 다른 노드들도 pick_winner 진행 \n",
    "            print(target_node)\n",
    "            headers = {'Content-Type' : 'application/json; charset=utf-8'}\n",
    "            res = requests.get('http://' + target_node   + \"/nodes/pick_winner\", headers=headers)\n",
    "            winner_info = json.loads(res.content)  # 근처 노드들 선정결과 받아와서\n",
    "            print(winner_info)\n",
    "            winner_list.append(winner_info['winner']) \n",
    "\n",
    "        final_winner = max(winner_list,key = winner_list.count)  # 각 노드들의 pos 결과로 가장 많이 선정된 winner를 최종 winner 로 선정\n",
    "        print(\"final_winner selected : \", final_winner)\n",
    "        \n",
    "        return final_winner\n",
    "            \n",
    "        \n",
    "    def pick_winner(self,account_name, account_weight):  ### 누가누가 블록 만들래!! 만들사람 뽑기\n",
    "        candidate_list = []  # POS 대상자를 뽑을 전체 풀!!\n",
    "             \n",
    "        for w in range(account_weight):  # 나의 노드들의 weight 수만큼 추가\n",
    "            candidate_list.append(account_name)\n",
    "       \n",
    "        random.shuffle(candidate_list)       #  랜덤으로 섞고!\n",
    "        for x in  candidate_list:           #  첫번째 node를 winner로 선정\n",
    "            winner  = x\n",
    "            print(\"WINNER SELECTED : \", winner)\n",
    "            break\n",
    "        \n",
    "        return winner                       # winner 공개\n",
    "    \n",
    "    \n",
    "        \n",
    "    def new_transaction(self, sender, recipient, amount, smart_contract):\n",
    "        self.current_transaction.append(\n",
    "            {\n",
    "                'sender' : sender, # 송신자\n",
    "                'recipient' : recipient, # 수신자\n",
    "                'amount' : amount, # 금액\n",
    "                'timestamp':time.time(),\n",
    "                'smart_contract' : smart_contract\n",
    "            }\n",
    "        )\n",
    "        return self.last_block['index'] + 1   \n",
    "\n",
    "    def new_block(self, previous_hash=None, address = ''):\n",
    "        block = {\n",
    "            'index' : len(self.chain)+1,\n",
    "            'timestamp' : time.time(), # timestamp from 1970\n",
    "            'transactions' : self.current_transaction,\n",
    "            'previous_hash' : previous_hash ,\n",
    "            'validator' : address\n",
    "        }\n",
    "        block[\"hash\"] = self.hash(block)\n",
    "        self.current_transaction = []\n",
    "        self.chain.append(block)     \n",
    "        return block\n",
    "\n",
    "   "
   ]
  },
  {
   "cell_type": "markdown",
   "id": "cccc5e32",
   "metadata": {},
   "source": [
    "## Blockchain 객채를 기반으로 노드 생성"
   ]
  },
  {
   "cell_type": "code",
   "execution_count": 3,
   "id": "fdd2e589",
   "metadata": {},
   "outputs": [],
   "source": [
    "my_ip = '0.0.0.0'\n",
    "my_port = '5000'\n",
    "node_identifier = 'node_'+my_port\n",
    "mine_owner = 'master'\n",
    "mine_profit = 0.1\n",
    "\n",
    "blockchain = Blockchain(account_name=mine_owner, account_weight= 100)"
   ]
  },
  {
   "cell_type": "code",
   "execution_count": 4,
   "id": "2228cdbe",
   "metadata": {},
   "outputs": [
    {
     "name": "stdout",
     "output_type": "stream",
     "text": [
      " * Serving Flask app \"__main__\" (lazy loading)\n",
      " * Environment: production\n",
      "   WARNING: This is a development server. Do not use it in a production deployment.\n",
      "   Use a production WSGI server instead.\n",
      " * Debug mode: off\n"
     ]
    },
    {
     "name": "stderr",
     "output_type": "stream",
     "text": [
      " * Running on http://0.0.0.0:5000/ (Press CTRL+C to quit)\n",
      "127.0.0.1 - - [06/Mar/2023 00:30:15] \"\u001b[37mPOST /transactions/new HTTP/1.1\u001b[0m\" 201 -\n"
     ]
    },
    {
     "name": "stdout",
     "output_type": "stream",
     "text": [
      "transactions_new!!! :  {'sender': 'test_from', 'recipient': 'smart_contract', 'amount': 0, 'smart_contract': {'contract_code': 'calculate_result = {}{}{}'}}\n",
      "MINING STARTED\n",
      "WINNER SELECTED :  master\n"
     ]
    },
    {
     "name": "stderr",
     "output_type": "stream",
     "text": [
      "127.0.0.1 - - [06/Mar/2023 00:30:19] \"\u001b[37mGET /mine HTTP/1.1\u001b[0m\" 200 -\n"
     ]
    },
    {
     "name": "stdout",
     "output_type": "stream",
     "text": [
      "final_winner selected :  master\n",
      "MY NODE IS SELECTED AS MINER NODE\n"
     ]
    },
    {
     "name": "stderr",
     "output_type": "stream",
     "text": [
      "127.0.0.1 - - [06/Mar/2023 00:30:21] \"\u001b[37mGET /chain HTTP/1.1\u001b[0m\" 200 -\n"
     ]
    },
    {
     "name": "stdout",
     "output_type": "stream",
     "text": [
      "chain info requested!!\n"
     ]
    },
    {
     "name": "stderr",
     "output_type": "stream",
     "text": [
      "127.0.0.1 - - [06/Mar/2023 00:30:23] \"\u001b[37mGET /chain HTTP/1.1\u001b[0m\" 200 -\n"
     ]
    },
    {
     "name": "stdout",
     "output_type": "stream",
     "text": [
      "chain info requested!!\n"
     ]
    },
    {
     "name": "stderr",
     "output_type": "stream",
     "text": [
      "127.0.0.1 - - [06/Mar/2023 00:30:26] \"\u001b[37mGET /chain HTTP/1.1\u001b[0m\" 200 -\n"
     ]
    },
    {
     "name": "stdout",
     "output_type": "stream",
     "text": [
      "chain info requested!!\n"
     ]
    },
    {
     "name": "stderr",
     "output_type": "stream",
     "text": [
      "127.0.0.1 - - [06/Mar/2023 00:31:29] \"\u001b[37mPOST /transactions/new HTTP/1.1\u001b[0m\" 201 -\n"
     ]
    },
    {
     "name": "stdout",
     "output_type": "stream",
     "text": [
      "transactions_new!!! :  {'sender': 'test_from', 'recipient': 'smart_contract', 'amount': 0, 'smart_contract': {'contract_code': '\\ndef Lottery():\\n    lottery_number = random.sample(range(1,46),6)\\n    lottery_number = sorted(lottery_number, key=lambda x: x)\\n    lottery_number\\n    print(lottery_number) \\n    return lottery_number\\n                           '}}\n",
      "MINING STARTED\n",
      "WINNER SELECTED :  master\n"
     ]
    },
    {
     "name": "stderr",
     "output_type": "stream",
     "text": [
      "127.0.0.1 - - [06/Mar/2023 00:31:33] \"\u001b[37mGET /mine HTTP/1.1\u001b[0m\" 200 -\n"
     ]
    },
    {
     "name": "stdout",
     "output_type": "stream",
     "text": [
      "final_winner selected :  master\n",
      "MY NODE IS SELECTED AS MINER NODE\n"
     ]
    },
    {
     "name": "stderr",
     "output_type": "stream",
     "text": [
      "127.0.0.1 - - [06/Mar/2023 00:31:35] \"\u001b[37mGET /chain HTTP/1.1\u001b[0m\" 200 -\n"
     ]
    },
    {
     "name": "stdout",
     "output_type": "stream",
     "text": [
      "chain info requested!!\n"
     ]
    },
    {
     "name": "stderr",
     "output_type": "stream",
     "text": [
      "127.0.0.1 - - [06/Mar/2023 00:31:37] \"\u001b[37mPOST /transactions/new HTTP/1.1\u001b[0m\" 201 -\n"
     ]
    },
    {
     "name": "stdout",
     "output_type": "stream",
     "text": [
      "transactions_new!!! :  {'sender': 'test_from', 'recipient': 'test_to', 'amount': 3, 'smart_contract': {'contract_code': \"token_name = 'pySTAKINGTOKEN' \\ntoken_total_volume = 100000\\ntoken_owner = {'token_maker' : 10000}\\nstaking_status = {}\", 'contract_function_getBalance': \"\\ndef get_balance(user_id):\\n    print('{} Balance is : '.format(user_id), token_owner[user_id])\\n    return token_owner[user_id]\\n\", 'contract_function_sendToken': '\\ndef send_token(sender,recipent,amount):\\n    if sender in token_owner.keys():  \\n        if get_balance(sender) > amount:\\n            token_owner[sender]  = token_owner[sender] - amount\\n            if recipent in token_owner.keys():\\n                token_owner[recipent]  = token_owner[recipent] + amount\\n            else :\\n                token_owner[recipent]  =  amount\\n            print(\"Transaction Completed\")\\n            get_balance(sender) \\n            get_balance(recipent) \\n\\n        else:\\n            return \"Insufficient Balance\"\\n    else:\\n        return \"Unavailable Sender id\"\\n', 'contract_function_token_staking': '\\ndef token_staking(staker,amount):\\n    if staker in token_owner.keys():                       ## 예치자(staker)가 실제 존재하는 사용자인지 확인\\n        if get_balance(staker) > amount:                   ## 예치자(staker)의 잔고가 예치 금액보다 많은지 확인\\n            token_owner[staker]  = token_owner[staker] - amount   ## 예치자(staker)의 잔고에서 예치 금액 제외\\n            staking_status [len(staking_status)] =  {\\'staker\\':staker,\\'amount\\':amount}  \\n            ## 예치 정보(staking_status)에 예치자(staker)의 예치내역 저장\\n            print(\"Staing Completed\")\\n            get_balance(staker) \\n            \\n        else:\\n            return \"Insufficient Balance\"\\n    else:\\n        return \"Unavailable Staker id\"\\n', 'contract_function_staking_yield': \"\\ndef staking_yield(staking_status):                                 ## 예치 이자 지급함수\\n    for t in staking_status:\\n        print(staking_status[t])\\n            staking_status[t]['amount'] = staking_status[t]['amount'] * (1+0.1)    ## 예치 이자가 10% 지급된 금액으로 예치금 변경\\n    return staking_status\\n\"}}\n",
      "MINING STARTED\n",
      "WINNER SELECTED :  master\n"
     ]
    },
    {
     "name": "stderr",
     "output_type": "stream",
     "text": [
      "127.0.0.1 - - [06/Mar/2023 00:31:42] \"\u001b[37mGET /mine HTTP/1.1\u001b[0m\" 200 -\n"
     ]
    },
    {
     "name": "stdout",
     "output_type": "stream",
     "text": [
      "final_winner selected :  master\n",
      "MY NODE IS SELECTED AS MINER NODE\n"
     ]
    },
    {
     "name": "stderr",
     "output_type": "stream",
     "text": [
      "127.0.0.1 - - [06/Mar/2023 00:31:44] \"\u001b[37mGET /chain HTTP/1.1\u001b[0m\" 200 -\n"
     ]
    },
    {
     "name": "stdout",
     "output_type": "stream",
     "text": [
      "chain info requested!!\n"
     ]
    },
    {
     "name": "stderr",
     "output_type": "stream",
     "text": [
      "127.0.0.1 - - [06/Mar/2023 00:33:27] \"\u001b[37mPOST /transactions/new HTTP/1.1\u001b[0m\" 201 -\n"
     ]
    },
    {
     "name": "stdout",
     "output_type": "stream",
     "text": [
      "transactions_new!!! :  {'sender': 'test_from', 'recipient': 'test_to', 'amount': 3, 'smart_contract': {'contract_code': \"token_name = 'pySTAKINGTOKEN' \\ntoken_total_volume = 100000\\ntoken_owner = {'token_maker' : 10000}\\nstaking_status = {}\", 'contract_function_getBalance': \"\\ndef get_balance(user_id):\\n    print('{} Balance is : '.format(user_id), token_owner[user_id])\\n    return token_owner[user_id]\\n\", 'contract_function_sendToken': '\\ndef send_token(sender,recipent,amount):\\n    if sender in token_owner.keys():  \\n        if get_balance(sender) > amount:\\n            token_owner[sender]  = token_owner[sender] - amount\\n            if recipent in token_owner.keys():\\n                token_owner[recipent]  = token_owner[recipent] + amount\\n            else :\\n                token_owner[recipent]  =  amount\\n            print(\"Transaction Completed\")\\n            get_balance(sender) \\n            get_balance(recipent) \\n\\n        else:\\n            return \"Insufficient Balance\"\\n    else:\\n        return \"Unavailable Sender id\"\\n', 'contract_function_token_staking': '\\ndef token_staking(staker,amount):\\n    if staker in token_owner.keys():                       ## 예치자(staker)가 실제 존재하는 사용자인지 확인\\n        if get_balance(staker) > amount:                   ## 예치자(staker)의 잔고가 예치 금액보다 많은지 확인\\n            token_owner[staker]  = token_owner[staker] - amount   ## 예치자(staker)의 잔고에서 예치 금액 제외\\n            staking_status [len(staking_status)] =  {\\'staker\\':staker,\\'amount\\':amount}  \\n            ## 예치 정보(staking_status)에 예치자(staker)의 예치내역 저장\\n            print(\"Staing Completed\")\\n            get_balance(staker) \\n            \\n        else:\\n            return \"Insufficient Balance\"\\n    else:\\n        return \"Unavailable Staker id\"\\n', 'contract_function_staking_yield': \"\\ndef staking_yield(staking_status):                                 ## 예치 이자 지급함수\\n    for t in staking_status:\\n        print(staking_status[t])\\n        staking_status[t]['amount'] = staking_status[t]['amount'] * (1+0.1)    ## 예치 이자가 10% 지급된 금액으로 예치금 변경\\n    return staking_status\\n\"}}\n",
      "MINING STARTED\n",
      "WINNER SELECTED :  master\n"
     ]
    },
    {
     "name": "stderr",
     "output_type": "stream",
     "text": [
      "127.0.0.1 - - [06/Mar/2023 00:33:31] \"\u001b[37mGET /mine HTTP/1.1\u001b[0m\" 200 -\n"
     ]
    },
    {
     "name": "stdout",
     "output_type": "stream",
     "text": [
      "final_winner selected :  master\n",
      "MY NODE IS SELECTED AS MINER NODE\n"
     ]
    },
    {
     "name": "stderr",
     "output_type": "stream",
     "text": [
      "127.0.0.1 - - [06/Mar/2023 00:33:33] \"\u001b[37mGET /chain HTTP/1.1\u001b[0m\" 200 -\n"
     ]
    },
    {
     "name": "stdout",
     "output_type": "stream",
     "text": [
      "chain info requested!!\n"
     ]
    }
   ],
   "source": [
    "app = Flask(__name__)\n",
    "\n",
    "@app.route('/chain', methods=['GET'])\n",
    "def full_chain():\n",
    "    print(\"chain info requested!!\")\n",
    "    response = {\n",
    "        'chain' : blockchain.chain, \n",
    "        'length' : len(blockchain.chain), \n",
    "    }\n",
    "    return jsonify(response), 200\n",
    "\n",
    "@app.route('/transactions/new', methods=['POST'])\n",
    "def new_transaction():\n",
    "    values = request.get_json() \n",
    "    print(\"transactions_new!!! : \", values)\n",
    "    required = ['sender', 'recipient', 'amount'] \n",
    "\n",
    "    if not all(k in values for k in required):\n",
    "        return 'missing values', 400\n",
    "    contract_address = hashlib.sha256(str(datetime.datetime.now()).encode() ).hexdigest()\n",
    "    values['smart_contract'][\"contract_address\"] = contract_address  \n",
    "    \n",
    "    if 'smart_contract' not in values:\n",
    "        values['smart_contract'] = 'empty'\n",
    "\n",
    "    index = blockchain.new_transaction(values['sender'],values['recipient'],\n",
    "values['amount'], values['smart_contract'])\n",
    "        \n",
    "    response = {'message' : 'Transaction will be added to Block {%s}' % index, \"contract_address\":contract_address}\n",
    "    return jsonify(response), 201\n",
    "\n",
    "\n",
    "@app.route('/mine', methods=['GET'])\n",
    "def mine():\n",
    "    print(\"MINING STARTED\")    \n",
    "    final_winner = blockchain.pos()  \n",
    "    \n",
    "    if final_winner == blockchain.account_name:  # 만약 본 노드가 winner로 선정되었으면 아래와 같이\n",
    "\n",
    "        blockchain.new_transaction(            #  나에게 보상을 주고\n",
    "            sender=mine_owner, \n",
    "            recipient=node_identifier, \n",
    "            amount=mine_profit, # coinbase transaction \n",
    "            smart_contract={\"contract_address\":\"mining_profit\"}, \n",
    "        )\n",
    "\n",
    "        previous_hash = blockchain.hash(blockchain.chain[-1])\n",
    "        block = blockchain.new_block(previous_hash = previous_hash, address = mine_owner)  #  신규 블록 생성\n",
    "        print(\"MY NODE IS SELECTED AS MINER NODE\")\n",
    "\n",
    "        response = {\n",
    "            'message' : 'new block found',\n",
    "            'index' : block['index'],\n",
    "            'transactions' : block['transactions'],\n",
    "            'nonce' : block['validator'],\n",
    "            'previous_hash' : block['previous_hash'],\n",
    "            'hash' : block['hash']\n",
    "        }\n",
    "\n",
    "        return jsonify(response), 200\n",
    "    \n",
    "    else : # isWinner = False : 본 노드가 winner가 아님\n",
    "        print(\"MY NODE IS NOT SELECTED AS MINER NODE\")\n",
    "\n",
    "        response = {\n",
    "            'message' : 'NOT SELECTED'\n",
    "        }\n",
    "\n",
    "        return jsonify(response), 200\n",
    "    \n",
    "if __name__ == '__main__':\n",
    "    app.run(host=my_ip, port=my_port)\n"
   ]
  },
  {
   "cell_type": "code",
   "execution_count": null,
   "id": "0ea982d0",
   "metadata": {},
   "outputs": [],
   "source": []
  }
 ],
 "metadata": {
  "kernelspec": {
   "display_name": "Python 3",
   "language": "python",
   "name": "python3"
  },
  "language_info": {
   "codemirror_mode": {
    "name": "ipython",
    "version": 3
   },
   "file_extension": ".py",
   "mimetype": "text/x-python",
   "name": "python",
   "nbconvert_exporter": "python",
   "pygments_lexer": "ipython3",
   "version": "3.8.8"
  }
 },
 "nbformat": 4,
 "nbformat_minor": 5
}
