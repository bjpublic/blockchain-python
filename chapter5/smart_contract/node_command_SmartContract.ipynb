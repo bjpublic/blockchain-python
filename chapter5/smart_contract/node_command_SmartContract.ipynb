{
 "cells": [
  {
   "cell_type": "code",
   "execution_count": 3,
   "id": "e4397b59",
   "metadata": {},
   "outputs": [],
   "source": [
    "import requests\n",
    "import json\n",
    "import pandas as pd\n",
    "import hashlib # hash 함수용 sha256 사용할 라이브러리|\n",
    "import random"
   ]
  },
  {
   "cell_type": "markdown",
   "id": "4a2c3864",
   "metadata": {},
   "source": [
    "## 노드의 블록 정보 확인"
   ]
  },
  {
   "cell_type": "code",
   "execution_count": 4,
   "id": "26d585ba",
   "metadata": {},
   "outputs": [
    {
     "data": {
      "text/plain": [
       "{'chain': [{'hash': '9fb02eddf26f418c59c3a8ef3ab6bb1a7f433c060c09cf7df48ff37800af4091',\n",
       "   'index': 1,\n",
       "   'previous_hash': 'genesis_block',\n",
       "   'timestamp': 1678029358.9999897,\n",
       "   'transactions': [],\n",
       "   'validator': 'master'}],\n",
       " 'length': 1}"
      ]
     },
     "execution_count": 4,
     "metadata": {},
     "output_type": "execute_result"
    }
   ],
   "source": [
    "headers = {'Content-Type' : 'application/json; charset=utf-8'}\n",
    "res = requests.get(\"http://localhost:5000/chain\", headers=headers)\n",
    "json.loads(res.content)"
   ]
  },
  {
   "cell_type": "markdown",
   "id": "7d8928f5",
   "metadata": {},
   "source": [
    "## transaction 입력 및 채굴(기존과 동일)"
   ]
  },
  {
   "cell_type": "code",
   "execution_count": 5,
   "id": "77decc96",
   "metadata": {},
   "outputs": [
    {
     "name": "stdout",
     "output_type": "stream",
     "text": [
      "<Response [200]>\n"
     ]
    }
   ],
   "source": [
    "headers = {'Content-Type' : 'application/json; charset=utf-8'}\n",
    "data = {\n",
    "        \"sender\": \"test_from\",\n",
    "        \"recipient\": \"test_to\",\n",
    "        \"amount\": 100,\n",
    "        \"smart_contract\": {}\n",
    "}\n",
    "requests.post(\"http://localhost:5000/transactions/new\", headers=headers, data=json.dumps(data)).content\n",
    "\n",
    "headers = {'Content-Type' : 'application/json; charset=utf-8'}\n",
    "res = requests.get(\"http://localhost:5000/mine\")\n",
    "print(res)"
   ]
  },
  {
   "cell_type": "markdown",
   "id": "6b3f19c6",
   "metadata": {},
   "source": [
    "## 노드의 블록정보 확인 - 1"
   ]
  },
  {
   "cell_type": "code",
   "execution_count": 6,
   "id": "d74a816b",
   "metadata": {},
   "outputs": [
    {
     "data": {
      "text/plain": [
       "{'chain': [{'hash': '9fb02eddf26f418c59c3a8ef3ab6bb1a7f433c060c09cf7df48ff37800af4091',\n",
       "   'index': 1,\n",
       "   'previous_hash': 'genesis_block',\n",
       "   'timestamp': 1678029358.9999897,\n",
       "   'transactions': [],\n",
       "   'validator': 'master'},\n",
       "  {'hash': '443e4b5a208bc55688dde680910267464a966b5c8cba3d1868bf374284275f9d',\n",
       "   'index': 2,\n",
       "   'previous_hash': '356da5ac1a97aee0792bb4570ee548ded320ec08235eb9e64379a83f1f17ee79',\n",
       "   'timestamp': 1678029366.7151968,\n",
       "   'transactions': [{'amount': 100,\n",
       "     'recipient': 'test_to',\n",
       "     'sender': 'test_from',\n",
       "     'smart_contract': {'contract_address': 'd2ffe37130e468d14bf451d24132568cb7658ee60bd05c380f0f68437a01280e'},\n",
       "     'timestamp': 1678029362.6551871},\n",
       "    {'amount': 0.1,\n",
       "     'recipient': 'node_5000',\n",
       "     'sender': 'master',\n",
       "     'smart_contract': {'contract_address': 'mining_profit'},\n",
       "     'timestamp': 1678029366.7151968}],\n",
       "   'validator': 'master'}],\n",
       " 'length': 2}"
      ]
     },
     "execution_count": 6,
     "metadata": {},
     "output_type": "execute_result"
    }
   ],
   "source": [
    "headers = {'Content-Type' : 'application/json; charset=utf-8'}\n",
    "res = requests.get(\"http://localhost:5000/chain\", headers=headers)\n",
    "json.loads(res.content)"
   ]
  },
  {
   "cell_type": "markdown",
   "id": "22f62fb1",
   "metadata": {},
   "source": [
    "## Smart Contract transaction 입력하기"
   ]
  },
  {
   "cell_type": "code",
   "execution_count": 7,
   "id": "18844519",
   "metadata": {},
   "outputs": [
    {
     "data": {
      "text/plain": [
       "{'contract_address': 'd49ca720628c56e666b226c14938b83824ad848f8410d6020bc7d39b5089763b',\n",
       " 'message': 'Transaction will be added to Block {3}'}"
      ]
     },
     "execution_count": 7,
     "metadata": {},
     "output_type": "execute_result"
    }
   ],
   "source": [
    "headers = {'Content-Type' : 'application/json; charset=utf-8'}\n",
    "data = {\n",
    "        \"sender\": \"test_from\",\n",
    "        \"recipient\": \"smart_contract\",\n",
    "        \"amount\": 0,\n",
    "        \"smart_contract\": {\"contract_code\":\"print('Ｈello Ｓmart－Ｃontract')\"}\n",
    "}\n",
    "result = requests.post(\"http://localhost:5000/transactions/new\", headers=headers, data=json.dumps(data)).content\n",
    "json.loads(result)"
   ]
  },
  {
   "cell_type": "code",
   "execution_count": 8,
   "id": "11f708cb",
   "metadata": {},
   "outputs": [],
   "source": [
    "contract_address = json.loads(result)['contract_address']"
   ]
  },
  {
   "cell_type": "markdown",
   "id": "8ffed183",
   "metadata": {},
   "source": [
    "## 노드의 블록정보 확인 - 2"
   ]
  },
  {
   "cell_type": "code",
   "execution_count": 9,
   "id": "cd862740",
   "metadata": {},
   "outputs": [
    {
     "data": {
      "text/plain": [
       "{'chain': [{'hash': '9fb02eddf26f418c59c3a8ef3ab6bb1a7f433c060c09cf7df48ff37800af4091',\n",
       "   'index': 1,\n",
       "   'previous_hash': 'genesis_block',\n",
       "   'timestamp': 1678029358.9999897,\n",
       "   'transactions': [],\n",
       "   'validator': 'master'},\n",
       "  {'hash': '443e4b5a208bc55688dde680910267464a966b5c8cba3d1868bf374284275f9d',\n",
       "   'index': 2,\n",
       "   'previous_hash': '356da5ac1a97aee0792bb4570ee548ded320ec08235eb9e64379a83f1f17ee79',\n",
       "   'timestamp': 1678029366.7151968,\n",
       "   'transactions': [{'amount': 100,\n",
       "     'recipient': 'test_to',\n",
       "     'sender': 'test_from',\n",
       "     'smart_contract': {'contract_address': 'd2ffe37130e468d14bf451d24132568cb7658ee60bd05c380f0f68437a01280e'},\n",
       "     'timestamp': 1678029362.6551871},\n",
       "    {'amount': 0.1,\n",
       "     'recipient': 'node_5000',\n",
       "     'sender': 'master',\n",
       "     'smart_contract': {'contract_address': 'mining_profit'},\n",
       "     'timestamp': 1678029366.7151968}],\n",
       "   'validator': 'master'}],\n",
       " 'length': 2}"
      ]
     },
     "execution_count": 9,
     "metadata": {},
     "output_type": "execute_result"
    }
   ],
   "source": [
    "headers = {'Content-Type' : 'application/json; charset=utf-8'}\n",
    "res = requests.get(\"http://localhost:5000/chain\", headers=headers)\n",
    "json.loads(res.content)"
   ]
  },
  {
   "cell_type": "markdown",
   "id": "de078099",
   "metadata": {},
   "source": [
    "##  채굴하기 - 1"
   ]
  },
  {
   "cell_type": "code",
   "execution_count": 10,
   "id": "ca6e8f84",
   "metadata": {},
   "outputs": [
    {
     "name": "stdout",
     "output_type": "stream",
     "text": [
      "<Response [200]>\n"
     ]
    }
   ],
   "source": [
    "headers = {'Content-Type' : 'application/json; charset=utf-8'}\n",
    "res = requests.get(\"http://localhost:5000/mine\")\n",
    "print(res)"
   ]
  },
  {
   "cell_type": "markdown",
   "id": "a8f956fe",
   "metadata": {},
   "source": [
    "## 노드의 블록정보 확인 - 3"
   ]
  },
  {
   "cell_type": "code",
   "execution_count": 11,
   "id": "17f93c4a",
   "metadata": {
    "scrolled": true
   },
   "outputs": [
    {
     "data": {
      "text/plain": [
       "{'chain': [{'hash': '9fb02eddf26f418c59c3a8ef3ab6bb1a7f433c060c09cf7df48ff37800af4091',\n",
       "   'index': 1,\n",
       "   'previous_hash': 'genesis_block',\n",
       "   'timestamp': 1678029358.9999897,\n",
       "   'transactions': [],\n",
       "   'validator': 'master'},\n",
       "  {'hash': '443e4b5a208bc55688dde680910267464a966b5c8cba3d1868bf374284275f9d',\n",
       "   'index': 2,\n",
       "   'previous_hash': '356da5ac1a97aee0792bb4570ee548ded320ec08235eb9e64379a83f1f17ee79',\n",
       "   'timestamp': 1678029366.7151968,\n",
       "   'transactions': [{'amount': 100,\n",
       "     'recipient': 'test_to',\n",
       "     'sender': 'test_from',\n",
       "     'smart_contract': {'contract_address': 'd2ffe37130e468d14bf451d24132568cb7658ee60bd05c380f0f68437a01280e'},\n",
       "     'timestamp': 1678029362.6551871},\n",
       "    {'amount': 0.1,\n",
       "     'recipient': 'node_5000',\n",
       "     'sender': 'master',\n",
       "     'smart_contract': {'contract_address': 'mining_profit'},\n",
       "     'timestamp': 1678029366.7151968}],\n",
       "   'validator': 'master'},\n",
       "  {'hash': '7a05e2dfb474930fa6cb59251460a66455dc703b8d9a60dd81187a19e8331198',\n",
       "   'index': 3,\n",
       "   'previous_hash': '5c0283cd8e5479d819caebcdc0ce1a8dc901f89f86da755c0327d242eb5998e3',\n",
       "   'timestamp': 1678029380.4624197,\n",
       "   'transactions': [{'amount': 0,\n",
       "     'recipient': 'smart_contract',\n",
       "     'sender': 'test_from',\n",
       "     'smart_contract': {'contract_address': 'd49ca720628c56e666b226c14938b83824ad848f8410d6020bc7d39b5089763b',\n",
       "      'contract_code': \"print('Ｈello Ｓmart－Ｃontract')\"},\n",
       "     'timestamp': 1678029371.3489323},\n",
       "    {'amount': 0.1,\n",
       "     'recipient': 'node_5000',\n",
       "     'sender': 'master',\n",
       "     'smart_contract': {'contract_address': 'mining_profit'},\n",
       "     'timestamp': 1678029380.4624197}],\n",
       "   'validator': 'master'}],\n",
       " 'length': 3}"
      ]
     },
     "execution_count": 11,
     "metadata": {},
     "output_type": "execute_result"
    }
   ],
   "source": [
    "headers = {'Content-Type' : 'application/json; charset=utf-8'}\n",
    "res = requests.get(\"http://localhost:5000/chain\", headers=headers)\n",
    "json.loads(res.content)"
   ]
  },
  {
   "cell_type": "markdown",
   "id": "c4593807",
   "metadata": {},
   "source": [
    "## Smart Contract 호출 -1"
   ]
  },
  {
   "cell_type": "code",
   "execution_count": 12,
   "id": "741bf835",
   "metadata": {},
   "outputs": [],
   "source": [
    "headers = {'Content-Type' : 'application/json; charset=utf-8'}\n",
    "res = requests.get(\"http://localhost:5000/chain\", headers=headers)\n",
    "res_json = json.loads(res.content)"
   ]
  },
  {
   "cell_type": "code",
   "execution_count": 13,
   "id": "7c1418db",
   "metadata": {},
   "outputs": [
    {
     "name": "stdout",
     "output_type": "stream",
     "text": [
      "Ｈello Ｓmart－Ｃontract\n"
     ]
    }
   ],
   "source": [
    "for _block in res_json['chain']:\n",
    "    for _tx in _block['transactions']:\n",
    "        if _tx['smart_contract']['contract_address'] == contract_address:\n",
    "            exec( _tx['smart_contract']['contract_code'])            "
   ]
  },
  {
   "cell_type": "markdown",
   "id": "cff38e24",
   "metadata": {},
   "source": [
    "## Smart Contract 입력하기 -2  / NFT"
   ]
  },
  {
   "cell_type": "code",
   "execution_count": 14,
   "id": "39930baf",
   "metadata": {},
   "outputs": [
    {
     "name": "stdout",
     "output_type": "stream",
     "text": [
      "<Response [200]>\n"
     ]
    }
   ],
   "source": [
    "headers = {'Content-Type' : 'application/json; charset=utf-8'}\n",
    "data = {\n",
    "        \"sender\": \"test_from\",\n",
    "        \"recipient\": \"smart_contract\",\n",
    "        \"amount\": 0,\n",
    "        \"smart_contract\": {\"contract_code\":\"\"\"\n",
    "myNFT = {'NFT_NAME':'SMARTCONTRACT_NFT',\n",
    "         'NFT_URL': 'https://www.google.com/images/branding/googlelogo/1x/googlelogo_color_272x92dp.png'}\n",
    "                                            \"\"\"}\n",
    "}\n",
    "result = requests.post(\"http://localhost:5000/transactions/new\", headers=headers, data=json.dumps(data)).content\n",
    "contract_address = json.loads(result)['contract_address']\n",
    "\n",
    "# 채굴을 통하여 거래내역을 블록에 저장한다\n",
    "headers = {'Content-Type' : 'application/json; charset=utf-8'}\n",
    "res = requests.get(\"http://localhost:5000/mine\")\n",
    "print(res)"
   ]
  },
  {
   "cell_type": "code",
   "execution_count": 15,
   "id": "9f522d2f",
   "metadata": {},
   "outputs": [
    {
     "data": {
      "text/plain": [
       "'119bc6841bc12394cc18f5068b7fcbb7415fb3d155dde9fdc5c19a78b50ee49d'"
      ]
     },
     "execution_count": 15,
     "metadata": {},
     "output_type": "execute_result"
    }
   ],
   "source": [
    "contract_address"
   ]
  },
  {
   "cell_type": "code",
   "execution_count": 16,
   "id": "d5da3542",
   "metadata": {},
   "outputs": [
    {
     "data": {
      "text/plain": [
       "{'NFT_NAME': 'SMARTCONTRACT_NFT',\n",
       " 'NFT_URL': 'https://www.google.com/images/branding/googlelogo/1x/googlelogo_color_272x92dp.png'}"
      ]
     },
     "execution_count": 16,
     "metadata": {},
     "output_type": "execute_result"
    }
   ],
   "source": [
    "# 블록 정보 호출\n",
    "headers = {'Content-Type' : 'application/json; charset=utf-8'}\n",
    "res = requests.get(\"http://localhost:5000/chain\", headers=headers)\n",
    "res_json = json.loads(res.content)\n",
    "\n",
    "## 스마트 컨트랙트를 호출 및 실행\n",
    "for _block in res_json['chain']:\n",
    "    for _tx in _block['transactions']:\n",
    "        if _tx['smart_contract']['contract_address'] == contract_address:\n",
    "            exec( _tx['smart_contract']['contract_code'])            \n",
    "myNFT"
   ]
  },
  {
   "cell_type": "markdown",
   "id": "ea5d40bd",
   "metadata": {},
   "source": [
    "## Smart Contract 입력하기 -3  / Token 만들기"
   ]
  },
  {
   "cell_type": "code",
   "execution_count": 17,
   "id": "3c34f54b",
   "metadata": {},
   "outputs": [
    {
     "name": "stdout",
     "output_type": "stream",
     "text": [
      "<Response [200]>\n"
     ]
    }
   ],
   "source": [
    "headers = {'Content-Type' : 'application/json; charset=utf-8'}\n",
    "data = {\n",
    "        \"sender\": \"test_from\",\n",
    "        \"recipient\": \"smart_contract\",\n",
    "        \"amount\": 0,\n",
    "        \"smart_contract\": {\n",
    "                           \"contract_code\" :\"token_name = 'pyTOKEN' \\ntoken_total_volume = 100000\"\n",
    "                                            }\n",
    "            }\n",
    "result = requests.post(\"http://localhost:5000/transactions/new\", headers=headers, data=json.dumps(data)).content\n",
    "contract_address = json.loads(result)['contract_address']\n",
    "\n",
    "headers = {'Content-Type' : 'application/json; charset=utf-8'}\n",
    "res = requests.get(\"http://localhost:5000/mine\")\n",
    "print(res)"
   ]
  },
  {
   "cell_type": "code",
   "execution_count": 18,
   "id": "6413e45f",
   "metadata": {},
   "outputs": [
    {
     "data": {
      "text/plain": [
       "'15382c02808ee5a0e35652c2705d3b2b46f3cfc731f7fc4e86a42f1045b35806'"
      ]
     },
     "execution_count": 18,
     "metadata": {},
     "output_type": "execute_result"
    }
   ],
   "source": [
    "contract_address"
   ]
  },
  {
   "cell_type": "code",
   "execution_count": 19,
   "id": "4a504559",
   "metadata": {},
   "outputs": [
    {
     "name": "stdout",
     "output_type": "stream",
     "text": [
      "pyTOKEN /  100000\n"
     ]
    }
   ],
   "source": [
    "# 블록 정보 호출\n",
    "headers = {'Content-Type' : 'application/json; charset=utf-8'}\n",
    "res = requests.get(\"http://localhost:5000/chain\", headers=headers)\n",
    "res_json = json.loads(res.content)\n",
    "\n",
    "## 스마트 컨트랙트를 호출 및 실행\n",
    "for _block in res_json['chain']:\n",
    "    for _tx in _block['transactions']:\n",
    "        if _tx['smart_contract']['contract_address'] == contract_address:\n",
    "            exec( _tx['smart_contract']['contract_code'])       \n",
    "            break\n",
    "print(token_name , \"/ \", token_total_volume  )"
   ]
  },
  {
   "cell_type": "markdown",
   "id": "ed126fe1",
   "metadata": {},
   "source": [
    "## Smart Contract 입력하기 -4  / 거래 가능한 Token 만들기"
   ]
  },
  {
   "cell_type": "code",
   "execution_count": 20,
   "id": "5842274d",
   "metadata": {},
   "outputs": [
    {
     "name": "stdout",
     "output_type": "stream",
     "text": [
      "<Response [200]>\n"
     ]
    }
   ],
   "source": [
    "headers = {'Content-Type' : 'application/json; charset=utf-8'}\n",
    "data = {\n",
    "        \"sender\": \"test_from\",\n",
    "        \"recipient\": \"test_to\",\n",
    "        \"amount\": 3,\n",
    "        \"smart_contract\": {\n",
    "                           \"contract_code\" :\"token_name = 'pyTOKEN' \\ntoken_total_volume = 100000\\ntoken_owner = {'token_maker' : 10000}\",\n",
    "                           \"contract_function_getBalance\" :\"\"\"\n",
    "def get_balance(user_id):\n",
    "    print('{} Balance is : '.format(user_id), token_owner[user_id])\n",
    "    return token_owner[user_id]\n",
    "\"\"\",\n",
    "                           \"contract_function_sendToken\" :\"\"\"\n",
    "def send_token(sender,recipent,amount):\n",
    "    if sender in token_owner.keys():\n",
    "        if get_balance(sender) > amount:\n",
    "            token_owner[sender]  = token_owner[sender] - amount\n",
    "            if recipent in token_owner.keys():\n",
    "                token_owner[recipent]  = token_owner[recipent] + amount\n",
    "            else :\n",
    "                token_owner[recipent]  =  amount\n",
    "            print(\"Transaction Completed\")\n",
    "            get_balance(sender) \n",
    "            get_balance(recipent) \n",
    "\n",
    "        else:\n",
    "            return \"Insufficient Balance\"\n",
    "    else:\n",
    "        return \"Unavailable Sender id\"\n",
    "\"\"\"\n",
    "                           \n",
    "\n",
    "                                            }\n",
    "            }\n",
    "result = requests.post(\"http://localhost:5000/transactions/new\", headers=headers, data=json.dumps(data)).content\n",
    "contract_address = json.loads(result)['contract_address']\n",
    "\n",
    "\n",
    "headers = {'Content-Type' : 'application/json; charset=utf-8'}\n",
    "res = requests.get(\"http://localhost:5000/mine\")\n",
    "print(res)"
   ]
  },
  {
   "cell_type": "code",
   "execution_count": 21,
   "id": "44cab093",
   "metadata": {},
   "outputs": [],
   "source": [
    "headers = {'Content-Type' : 'application/json; charset=utf-8'}\n",
    "res = requests.get(\"http://localhost:5000/chain\", headers=headers)\n",
    "res_json = json.loads(res.content)\n",
    "\n",
    "for _block in res_json['chain']:\n",
    "    for _tx in _block['transactions']:\n",
    "        if _tx['smart_contract']['contract_address'] == contract_address:\n",
    "            exec( _tx['smart_contract']['contract_code'])\n",
    "            break"
   ]
  },
  {
   "cell_type": "code",
   "execution_count": 22,
   "id": "97423dae",
   "metadata": {},
   "outputs": [
    {
     "data": {
      "text/plain": [
       "'pyTOKEN'"
      ]
     },
     "execution_count": 22,
     "metadata": {},
     "output_type": "execute_result"
    }
   ],
   "source": [
    "token_name "
   ]
  },
  {
   "cell_type": "code",
   "execution_count": 23,
   "id": "e4e89e0e",
   "metadata": {},
   "outputs": [
    {
     "data": {
      "text/plain": [
       "100000"
      ]
     },
     "execution_count": 23,
     "metadata": {},
     "output_type": "execute_result"
    }
   ],
   "source": [
    "token_total_volume"
   ]
  },
  {
   "cell_type": "code",
   "execution_count": 24,
   "id": "2910210d",
   "metadata": {},
   "outputs": [
    {
     "name": "stdout",
     "output_type": "stream",
     "text": [
      "token_maker Balance is :  10000\n"
     ]
    },
    {
     "data": {
      "text/plain": [
       "10000"
      ]
     },
     "execution_count": 24,
     "metadata": {},
     "output_type": "execute_result"
    }
   ],
   "source": [
    "exec(_tx['smart_contract']['contract_function_getBalance'])\n",
    "get_balance('token_maker')"
   ]
  },
  {
   "cell_type": "code",
   "execution_count": 25,
   "id": "e010d1f8",
   "metadata": {},
   "outputs": [
    {
     "name": "stdout",
     "output_type": "stream",
     "text": [
      "token_maker Balance is :  10000\n",
      "Transaction Completed\n",
      "token_maker Balance is :  9950\n",
      "user Balance is :  50\n"
     ]
    }
   ],
   "source": [
    "exec(_tx['smart_contract']['contract_function_sendToken'])\n",
    "send_token('token_maker','user',50)"
   ]
  },
  {
   "cell_type": "code",
   "execution_count": 26,
   "id": "17da70f0",
   "metadata": {},
   "outputs": [
    {
     "name": "stdout",
     "output_type": "stream",
     "text": [
      "token_maker Balance is :  9950\n"
     ]
    },
    {
     "data": {
      "text/plain": [
       "9950"
      ]
     },
     "execution_count": 26,
     "metadata": {},
     "output_type": "execute_result"
    }
   ],
   "source": [
    "exec(_tx['smart_contract']['contract_function_getBalance'])\n",
    "get_balance('token_maker')"
   ]
  },
  {
   "cell_type": "code",
   "execution_count": 27,
   "id": "c0e228d7",
   "metadata": {},
   "outputs": [
    {
     "name": "stdout",
     "output_type": "stream",
     "text": [
      "user Balance is :  50\n"
     ]
    },
    {
     "data": {
      "text/plain": [
       "50"
      ]
     },
     "execution_count": 27,
     "metadata": {},
     "output_type": "execute_result"
    }
   ],
   "source": [
    "exec(_tx['smart_contract']['contract_function_getBalance'])\n",
    "get_balance('user')"
   ]
  },
  {
   "cell_type": "code",
   "execution_count": 28,
   "id": "af1d39f5",
   "metadata": {},
   "outputs": [
    {
     "name": "stdout",
     "output_type": "stream",
     "text": [
      "token_maker Balance is :  9950\n",
      "Transaction Completed\n",
      "token_maker Balance is :  9900\n",
      "user Balance is :  100\n"
     ]
    }
   ],
   "source": [
    "exec(_tx['smart_contract']['contract_function_sendToken'])\n",
    "send_token('token_maker','user',50)"
   ]
  },
  {
   "cell_type": "code",
   "execution_count": 29,
   "id": "e9ff3e21",
   "metadata": {},
   "outputs": [
    {
     "name": "stdout",
     "output_type": "stream",
     "text": [
      "token_maker Balance is :  9900\n",
      "Transaction Completed\n",
      "token_maker Balance is :  6900\n",
      "user2 Balance is :  3000\n"
     ]
    }
   ],
   "source": [
    "send_token('token_maker','user2',3000)"
   ]
  },
  {
   "cell_type": "code",
   "execution_count": 30,
   "id": "8a19fad3",
   "metadata": {},
   "outputs": [
    {
     "name": "stdout",
     "output_type": "stream",
     "text": [
      "user2 Balance is :  3000\n"
     ]
    },
    {
     "data": {
      "text/plain": [
       "3000"
      ]
     },
     "execution_count": 30,
     "metadata": {},
     "output_type": "execute_result"
    }
   ],
   "source": [
    "exec(_tx['smart_contract']['contract_function_getBalance'])\n",
    "get_balance('user2')"
   ]
  }
 ],
 "metadata": {
  "kernelspec": {
   "display_name": "Python 3",
   "language": "python",
   "name": "python3"
  },
  "language_info": {
   "codemirror_mode": {
    "name": "ipython",
    "version": 3
   },
   "file_extension": ".py",
   "mimetype": "text/x-python",
   "name": "python",
   "nbconvert_exporter": "python",
   "pygments_lexer": "ipython3",
   "version": "3.8.8"
  }
 },
 "nbformat": 4,
 "nbformat_minor": 5
}
