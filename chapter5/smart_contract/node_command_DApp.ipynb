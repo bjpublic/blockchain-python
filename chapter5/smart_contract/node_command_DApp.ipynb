{
 "cells": [
  {
   "cell_type": "code",
   "execution_count": 1,
   "id": "e4397b59",
   "metadata": {},
   "outputs": [],
   "source": [
    "import requests\n",
    "import json\n",
    "import pandas as pd\n",
    "import hashlib # hash 함수용 sha256 사용할 라이브러리|\n",
    "import random"
   ]
  },
  {
   "cell_type": "markdown",
   "id": "9c71ae70",
   "metadata": {},
   "source": [
    "## DApp 제작 -1 계산기"
   ]
  },
  {
   "cell_type": "code",
   "execution_count": 2,
   "id": "5d7a7601",
   "metadata": {},
   "outputs": [
    {
     "name": "stdout",
     "output_type": "stream",
     "text": [
      "<Response [200]>\n"
     ]
    }
   ],
   "source": [
    "headers = {'Content-Type' : 'application/json; charset=utf-8'}\n",
    "data = {\n",
    "        \"sender\": \"test_from\",\n",
    "        \"recipient\": \"smart_contract\",\n",
    "        \"amount\": 0,\n",
    "        \"smart_contract\": {\n",
    "                           \"contract_code\" : \"calculate_result = {}{}{}\"}\n",
    "}\n",
    "result = requests.post(\"http://localhost:5000/transactions/new\", headers=headers, data=json.dumps(data)).content\n",
    "contract_address = json.loads(result)['contract_address']\n",
    "\n",
    "headers = {'Content-Type' : 'application/json; charset=utf-8'}\n",
    "res = requests.get(\"http://localhost:5000/mine\")\n",
    "print(res)"
   ]
  },
  {
   "cell_type": "markdown",
   "id": "e71cdac6",
   "metadata": {},
   "source": [
    "### 120 + 360 "
   ]
  },
  {
   "cell_type": "code",
   "execution_count": 3,
   "id": "9adbadb1",
   "metadata": {},
   "outputs": [
    {
     "name": "stdout",
     "output_type": "stream",
     "text": [
      "480\n"
     ]
    }
   ],
   "source": [
    "headers = {'Content-Type' : 'application/json; charset=utf-8'}\n",
    "res = requests.get(\"http://localhost:5000/chain\", headers=headers)\n",
    "res_json = json.loads(res.content)\n",
    "\n",
    "for _block in res_json['chain']:\n",
    "    for _tx in _block['transactions']:\n",
    "        if _tx['smart_contract']['contract_address'] ==contract_address:\n",
    "            exec( _tx['smart_contract']['contract_code'].format(120,\"+\",360))\n",
    "            break\n",
    "print(calculate_result)        "
   ]
  },
  {
   "cell_type": "markdown",
   "id": "51473770",
   "metadata": {},
   "source": [
    "### 3 X 5"
   ]
  },
  {
   "cell_type": "code",
   "execution_count": 4,
   "id": "2bb2b25d",
   "metadata": {},
   "outputs": [
    {
     "name": "stdout",
     "output_type": "stream",
     "text": [
      "15\n"
     ]
    }
   ],
   "source": [
    "headers = {'Content-Type' : 'application/json; charset=utf-8'}\n",
    "res = requests.get(\"http://localhost:5000/chain\", headers=headers)\n",
    "res_json = json.loads(res.content)\n",
    "\n",
    "for _block in res_json['chain']:\n",
    "    for _tx in _block['transactions']:\n",
    "        if _tx['smart_contract']['contract_address'] ==contract_address:\n",
    "            exec( _tx['smart_contract']['contract_code'].format(3,\"*\",5))\n",
    "            break\n",
    "print(calculate_result)        "
   ]
  },
  {
   "cell_type": "markdown",
   "id": "91e0e392",
   "metadata": {},
   "source": [
    "### 12000 / 12"
   ]
  },
  {
   "cell_type": "code",
   "execution_count": 5,
   "id": "7b697e1d",
   "metadata": {},
   "outputs": [
    {
     "name": "stdout",
     "output_type": "stream",
     "text": [
      "1000.0\n"
     ]
    }
   ],
   "source": [
    "headers = {'Content-Type' : 'application/json; charset=utf-8'}\n",
    "res = requests.get(\"http://localhost:5000/chain\", headers=headers)\n",
    "res_json = json.loads(res.content)\n",
    "\n",
    "for _block in res_json['chain']:\n",
    "    for _tx in _block['transactions']:\n",
    "        if _tx['smart_contract']['contract_address'] ==contract_address:\n",
    "            exec( _tx['smart_contract']['contract_code'].format(12000,\"/\",12))\n",
    "            break\n",
    "print(calculate_result)        "
   ]
  },
  {
   "cell_type": "markdown",
   "id": "75f9cf55",
   "metadata": {},
   "source": [
    "## DApp 제작 -2 복권"
   ]
  },
  {
   "cell_type": "code",
   "execution_count": 6,
   "id": "bba03700",
   "metadata": {},
   "outputs": [
    {
     "name": "stdout",
     "output_type": "stream",
     "text": [
      "<Response [200]>\n"
     ]
    }
   ],
   "source": [
    "headers = {'Content-Type' : 'application/json; charset=utf-8'}\n",
    "data = {\n",
    "        \"sender\": \"test_from\",\n",
    "        \"recipient\": \"smart_contract\",\n",
    "        \"amount\": 0,\n",
    "        \"smart_contract\": {\n",
    "                           \"contract_code\" : \"\"\"\n",
    "def Lottery():\n",
    "    lottery_number = random.sample(range(1,46),6)\n",
    "    lottery_number = sorted(lottery_number, key=lambda x: x)\n",
    "    lottery_number\n",
    "    print(lottery_number) \n",
    "    return lottery_number\n",
    "                           \"\"\"}\n",
    "}\n",
    "result = requests.post(\"http://localhost:5000/transactions/new\", headers=headers, data=json.dumps(data)).content\n",
    "contract_address = json.loads(result)['contract_address']\n",
    "\n",
    "headers = {'Content-Type' : 'application/json; charset=utf-8'}\n",
    "res = requests.get(\"http://localhost:5000/mine\")\n",
    "print(res)"
   ]
  },
  {
   "cell_type": "code",
   "execution_count": 7,
   "id": "d56f755c",
   "metadata": {},
   "outputs": [
    {
     "name": "stdout",
     "output_type": "stream",
     "text": [
      "[5, 9, 17, 21, 26, 35]\n",
      "[5, 9, 17, 21, 26, 35]\n"
     ]
    }
   ],
   "source": [
    "headers = {'Content-Type' : 'application/json; charset=utf-8'}\n",
    "res = requests.get(\"http://localhost:5000/chain\", headers=headers)\n",
    "res_json = json.loads(res.content)\n",
    "\n",
    "for _block in res_json['chain']:\n",
    "    for _tx in _block['transactions']:\n",
    "        if _tx['smart_contract']['contract_address'] ==contract_address:\n",
    "            exec( _tx['smart_contract']['contract_code'])\n",
    "            break   \n",
    "print(Lottery())       "
   ]
  },
  {
   "cell_type": "markdown",
   "id": "84aa0092",
   "metadata": {},
   "source": [
    "## DApp 제작 -3  Defi"
   ]
  },
  {
   "cell_type": "code",
   "execution_count": 8,
   "id": "b2d8fb47",
   "metadata": {},
   "outputs": [],
   "source": [
    "token_name = 'pyTOKEN' \n",
    "token_total_volume = 100000\n",
    "token_owner = {'token_maker' : 10000}\n",
    "staking_status = {}"
   ]
  },
  {
   "cell_type": "code",
   "execution_count": 9,
   "id": "4e862b3d",
   "metadata": {},
   "outputs": [],
   "source": [
    "def get_balance(user_id):\n",
    "    print('{} Balance is : '.format(user_id), token_owner[user_id])\n",
    "    return token_owner[user_id]\n",
    "\n",
    "def send_token(sender,recipent,amount):\n",
    "    if sender in token_owner.keys():\n",
    "        if get_balance(sender) > amount:\n",
    "            token_owner[sender]  = token_owner[sender] - amount\n",
    "            if recipent in token_owner.keys():\n",
    "                token_owner[recipent]  = token_owner[recipent] + amount\n",
    "            else :\n",
    "                token_owner[recipent]  =  amount\n",
    "            print(\"Transaction Completed\")\n",
    "            get_balance(sender) \n",
    "            get_balance(recipent) \n",
    "\n",
    "        else:\n",
    "            return \"Insufficient Balance\"\n",
    "    else:\n",
    "        return \"Unavailable Sender id\""
   ]
  },
  {
   "cell_type": "code",
   "execution_count": 10,
   "id": "0d09c317",
   "metadata": {},
   "outputs": [],
   "source": [
    "def token_staking(staker,amount):\n",
    "    if staker in token_owner.keys():\n",
    "        if get_balance(staker) > amount:\n",
    "            token_owner[staker]  = token_owner[staker] - amount\n",
    "            staking_status [len(staking_status)] =  {'staker':staker,'amount':amount}\n",
    "            print(\"Staing Completed\")\n",
    "            get_balance(staker) \n",
    "            \n",
    "        else:\n",
    "            return \"Insufficient Balance\"\n",
    "    else:\n",
    "        return \"Unavailable Staker id\"\n",
    "    \n",
    "def staking_yield(staking_status):\n",
    "    for t in staking_status:\n",
    "        print(staking_status[t])\n",
    "        staking_status[t]['amount'] = staking_status[t]['amount'] * 1.1\n",
    "    return staking_status"
   ]
  },
  {
   "cell_type": "code",
   "execution_count": 23,
   "id": "3755c30a",
   "metadata": {},
   "outputs": [
    {
     "name": "stdout",
     "output_type": "stream",
     "text": [
      "<Response [200]>\n"
     ]
    }
   ],
   "source": [
    "headers = {'Content-Type' : 'application/json; charset=utf-8'}\n",
    "data = {\n",
    "        \"sender\": \"test_from\",\n",
    "        \"recipient\": \"test_to\",\n",
    "        \"amount\": 3,\n",
    "        \"smart_contract\": {\n",
    "                           \"contract_code\" :\"token_name = 'pySTAKINGTOKEN' \\ntoken_total_volume = 100000\\ntoken_owner = {'token_maker' : 10000}\\nstaking_status = {}\",\n",
    "                           \"contract_function_getBalance\" :\"\"\"\n",
    "def get_balance(user_id):\n",
    "    print('{} Balance is : '.format(user_id), token_owner[user_id])\n",
    "    return token_owner[user_id]\n",
    "\"\"\",\n",
    "                           \"contract_function_sendToken\" :\"\"\"\n",
    "def send_token(sender,recipent,amount):\n",
    "    if sender in token_owner.keys():  \n",
    "        if get_balance(sender) > amount:\n",
    "            token_owner[sender]  = token_owner[sender] - amount\n",
    "            if recipent in token_owner.keys():\n",
    "                token_owner[recipent]  = token_owner[recipent] + amount\n",
    "            else :\n",
    "                token_owner[recipent]  =  amount\n",
    "            print(\"Transaction Completed\")\n",
    "            get_balance(sender) \n",
    "            get_balance(recipent) \n",
    "\n",
    "        else:\n",
    "            return \"Insufficient Balance\"\n",
    "    else:\n",
    "        return \"Unavailable Sender id\"\n",
    "\"\"\",\n",
    "                           \"contract_function_token_staking\" :\"\"\"\n",
    "def token_staking(staker,amount):\n",
    "    if staker in token_owner.keys():                       ## 예치자(staker)가 실제 존재하는 사용자인지 확인\n",
    "        if get_balance(staker) > amount:                   ## 예치자(staker)의 잔고가 예치 금액보다 많은지 확인\n",
    "            token_owner[staker]  = token_owner[staker] - amount   ## 예치자(staker)의 잔고에서 예치 금액 제외\n",
    "            staking_status [len(staking_status)] =  {'staker':staker,'amount':amount}  \n",
    "            ## 예치 정보(staking_status)에 예치자(staker)의 예치내역 저장\n",
    "            print(\"Staing Completed\")\n",
    "            get_balance(staker) \n",
    "            \n",
    "        else:\n",
    "            return \"Insufficient Balance\"\n",
    "    else:\n",
    "        return \"Unavailable Staker id\"\n",
    "\"\"\",\n",
    "                           \"contract_function_staking_yield\" :\"\"\"\n",
    "def staking_yield(staking_status):                                 ## 예치 이자 지급함수\n",
    "    for t in staking_status:\n",
    "        print(staking_status[t])\n",
    "        staking_status[t]['amount'] = staking_status[t]['amount'] * (1+0.1)    ## 예치 이자가 10% 지급된 금액으로 예치금 변경\n",
    "    return staking_status\n",
    "\"\"\"                       \n",
    "\n",
    "                                            }\n",
    "            }\n",
    "result = requests.post(\"http://localhost:5000/transactions/new\", headers=headers, data=json.dumps(data)).content\n",
    "contract_address = json.loads(result)['contract_address']\n",
    "\n",
    "\n",
    "headers = {'Content-Type' : 'application/json; charset=utf-8'}\n",
    "res = requests.get(\"http://localhost:5000/mine\")\n",
    "print(res)"
   ]
  },
  {
   "cell_type": "markdown",
   "id": "307a82ed",
   "metadata": {},
   "source": [
    "### pySTAKINGTOKEN 생성여부 확인"
   ]
  },
  {
   "cell_type": "code",
   "execution_count": 24,
   "id": "2803f649",
   "metadata": {},
   "outputs": [],
   "source": [
    "headers = {'Content-Type' : 'application/json; charset=utf-8'}\n",
    "res = requests.get(\"http://localhost:5000/chain\", headers=headers)\n",
    "res_json = json.loads(res.content)\n",
    "\n",
    "for _block in res_json['chain']:\n",
    "    for _tx in _block['transactions']:\n",
    "        if _tx['smart_contract']['contract_address'] == contract_address:\n",
    "            exec( _tx['smart_contract']['contract_code'])\n",
    "            break"
   ]
  },
  {
   "cell_type": "code",
   "execution_count": 25,
   "id": "b99b43d4",
   "metadata": {},
   "outputs": [
    {
     "data": {
      "text/plain": [
       "'pySTAKINGTOKEN'"
      ]
     },
     "execution_count": 25,
     "metadata": {},
     "output_type": "execute_result"
    }
   ],
   "source": [
    "token_name "
   ]
  },
  {
   "cell_type": "code",
   "execution_count": 26,
   "id": "5b90fcfb",
   "metadata": {},
   "outputs": [
    {
     "data": {
      "text/plain": [
       "100000"
      ]
     },
     "execution_count": 26,
     "metadata": {},
     "output_type": "execute_result"
    }
   ],
   "source": [
    "token_total_volume"
   ]
  },
  {
   "cell_type": "code",
   "execution_count": 27,
   "id": "b912f165",
   "metadata": {},
   "outputs": [
    {
     "name": "stdout",
     "output_type": "stream",
     "text": [
      "token_maker Balance is :  10000\n"
     ]
    },
    {
     "data": {
      "text/plain": [
       "10000"
      ]
     },
     "execution_count": 27,
     "metadata": {},
     "output_type": "execute_result"
    }
   ],
   "source": [
    "exec(_tx['smart_contract']['contract_function_getBalance'])\n",
    "get_balance('token_maker')"
   ]
  },
  {
   "cell_type": "markdown",
   "id": "db80aa69",
   "metadata": {},
   "source": [
    "### pySTAKINGTOKEN 예치 진행"
   ]
  },
  {
   "cell_type": "code",
   "execution_count": 28,
   "id": "2e43e5f8",
   "metadata": {},
   "outputs": [
    {
     "name": "stdout",
     "output_type": "stream",
     "text": [
      "token_maker Balance is :  10000\n",
      "Staing Completed\n",
      "token_maker Balance is :  9900\n"
     ]
    }
   ],
   "source": [
    "exec(_tx['smart_contract']['contract_function_token_staking'])\n",
    "token_staking('token_maker',100)"
   ]
  },
  {
   "cell_type": "markdown",
   "id": "5519c427",
   "metadata": {},
   "source": [
    "### pySTAKINGTOKEN 예치자에게 이자 지급"
   ]
  },
  {
   "cell_type": "code",
   "execution_count": 29,
   "id": "d0555d6f",
   "metadata": {},
   "outputs": [
    {
     "name": "stdout",
     "output_type": "stream",
     "text": [
      "{'staker': 'token_maker', 'amount': 100}\n"
     ]
    },
    {
     "data": {
      "text/plain": [
       "{0: {'staker': 'token_maker', 'amount': 110.00000000000001}}"
      ]
     },
     "execution_count": 29,
     "metadata": {},
     "output_type": "execute_result"
    }
   ],
   "source": [
    "exec(_tx['smart_contract']['contract_function_staking_yield'])\n",
    "staking_yield(staking_status)"
   ]
  },
  {
   "cell_type": "code",
   "execution_count": 30,
   "id": "341e2d2f",
   "metadata": {},
   "outputs": [
    {
     "name": "stdout",
     "output_type": "stream",
     "text": [
      "{'staker': 'token_maker', 'amount': 110.00000000000001}\n"
     ]
    },
    {
     "data": {
      "text/plain": [
       "{0: {'staker': 'token_maker', 'amount': 121.00000000000003}}"
      ]
     },
     "execution_count": 30,
     "metadata": {},
     "output_type": "execute_result"
    }
   ],
   "source": [
    "exec(_tx['smart_contract']['contract_function_staking_yield'])\n",
    "staking_yield(staking_status)"
   ]
  },
  {
   "cell_type": "code",
   "execution_count": 31,
   "id": "116113c8",
   "metadata": {},
   "outputs": [
    {
     "name": "stdout",
     "output_type": "stream",
     "text": [
      "{'staker': 'token_maker', 'amount': 121.00000000000003}\n"
     ]
    },
    {
     "data": {
      "text/plain": [
       "{0: {'staker': 'token_maker', 'amount': 133.10000000000005}}"
      ]
     },
     "execution_count": 31,
     "metadata": {},
     "output_type": "execute_result"
    }
   ],
   "source": [
    "exec(_tx['smart_contract']['contract_function_staking_yield'])\n",
    "staking_yield(staking_status)"
   ]
  },
  {
   "cell_type": "code",
   "execution_count": null,
   "id": "2eb7d62f",
   "metadata": {},
   "outputs": [],
   "source": []
  }
 ],
 "metadata": {
  "kernelspec": {
   "display_name": "Python 3",
   "language": "python",
   "name": "python3"
  },
  "language_info": {
   "codemirror_mode": {
    "name": "ipython",
    "version": 3
   },
   "file_extension": ".py",
   "mimetype": "text/x-python",
   "name": "python",
   "nbconvert_exporter": "python",
   "pygments_lexer": "ipython3",
   "version": "3.8.8"
  }
 },
 "nbformat": 4,
 "nbformat_minor": 5
}
