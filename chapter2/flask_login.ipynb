{
 "cells": [
  {
   "cell_type": "code",
   "execution_count": 1,
   "id": "d1259ae9",
   "metadata": {},
   "outputs": [
    {
     "name": "stdout",
     "output_type": "stream",
     "text": [
      " * Serving Flask app \"__main__\" (lazy loading)\n",
      " * Environment: production\n",
      "   WARNING: This is a development server. Do not use it in a production deployment.\n",
      "   Use a production WSGI server instead.\n",
      " * Debug mode: off\n"
     ]
    },
    {
     "name": "stderr",
     "output_type": "stream",
     "text": [
      " * Running on http://127.0.0.1:5000/ (Press CTRL+C to quit)\n",
      "127.0.0.1 - - [30/Aug/2022 22:04:49] \"\u001b[37mGET / HTTP/1.1\u001b[0m\" 200 -\n",
      "127.0.0.1 - - [30/Aug/2022 22:04:52] \"\u001b[37mGET /login HTTP/1.1\u001b[0m\" 200 -\n",
      "127.0.0.1 - - [30/Aug/2022 22:04:53] \"\u001b[37mPOST /login HTTP/1.1\u001b[0m\" 200 -\n"
     ]
    },
    {
     "name": "stdout",
     "output_type": "stream",
     "text": [
      "login 버튼을 누름\n",
      "{'wallet_id': [''], 'password': ['']}\n"
     ]
    }
   ],
   "source": [
    "from flask import Flask\n",
    "from datetime import datetime\n",
    "from flask import render_template\n",
    "from flask import request\n",
    "import requests \n",
    "\n",
    "app = Flask(__name__)\n",
    "\n",
    "test_name = \"pagongble\"\n",
    "test_pw = \"pagongble123\"\n",
    "test_coin_count = 10000\n",
    "\n",
    "@app.route('/')\n",
    "def index():\n",
    "     return 'Flask 웹사이트다!'\n",
    "\n",
    "@app.route('/login', methods=['GET', 'POST'])\n",
    "def login():   \n",
    "    if request.method=='POST':\n",
    "        print(\"login 버튼을 누름\")\n",
    "        input_value = request.form.to_dict(flat=False)\n",
    "        print(input_value)\n",
    "        if (input_value['wallet_id'][0] == test_name) & (input_value['password'][0] == test_pw) :\n",
    "            return \"로그인성공!!!!!!\"\n",
    "        else:\n",
    "            return render_template('login.html')\n",
    "        \n",
    "    return render_template('login.html')\n",
    "\n",
    "app.run()\n"
   ]
  },
  {
   "cell_type": "code",
   "execution_count": null,
   "id": "456bc1de",
   "metadata": {},
   "outputs": [],
   "source": []
  },
  {
   "cell_type": "code",
   "execution_count": null,
   "id": "cee58aba",
   "metadata": {},
   "outputs": [],
   "source": []
  },
  {
   "cell_type": "code",
   "execution_count": null,
   "id": "de637bb6",
   "metadata": {},
   "outputs": [],
   "source": []
  },
  {
   "cell_type": "code",
   "execution_count": null,
   "id": "e63ca904",
   "metadata": {},
   "outputs": [],
   "source": []
  },
  {
   "cell_type": "code",
   "execution_count": null,
   "id": "6d09c4d6",
   "metadata": {},
   "outputs": [],
   "source": []
  },
  {
   "cell_type": "code",
   "execution_count": null,
   "id": "b5d4684f",
   "metadata": {},
   "outputs": [],
   "source": []
  },
  {
   "cell_type": "code",
   "execution_count": null,
   "id": "96215580",
   "metadata": {},
   "outputs": [],
   "source": []
  },
  {
   "cell_type": "code",
   "execution_count": null,
   "id": "e64d03e1",
   "metadata": {},
   "outputs": [],
   "source": [
    "    if request.method=='POST':\n",
    "        if (name == test_name)& (pw == test_pw)      :\n",
    "            return render_template('home.html',  userName =  name,savings = ,used = \"정보없음\")\n",
    "        else:\n",
    "            return render_template('home.html',  userName =  \"사용자정보없음 로그인해주세요!\",savings = \"정보없음\",used = \"정보없음\")\n",
    "       "
   ]
  }
 ],
 "metadata": {
  "kernelspec": {
   "display_name": "Python 3",
   "language": "python",
   "name": "python3"
  },
  "language_info": {
   "codemirror_mode": {
    "name": "ipython",
    "version": 3
   },
   "file_extension": ".py",
   "mimetype": "text/x-python",
   "name": "python",
   "nbconvert_exporter": "python",
   "pygments_lexer": "ipython3",
   "version": "3.8.8"
  }
 },
 "nbformat": 4,
 "nbformat_minor": 5
}
