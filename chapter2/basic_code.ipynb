{
 "cells": [
  {
   "cell_type": "markdown",
   "id": "4b161b89",
   "metadata": {},
   "source": [
    "## Functions"
   ]
  },
  {
   "cell_type": "code",
   "execution_count": 1,
   "id": "b42a923e",
   "metadata": {},
   "outputs": [],
   "source": [
    "def f(x):\n",
    "    return 2*x + 1"
   ]
  },
  {
   "cell_type": "code",
   "execution_count": 2,
   "id": "88d7549a",
   "metadata": {},
   "outputs": [],
   "source": [
    "def f(seller_id, buyer_id):\n",
    "    return seller_id +\"-\"+ buyer_id"
   ]
  },
  {
   "cell_type": "code",
   "execution_count": 3,
   "id": "9cac0d9a",
   "metadata": {},
   "outputs": [],
   "source": [
    "## 블록 해시 함수\n",
    "def hash(block):\n",
    "        # Hashes a Block\n",
    "        block_string = json.dumps(block, sort_keys=True).encode()\n",
    "        # hash 라이브러리로 sha256 사용\n",
    "        return hashlib.sha256(block_string).hexdigest()\n",
    "\n",
    "## 거래내역 저장함수\n",
    "def new_transaction(self, sender, recipient, amount):\n",
    "        # Adds a new transaction to the list of transaction\n",
    "        self.current_transaction.append(\n",
    "            {\n",
    "                'sender' : sender, # 송신자\n",
    "                'recipient' : recipient, # 수신자\n",
    "                'amount' : amount, # 금액\n",
    "                'timestamp':time()\n",
    "            }\n",
    "        )\n",
    "        return self.last_block['index'] + 1    \n",
    "\n",
    "\n",
    "# 채굴함수\n",
    "def mine():\n",
    "    \n",
    "    last_block = blockchain.last_block\n",
    "    last_proof = last_block['proof']\n",
    "\n",
    "    proof = blockchain.pow(last_proof)  ## 여기가 진정한 채굴단계!!!! \n",
    "\n",
    "    blockchain.new_transaction(\n",
    "        sender=mine_owner, # 채굴시 생성되는 transaction (0 = 운영자)\n",
    "        recipient=node_identifier, # 지갑 주소처럼 사용\n",
    "        amount=mine_profit # coinbase transaction 코인 1개를 줄게!!\n",
    "    )\n",
    "\n",
    "## 등록된 노드들을 함께 업데이트\n",
    "    for node in blockchain.nodes:\n",
    "                \n",
    "        headers = {'Content-Type' : 'application/json; charset=utf-8'}\n",
    "        data = {\n",
    "            \"sender\":  mine_owner,\n",
    "            \"recipient\": node_identifier,\n",
    "            \"amount\": mine_profit\n",
    "        }\n",
    "        requests.post(\"http://\" + node + \"/transactions/new\", headers=headers, data=json.dumps(data))\n",
    "  \n",
    "    # Forge the new Block by adding it to the chain\n",
    "    # 전 블록에 대한 hash를 떠놓고\n",
    "    previous_hash = blockchain.hash(last_block)\n",
    "    # 검증하는 걸 넣어서 블록을 새로 생성\n",
    "    print(\"MINING STARTED\")\n",
    "    block = blockchain.new_block(proof, previous_hash)\n",
    "    print(\"MINING FINISHED\")\n",
    "\n",
    "    ## 채굴 성공 후 동료 노드들에게 새로운 블록정보를 업데이트\n",
    "    ## 그렇게 검증도 받아야하고\n",
    "    ################\n",
    "    for node in blockchain.nodes:\n",
    "        headers = {'Content-Type' : 'application/json; charset=utf-8'}\n",
    "        data = {\n",
    "            \"miner_node\":  'http://' + my_ip + \":\" + my_port,\n",
    "        }\n",
    "            \n",
    "        a = requests.get(\"http://\" + node + \"/nodes/resolve\", headers=headers, data =json.dumps(data) ) \n",
    "#     print(a.text)\n",
    "    # 이상이 없으면 정상배출\n",
    "    if \"ERROR\" not in a.text :\n",
    "        print(\"다른노드가 내블록 검증, 결과 정상!!!!!!\")\n",
    "        # block 이 제대로 mine 되었다는 정보를 json 형태로 띄워줌\n",
    "        response = {\n",
    "            'message' : 'new block found',\n",
    "            'index' : block['index'],\n",
    "            'transactions' : block['transactions'],\n",
    "            'proof' : block['proof'],\n",
    "            'previous_hash' : block['previous_hash']\n",
    "        }\n",
    "        \n",
    "    #이상 발생시\n",
    "    else:\n",
    "        1==1\n",
    "        print(\"다른노드가 내블록 검증, 에러발생!!!!!!\")\n",
    "        #문제가 있음 전파\n",
    "    return jsonify(response), 200\n"
   ]
  },
  {
   "cell_type": "code",
   "execution_count": 4,
   "id": "7f993198",
   "metadata": {},
   "outputs": [],
   "source": [
    "## 포유류 객채를 선언!!\n",
    "class mammals(object):\n",
    "    ## 포유류의 형태적 특징\n",
    "    def __init__(self):\n",
    "        self.number_of_legs = 4   # 다리가 4개\n",
    "        self.number_of_mouth = 1 # 입이 1개\n",
    "        self.number_of_ears = 2   # 귀가 2개\n",
    "        self.gender = \"MALE\"      # 남성 (혹은 \"FEMALE\")\n",
    "        \n",
    "## 포유류의 습성 : 잠잔다\n",
    "    def sleep(self, sleeping_time):\n",
    "        time.sleep(sleeping_time)  ## sleeping_time 만큼 움직이지 않고 잔다\n",
    "        \n",
    "## 포유류의 습성 : 먹는다\n",
    "    def eat(self, food):\n",
    "    \tdigest(food)\n",
    "        \n",
    "## 포유류의 습성 : 소화시킨다\n",
    "    def digest(self, food):\n",
    "    \tfood = food / 2 # 음식을 반으로 나눈다!!       \n",
    "        \n",
    "## 포유류의 습성 : 배변한다\n",
    "    def dump(self, food):\n",
    "    \tfood = 0 # 음식이 다 나가고 0이 된다!!\n"
   ]
  },
  {
   "cell_type": "code",
   "execution_count": 6,
   "id": "d9e724cd",
   "metadata": {},
   "outputs": [],
   "source": [
    "## 포유류 객체를 활용하여 강아지를 선언\n",
    "dog = mammals()\n",
    "\n",
    "## 포유류 객체를 활용하여 고양이를 선언\n",
    "cat = mammals()\n",
    "\n",
    "## 포유류 객체를 활용하여 고양이를 선언\n",
    "cow = mammals()\n"
   ]
  },
  {
   "cell_type": "code",
   "execution_count": 7,
   "id": "46da52f7",
   "metadata": {},
   "outputs": [
    {
     "data": {
      "text/plain": [
       "4"
      ]
     },
     "execution_count": 7,
     "metadata": {},
     "output_type": "execute_result"
    }
   ],
   "source": [
    "## 강아지의 다리 개수 확인하기\n",
    "dog.number_of_legs"
   ]
  },
  {
   "cell_type": "code",
   "execution_count": 9,
   "id": "595a3e64",
   "metadata": {},
   "outputs": [
    {
     "data": {
      "text/plain": [
       "4"
      ]
     },
     "execution_count": 9,
     "metadata": {},
     "output_type": "execute_result"
    }
   ],
   "source": [
    "## 고양이의 다리 개수 확인하기\n",
    "cat.number_of_legs"
   ]
  },
  {
   "cell_type": "code",
   "execution_count": 10,
   "id": "b7102653",
   "metadata": {},
   "outputs": [],
   "source": [
    "## 사고발생: 강아지의 다리가 3개가 됨\n",
    "dog.number_of_legs = 3\n"
   ]
  },
  {
   "cell_type": "code",
   "execution_count": 11,
   "id": "5bb66082",
   "metadata": {},
   "outputs": [
    {
     "data": {
      "text/plain": [
       "3"
      ]
     },
     "execution_count": 11,
     "metadata": {},
     "output_type": "execute_result"
    }
   ],
   "source": [
    "## (사건 후) 강아지의 다리개수 확인하기\n",
    "dog.number_of_legs\n"
   ]
  },
  {
   "cell_type": "code",
   "execution_count": 23,
   "id": "e9ea10ca",
   "metadata": {},
   "outputs": [],
   "source": [
    "import datetime\n",
    "\n",
    "## 블록체인이란 객체 선언!\n",
    "class Blockchain(object):\n",
    "    ## 블록체인의 기본 특징 선언\n",
    "    def __init__(self):\n",
    "        self.chain = [] # 블록을 연결하는 체인. 처음에는 빈 리스트이다!\n",
    "        self.current_transaction = [] # 블록내에 기록되는 transaction. 처음에는 빈 리스트이다\n",
    "\n",
    "     # transaction이 추가된다   \n",
    "    def new_transaction(self, sender, recipient, amount):\n",
    "        # 거래내역을 추가하기\n",
    "        ## 현재의 transaction 리스트에 송신자, 수신자 등의 거래내역을 입력한다\n",
    "        self.current_transaction.append(\n",
    "            {\n",
    "                'sender' : sender, # 송신자\n",
    "                'recipient' : recipient, # 수신자\n",
    "                'amount' : amount, # 금액\n",
    "                'timestamp': datetime.datetime.now().timestamp() # 시간\n",
    "            }\n",
    "        )\n",
    "        return self.last_block['index'] + 1\n",
    "\n",
    "    # 새로운 블록을 만드는 함수\n",
    "    def new_block(self, proof, previous_hash=None):\n",
    "        # 지금의 블록에 이어질 새로운 블록을 만든다\n",
    "        block = {\n",
    "            'index' : len(self.chain)+1, ## 지금까지의 체인의 숫자 +1 = 새로운 블록의 인덱스\n",
    "            'timestamp' : datetime . datetime .now().timestamp(), # 지금 시간 넣기\n",
    "            'transactions' : self.current_transaction, ## 지금까지의 transaction을 넣기\n",
    "        }\n",
    "\n",
    "        self.current_transaction = [] # 새로 블록이 생겼으니 이제 transaction 은 다시 초기화 \n",
    "        self.chain.append(block)      # 기존 체인에 블록을 넣어 연결!! 블록체인  \n",
    "        return block\n",
    "\n",
    "    @property\n",
    "    def last_block(self):\n",
    "        # 체인의 마지막 블록 가져오기!!\n",
    "        return self.chain[-1]\n"
   ]
  },
  {
   "cell_type": "code",
   "execution_count": 24,
   "id": "e8b1e724",
   "metadata": {},
   "outputs": [
    {
     "data": {
      "text/plain": [
       "[{'index': 1, 'timestamp': 1675867229.174079, 'transactions': []}]"
      ]
     },
     "execution_count": 24,
     "metadata": {},
     "output_type": "execute_result"
    }
   ],
   "source": [
    "## 블록체인 객체 선언하기\n",
    "sample_blockchain = Blockchain()\n",
    "\n",
    "## 1. 블록에 새로운 블록 만들기\n",
    "sample_blockchain.new_block(proof = \"1\")\n",
    "\n",
    "sample_blockchain.chain\n"
   ]
  },
  {
   "cell_type": "code",
   "execution_count": 25,
   "id": "b246f660",
   "metadata": {},
   "outputs": [
    {
     "data": {
      "text/plain": [
       "{'index': 2, 'timestamp': 1675867236.758494, 'transactions': []}"
      ]
     },
     "execution_count": 25,
     "metadata": {},
     "output_type": "execute_result"
    }
   ],
   "source": [
    "sample_blockchain.new_block(proof = \"1\")"
   ]
  },
  {
   "cell_type": "code",
   "execution_count": 26,
   "id": "765babe5",
   "metadata": {},
   "outputs": [
    {
     "data": {
      "text/plain": [
       "[{'index': 1, 'timestamp': 1675867229.174079, 'transactions': []},\n",
       " {'index': 2, 'timestamp': 1675867236.758494, 'transactions': []}]"
      ]
     },
     "execution_count": 26,
     "metadata": {},
     "output_type": "execute_result"
    }
   ],
   "source": [
    "sample_blockchain.chain"
   ]
  },
  {
   "cell_type": "code",
   "execution_count": 27,
   "id": "6ba53bff",
   "metadata": {},
   "outputs": [
    {
     "data": {
      "text/plain": [
       "3"
      ]
     },
     "execution_count": 27,
     "metadata": {},
     "output_type": "execute_result"
    }
   ],
   "source": [
    "## 블록에 새로운 거래내역 입력하기\n",
    "sample_blockchain.new_transaction(sender = \"김민수\", recipient = \"박철수\" , amount = 10)\n"
   ]
  },
  {
   "cell_type": "code",
   "execution_count": 28,
   "id": "1d7ddd5a",
   "metadata": {},
   "outputs": [
    {
     "data": {
      "text/plain": [
       "{'index': 3,\n",
       " 'timestamp': 1675867254.542979,\n",
       " 'transactions': [{'sender': '김민수',\n",
       "   'recipient': '박철수',\n",
       "   'amount': 10,\n",
       "   'timestamp': 1675867250.905867}]}"
      ]
     },
     "execution_count": 28,
     "metadata": {},
     "output_type": "execute_result"
    }
   ],
   "source": [
    "sample_blockchain.new_block(proof = \"1\")"
   ]
  },
  {
   "cell_type": "code",
   "execution_count": 29,
   "id": "791c6295",
   "metadata": {},
   "outputs": [
    {
     "data": {
      "text/plain": [
       "[{'index': 1, 'timestamp': 1675867229.174079, 'transactions': []},\n",
       " {'index': 2, 'timestamp': 1675867236.758494, 'transactions': []},\n",
       " {'index': 3,\n",
       "  'timestamp': 1675867254.542979,\n",
       "  'transactions': [{'sender': '김민수',\n",
       "    'recipient': '박철수',\n",
       "    'amount': 10,\n",
       "    'timestamp': 1675867250.905867}]}]"
      ]
     },
     "execution_count": 29,
     "metadata": {},
     "output_type": "execute_result"
    }
   ],
   "source": [
    "sample_blockchain.chain"
   ]
  }
 ],
 "metadata": {
  "kernelspec": {
   "display_name": "Python 3",
   "language": "python",
   "name": "python3"
  },
  "language_info": {
   "codemirror_mode": {
    "name": "ipython",
    "version": 3
   },
   "file_extension": ".py",
   "mimetype": "text/x-python",
   "name": "python",
   "nbconvert_exporter": "python",
   "pygments_lexer": "ipython3",
   "version": "3.8.8"
  }
 },
 "nbformat": 4,
 "nbformat_minor": 5
}
