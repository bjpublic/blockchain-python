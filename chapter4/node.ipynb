{
 "cells": [
  {
   "cell_type": "markdown",
   "id": "09d52509",
   "metadata": {},
   "source": [
    "## 관련 패키지 import"
   ]
  },
  {
   "cell_type": "code",
   "execution_count": 1,
   "id": "6787859c",
   "metadata": {},
   "outputs": [],
   "source": [
    "import hashlib # hash 함수용 sha256 사용할 라이브러리\n",
    "import json\n",
    "from time import time\n",
    "import random\n",
    "import requests\n",
    "from flask import Flask, request, jsonify\n",
    "import datetime"
   ]
  },
  {
   "cell_type": "markdown",
   "id": "16221830",
   "metadata": {},
   "source": [
    "## Blockchain 객채 생성"
   ]
  },
  {
   "cell_type": "code",
   "execution_count": 2,
   "id": "455e3708",
   "metadata": {},
   "outputs": [],
   "source": [
    "class Blockchain(object):\n",
    "    \n",
    "    def __init__(self):\n",
    "        self.chain = []                                   # chain에 여러 block들 들어옴\n",
    "        self.current_transaction = []                     # 임시 transaction 넣어줌\n",
    "        self.nodes = set()                                # Node 목록을 보관\n",
    "        self.new_block(previous_hash=1, proof=100)        # genesis block 생성\n",
    "\n",
    "    @staticmethod\n",
    "    def hash(block):\n",
    "        block_string = json.dumps(block, sort_keys=True).encode() \n",
    "        return hashlib.sha256(block_string).hexdigest()   # hash 라이브러리로 sha256 사용\n",
    "    @property\n",
    "    def last_block(self):\n",
    "        return self.chain[-1]                             # 체인의 마지막 블록 가져오기!!\n",
    "\n",
    "    @staticmethod\n",
    "    def valid_proof(last_proof, proof):\n",
    "        guess = str(last_proof + proof).encode()          # 전 proof와 구할 proof 문자열 연결\n",
    "        guess_hash = hashlib.sha256(guess).hexdigest()    # 이 hash 값 저장\n",
    "        return guess_hash[:4] == \"0000\"                  # 앞 4자리가 0000 이면 True (알맞은 nonce값을 찾음)\n",
    "\n",
    "    def pow(self, last_proof):\n",
    "        proof = random.randint(-1000000,1000000)\n",
    "        while self.valid_proof(last_proof, proof) is False: # valid proof 함수 활용(아래 나옴), 맞을 때까지 반복적으로 검증\n",
    "            proof = random.randint(-1000000,1000000)\n",
    "        return proof\n",
    "\n",
    "    def new_transaction(self, sender, recipient, amount, smart_contract):\n",
    "        self.current_transaction.append(\n",
    "            {\n",
    "                'sender' : sender, # 송신자\n",
    "                'recipient' : recipient, # 수신자\n",
    "                'amount' : amount, # 금액\n",
    "                'timestamp':time(),\n",
    "                'smart_contract' : smart_contract\n",
    "            }\n",
    "        )\n",
    "        return self.last_block['index'] + 1   \n",
    "\n",
    "    def new_block(self, proof, previous_hash=None):\n",
    "        block = {\n",
    "            'index' : len(self.chain)+1,\n",
    "            'timestamp' : time(), # timestamp from 1970\n",
    "            'transactions' : self.current_transaction,\n",
    "            'nonce' : proof,\n",
    "            'previous_hash' : previous_hash or self.hash(self.chain[-1]),\n",
    "        }\n",
    "        block['hash'] = self.hash(block)\n",
    "        self.current_transaction = []\n",
    "        self.chain.append(block)     \n",
    "        return block\n",
    "\n",
    "    def valid_chain(self, chain):\n",
    "        last_block = chain[0] \n",
    "        current_index = 1\n",
    "\n",
    "        while current_index < len(chain): \n",
    "            block = chain[current_index]\n",
    "            \n",
    "            print('%s' % last_block)\n",
    "            print('%s' % block)\n",
    "            print(\"\\n--------\\n\")\n",
    "            if block['previous_hash'] != self.hash(last_block):\n",
    "                return False\n",
    "            \n",
    "            block_copy = block.copy()\n",
    "            block_copy.pop('hash')\n",
    "            if block['hash'] != self.hash(block_copy):\n",
    "                return False\n",
    "            \n",
    "            last_block = block\n",
    "            current_index += 1\n",
    "        return True\n"
   ]
  },
  {
   "cell_type": "markdown",
   "id": "cccc5e32",
   "metadata": {},
   "source": [
    "## Blockchain 객채를 기반으로 노드 생성"
   ]
  },
  {
   "cell_type": "code",
   "execution_count": 3,
   "id": "fdd2e589",
   "metadata": {},
   "outputs": [],
   "source": [
    "blockchain = Blockchain()\n",
    "my_ip = '0.0.0.0'\n",
    "my_port = '5000'\n",
    "node_identifier = 'node_'+my_port\n",
    "mine_owner = 'master'\n",
    "mine_profit = 0.1"
   ]
  },
  {
   "cell_type": "code",
   "execution_count": null,
   "id": "2228cdbe",
   "metadata": {},
   "outputs": [
    {
     "name": "stdout",
     "output_type": "stream",
     "text": [
      " * Serving Flask app \"__main__\" (lazy loading)\n",
      " * Environment: production\n",
      "   WARNING: This is a development server. Do not use it in a production deployment.\n",
      "   Use a production WSGI server instead.\n",
      " * Debug mode: off\n"
     ]
    },
    {
     "name": "stderr",
     "output_type": "stream",
     "text": [
      " * Running on http://0.0.0.0:5000/ (Press CTRL+C to quit)\n",
      "127.0.0.1 - - [24/Jan/2023 18:21:43] \"\u001b[37mPOST /transactions/new HTTP/1.1\u001b[0m\" 201 -\n"
     ]
    },
    {
     "name": "stdout",
     "output_type": "stream",
     "text": [
      "transactions_new!!! :  {'sender': 'test_from', 'recipient': 'smart_contract', 'amount': 0, 'smart_contract': {'contract_code': 'calculate_result = {}{}{}'}}\n"
     ]
    },
    {
     "name": "stderr",
     "output_type": "stream",
     "text": [
      "127.0.0.1 - - [24/Jan/2023 18:21:45] \"\u001b[37mGET /mine HTTP/1.1\u001b[0m\" 200 -\n"
     ]
    },
    {
     "name": "stdout",
     "output_type": "stream",
     "text": [
      "MINING STARTED\n",
      "MINING FINISHED\n"
     ]
    },
    {
     "name": "stderr",
     "output_type": "stream",
     "text": [
      "127.0.0.1 - - [24/Jan/2023 18:21:47] \"\u001b[37mGET /chain HTTP/1.1\u001b[0m\" 200 -\n"
     ]
    },
    {
     "name": "stdout",
     "output_type": "stream",
     "text": [
      "chain info requested!!\n"
     ]
    },
    {
     "name": "stderr",
     "output_type": "stream",
     "text": [
      "127.0.0.1 - - [24/Jan/2023 18:21:50] \"\u001b[37mGET /chain HTTP/1.1\u001b[0m\" 200 -\n"
     ]
    },
    {
     "name": "stdout",
     "output_type": "stream",
     "text": [
      "chain info requested!!\n"
     ]
    },
    {
     "name": "stderr",
     "output_type": "stream",
     "text": [
      "127.0.0.1 - - [24/Jan/2023 18:21:52] \"\u001b[37mGET /chain HTTP/1.1\u001b[0m\" 200 -\n"
     ]
    },
    {
     "name": "stdout",
     "output_type": "stream",
     "text": [
      "chain info requested!!\n"
     ]
    },
    {
     "name": "stderr",
     "output_type": "stream",
     "text": [
      "127.0.0.1 - - [24/Jan/2023 18:22:00] \"\u001b[37mPOST /transactions/new HTTP/1.1\u001b[0m\" 201 -\n"
     ]
    },
    {
     "name": "stdout",
     "output_type": "stream",
     "text": [
      "transactions_new!!! :  {'sender': 'test_from', 'recipient': 'smart_contract', 'amount': 0, 'smart_contract': {'contract_code': '\\ndef Lottery():\\n    lottery_number = random.sample(range(1,46),6)\\n    lottery_number = sorted(lottery_number, key=lambda x: x)\\n    lottery_number\\n    print(lottery_number) \\n    return lottery_number\\n                           '}}\n",
      "MINING STARTED\n"
     ]
    },
    {
     "name": "stderr",
     "output_type": "stream",
     "text": [
      "127.0.0.1 - - [24/Jan/2023 18:22:03] \"\u001b[37mGET /mine HTTP/1.1\u001b[0m\" 200 -\n"
     ]
    },
    {
     "name": "stdout",
     "output_type": "stream",
     "text": [
      "MINING FINISHED\n"
     ]
    },
    {
     "name": "stderr",
     "output_type": "stream",
     "text": [
      "127.0.0.1 - - [24/Jan/2023 18:22:05] \"\u001b[37mGET /chain HTTP/1.1\u001b[0m\" 200 -\n"
     ]
    },
    {
     "name": "stdout",
     "output_type": "stream",
     "text": [
      "chain info requested!!\n"
     ]
    },
    {
     "name": "stderr",
     "output_type": "stream",
     "text": [
      "127.0.0.1 - - [24/Jan/2023 18:22:07] \"\u001b[37mPOST /transactions/new HTTP/1.1\u001b[0m\" 201 -\n"
     ]
    },
    {
     "name": "stdout",
     "output_type": "stream",
     "text": [
      "transactions_new!!! :  {'sender': 'test_from', 'recipient': 'test_to', 'amount': 3, 'smart_contract': {'contract_code': \"token_name = 'pySTAKINGTOKEN' \\ntoken_total_volume = 100000\\ntoken_owner = {'token_maker' : 10000}\", 'contract_function_getBalance': \"\\ndef get_balance(user_id):\\n    print('{} Balance is : '.format(user_id), token_owner[user_id])\\n    return token_owner[user_id]\\n\", 'contract_function_sendToken': '\\ndef send_token(sender,recipent,amount):\\n    if sender in token_owner.keys():\\n        if get_balance(sender) > amount:\\n            token_owner[sender]  = token_owner[sender] - amount\\n            if recipent in token_owner.keys():\\n                token_owner[recipent]  = token_owner[recipent] + amount\\n            else :\\n                token_owner[recipent]  =  amount\\n            print(\"Transaction Completed\")\\n            get_balance(sender) \\n            get_balance(recipent) \\n\\n        else:\\n            return \"Insufficient Balance\"\\n    else:\\n        return \"Unavailable Sender id\"\\n', 'contract_function_token_staking': '\\ndef token_staking(staker,amount):\\n    if staker in token_owner.keys():\\n        if get_balance(staker) > amount:\\n            token_owner[staker]  = token_owner[staker] - amount\\n            staking_status [len(staking_status)] =  {\\'staker\\':staker,\\'amount\\':amount}\\n            print(\"Staing Completed\")\\n            get_balance(staker) \\n            \\n        else:\\n            return \"Insufficient Balance\"\\n    else:\\n        return \"Unavailable Staker id\"\\n', 'contract_function_staking_yield': \"\\ndef staking_yield(staking_status):\\n    for t in staking_status:\\n        print(staking_status[t])\\n        staking_status[t]['amount'] = staking_status[t]['amount'] * 1.1\\n    return staking_status\\n\"}}\n"
     ]
    },
    {
     "name": "stderr",
     "output_type": "stream",
     "text": [
      "127.0.0.1 - - [24/Jan/2023 18:22:09] \"\u001b[37mGET /mine HTTP/1.1\u001b[0m\" 200 -\n"
     ]
    },
    {
     "name": "stdout",
     "output_type": "stream",
     "text": [
      "MINING STARTED\n",
      "MINING FINISHED\n"
     ]
    },
    {
     "name": "stderr",
     "output_type": "stream",
     "text": [
      "127.0.0.1 - - [24/Jan/2023 18:22:11] \"\u001b[37mGET /chain HTTP/1.1\u001b[0m\" 200 -\n"
     ]
    },
    {
     "name": "stdout",
     "output_type": "stream",
     "text": [
      "chain info requested!!\n"
     ]
    },
    {
     "name": "stderr",
     "output_type": "stream",
     "text": [
      "127.0.0.1 - - [24/Jan/2023 18:30:08] \"\u001b[37mPOST /transactions/new HTTP/1.1\u001b[0m\" 201 -\n"
     ]
    },
    {
     "name": "stdout",
     "output_type": "stream",
     "text": [
      "transactions_new!!! :  {'sender': 'test_from', 'recipient': 'test_to', 'amount': 3, 'smart_contract': {'contract_code': \"token_name = 'pySTAKINGTOKEN' \\ntoken_total_volume = 100000\\ntoken_owner = {'token_maker' : 10000}\\nstaking_status = {}\", 'contract_function_getBalance': \"\\ndef get_balance(user_id):\\n    print('{} Balance is : '.format(user_id), token_owner[user_id])\\n    return token_owner[user_id]\\n\", 'contract_function_sendToken': '\\ndef send_token(sender,recipent,amount):\\n    if sender in token_owner.keys():\\n        if get_balance(sender) > amount:\\n            token_owner[sender]  = token_owner[sender] - amount\\n            if recipent in token_owner.keys():\\n                token_owner[recipent]  = token_owner[recipent] + amount\\n            else :\\n                token_owner[recipent]  =  amount\\n            print(\"Transaction Completed\")\\n            get_balance(sender) \\n            get_balance(recipent) \\n\\n        else:\\n            return \"Insufficient Balance\"\\n    else:\\n        return \"Unavailable Sender id\"\\n', 'contract_function_token_staking': '\\ndef token_staking(staker,amount):\\n    if staker in token_owner.keys():\\n        if get_balance(staker) > amount:\\n            token_owner[staker]  = token_owner[staker] - amount\\n            staking_status [len(staking_status)] =  {\\'staker\\':staker,\\'amount\\':amount}\\n            print(\"Staing Completed\")\\n            get_balance(staker) \\n            \\n        else:\\n            return \"Insufficient Balance\"\\n    else:\\n        return \"Unavailable Staker id\"\\n', 'contract_function_staking_yield': \"\\ndef staking_yield(staking_status):\\n    for t in staking_status:\\n        print(staking_status[t])\\n        staking_status[t]['amount'] = staking_status[t]['amount'] * 1.1\\n    return staking_status\\n\"}}\n"
     ]
    },
    {
     "name": "stderr",
     "output_type": "stream",
     "text": [
      "127.0.0.1 - - [24/Jan/2023 18:30:11] \"\u001b[37mGET /mine HTTP/1.1\u001b[0m\" 200 -\n"
     ]
    },
    {
     "name": "stdout",
     "output_type": "stream",
     "text": [
      "MINING STARTED\n",
      "MINING FINISHED\n"
     ]
    },
    {
     "name": "stderr",
     "output_type": "stream",
     "text": [
      "127.0.0.1 - - [24/Jan/2023 18:30:14] \"\u001b[37mGET /chain HTTP/1.1\u001b[0m\" 200 -\n"
     ]
    },
    {
     "name": "stdout",
     "output_type": "stream",
     "text": [
      "chain info requested!!\n"
     ]
    }
   ],
   "source": [
    "app = Flask(__name__)\n",
    "\n",
    "@app.route('/chain', methods=['GET'])\n",
    "def full_chain():\n",
    "    print(\"chain info requested!!\")\n",
    "    response = {\n",
    "        'chain' : blockchain.chain, \n",
    "        'length' : len(blockchain.chain), \n",
    "    }\n",
    "    return jsonify(response), 200\n",
    "\n",
    "@app.route('/transactions/new', methods=['POST'])\n",
    "def new_transaction():\n",
    "    values = request.get_json() \n",
    "    print(\"transactions_new!!! : \", values)\n",
    "    required = ['sender', 'recipient', 'amount','smart_contract']   ## 송신자(sender), 수신자(recipient), 금액(amount),의 존재여부 만 확인에 더하여 스마트컨트랙트(smart_contract)의 존재여부 확인\n",
    "\n",
    "    if not all(k in values for k in required):\n",
    "        return 'missing values', 400\n",
    "    contract_address = hashlib.sha256(str(datetime.datetime.now()).encode() ).hexdigest()\n",
    "    values['smart_contract'][\"contract_address\"] = contract_address   ## 거래의 스마트 컨트랙트에 대한 컨트랙트 주소(contract_address)를 부여\n",
    "\n",
    "\n",
    "    index = blockchain.new_transaction(values['sender'],values['recipient'],\n",
    "values['amount'], values['smart_contract'])  \n",
    "        \n",
    "    response = {'message' : 'Transaction will be added to Block {%s}' % index, \"contract_address\":contract_address}\n",
    "    return jsonify(response), 201\n",
    "\n",
    "\n",
    "@app.route('/mine', methods=['GET'])\n",
    "def mine():\n",
    "    print(\"MINING STARTED\")    \n",
    "    last_block = blockchain.last_block\n",
    "    last_proof = last_block['nonce']\n",
    "    proof = blockchain.pow(last_proof)  \n",
    "\n",
    "    blockchain.new_transaction(\n",
    "        sender=mine_owner, \n",
    "        recipient=node_identifier, \n",
    "        amount=mine_profit, # coinbase transaction \n",
    "        smart_contract={\"contract_address\":\"mining_profit\"}, \n",
    "    )\n",
    " \n",
    "    previous_hash = blockchain.hash(last_block)\n",
    "    block = blockchain.new_block(proof, previous_hash)\n",
    "    print(\"MINING FINISHED\")\n",
    "\n",
    "    response = {\n",
    "        'message' : 'new block found',\n",
    "        'index' : block['index'],\n",
    "        'transactions' : block['transactions'],\n",
    "        'nonce' : block['nonce'],\n",
    "        'previous_hash' : block['previous_hash'],\n",
    "        'hash' : block['hash']\n",
    "    }\n",
    "          \n",
    "    return jsonify(response), 200\n",
    "\n",
    "\n",
    "if __name__ == '__main__':\n",
    "    app.run(host=my_ip, port=my_port)\n"
   ]
  },
  {
   "cell_type": "code",
   "execution_count": null,
   "id": "0ea982d0",
   "metadata": {},
   "outputs": [],
   "source": []
  }
 ],
 "metadata": {
  "kernelspec": {
   "display_name": "Python 3",
   "language": "python",
   "name": "python3"
  },
  "language_info": {
   "codemirror_mode": {
    "name": "ipython",
    "version": 3
   },
   "file_extension": ".py",
   "mimetype": "text/x-python",
   "name": "python",
   "nbconvert_exporter": "python",
   "pygments_lexer": "ipython3",
   "version": "3.8.8"
  }
 },
 "nbformat": 4,
 "nbformat_minor": 5
}
