{
 "cells": [
  {
   "cell_type": "markdown",
   "id": "d19da799",
   "metadata": {},
   "source": [
    "## Packages Import"
   ]
  },
  {
   "cell_type": "code",
   "execution_count": 3,
   "id": "d205c77b",
   "metadata": {},
   "outputs": [],
   "source": [
    "from flask import Flask\n",
    "from flask import render_template\n",
    "from flask import request\n",
    "\n",
    "import requests\n",
    "import json\n",
    "import os"
   ]
  },
  {
   "cell_type": "markdown",
   "id": "c86e64c8",
   "metadata": {},
   "source": [
    "## Flask app 선언"
   ]
  },
  {
   "cell_type": "code",
   "execution_count": 4,
   "id": "d59038b5",
   "metadata": {},
   "outputs": [],
   "source": [
    "app = Flask(__name__, template_folder=os.getcwd())"
   ]
  },
  {
   "cell_type": "markdown",
   "id": "39bad1cf",
   "metadata": {},
   "source": [
    "## NFT Wallet 사이트 \n",
    "#### 첫 접속시에는 NFT_Wallet_login.html 파일을 랜더링\n",
    "#### POST 방식으로 NFT의 스마트컨트랙트 주소를 입력한 경우,\n",
    "#### > 알맞은 지갑주소일 경우 NFT_Wallet.html 파일 랜더링\n",
    "#### > 잘못된 지갑주소일 경우 에러 메시지 띄움"
   ]
  },
  {
   "cell_type": "code",
   "execution_count": 5,
   "id": "124ddcc5",
   "metadata": {},
   "outputs": [
    {
     "name": "stdout",
     "output_type": "stream",
     "text": [
      " * Serving Flask app \"__main__\" (lazy loading)\n",
      " * Environment: production\n",
      "   WARNING: This is a development server. Do not use it in a production deployment.\n",
      "   Use a production WSGI server instead.\n",
      " * Debug mode: off\n"
     ]
    },
    {
     "name": "stderr",
     "output_type": "stream",
     "text": [
      " * Running on http://127.0.0.1:8082/ (Press CTRL+C to quit)\n",
      "127.0.0.1 - - [22/Jan/2023 22:11:54] \"\u001b[37mGET / HTTP/1.1\u001b[0m\" 200 -\n",
      "127.0.0.1 - - [22/Jan/2023 22:17:20] \"\u001b[37mGET / HTTP/1.1\u001b[0m\" 200 -\n",
      "127.0.0.1 - - [22/Jan/2023 22:17:20] \"\u001b[33mGET /favicon.ico HTTP/1.1\u001b[0m\" 404 -\n"
     ]
    },
    {
     "name": "stdout",
     "output_type": "stream",
     "text": [
      "13fcfd1807c1bb38ec723d6e3a651d89b62f7a4080b2cd7bcc224a15c0c12ce4\n"
     ]
    },
    {
     "name": "stderr",
     "output_type": "stream",
     "text": [
      "127.0.0.1 - - [22/Jan/2023 22:19:20] \"\u001b[37mPOST / HTTP/1.1\u001b[0m\" 200 -\n"
     ]
    }
   ],
   "source": [
    "@app.route('/', methods=['GET', 'POST'])\n",
    "def login():\n",
    "    if request.method=='POST':\n",
    "        \n",
    "        contract_address = request.form.to_dict(flat=False)['smart_contract_addr'][0] \n",
    "        print(contract_address)\n",
    "        # 블록 정보 호출\n",
    "        headers = {'Content-Type' : 'application/json; charset=utf-8'}\n",
    "        res = requests.get(\"http://localhost:5000/chain\", headers=headers)\n",
    "        res_json = json.loads(res.content)\n",
    "        nft_TF = False\n",
    "        ## 스마트 컨트랙트를 호출 및 실행\n",
    "        for _block in res_json['chain']:\n",
    "            for _tx in _block['transactions']:\n",
    "                if _tx['smart_contract']['contract_address'] == contract_address:\n",
    "                    exec( _tx['smart_contract']['contract_code']) \n",
    "                    nft_TF = True\n",
    "                    break\n",
    "        if nft_TF:\n",
    "#             print(myNFT)\n",
    "            return render_template(\"NFT_Wallet.html\",  \n",
    "                                   nft_name = _tx['smart_contract']['contract_code'].split(\"'\")[3], \n",
    "                                   nft_img_url = _tx['smart_contract']['contract_code'].split(\"'\")[7],\n",
    "                                   nft_addresss = contract_address\n",
    "                                   )\n",
    "        else:\n",
    "            return \"잘못된 지갑주소입니다.\"\n",
    "\n",
    "        \n",
    "    return render_template('NFT_Wallet_login.html')\n",
    "app.run(port=8082)"
   ]
  }
 ],
 "metadata": {
  "kernelspec": {
   "display_name": "Python 3",
   "language": "python",
   "name": "python3"
  }
 },
 "nbformat": 4,
 "nbformat_minor": 5
}
