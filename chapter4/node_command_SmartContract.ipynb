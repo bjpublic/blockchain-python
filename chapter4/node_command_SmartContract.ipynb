{
 "cells": [
  {
   "cell_type": "code",
   "execution_count": 1,
   "id": "e4397b59",
   "metadata": {},
   "outputs": [],
   "source": [
    "import requests\n",
    "import json\n",
    "import pandas as pd\n",
    "import hashlib # hash 함수용 sha256 사용할 라이브러리|\n",
    "import random"
   ]
  },
  {
   "cell_type": "markdown",
   "id": "4a2c3864",
   "metadata": {},
   "source": [
    "## 노드의 블록 정보 확인"
   ]
  },
  {
   "cell_type": "code",
   "execution_count": 2,
   "id": "26d585ba",
   "metadata": {},
   "outputs": [
    {
     "data": {
      "text/plain": [
       "{'chain': [{'hash': '1f4f428c42703fda8f763a72224fe3ecd4afd6311c611e61cc9018096b95a693',\n",
       "   'index': 1,\n",
       "   'nonce': 100,\n",
       "   'previous_hash': 1,\n",
       "   'timestamp': 1674387952.4630814,\n",
       "   'transactions': []}],\n",
       " 'length': 1}"
      ]
     },
     "execution_count": 2,
     "metadata": {},
     "output_type": "execute_result"
    }
   ],
   "source": [
    "headers = {'Content-Type' : 'application/json; charset=utf-8'}\n",
    "res = requests.get(\"http://localhost:5000/chain\", headers=headers)\n",
    "json.loads(res.content)"
   ]
  },
  {
   "cell_type": "markdown",
   "id": "7d8928f5",
   "metadata": {},
   "source": [
    "## transaction 입력 및 채굴(기존과 동일)"
   ]
  },
  {
   "cell_type": "code",
   "execution_count": 3,
   "id": "77decc96",
   "metadata": {},
   "outputs": [
    {
     "name": "stdout",
     "output_type": "stream",
     "text": [
      "<Response [200]>\n"
     ]
    }
   ],
   "source": [
    "headers = {'Content-Type' : 'application/json; charset=utf-8'}\n",
    "data = {\n",
    "        \"sender\": \"test_from\",\n",
    "        \"recipient\": \"test_to\",\n",
    "        \"amount\": 100,\n",
    "        \"smart_contract\": {}\n",
    "}\n",
    "requests.post(\"http://localhost:5000/transactions/new\", headers=headers, data=json.dumps(data)).content\n",
    "\n",
    "headers = {'Content-Type' : 'application/json; charset=utf-8'}\n",
    "res = requests.get(\"http://localhost:5000/mine\")\n",
    "print(res)"
   ]
  },
  {
   "cell_type": "markdown",
   "id": "6b3f19c6",
   "metadata": {},
   "source": [
    "## 노드의 블록정보 확인 - 1"
   ]
  },
  {
   "cell_type": "code",
   "execution_count": 4,
   "id": "d74a816b",
   "metadata": {},
   "outputs": [
    {
     "data": {
      "text/plain": [
       "{'chain': [{'hash': '1f4f428c42703fda8f763a72224fe3ecd4afd6311c611e61cc9018096b95a693',\n",
       "   'index': 1,\n",
       "   'nonce': 100,\n",
       "   'previous_hash': 1,\n",
       "   'timestamp': 1674387952.4630814,\n",
       "   'transactions': []},\n",
       "  {'hash': 'd4f9815b13b331a9589cce0f54713fbd29265f76f3bc740c6d72d9513aa9ddf3',\n",
       "   'index': 2,\n",
       "   'nonce': 309062,\n",
       "   'previous_hash': '7c9fd62c0b60a42b299f7889a40f683cd22ca9d9dcecdd0b784d45428b57c347',\n",
       "   'timestamp': 1674387961.6523788,\n",
       "   'transactions': [{'amount': 100,\n",
       "     'recipient': 'test_to',\n",
       "     'sender': 'test_from',\n",
       "     'smart_contract': {'contract_address': '8ef7430a5967c8a7382770a5d10a2e9c1b8cff365476d97dc0b847844ef3fd2d'},\n",
       "     'timestamp': 1674387959.3526325},\n",
       "    {'amount': 0.1,\n",
       "     'recipient': 'node_5000',\n",
       "     'sender': 'master',\n",
       "     'smart_contract': {'contract_address': 'mining_profit'},\n",
       "     'timestamp': 1674387961.6523788}]}],\n",
       " 'length': 2}"
      ]
     },
     "execution_count": 4,
     "metadata": {},
     "output_type": "execute_result"
    }
   ],
   "source": [
    "headers = {'Content-Type' : 'application/json; charset=utf-8'}\n",
    "res = requests.get(\"http://localhost:5000/chain\", headers=headers)\n",
    "json.loads(res.content)"
   ]
  },
  {
   "cell_type": "markdown",
   "id": "22f62fb1",
   "metadata": {},
   "source": [
    "## Smart Contract transaction 입력하기"
   ]
  },
  {
   "cell_type": "code",
   "execution_count": 11,
   "id": "18844519",
   "metadata": {},
   "outputs": [
    {
     "data": {
      "text/plain": [
       "{'contract_address': '69aa94dc5288eea94c4b44dda94ac876acf118afc0aac58e9364b944c41be7d9',\n",
       " 'message': 'Transaction will be added to Block {4}'}"
      ]
     },
     "execution_count": 11,
     "metadata": {},
     "output_type": "execute_result"
    }
   ],
   "source": [
    "headers = {'Content-Type' : 'application/json; charset=utf-8'}\n",
    "data = {\n",
    "        \"sender\": \"test_from\",\n",
    "        \"recipient\": \"smart_contract\",\n",
    "        \"amount\": 0,\n",
    "        \"smart_contract\": {\"contract_code\":\"print('Ｈello Ｓmart－Ｃontract')\"}\n",
    "}\n",
    "result = requests.post(\"http://localhost:5000/transactions/new\", headers=headers, data=json.dumps(data)).content\n",
    "json.loads(result)"
   ]
  },
  {
   "cell_type": "code",
   "execution_count": 12,
   "id": "11f708cb",
   "metadata": {},
   "outputs": [],
   "source": [
    "contract_address = json.loads(result)['contract_address']"
   ]
  },
  {
   "cell_type": "markdown",
   "id": "8ffed183",
   "metadata": {},
   "source": [
    "## 노드의 블록정보 확인 - 2"
   ]
  },
  {
   "cell_type": "code",
   "execution_count": 13,
   "id": "cd862740",
   "metadata": {},
   "outputs": [
    {
     "data": {
      "text/plain": [
       "{'chain': [{'hash': '1f4f428c42703fda8f763a72224fe3ecd4afd6311c611e61cc9018096b95a693',\n",
       "   'index': 1,\n",
       "   'nonce': 100,\n",
       "   'previous_hash': 1,\n",
       "   'timestamp': 1674387952.4630814,\n",
       "   'transactions': []},\n",
       "  {'hash': 'd4f9815b13b331a9589cce0f54713fbd29265f76f3bc740c6d72d9513aa9ddf3',\n",
       "   'index': 2,\n",
       "   'nonce': 309062,\n",
       "   'previous_hash': '7c9fd62c0b60a42b299f7889a40f683cd22ca9d9dcecdd0b784d45428b57c347',\n",
       "   'timestamp': 1674387961.6523788,\n",
       "   'transactions': [{'amount': 100,\n",
       "     'recipient': 'test_to',\n",
       "     'sender': 'test_from',\n",
       "     'smart_contract': {'contract_address': '8ef7430a5967c8a7382770a5d10a2e9c1b8cff365476d97dc0b847844ef3fd2d'},\n",
       "     'timestamp': 1674387959.3526325},\n",
       "    {'amount': 0.1,\n",
       "     'recipient': 'node_5000',\n",
       "     'sender': 'master',\n",
       "     'smart_contract': {'contract_address': 'mining_profit'},\n",
       "     'timestamp': 1674387961.6523788}]},\n",
       "  {'hash': '1ba4c2a0804609bf1dab908b0e304cdf3d6ecb0cc751e6836604edc060319489',\n",
       "   'index': 3,\n",
       "   'nonce': 321822,\n",
       "   'previous_hash': '757b165b16e4e808d906fe410c442b8cc8b1c4ab17948381f35d1237018eda7c',\n",
       "   'timestamp': 1674387989.4610748,\n",
       "   'transactions': [{'amount': 0,\n",
       "     'recipient': 'smart_contract',\n",
       "     'sender': 'test_from',\n",
       "     'smart_contract': {'contract_address': '37b5ff713a8fd5f7a7d9b81b21325d58042b96602e0fb364e897743060d3d92f',\n",
       "      'contract_code': \"print('Ｈello Ｓmart－Ｃontract')\"},\n",
       "     'timestamp': 1674387965.781558},\n",
       "    {'amount': 0.1,\n",
       "     'recipient': 'node_5000',\n",
       "     'sender': 'master',\n",
       "     'smart_contract': {'contract_address': 'mining_profit'},\n",
       "     'timestamp': 1674387989.4610748}]}],\n",
       " 'length': 3}"
      ]
     },
     "execution_count": 13,
     "metadata": {},
     "output_type": "execute_result"
    }
   ],
   "source": [
    "headers = {'Content-Type' : 'application/json; charset=utf-8'}\n",
    "res = requests.get(\"http://localhost:5000/chain\", headers=headers)\n",
    "json.loads(res.content)"
   ]
  },
  {
   "cell_type": "markdown",
   "id": "de078099",
   "metadata": {},
   "source": [
    "##  채굴하기 - 1"
   ]
  },
  {
   "cell_type": "code",
   "execution_count": 14,
   "id": "ca6e8f84",
   "metadata": {},
   "outputs": [
    {
     "name": "stdout",
     "output_type": "stream",
     "text": [
      "<Response [200]>\n"
     ]
    }
   ],
   "source": [
    "headers = {'Content-Type' : 'application/json; charset=utf-8'}\n",
    "res = requests.get(\"http://localhost:5000/mine\")\n",
    "print(res)"
   ]
  },
  {
   "cell_type": "markdown",
   "id": "a8f956fe",
   "metadata": {},
   "source": [
    "## 노드의 블록정보 확인 - 3"
   ]
  },
  {
   "cell_type": "code",
   "execution_count": 15,
   "id": "17f93c4a",
   "metadata": {
    "scrolled": true
   },
   "outputs": [
    {
     "data": {
      "text/plain": [
       "{'chain': [{'hash': '1f4f428c42703fda8f763a72224fe3ecd4afd6311c611e61cc9018096b95a693',\n",
       "   'index': 1,\n",
       "   'nonce': 100,\n",
       "   'previous_hash': 1,\n",
       "   'timestamp': 1674387952.4630814,\n",
       "   'transactions': []},\n",
       "  {'hash': 'd4f9815b13b331a9589cce0f54713fbd29265f76f3bc740c6d72d9513aa9ddf3',\n",
       "   'index': 2,\n",
       "   'nonce': 309062,\n",
       "   'previous_hash': '7c9fd62c0b60a42b299f7889a40f683cd22ca9d9dcecdd0b784d45428b57c347',\n",
       "   'timestamp': 1674387961.6523788,\n",
       "   'transactions': [{'amount': 100,\n",
       "     'recipient': 'test_to',\n",
       "     'sender': 'test_from',\n",
       "     'smart_contract': {'contract_address': '8ef7430a5967c8a7382770a5d10a2e9c1b8cff365476d97dc0b847844ef3fd2d'},\n",
       "     'timestamp': 1674387959.3526325},\n",
       "    {'amount': 0.1,\n",
       "     'recipient': 'node_5000',\n",
       "     'sender': 'master',\n",
       "     'smart_contract': {'contract_address': 'mining_profit'},\n",
       "     'timestamp': 1674387961.6523788}]},\n",
       "  {'hash': '1ba4c2a0804609bf1dab908b0e304cdf3d6ecb0cc751e6836604edc060319489',\n",
       "   'index': 3,\n",
       "   'nonce': 321822,\n",
       "   'previous_hash': '757b165b16e4e808d906fe410c442b8cc8b1c4ab17948381f35d1237018eda7c',\n",
       "   'timestamp': 1674387989.4610748,\n",
       "   'transactions': [{'amount': 0,\n",
       "     'recipient': 'smart_contract',\n",
       "     'sender': 'test_from',\n",
       "     'smart_contract': {'contract_address': '37b5ff713a8fd5f7a7d9b81b21325d58042b96602e0fb364e897743060d3d92f',\n",
       "      'contract_code': \"print('Ｈello Ｓmart－Ｃontract')\"},\n",
       "     'timestamp': 1674387965.781558},\n",
       "    {'amount': 0.1,\n",
       "     'recipient': 'node_5000',\n",
       "     'sender': 'master',\n",
       "     'smart_contract': {'contract_address': 'mining_profit'},\n",
       "     'timestamp': 1674387989.4610748}]},\n",
       "  {'hash': 'd4f2db2ec29f36082e687f987f1138dd1b14e9fdea43ec158d6851addad7ade2',\n",
       "   'index': 4,\n",
       "   'nonce': -12660,\n",
       "   'previous_hash': 'be93b1d58e881aae3b05214da86a0c98e20584385bbaedc78b1f40efbb09f0d8',\n",
       "   'timestamp': 1674389643.6292713,\n",
       "   'transactions': [{'amount': 0,\n",
       "     'recipient': 'smart_contract',\n",
       "     'sender': 'test_from',\n",
       "     'smart_contract': {'contract_address': '69aa94dc5288eea94c4b44dda94ac876acf118afc0aac58e9364b944c41be7d9',\n",
       "      'contract_code': \"print('Ｈello Ｓmart－Ｃontract')\"},\n",
       "     'timestamp': 1674389639.3363914},\n",
       "    {'amount': 0.1,\n",
       "     'recipient': 'node_5000',\n",
       "     'sender': 'master',\n",
       "     'smart_contract': {'contract_address': 'mining_profit'},\n",
       "     'timestamp': 1674389643.6292713}]}],\n",
       " 'length': 4}"
      ]
     },
     "execution_count": 15,
     "metadata": {},
     "output_type": "execute_result"
    }
   ],
   "source": [
    "headers = {'Content-Type' : 'application/json; charset=utf-8'}\n",
    "res = requests.get(\"http://localhost:5000/chain\", headers=headers)\n",
    "json.loads(res.content)"
   ]
  },
  {
   "cell_type": "markdown",
   "id": "c4593807",
   "metadata": {},
   "source": [
    "## Smart Contract 호출 -1"
   ]
  },
  {
   "cell_type": "code",
   "execution_count": 16,
   "id": "741bf835",
   "metadata": {},
   "outputs": [],
   "source": [
    "headers = {'Content-Type' : 'application/json; charset=utf-8'}\n",
    "res = requests.get(\"http://localhost:5000/chain\", headers=headers)\n",
    "res_json = json.loads(res.content)"
   ]
  },
  {
   "cell_type": "code",
   "execution_count": 17,
   "id": "7c1418db",
   "metadata": {},
   "outputs": [
    {
     "name": "stdout",
     "output_type": "stream",
     "text": [
      "Ｈello Ｓmart－Ｃontract\n"
     ]
    }
   ],
   "source": [
    "for _block in res_json['chain']:\n",
    "    for _tx in _block['transactions']:\n",
    "        if _tx['smart_contract']['contract_address'] == contract_address:\n",
    "            exec( _tx['smart_contract']['contract_code'])            "
   ]
  },
  {
   "cell_type": "markdown",
   "id": "cff38e24",
   "metadata": {},
   "source": [
    "## Smart Contract 입력하기 -2  / NFT"
   ]
  },
  {
   "cell_type": "code",
   "execution_count": 22,
   "id": "39930baf",
   "metadata": {},
   "outputs": [
    {
     "name": "stdout",
     "output_type": "stream",
     "text": [
      "<Response [200]>\n"
     ]
    }
   ],
   "source": [
    "headers = {'Content-Type' : 'application/json; charset=utf-8'}\n",
    "data = {\n",
    "        \"sender\": \"test_from\",\n",
    "        \"recipient\": \"smart_contract\",\n",
    "        \"amount\": 0,\n",
    "        \"smart_contract\": {\"contract_code\":\"\"\"\n",
    "myNFT = {'NFT_NAME':'SMARTCONTRACT_NFT',\n",
    "         'NFT_URL': 'https://www.google.com/images/branding/googlelogo/1x/googlelogo_color_272x92dp.png'}\n",
    "                                            \"\"\"}\n",
    "}\n",
    "result = requests.post(\"http://localhost:5000/transactions/new\", headers=headers, data=json.dumps(data)).content\n",
    "contract_address = json.loads(result)['contract_address']\n",
    "\n",
    "# 채굴을 통하여 거래내역을 블록에 저장한다\n",
    "headers = {'Content-Type' : 'application/json; charset=utf-8'}\n",
    "res = requests.get(\"http://localhost:5000/mine\")\n",
    "print(res)"
   ]
  },
  {
   "cell_type": "code",
   "execution_count": 26,
   "id": "9f522d2f",
   "metadata": {},
   "outputs": [
    {
     "data": {
      "text/plain": [
       "'13fcfd1807c1bb38ec723d6e3a651d89b62f7a4080b2cd7bcc224a15c0c12ce4'"
      ]
     },
     "execution_count": 26,
     "metadata": {},
     "output_type": "execute_result"
    }
   ],
   "source": [
    "contract_address"
   ]
  },
  {
   "cell_type": "code",
   "execution_count": 25,
   "id": "d5da3542",
   "metadata": {},
   "outputs": [
    {
     "data": {
      "text/plain": [
       "{'NFT_NAME': 'SMARTCONTRACT_NFT',\n",
       " 'NFT_URL': 'https://www.google.com/images/branding/googlelogo/1x/googlelogo_color_272x92dp.png'}"
      ]
     },
     "execution_count": 25,
     "metadata": {},
     "output_type": "execute_result"
    }
   ],
   "source": [
    "# 블록 정보 호출\n",
    "headers = {'Content-Type' : 'application/json; charset=utf-8'}\n",
    "res = requests.get(\"http://localhost:5000/chain\", headers=headers)\n",
    "res_json = json.loads(res.content)\n",
    "\n",
    "## 스마트 컨트랙트를 호출 및 실행\n",
    "for _block in res_json['chain']:\n",
    "    for _tx in _block['transactions']:\n",
    "        if _tx['smart_contract']['contract_address'] == contract_address:\n",
    "            exec( _tx['smart_contract']['contract_code'])            \n",
    "myNFT"
   ]
  },
  {
   "cell_type": "markdown",
   "id": "ea5d40bd",
   "metadata": {},
   "source": [
    "## Smart Contract 입력하기 -3  / Token 만들기"
   ]
  },
  {
   "cell_type": "code",
   "execution_count": 40,
   "id": "3c34f54b",
   "metadata": {},
   "outputs": [
    {
     "name": "stdout",
     "output_type": "stream",
     "text": [
      "<Response [200]>\n"
     ]
    }
   ],
   "source": [
    "headers = {'Content-Type' : 'application/json; charset=utf-8'}\n",
    "data = {\n",
    "        \"sender\": \"test_from\",\n",
    "        \"recipient\": \"smart_contract\",\n",
    "        \"amount\": 0,\n",
    "        \"smart_contract\": {\n",
    "                           \"contract_code\" :\"token_name = 'pyTOKEN' \\ntoken_total_volume = 100000\"\n",
    "                                            }\n",
    "            }\n",
    "result = requests.post(\"http://localhost:5000/transactions/new\", headers=headers, data=json.dumps(data)).content\n",
    "contract_address = json.loads(result)['contract_address']\n",
    "\n",
    "headers = {'Content-Type' : 'application/json; charset=utf-8'}\n",
    "res = requests.get(\"http://localhost:5000/mine\")\n",
    "print(res)"
   ]
  },
  {
   "cell_type": "code",
   "execution_count": 41,
   "id": "6413e45f",
   "metadata": {},
   "outputs": [
    {
     "data": {
      "text/plain": [
       "'832cbf2f5852d3c86d9f56508e8e8ca11c36b727e471a7d01e207f6c8a997f3d'"
      ]
     },
     "execution_count": 41,
     "metadata": {},
     "output_type": "execute_result"
    }
   ],
   "source": [
    "contract_address"
   ]
  },
  {
   "cell_type": "code",
   "execution_count": 42,
   "id": "4a504559",
   "metadata": {},
   "outputs": [
    {
     "name": "stdout",
     "output_type": "stream",
     "text": [
      "pyTOKEN /  100000\n"
     ]
    }
   ],
   "source": [
    "# 블록 정보 호출\n",
    "headers = {'Content-Type' : 'application/json; charset=utf-8'}\n",
    "res = requests.get(\"http://localhost:5000/chain\", headers=headers)\n",
    "res_json = json.loads(res.content)\n",
    "\n",
    "## 스마트 컨트랙트를 호출 및 실행\n",
    "for _block in res_json['chain']:\n",
    "    for _tx in _block['transactions']:\n",
    "        if _tx['smart_contract']['contract_address'] == contract_address:\n",
    "            exec( _tx['smart_contract']['contract_code'])       \n",
    "            break\n",
    "print(token_name , \"/ \", token_total_volume  )"
   ]
  },
  {
   "cell_type": "markdown",
   "id": "ed126fe1",
   "metadata": {},
   "source": [
    "## Smart Contract 입력하기 -4  / 거래 가능한 Token 만들기"
   ]
  },
  {
   "cell_type": "code",
   "execution_count": 92,
   "id": "5842274d",
   "metadata": {},
   "outputs": [
    {
     "name": "stdout",
     "output_type": "stream",
     "text": [
      "<Response [200]>\n"
     ]
    }
   ],
   "source": [
    "headers = {'Content-Type' : 'application/json; charset=utf-8'}\n",
    "data = {\n",
    "        \"sender\": \"test_from\",\n",
    "        \"recipient\": \"test_to\",\n",
    "        \"amount\": 3,\n",
    "        \"smart_contract\": {\n",
    "                           \"contract_code\" :\"token_name = 'pyTOKEN' \\ntoken_total_volume = 100000\\ntoken_owner = {'token_maker' : 10000}\",\n",
    "                           \"contract_function_getBalance\" :\"\"\"\n",
    "def get_balance(user_id):\n",
    "    print('{} Balance is : '.format(user_id), token_owner[user_id])\n",
    "    return token_owner[user_id]\n",
    "\"\"\",\n",
    "                           \"contract_function_sendToken\" :\"\"\"\n",
    "def send_token(sender,recipent,amount):\n",
    "    if sender in token_owner.keys():\n",
    "        if get_balance(sender) > amount:\n",
    "            token_owner[sender]  = token_owner[sender] - amount\n",
    "            if recipent in token_owner.keys():\n",
    "                token_owner[recipent]  = token_owner[recipent] + amount\n",
    "            else :\n",
    "                token_owner[recipent]  =  amount\n",
    "            print(\"Transaction Completed\")\n",
    "            get_balance(sender) \n",
    "            get_balance(recipent) \n",
    "\n",
    "        else:\n",
    "            return \"Insufficient Balance\"\n",
    "    else:\n",
    "        return \"Unavailable Sender id\"\n",
    "\"\"\"\n",
    "                           \n",
    "\n",
    "                                            }\n",
    "            }\n",
    "result = requests.post(\"http://localhost:5000/transactions/new\", headers=headers, data=json.dumps(data)).content\n",
    "contract_address = json.loads(result)['contract_address']\n",
    "\n",
    "\n",
    "headers = {'Content-Type' : 'application/json; charset=utf-8'}\n",
    "res = requests.get(\"http://localhost:5000/mine\")\n",
    "print(res)"
   ]
  },
  {
   "cell_type": "code",
   "execution_count": 93,
   "id": "44cab093",
   "metadata": {},
   "outputs": [],
   "source": [
    "headers = {'Content-Type' : 'application/json; charset=utf-8'}\n",
    "res = requests.get(\"http://localhost:5000/chain\", headers=headers)\n",
    "res_json = json.loads(res.content)\n",
    "\n",
    "for _block in res_json['chain']:\n",
    "    for _tx in _block['transactions']:\n",
    "        if _tx['smart_contract']['contract_address'] == contract_address:\n",
    "            exec( _tx['smart_contract']['contract_code'])\n",
    "            break"
   ]
  },
  {
   "cell_type": "code",
   "execution_count": 94,
   "id": "97423dae",
   "metadata": {},
   "outputs": [
    {
     "data": {
      "text/plain": [
       "'pyTOKEN'"
      ]
     },
     "execution_count": 94,
     "metadata": {},
     "output_type": "execute_result"
    }
   ],
   "source": [
    "token_name "
   ]
  },
  {
   "cell_type": "code",
   "execution_count": 95,
   "id": "e4e89e0e",
   "metadata": {},
   "outputs": [
    {
     "data": {
      "text/plain": [
       "100000"
      ]
     },
     "execution_count": 95,
     "metadata": {},
     "output_type": "execute_result"
    }
   ],
   "source": [
    "token_total_volume"
   ]
  },
  {
   "cell_type": "code",
   "execution_count": 96,
   "id": "2910210d",
   "metadata": {},
   "outputs": [
    {
     "name": "stdout",
     "output_type": "stream",
     "text": [
      "token_maker Balance is :  10000\n"
     ]
    },
    {
     "data": {
      "text/plain": [
       "10000"
      ]
     },
     "execution_count": 96,
     "metadata": {},
     "output_type": "execute_result"
    }
   ],
   "source": [
    "exec(_tx['smart_contract']['contract_function_getBalance'])\n",
    "get_balance('token_maker')"
   ]
  },
  {
   "cell_type": "code",
   "execution_count": 97,
   "id": "e010d1f8",
   "metadata": {},
   "outputs": [
    {
     "name": "stdout",
     "output_type": "stream",
     "text": [
      "token_maker Balance is :  10000\n",
      "Transaction Completed\n",
      "token_maker Balance is :  9950\n",
      "user Balance is :  50\n"
     ]
    }
   ],
   "source": [
    "exec(_tx['smart_contract']['contract_function_sendToken'])\n",
    "send_token('token_maker','user',50)"
   ]
  },
  {
   "cell_type": "code",
   "execution_count": 98,
   "id": "17da70f0",
   "metadata": {},
   "outputs": [
    {
     "name": "stdout",
     "output_type": "stream",
     "text": [
      "token_maker Balance is :  9950\n"
     ]
    },
    {
     "data": {
      "text/plain": [
       "9950"
      ]
     },
     "execution_count": 98,
     "metadata": {},
     "output_type": "execute_result"
    }
   ],
   "source": [
    "exec(_tx['smart_contract']['contract_function_getBalance'])\n",
    "get_balance('token_maker')"
   ]
  },
  {
   "cell_type": "code",
   "execution_count": 99,
   "id": "c0e228d7",
   "metadata": {},
   "outputs": [
    {
     "name": "stdout",
     "output_type": "stream",
     "text": [
      "user Balance is :  50\n"
     ]
    },
    {
     "data": {
      "text/plain": [
       "50"
      ]
     },
     "execution_count": 99,
     "metadata": {},
     "output_type": "execute_result"
    }
   ],
   "source": [
    "exec(_tx['smart_contract']['contract_function_getBalance'])\n",
    "get_balance('user')"
   ]
  },
  {
   "cell_type": "code",
   "execution_count": 100,
   "id": "af1d39f5",
   "metadata": {},
   "outputs": [
    {
     "name": "stdout",
     "output_type": "stream",
     "text": [
      "token_maker Balance is :  9950\n",
      "Transaction Completed\n",
      "token_maker Balance is :  9900\n",
      "user Balance is :  100\n"
     ]
    }
   ],
   "source": [
    "exec(_tx['smart_contract']['contract_function_sendToken'])\n",
    "send_token('token_maker','user',50)"
   ]
  },
  {
   "cell_type": "code",
   "execution_count": 102,
   "id": "e9ff3e21",
   "metadata": {},
   "outputs": [
    {
     "name": "stdout",
     "output_type": "stream",
     "text": [
      "token_maker Balance is :  9900\n",
      "Transaction Completed\n",
      "token_maker Balance is :  6900\n",
      "user2 Balance is :  3000\n"
     ]
    }
   ],
   "source": [
    "send_token('token_maker','user2',3000)"
   ]
  },
  {
   "cell_type": "code",
   "execution_count": 103,
   "id": "8a19fad3",
   "metadata": {},
   "outputs": [
    {
     "name": "stdout",
     "output_type": "stream",
     "text": [
      "user2 Balance is :  3000\n"
     ]
    },
    {
     "data": {
      "text/plain": [
       "3000"
      ]
     },
     "execution_count": 103,
     "metadata": {},
     "output_type": "execute_result"
    }
   ],
   "source": [
    "exec(_tx['smart_contract']['contract_function_getBalance'])\n",
    "get_balance('user2')"
   ]
  },
  {
   "cell_type": "markdown",
   "id": "164b8647",
   "metadata": {},
   "source": [
    "## 참고 : 이더리움 네트워크 상에서 Layer2 토큰을 만드는 솔리디티 코드"
   ]
  },
  {
   "cell_type": "code",
   "execution_count": null,
   "id": "55eafb81",
   "metadata": {},
   "outputs": [],
   "source": [
    "pragma solidity ^0.4.24;\n",
    "\n",
    "\n",
    "contract SafeMath {\n",
    "    function safeAdd(uint a, uint b) public pure returns (uint c) {\n",
    "        c = a + b;\n",
    "        require(c >= a);\n",
    "    }\n",
    "    function safeSub(uint a, uint b) public pure returns (uint c) {\n",
    "        require(b <= a);\n",
    "        c = a - b;\n",
    "    }\n",
    "    function safeMul(uint a, uint b) public pure returns (uint c) {\n",
    "        c = a * b;\n",
    "        require(a == 0 || c / a == b);\n",
    "    }\n",
    "    function safeDiv(uint a, uint b) public pure returns (uint c) {\n",
    "        require(b > 0);\n",
    "        c = a / b;\n",
    "    }\n",
    "}\n",
    "\n",
    "\n",
    "/**\n",
    "ERC Token Standard #20 Interface\n",
    "https://github.com/ethereum/EIPs/blob/master/EIPS/eip-20-token-standard.md\n",
    "*/\n",
    "\n",
    "contract ERC20Interface {\n",
    "    function totalSupply() public constant returns (uint);\n",
    "    function balanceOf(address tokenOwner) public constant returns (uint balance);\n",
    "    function allowance(address tokenOwner, address spender) public constant returns (uint remaining);\n",
    "    function transfer(address to, uint tokens) public returns (bool success);\n",
    "    function approve(address spender, uint tokens) public returns (bool success);\n",
    "    function transferFrom(address from, address to, uint tokens) public returns (bool success);\n",
    "\n",
    "    event Transfer(address indexed from, address indexed to, uint tokens);\n",
    "    event Approval(address indexed tokenOwner, address indexed spender, uint tokens);\n",
    "}\n",
    "\n",
    "\n",
    "\n",
    "contract ApproveAndCallFallBack {\n",
    "    function receiveApproval(address from, uint256 tokens, address token, bytes data) public;\n",
    "}\n",
    "\n",
    "contract pyTOKEN is ERC20Interface, SafeMath {\n",
    "    string public symbol;\n",
    "    string public  name;\n",
    "    uint8 public decimals;\n",
    "    uint public _totalSupply;\n",
    "\n",
    "    mapping(address => uint) balances;\n",
    "    mapping(address => mapping(address => uint)) allowed;\n",
    "\n",
    "\n",
    "    // ------------------------------------------------------------------------\n",
    "    // 토큰의 명칭 및 총 발행량 선언\n",
    "    // ------------------------------------------------------------------------\n",
    "    constructor() public {\n",
    "        symbol = \"pyTOKEN\";\n",
    "        name = \"Python Token\";\n",
    "        decimals = 2;\n",
    "        _totalSupply = 100000;\n",
    "        balances[0xAd61C057eD2cE6BB81f10eeC0192e3a7DEC848dc] = _totalSupply;\n",
    "        emit Transfer(address(0), 0xAd61C057eD2cE6BB81f10eeC0192e3a7DEC848dc, _totalSupply);\n",
    "    }\n",
    "\n",
    "\n",
    "    // ------------------------------------------------------------------------\n",
    "    // T총 발행량 설정\n",
    "    // ------------------------------------------------------------------------\n",
    "    function totalSupply() public constant returns (uint) {\n",
    "        return _totalSupply  - balances[address(0)];\n",
    "    }\n",
    "\n",
    "\n",
    "    // ------------------------------------------------------------------------\n",
    "    // 잔액 조회 함수\n",
    "    // ------------------------------------------------------------------------\n",
    "    function balanceOf(address tokenOwner) public constant returns (uint balance) {\n",
    "        return balances[tokenOwner];\n",
    "    }\n",
    "\n",
    "\n",
    "    // ------------------------------------------------------------------------\n",
    "    // 토큰 보내기 함수1\n",
    "    // ------------------------------------------------------------------------\n",
    "    function transfer(address to, uint tokens) public returns (bool success) {\n",
    "        balances[msg.sender] = safeSub(balances[msg.sender], tokens);\n",
    "        balances[to] = safeAdd(balances[to], tokens);\n",
    "        emit Transfer(msg.sender, to, tokens);\n",
    "        return true;\n",
    "    }\n",
    "\n",
    "\n",
    "    // ------------------------------------------------------------------------\n",
    "    // 잔고 조회후 토큰 보내기 기능 승인\n",
    "    // ------------------------------------------------------------------------\n",
    "    function approve(address spender, uint tokens) public returns (bool success) {\n",
    "        allowed[msg.sender][spender] = tokens;\n",
    "        emit Approval(msg.sender, spender, tokens);\n",
    "        return true;\n",
    "    }\n",
    "\n",
    "\n",
    "    // ------------------------------------------------------------------------\n",
    "    // 토큰 보내기 함수2\n",
    "    // ------------------------------------------------------------------------\n",
    "    function transferFrom(address from, address to, uint tokens) public returns (bool success) {\n",
    "        balances[from] = safeSub(balances[from], tokens);\n",
    "        allowed[from][msg.sender] = safeSub(allowed[from][msg.sender], tokens);\n",
    "        balances[to] = safeAdd(balances[to], tokens);\n",
    "        emit Transfer(from, to, tokens);\n",
    "        return true;\n",
    "    }\n",
    "\n",
    "\n",
    "    // ------------------------------------------------------------------------\n",
    "    // 토큰을 보낼 수 있는지 잔고조회 확인\n",
    "    // ------------------------------------------------------------------------\n",
    "    function allowance(address tokenOwner, address spender) public constant returns (uint remaining) {\n",
    "        return allowed[tokenOwner][spender];\n",
    "    }\n",
    "\n",
    "\n",
    "\n",
    "}"
   ]
  }
 ],
 "metadata": {
  "kernelspec": {
   "display_name": "Python 3",
   "language": "python",
   "name": "python3"
  },
  "language_info": {
   "codemirror_mode": {
    "name": "ipython",
    "version": 3
   },
   "file_extension": ".py",
   "mimetype": "text/x-python",
   "name": "python",
   "nbconvert_exporter": "python",
   "pygments_lexer": "ipython3",
   "version": "3.8.8"
  }
 },
 "nbformat": 4,
 "nbformat_minor": 5
}
