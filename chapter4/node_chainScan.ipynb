{
 "cells": [
  {
   "cell_type": "code",
   "execution_count": 1,
   "id": "a4458c2a",
   "metadata": {},
   "outputs": [
    {
     "name": "stdout",
     "output_type": "stream",
     "text": [
      " * Serving Flask app \"__main__\" (lazy loading)\n",
      " * Environment: production\n",
      "   WARNING: This is a development server. Do not use it in a production deployment.\n",
      "   Use a production WSGI server instead.\n",
      " * Debug mode: off\n"
     ]
    },
    {
     "name": "stderr",
     "output_type": "stream",
     "text": [
      " * Running on http://127.0.0.1:8080/ (Press CTRL+C to quit)\n",
      "127.0.0.1 - - [22/Jan/2023 20:14:44] \"\u001b[37mGET / HTTP/1.1\u001b[0m\" 200 -\n",
      "127.0.0.1 - - [22/Jan/2023 20:14:44] \"\u001b[33mGET /favicon.ico HTTP/1.1\u001b[0m\" 404 -\n",
      "127.0.0.1 - - [22/Jan/2023 23:04:58] \"\u001b[37mGET / HTTP/1.1\u001b[0m\" 200 -\n",
      "127.0.0.1 - - [22/Jan/2023 23:05:16] \"\u001b[37mGET / HTTP/1.1\u001b[0m\" 200 -\n"
     ]
    }
   ],
   "source": [
    "from flask import Flask\n",
    "from datetime import datetime\n",
    "from flask import render_template\n",
    "import requests\n",
    "import os\n",
    "import json\n",
    "import pandas as pd\n",
    "\n",
    "app = Flask(__name__, template_folder=os.getcwd())\n",
    "\n",
    "@app.route('/')\n",
    "def index():\n",
    "    headers = {'Content-Type' : 'application/json; charset=utf-8'}\n",
    "    # 블록 체인 내 블록 정보를 제공하는 url(http://localhost:5000/chain)에 request 방식으로 데이터를 요청\n",
    "    res = requests.get(\"http://localhost:5000/chain\", headers=headers)\n",
    "    # 요청 결과 데이터(res.text)를 json 으로 로드\n",
    "    status_json = json.loads(res.text)\n",
    "    # 결과 데이터를 pandas의 dataframe(df_scan)으로  정리\n",
    "    df_scan = pd.DataFrame(status_json['chain'] )\n",
    "     # Front 구성내용이 담길 html(one_node_scan.html)파일에 Dataframe 정보(df_scan)과 블록의 길이(block_len)을 제공\n",
    "    return render_template('/one_node_scan.html', df_scan = df_scan, block_len = len(df_scan))\n",
    "\n",
    "app.run(port=8080)"
   ]
  },
  {
   "cell_type": "code",
   "execution_count": 3,
   "id": "5805dfb3",
   "metadata": {},
   "outputs": [
    {
     "data": {
      "text/html": [
       "<div>\n",
       "<style scoped>\n",
       "    .dataframe tbody tr th:only-of-type {\n",
       "        vertical-align: middle;\n",
       "    }\n",
       "\n",
       "    .dataframe tbody tr th {\n",
       "        vertical-align: top;\n",
       "    }\n",
       "\n",
       "    .dataframe thead th {\n",
       "        text-align: right;\n",
       "    }\n",
       "</style>\n",
       "<table border=\"1\" class=\"dataframe\">\n",
       "  <thead>\n",
       "    <tr style=\"text-align: right;\">\n",
       "      <th></th>\n",
       "      <th>hash</th>\n",
       "      <th>index</th>\n",
       "      <th>nonce</th>\n",
       "      <th>previous_hash</th>\n",
       "      <th>timestamp</th>\n",
       "      <th>transactions</th>\n",
       "    </tr>\n",
       "  </thead>\n",
       "  <tbody>\n",
       "    <tr>\n",
       "      <th>0</th>\n",
       "      <td>c6c94b6b738d384a9b7b779959acc372399efac627c882...</td>\n",
       "      <td>1</td>\n",
       "      <td>100</td>\n",
       "      <td>1</td>\n",
       "      <td>1.674295e+09</td>\n",
       "      <td>[]</td>\n",
       "    </tr>\n",
       "    <tr>\n",
       "      <th>1</th>\n",
       "      <td>f3a6354bf86c2c2f7377db8f72ea518a87e87d2334d772...</td>\n",
       "      <td>2</td>\n",
       "      <td>865026</td>\n",
       "      <td>66ea92c04bab1cb71ffc5309df0b5fe7b3f13d11049d0b...</td>\n",
       "      <td>1.674295e+09</td>\n",
       "      <td>[{'amount': 0, 'recipient': 'smart_contract', ...</td>\n",
       "    </tr>\n",
       "  </tbody>\n",
       "</table>\n",
       "</div>"
      ],
      "text/plain": [
       "                                                hash  index   nonce  \\\n",
       "0  c6c94b6b738d384a9b7b779959acc372399efac627c882...      1     100   \n",
       "1  f3a6354bf86c2c2f7377db8f72ea518a87e87d2334d772...      2  865026   \n",
       "\n",
       "                                       previous_hash     timestamp  \\\n",
       "0                                                  1  1.674295e+09   \n",
       "1  66ea92c04bab1cb71ffc5309df0b5fe7b3f13d11049d0b...  1.674295e+09   \n",
       "\n",
       "                                        transactions  \n",
       "0                                                 []  \n",
       "1  [{'amount': 0, 'recipient': 'smart_contract', ...  "
      ]
     },
     "execution_count": 3,
     "metadata": {},
     "output_type": "execute_result"
    }
   ],
   "source": [
    "headers = {'Content-Type' : 'application/json; charset=utf-8'}\n",
    "# 블록 체인의 블록 정보를 제공하는 url(http://localhost:5000/chain)에 request 방식으로 데이터를 요청\n",
    "res = requests.get(\"http://localhost:5000/chain\", headers=headers)\n",
    "# 요청 결과 데이터(res.text)를 json 으로 로드\n",
    "status_json = json.loads(res.text)\n",
    "# 결과 데이터를 pandas의 dataframe(df_scan)으로  정리    \n",
    "df_scan = pd.DataFrame(status_json['chain'] )\n",
    "df_scan"
   ]
  },
  {
   "cell_type": "code",
   "execution_count": 5,
   "id": "85d8f405",
   "metadata": {},
   "outputs": [
    {
     "data": {
      "text/plain": [
       "'{\"chain\":[{\"hash\":\"c6c94b6b738d384a9b7b779959acc372399efac627c8822c93d7b964b13de7e2\",\"index\":1,\"nonce\":100,\"previous_hash\":1,\"timestamp\":1674294521.5864878,\"transactions\":[]},{\"hash\":\"f3a6354bf86c2c2f7377db8f72ea518a87e87d2334d7723502ac817915272551\",\"index\":2,\"nonce\":865026,\"previous_hash\":\"66ea92c04bab1cb71ffc5309df0b5fe7b3f13d11049d0b178b1c13b55d23a1b4\",\"timestamp\":1674294542.5710497,\"transactions\":[{\"amount\":0,\"recipient\":\"smart_contract\",\"sender\":\"test_from\",\"smart_contract\":{\"contract_address\":\"myaddress\",\"contract_code\":\"print(\\'hello smart contract\\')\"},\"timestamp\":1674294536.7494242},{\"amount\":0.1,\"recipient\":\"node_5000\",\"sender\":\"master\",\"smart_contract\":{\"contract_address\":\"mining_profit\"},\"timestamp\":1674294542.5710497}]}],\"length\":2}\\n'"
      ]
     },
     "execution_count": 5,
     "metadata": {},
     "output_type": "execute_result"
    }
   ],
   "source": [
    "res.text"
   ]
  },
  {
   "cell_type": "code",
   "execution_count": null,
   "id": "2f34e237",
   "metadata": {},
   "outputs": [],
   "source": [
    "\n",
    "\n",
    "\n",
    "@app.route('/')\n",
    "def index():\n",
    "    ## 1번 노드 상태 받기!! >> ㅇㅋㅇㅋ\n",
    "\n",
    "    headers = {'Content-Type' : 'application/json; charset=utf-8'}\n",
    "    res = requests.get(\"http://localhost:5000/chain\", headers=headers)\n",
    "    print(res.text )\n",
    "    print(\"*\"*8)\n",
    "    status_json = json.loads(res.text)\n",
    "    status_json['chain']    \n",
    "    tx_amount_l = []\n",
    "    tx_sender_l = []\n",
    "    tx_reciv_l  = []\n",
    "    tx_time_l   = []\n",
    "\n",
    "    for chain_index in range(len(status_json['chain'])):\n",
    "        chain_tx = status_json['chain'][chain_index]['transactions']\n",
    "        for each_tx in range(len(chain_tx)):\n",
    "            tx_amount_l.append(chain_tx[each_tx]['amount'])\n",
    "            tx_sender_l.append(chain_tx[each_tx]['sender'])\n",
    "            tx_reciv_l.append(chain_tx[each_tx]['recipient'])\n",
    "            tx_time_l.append(chain_tx[each_tx]['timestamp'])\n",
    "\n",
    "    df_tx = pd.DataFrame()\n",
    "    df_tx['timestamp'] = tx_time_l  \n",
    "    df_tx['sender'] = tx_sender_l \n",
    "    df_tx['recipient'] = tx_reciv_l\n",
    "    df_tx['amount'] = tx_amount_l   \n",
    "    df_tx\n",
    "\n",
    "\n",
    "\n",
    "    df_sended = pd.DataFrame(df_tx.groupby('sender')['amount'].sum()).reset_index()\n",
    "    df_sended.columns = ['user','sended_amount']\n",
    "    df_received= pd.DataFrame(df_tx.groupby('recipient')['amount'].sum()).reset_index()\n",
    "    df_received.columns = ['user','received_amount']\n",
    "    df_received\n",
    "\n",
    "    return render_template('one_node_scan.html', )\n",
    "\n",
    "\n",
    "app.run(port=8080)\n"
   ]
  }
 ],
 "metadata": {
  "kernelspec": {
   "display_name": "Python 3",
   "language": "python",
   "name": "python3"
  },
  "language_info": {
   "codemirror_mode": {
    "name": "ipython",
    "version": 3
   },
   "file_extension": ".py",
   "mimetype": "text/x-python",
   "name": "python",
   "nbconvert_exporter": "python",
   "pygments_lexer": "ipython3",
   "version": "3.8.8"
  }
 },
 "nbformat": 4,
 "nbformat_minor": 5
}
