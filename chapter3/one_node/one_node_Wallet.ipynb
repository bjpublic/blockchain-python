{
 "cells": [
  {
   "cell_type": "markdown",
   "id": "d19da799",
   "metadata": {},
   "source": [
    "## Packages Import"
   ]
  },
  {
   "cell_type": "code",
   "execution_count": 1,
   "id": "d205c77b",
   "metadata": {},
   "outputs": [],
   "source": [
    "from flask import Flask\n",
    "from datetime import datetime\n",
    "from flask import render_template\n",
    "from flask import request\n",
    "from flask import url_for\n",
    "from flask import redirect\n",
    "\n",
    "import requests\n",
    "import json\n",
    "import os\n",
    "import pandas as pd"
   ]
  },
  {
   "cell_type": "markdown",
   "id": "c86e64c8",
   "metadata": {},
   "source": [
    "## Flask app 선언"
   ]
  },
  {
   "cell_type": "code",
   "execution_count": 2,
   "id": "d59038b5",
   "metadata": {},
   "outputs": [],
   "source": [
    "app = Flask(__name__, template_folder=os.getcwd())"
   ]
  },
  {
   "cell_type": "markdown",
   "id": "39bad1cf",
   "metadata": {},
   "source": [
    "## login 기능\n",
    "#### 첫 접속시에는 login.html 파일을 랜더링\n",
    "#### POST 방식으로 지갑 주소를 입력한 경우,\n",
    "#### > 알맞은 지갑주소일 경우 wallet.html 파일 랜더링\n",
    "#### > 잘못된 지갑주소일 경우 에러 메시지 띄움"
   ]
  },
  {
   "cell_type": "code",
   "execution_count": 3,
   "id": "124ddcc5",
   "metadata": {},
   "outputs": [],
   "source": [
    "@app.route('/', methods=['GET', 'POST'])\n",
    "def login():\n",
    "    if request.method=='POST':\n",
    "        print(\"login 버튼을 누름\")\n",
    "        input_value = request.form.to_dict(flat=False) ['wallet_id'][0]\n",
    "        print(\"login 지갑주소 : \" , input_value)\n",
    "        ### 기존 user 정보 확인\n",
    "        headers = {'Content-Type' : 'application/json; charset=utf-8'}\n",
    "        res = requests.get(\"http://localhost:5000/chain\", headers=headers)\n",
    "        status_json = json.loads(res.text)\n",
    "        status_json['chain']    \n",
    "        tx_amount_l = []\n",
    "        tx_sender_l = []\n",
    "        tx_reciv_l  = []\n",
    "        tx_time_l   = []\n",
    "        # 거래내역 정리 (df_tx)\n",
    "        for chain_index in range(len(status_json['chain'])):\n",
    "            chain_tx = status_json['chain'][chain_index]['transactions']\n",
    "            for each_tx in range(len(chain_tx)):\n",
    "                tx_amount_l.append(chain_tx[each_tx]['amount'])\n",
    "                tx_sender_l.append(chain_tx[each_tx]['sender'])\n",
    "                tx_reciv_l.append(chain_tx[each_tx]['recipient'])\n",
    "                tx_time_l.append(chain_tx[each_tx]['timestamp'])\n",
    "        df_tx = pd.DataFrame()\n",
    "        df_tx['timestamp'] = tx_time_l  \n",
    "        df_tx['sender'] = tx_sender_l \n",
    "        df_tx['recipient'] = tx_reciv_l\n",
    "        df_tx['amount'] = tx_amount_l   \n",
    "        df_tx\n",
    "\n",
    "        # pyBTC 잔고현황 정리 (df_status)\n",
    "        df_sended = pd.DataFrame(df_tx.groupby('sender')['amount'].sum()).reset_index()\n",
    "        df_sended.columns = ['user','sended_amount']\n",
    "        df_received= pd.DataFrame(df_tx.groupby('recipient')['amount'].sum()).reset_index()\n",
    "        df_received.columns = ['user','received_amount']\n",
    "        df_status = pd.merge(df_received,df_sended, on ='user', how=  'outer').fillna(0)\n",
    "        df_status['balance'] = df_status['received_amount']  - df_status['sended_amount']  \n",
    "        df_status       \n",
    "    \n",
    "        # 결과값 랜더링\n",
    "        if (df_status['user']==input_value ).sum() == 1:\n",
    "            print(\"로그인성공\")\n",
    "            return render_template(\"wallet.html\",  wallet_id = input_value, \n",
    "                                                    wallet_value = df_status[df_status['user']== input_value]['balance'].iloc[0])\n",
    "        else:\n",
    "            return \"잘못된 지갑주소입니다.\"\n",
    "        \n",
    "    return render_template('login.html')\n"
   ]
  },
  {
   "cell_type": "markdown",
   "id": "d77ae40f",
   "metadata": {},
   "source": [
    "## 지갑 기능\n",
    "#### POST 방식으로 보내는 지갑 주소와 보내는 pyBTC 양이 입력된 경우,\n",
    "#### 해당 지갑주소일 pyBTC 전송"
   ]
  },
  {
   "cell_type": "code",
   "execution_count": 4,
   "id": "c78656c3",
   "metadata": {},
   "outputs": [],
   "source": [
    "@app.route('/wallet', methods=['GET', 'POST'])\n",
    "def wallet():\n",
    "    if request.method=='POST':\n",
    "        send_value = int(request.form.to_dict(flat=False)['send_value'][0] )\n",
    "        send_target = request.form.to_dict(flat=False)['send_target'][0]\n",
    "        send_from = request.form.to_dict(flat=False)['send_from'][0]\n",
    "        print(\"Login Wallet ID : \" ,send_from)\n",
    "        \n",
    "        if send_value > 0:\n",
    "            print(\"Send Amout :\", send_value)\n",
    "            ## transaction 입력하기\n",
    "            headers = {'Content-Type' : 'application/json; charset=utf-8'}\n",
    "            data = {\n",
    "                \"sender\": send_from,\n",
    "                \"recipient\": send_target,\n",
    "                \"amount\": send_value,\n",
    "            }\n",
    "            requests.post(\"http://localhost:5000/transactions/new\", headers=headers, data=json.dumps(data))\n",
    "\n",
    "            return \"전송 완료!\"\n",
    "\n",
    "        else:\n",
    "            return \"0 pyBTC 이상 보내주세요!\"\n",
    "        \n",
    "    return render_template('wallet.html')"
   ]
  },
  {
   "cell_type": "markdown",
   "id": "e924b93f",
   "metadata": {},
   "source": [
    "## 지갑 사이트 실행"
   ]
  },
  {
   "cell_type": "code",
   "execution_count": 5,
   "id": "afd75d09",
   "metadata": {},
   "outputs": [
    {
     "name": "stdout",
     "output_type": "stream",
     "text": [
      " * Serving Flask app \"__main__\" (lazy loading)\n",
      " * Environment: production\n",
      "   WARNING: This is a development server. Do not use it in a production deployment.\n",
      "   Use a production WSGI server instead.\n",
      " * Debug mode: off\n"
     ]
    },
    {
     "name": "stderr",
     "output_type": "stream",
     "text": [
      " * Running on http://127.0.0.1:8081/ (Press CTRL+C to quit)\n",
      "127.0.0.1 - - [04/Dec/2022 18:25:09] \"\u001b[37mGET / HTTP/1.1\u001b[0m\" 200 -\n"
     ]
    },
    {
     "name": "stdout",
     "output_type": "stream",
     "text": [
      "login 버튼을 누름\n",
      "login 지갑주소 :  test_to\n"
     ]
    },
    {
     "name": "stderr",
     "output_type": "stream",
     "text": [
      "127.0.0.1 - - [04/Dec/2022 18:25:16] \"\u001b[37mPOST / HTTP/1.1\u001b[0m\" 200 -\n"
     ]
    },
    {
     "name": "stdout",
     "output_type": "stream",
     "text": [
      "로그인성공\n",
      "Login Wallet ID :  test_to\n",
      "Send Amout : 3\n"
     ]
    },
    {
     "name": "stderr",
     "output_type": "stream",
     "text": [
      "127.0.0.1 - - [04/Dec/2022 18:28:19] \"\u001b[37mPOST /wallet HTTP/1.1\u001b[0m\" 200 -\n"
     ]
    },
    {
     "name": "stdout",
     "output_type": "stream",
     "text": [
      "login 버튼을 누름\n",
      "login 지갑주소 :  test_to\n"
     ]
    },
    {
     "name": "stderr",
     "output_type": "stream",
     "text": [
      "127.0.0.1 - - [04/Dec/2022 18:31:27] \"\u001b[37mPOST / HTTP/1.1\u001b[0m\" 200 -\n"
     ]
    },
    {
     "name": "stdout",
     "output_type": "stream",
     "text": [
      "로그인성공\n"
     ]
    },
    {
     "name": "stderr",
     "output_type": "stream",
     "text": [
      "127.0.0.1 - - [04/Dec/2022 18:31:43] \"\u001b[37mGET / HTTP/1.1\u001b[0m\" 200 -\n"
     ]
    },
    {
     "name": "stdout",
     "output_type": "stream",
     "text": [
      "login 버튼을 누름\n",
      "login 지갑주소 :  test_to\n"
     ]
    },
    {
     "name": "stderr",
     "output_type": "stream",
     "text": [
      "127.0.0.1 - - [04/Dec/2022 18:31:50] \"\u001b[37mPOST / HTTP/1.1\u001b[0m\" 200 -\n"
     ]
    },
    {
     "name": "stdout",
     "output_type": "stream",
     "text": [
      "로그인성공\n"
     ]
    },
    {
     "name": "stderr",
     "output_type": "stream",
     "text": [
      "127.0.0.1 - - [04/Dec/2022 18:33:08] \"\u001b[37mGET / HTTP/1.1\u001b[0m\" 200 -\n"
     ]
    },
    {
     "name": "stdout",
     "output_type": "stream",
     "text": [
      "login 버튼을 누름\n",
      "login 지갑주소 :  test_to\n"
     ]
    },
    {
     "name": "stderr",
     "output_type": "stream",
     "text": [
      "127.0.0.1 - - [04/Dec/2022 18:33:16] \"\u001b[37mPOST / HTTP/1.1\u001b[0m\" 200 -\n"
     ]
    },
    {
     "name": "stdout",
     "output_type": "stream",
     "text": [
      "로그인성공\n"
     ]
    }
   ],
   "source": [
    "app.run(port=8081)"
   ]
  },
  {
   "cell_type": "markdown",
   "id": "1bb2e277",
   "metadata": {},
   "source": [
    "### [참고] df_status 에 저장되는 내역"
   ]
  },
  {
   "cell_type": "code",
   "execution_count": 6,
   "id": "d4e9b3b8",
   "metadata": {},
   "outputs": [
    {
     "data": {
      "text/html": [
       "<div>\n",
       "<style scoped>\n",
       "    .dataframe tbody tr th:only-of-type {\n",
       "        vertical-align: middle;\n",
       "    }\n",
       "\n",
       "    .dataframe tbody tr th {\n",
       "        vertical-align: top;\n",
       "    }\n",
       "\n",
       "    .dataframe thead th {\n",
       "        text-align: right;\n",
       "    }\n",
       "</style>\n",
       "<table border=\"1\" class=\"dataframe\">\n",
       "  <thead>\n",
       "    <tr style=\"text-align: right;\">\n",
       "      <th></th>\n",
       "      <th>user</th>\n",
       "      <th>received_amount</th>\n",
       "      <th>sended_amount</th>\n",
       "      <th>balance</th>\n",
       "    </tr>\n",
       "  </thead>\n",
       "  <tbody>\n",
       "    <tr>\n",
       "      <th>0</th>\n",
       "      <td>node_5000</td>\n",
       "      <td>0.2</td>\n",
       "      <td>0.0</td>\n",
       "      <td>0.2</td>\n",
       "    </tr>\n",
       "    <tr>\n",
       "      <th>1</th>\n",
       "      <td>test_to</td>\n",
       "      <td>3.0</td>\n",
       "      <td>0.0</td>\n",
       "      <td>3.0</td>\n",
       "    </tr>\n",
       "    <tr>\n",
       "      <th>2</th>\n",
       "      <td>test_to2</td>\n",
       "      <td>30.0</td>\n",
       "      <td>0.0</td>\n",
       "      <td>30.0</td>\n",
       "    </tr>\n",
       "    <tr>\n",
       "      <th>3</th>\n",
       "      <td>test_to3</td>\n",
       "      <td>300.0</td>\n",
       "      <td>0.0</td>\n",
       "      <td>300.0</td>\n",
       "    </tr>\n",
       "    <tr>\n",
       "      <th>4</th>\n",
       "      <td>master</td>\n",
       "      <td>0.0</td>\n",
       "      <td>0.2</td>\n",
       "      <td>-0.2</td>\n",
       "    </tr>\n",
       "    <tr>\n",
       "      <th>5</th>\n",
       "      <td>test_from</td>\n",
       "      <td>0.0</td>\n",
       "      <td>333.0</td>\n",
       "      <td>-333.0</td>\n",
       "    </tr>\n",
       "  </tbody>\n",
       "</table>\n",
       "</div>"
      ],
      "text/plain": [
       "        user  received_amount  sended_amount  balance\n",
       "0  node_5000              0.2            0.0      0.2\n",
       "1    test_to              3.0            0.0      3.0\n",
       "2   test_to2             30.0            0.0     30.0\n",
       "3   test_to3            300.0            0.0    300.0\n",
       "4     master              0.0            0.2     -0.2\n",
       "5  test_from              0.0          333.0   -333.0"
      ]
     },
     "execution_count": 6,
     "metadata": {},
     "output_type": "execute_result"
    }
   ],
   "source": [
    "headers = {'Content-Type' : 'application/json; charset=utf-8'}\n",
    "res = requests.get(\"http://localhost:5000/chain\", headers=headers)\n",
    "\n",
    "status_json = json.loads(res.text)\n",
    "status_json['chain']    \n",
    "tx_amount_l = []\n",
    "tx_sender_l = []\n",
    "tx_reciv_l  = []\n",
    "tx_time_l   = []\n",
    "\n",
    "for chain_index in range(len(status_json['chain'])):\n",
    "    chain_tx = status_json['chain'][chain_index]['transactions']\n",
    "    for each_tx in range(len(chain_tx)):\n",
    "        tx_amount_l.append(chain_tx[each_tx]['amount'])\n",
    "        tx_sender_l.append(chain_tx[each_tx]['sender'])\n",
    "        tx_reciv_l.append(chain_tx[each_tx]['recipient'])\n",
    "        tx_time_l.append(chain_tx[each_tx]['timestamp'])\n",
    "df_tx = pd.DataFrame()\n",
    "df_tx['timestamp'] = tx_time_l  \n",
    "df_tx['sender'] = tx_sender_l \n",
    "df_tx['recipient'] = tx_reciv_l\n",
    "df_tx['amount'] = tx_amount_l   \n",
    "df_tx\n",
    "\n",
    "df_sended = pd.DataFrame(df_tx.groupby('sender')['amount'].sum()).reset_index()\n",
    "df_sended.columns = ['user','sended_amount']\n",
    "df_received= pd.DataFrame(df_tx.groupby('recipient')['amount'].sum()).reset_index()\n",
    "df_received.columns = ['user','received_amount']\n",
    "df_received\n",
    "\n",
    "df_status = pd.merge(df_received,df_sended, on ='user', how=  'outer').fillna(0)\n",
    "df_status['balance'] = df_status['received_amount']  - df_status['sended_amount']  \n",
    "df_status     "
   ]
  },
  {
   "cell_type": "code",
   "execution_count": 13,
   "id": "2abf03f5",
   "metadata": {},
   "outputs": [
    {
     "data": {
      "text/html": [
       "<div>\n",
       "<style scoped>\n",
       "    .dataframe tbody tr th:only-of-type {\n",
       "        vertical-align: middle;\n",
       "    }\n",
       "\n",
       "    .dataframe tbody tr th {\n",
       "        vertical-align: top;\n",
       "    }\n",
       "\n",
       "    .dataframe thead th {\n",
       "        text-align: right;\n",
       "    }\n",
       "</style>\n",
       "<table border=\"1\" class=\"dataframe\">\n",
       "  <thead>\n",
       "    <tr style=\"text-align: right;\">\n",
       "      <th></th>\n",
       "      <th>user</th>\n",
       "      <th>received_amount</th>\n",
       "      <th>sended_amount</th>\n",
       "      <th>balance</th>\n",
       "    </tr>\n",
       "  </thead>\n",
       "  <tbody>\n",
       "    <tr>\n",
       "      <th>0</th>\n",
       "      <td>24a905ff16514caab92441fed3dd69e7e641e0124110b7...</td>\n",
       "      <td>18.0</td>\n",
       "      <td>18.0</td>\n",
       "      <td>0.0</td>\n",
       "    </tr>\n",
       "    <tr>\n",
       "      <th>1</th>\n",
       "      <td>2f3532702ecc166ea0b4b1c129d3f913c1c69b0987c818...</td>\n",
       "      <td>40.0</td>\n",
       "      <td>0.0</td>\n",
       "      <td>40.0</td>\n",
       "    </tr>\n",
       "    <tr>\n",
       "      <th>2</th>\n",
       "      <td>9cb89af232da391ced43390624e489ba105458e0cb487f...</td>\n",
       "      <td>96.0</td>\n",
       "      <td>0.0</td>\n",
       "      <td>96.0</td>\n",
       "    </tr>\n",
       "    <tr>\n",
       "      <th>3</th>\n",
       "      <td>cb98707469fbc97f35777b89eb69a7491ac46a26b0e43d...</td>\n",
       "      <td>74.0</td>\n",
       "      <td>0.0</td>\n",
       "      <td>74.0</td>\n",
       "    </tr>\n",
       "    <tr>\n",
       "      <th>4</th>\n",
       "      <td>d80fa0b7f70d0b5abfc4f70353ec944c96021406001fd6...</td>\n",
       "      <td>110.0</td>\n",
       "      <td>0.0</td>\n",
       "      <td>110.0</td>\n",
       "    </tr>\n",
       "    <tr>\n",
       "      <th>5</th>\n",
       "      <td>e2fa281fb59fae141752752c640d278af56fa1677a00a0</td>\n",
       "      <td>18.0</td>\n",
       "      <td>0.0</td>\n",
       "      <td>18.0</td>\n",
       "    </tr>\n",
       "    <tr>\n",
       "      <th>6</th>\n",
       "      <td>e2fa281fb59fae141752752c640d278af56fa1677a00a0...</td>\n",
       "      <td>195.0</td>\n",
       "      <td>0.0</td>\n",
       "      <td>195.0</td>\n",
       "    </tr>\n",
       "    <tr>\n",
       "      <th>7</th>\n",
       "      <td>node_5000</td>\n",
       "      <td>0.4</td>\n",
       "      <td>0.0</td>\n",
       "      <td>0.4</td>\n",
       "    </tr>\n",
       "    <tr>\n",
       "      <th>8</th>\n",
       "      <td>1aa1640f66c9e2e901751a1c33c99246912fc3ffbfe809...</td>\n",
       "      <td>0.0</td>\n",
       "      <td>96.0</td>\n",
       "      <td>-96.0</td>\n",
       "    </tr>\n",
       "    <tr>\n",
       "      <th>9</th>\n",
       "      <td>2d9efc41b538e9f418ecf119b1a71c29beea87d9fbde99...</td>\n",
       "      <td>0.0</td>\n",
       "      <td>40.0</td>\n",
       "      <td>-40.0</td>\n",
       "    </tr>\n",
       "    <tr>\n",
       "      <th>10</th>\n",
       "      <td>8d2617d61db661bae3276550991137e317c1b45d7210f8...</td>\n",
       "      <td>0.0</td>\n",
       "      <td>195.0</td>\n",
       "      <td>-195.0</td>\n",
       "    </tr>\n",
       "    <tr>\n",
       "      <th>11</th>\n",
       "      <td>a28d2d0562eabe427e0572a40c0ff19784e7ec7b889eca...</td>\n",
       "      <td>0.0</td>\n",
       "      <td>74.0</td>\n",
       "      <td>-74.0</td>\n",
       "    </tr>\n",
       "    <tr>\n",
       "      <th>12</th>\n",
       "      <td>bcd010cc17e2662d30f3f9c7e79b1993366c27741e3884...</td>\n",
       "      <td>0.0</td>\n",
       "      <td>18.0</td>\n",
       "      <td>-18.0</td>\n",
       "    </tr>\n",
       "    <tr>\n",
       "      <th>13</th>\n",
       "      <td>ff36a2f62b1ca79ed974d48f1a2bc00fe49c680754f6ac...</td>\n",
       "      <td>0.0</td>\n",
       "      <td>110.0</td>\n",
       "      <td>-110.0</td>\n",
       "    </tr>\n",
       "    <tr>\n",
       "      <th>14</th>\n",
       "      <td>master</td>\n",
       "      <td>0.0</td>\n",
       "      <td>0.4</td>\n",
       "      <td>-0.4</td>\n",
       "    </tr>\n",
       "  </tbody>\n",
       "</table>\n",
       "</div>"
      ],
      "text/plain": [
       "                                                 user  received_amount  \\\n",
       "0   24a905ff16514caab92441fed3dd69e7e641e0124110b7...             18.0   \n",
       "1   2f3532702ecc166ea0b4b1c129d3f913c1c69b0987c818...             40.0   \n",
       "2   9cb89af232da391ced43390624e489ba105458e0cb487f...             96.0   \n",
       "3   cb98707469fbc97f35777b89eb69a7491ac46a26b0e43d...             74.0   \n",
       "4   d80fa0b7f70d0b5abfc4f70353ec944c96021406001fd6...            110.0   \n",
       "5      e2fa281fb59fae141752752c640d278af56fa1677a00a0             18.0   \n",
       "6   e2fa281fb59fae141752752c640d278af56fa1677a00a0...            195.0   \n",
       "7                                           node_5000              0.4   \n",
       "8   1aa1640f66c9e2e901751a1c33c99246912fc3ffbfe809...              0.0   \n",
       "9   2d9efc41b538e9f418ecf119b1a71c29beea87d9fbde99...              0.0   \n",
       "10  8d2617d61db661bae3276550991137e317c1b45d7210f8...              0.0   \n",
       "11  a28d2d0562eabe427e0572a40c0ff19784e7ec7b889eca...              0.0   \n",
       "12  bcd010cc17e2662d30f3f9c7e79b1993366c27741e3884...              0.0   \n",
       "13  ff36a2f62b1ca79ed974d48f1a2bc00fe49c680754f6ac...              0.0   \n",
       "14                                             master              0.0   \n",
       "\n",
       "    sended_amount  balance  \n",
       "0            18.0      0.0  \n",
       "1             0.0     40.0  \n",
       "2             0.0     96.0  \n",
       "3             0.0     74.0  \n",
       "4             0.0    110.0  \n",
       "5             0.0     18.0  \n",
       "6             0.0    195.0  \n",
       "7             0.0      0.4  \n",
       "8            96.0    -96.0  \n",
       "9            40.0    -40.0  \n",
       "10          195.0   -195.0  \n",
       "11           74.0    -74.0  \n",
       "12           18.0    -18.0  \n",
       "13          110.0   -110.0  \n",
       "14            0.4     -0.4  "
      ]
     },
     "execution_count": 13,
     "metadata": {},
     "output_type": "execute_result"
    }
   ],
   "source": [
    "df_status = pd.merge(df_received,df_sended, on ='user', how=  'outer').fillna(0)\n",
    "df_status['balance'] = df_status['received_amount']  - df_status['sended_amount']  \n",
    "df_status"
   ]
  },
  {
   "cell_type": "code",
   "execution_count": 2,
   "id": "47a3c12b",
   "metadata": {},
   "outputs": [
    {
     "name": "stdout",
     "output_type": "stream",
     "text": [
      "{\"chain\":[{\"index\":1,\"nonce\":100,\"previous_hash\":1,\"timestamp\":1670003137.3593862,\"transactions\":[]},{\"index\":2,\"nonce\":889040,\"previous_hash\":\"f2a3e59909517450db4a8d714c3382a2d3e6911122d03d83168e7d1d6ab39d62\",\"timestamp\":1670003156.9233766,\"transactions\":[{\"amount\":74,\"recipient\":\"cb98707469fbc97f35777b89eb69a7491ac46a26b0e43d2add7571157c245078\",\"sender\":\"a28d2d0562eabe427e0572a40c0ff19784e7ec7b889eca864be130b64fd85149\",\"timestamp\":1670003154.7843897},{\"amount\":0.1,\"recipient\":\"node_5000\",\"sender\":\"master\",\"timestamp\":1670003156.9223733}]},{\"index\":3,\"nonce\":740763,\"previous_hash\":\"24ef618532580c6789d082d9ed72f749ed92be471c1996695611fcbfedfca508\",\"timestamp\":1670003167.1263945,\"transactions\":[{\"amount\":110,\"recipient\":\"d80fa0b7f70d0b5abfc4f70353ec944c96021406001fd68f338d2e1d3a1a0983\",\"sender\":\"ff36a2f62b1ca79ed974d48f1a2bc00fe49c680754f6acaebab35164098f6d20\",\"timestamp\":1670003158.9508111},{\"amount\":40,\"recipient\":\"2f3532702ecc166ea0b4b1c129d3f913c1c69b0987c818fc5e5f0f440f554c8b\",\"sender\":\"2d9efc41b538e9f418ecf119b1a71c29beea87d9fbde995b2726073c199f66ad\",\"timestamp\":1670003160.9849627},{\"amount\":195,\"recipient\":\"e2fa281fb59fae141752752c640d278af56fa1677a00a0067d2ac8965880f091\",\"sender\":\"8d2617d61db661bae3276550991137e317c1b45d7210f8f12a5340c27291f1a6\",\"timestamp\":1670003163.0209663},{\"amount\":96,\"recipient\":\"9cb89af232da391ced43390624e489ba105458e0cb487f8fd7a8b12f0c701329\",\"sender\":\"1aa1640f66c9e2e901751a1c33c99246912fc3ffbfe809ac29538d78a4942bd9\",\"timestamp\":1670003165.0526605},{\"amount\":0.1,\"recipient\":\"node_5000\",\"sender\":\"master\",\"timestamp\":1670003167.1254005}]},{\"index\":4,\"nonce\":907638,\"previous_hash\":\"76885d66a49afde1372d682ff09ea44429a25e0aa8434be8d868101fa68c3115\",\"timestamp\":1670003171.2086093,\"transactions\":[{\"amount\":18,\"recipient\":\"24a905ff16514caab92441fed3dd69e7e641e0124110b76fc3fa5cffad1caa2b\",\"sender\":\"bcd010cc17e2662d30f3f9c7e79b1993366c27741e3884560db6a3052dd2f84e\",\"timestamp\":1670003169.1485453},{\"amount\":0.1,\"recipient\":\"node_5000\",\"sender\":\"master\",\"timestamp\":1670003171.2076082}]}],\"length\":4}\n",
      "\n",
      "********\n"
     ]
    },
    {
     "data": {
      "text/html": [
       "<div>\n",
       "<style scoped>\n",
       "    .dataframe tbody tr th:only-of-type {\n",
       "        vertical-align: middle;\n",
       "    }\n",
       "\n",
       "    .dataframe tbody tr th {\n",
       "        vertical-align: top;\n",
       "    }\n",
       "\n",
       "    .dataframe thead th {\n",
       "        text-align: right;\n",
       "    }\n",
       "</style>\n",
       "<table border=\"1\" class=\"dataframe\">\n",
       "  <thead>\n",
       "    <tr style=\"text-align: right;\">\n",
       "      <th></th>\n",
       "      <th>user</th>\n",
       "      <th>received_amount</th>\n",
       "    </tr>\n",
       "  </thead>\n",
       "  <tbody>\n",
       "    <tr>\n",
       "      <th>0</th>\n",
       "      <td>24a905ff16514caab92441fed3dd69e7e641e0124110b7...</td>\n",
       "      <td>18.0</td>\n",
       "    </tr>\n",
       "    <tr>\n",
       "      <th>1</th>\n",
       "      <td>2f3532702ecc166ea0b4b1c129d3f913c1c69b0987c818...</td>\n",
       "      <td>40.0</td>\n",
       "    </tr>\n",
       "    <tr>\n",
       "      <th>2</th>\n",
       "      <td>9cb89af232da391ced43390624e489ba105458e0cb487f...</td>\n",
       "      <td>96.0</td>\n",
       "    </tr>\n",
       "    <tr>\n",
       "      <th>3</th>\n",
       "      <td>cb98707469fbc97f35777b89eb69a7491ac46a26b0e43d...</td>\n",
       "      <td>74.0</td>\n",
       "    </tr>\n",
       "    <tr>\n",
       "      <th>4</th>\n",
       "      <td>d80fa0b7f70d0b5abfc4f70353ec944c96021406001fd6...</td>\n",
       "      <td>110.0</td>\n",
       "    </tr>\n",
       "    <tr>\n",
       "      <th>5</th>\n",
       "      <td>e2fa281fb59fae141752752c640d278af56fa1677a00a0...</td>\n",
       "      <td>195.0</td>\n",
       "    </tr>\n",
       "    <tr>\n",
       "      <th>6</th>\n",
       "      <td>node_5000</td>\n",
       "      <td>0.3</td>\n",
       "    </tr>\n",
       "  </tbody>\n",
       "</table>\n",
       "</div>"
      ],
      "text/plain": [
       "                                                user  received_amount\n",
       "0  24a905ff16514caab92441fed3dd69e7e641e0124110b7...             18.0\n",
       "1  2f3532702ecc166ea0b4b1c129d3f913c1c69b0987c818...             40.0\n",
       "2  9cb89af232da391ced43390624e489ba105458e0cb487f...             96.0\n",
       "3  cb98707469fbc97f35777b89eb69a7491ac46a26b0e43d...             74.0\n",
       "4  d80fa0b7f70d0b5abfc4f70353ec944c96021406001fd6...            110.0\n",
       "5  e2fa281fb59fae141752752c640d278af56fa1677a00a0...            195.0\n",
       "6                                          node_5000              0.3"
      ]
     },
     "execution_count": 2,
     "metadata": {},
     "output_type": "execute_result"
    }
   ],
   "source": [
    "    headers = {'Content-Type' : 'application/json; charset=utf-8'}\n",
    "    res = requests.get(\"http://localhost:5000/chain\", headers=headers)\n",
    "    print(res.text )\n",
    "    print(\"*\"*8)\n",
    "    status_json = json.loads(res.text)\n",
    "    status_json['chain']    \n",
    "    tx_amount_l = []\n",
    "    tx_sender_l = []\n",
    "    tx_reciv_l  = []\n",
    "    tx_time_l   = []\n",
    "\n",
    "    for chain_index in range(len(status_json['chain'])):\n",
    "        chain_tx = status_json['chain'][chain_index]['transactions']\n",
    "        for each_tx in range(len(chain_tx)):\n",
    "            tx_amount_l.append(chain_tx[each_tx]['amount'])\n",
    "            tx_sender_l.append(chain_tx[each_tx]['sender'])\n",
    "            tx_reciv_l.append(chain_tx[each_tx]['recipient'])\n",
    "            tx_time_l.append(chain_tx[each_tx]['timestamp'])\n",
    "\n",
    "    df_tx = pd.DataFrame()\n",
    "    df_tx['timestamp'] = tx_time_l  \n",
    "    df_tx['sender'] = tx_sender_l \n",
    "    df_tx['recipient'] = tx_reciv_l\n",
    "    df_tx['amount'] = tx_amount_l   \n",
    "    df_tx\n",
    "\n",
    "\n",
    "\n",
    "    df_sended = pd.DataFrame(df_tx.groupby('sender')['amount'].sum()).reset_index()\n",
    "    df_sended.columns = ['user','sended_amount']\n",
    "    df_received= pd.DataFrame(df_tx.groupby('recipient')['amount'].sum()).reset_index()\n",
    "    df_received.columns = ['user','received_amount']\n",
    "    df_received\n"
   ]
  },
  {
   "cell_type": "code",
   "execution_count": 14,
   "id": "d0acef40",
   "metadata": {},
   "outputs": [
    {
     "name": "stdout",
     "output_type": "stream",
     "text": [
      "{\"chain\":[{\"index\":1,\"nonce\":100,\"previous_hash\":1,\"timestamp\":1670003137.3593862,\"transactions\":[]},{\"index\":2,\"nonce\":889040,\"previous_hash\":\"f2a3e59909517450db4a8d714c3382a2d3e6911122d03d83168e7d1d6ab39d62\",\"timestamp\":1670003156.9233766,\"transactions\":[{\"amount\":74,\"recipient\":\"cb98707469fbc97f35777b89eb69a7491ac46a26b0e43d2add7571157c245078\",\"sender\":\"a28d2d0562eabe427e0572a40c0ff19784e7ec7b889eca864be130b64fd85149\",\"timestamp\":1670003154.7843897},{\"amount\":0.1,\"recipient\":\"node_5000\",\"sender\":\"master\",\"timestamp\":1670003156.9223733}]},{\"index\":3,\"nonce\":740763,\"previous_hash\":\"24ef618532580c6789d082d9ed72f749ed92be471c1996695611fcbfedfca508\",\"timestamp\":1670003167.1263945,\"transactions\":[{\"amount\":110,\"recipient\":\"d80fa0b7f70d0b5abfc4f70353ec944c96021406001fd68f338d2e1d3a1a0983\",\"sender\":\"ff36a2f62b1ca79ed974d48f1a2bc00fe49c680754f6acaebab35164098f6d20\",\"timestamp\":1670003158.9508111},{\"amount\":40,\"recipient\":\"2f3532702ecc166ea0b4b1c129d3f913c1c69b0987c818fc5e5f0f440f554c8b\",\"sender\":\"2d9efc41b538e9f418ecf119b1a71c29beea87d9fbde995b2726073c199f66ad\",\"timestamp\":1670003160.9849627},{\"amount\":195,\"recipient\":\"e2fa281fb59fae141752752c640d278af56fa1677a00a0067d2ac8965880f091\",\"sender\":\"8d2617d61db661bae3276550991137e317c1b45d7210f8f12a5340c27291f1a6\",\"timestamp\":1670003163.0209663},{\"amount\":96,\"recipient\":\"9cb89af232da391ced43390624e489ba105458e0cb487f8fd7a8b12f0c701329\",\"sender\":\"1aa1640f66c9e2e901751a1c33c99246912fc3ffbfe809ac29538d78a4942bd9\",\"timestamp\":1670003165.0526605},{\"amount\":0.1,\"recipient\":\"node_5000\",\"sender\":\"master\",\"timestamp\":1670003167.1254005}]},{\"index\":4,\"nonce\":907638,\"previous_hash\":\"76885d66a49afde1372d682ff09ea44429a25e0aa8434be8d868101fa68c3115\",\"timestamp\":1670003171.2086093,\"transactions\":[{\"amount\":18,\"recipient\":\"24a905ff16514caab92441fed3dd69e7e641e0124110b76fc3fa5cffad1caa2b\",\"sender\":\"bcd010cc17e2662d30f3f9c7e79b1993366c27741e3884560db6a3052dd2f84e\",\"timestamp\":1670003169.1485453},{\"amount\":0.1,\"recipient\":\"node_5000\",\"sender\":\"master\",\"timestamp\":1670003171.2076082}]},{\"index\":5,\"nonce\":999030,\"previous_hash\":\"1870fc2f075ce536749a966c8bffa0e4fe5d19cf3f92d7a42e263c188daeb72f\",\"timestamp\":1670003589.4294207,\"transactions\":[{\"amount\":18,\"recipient\":\"e2fa281fb59fae141752752c640d278af56fa1677a00a0\",\"sender\":\"24a905ff16514caab92441fed3dd69e7e641e0124110b76fc3fa5cffad1caa2b\",\"timestamp\":1670003556.4304671},{\"amount\":0.1,\"recipient\":\"node_5000\",\"sender\":\"master\",\"timestamp\":1670003589.4284225}]}],\"length\":5}\n",
      "\n",
      "********\n"
     ]
    },
    {
     "data": {
      "text/html": [
       "<div>\n",
       "<style scoped>\n",
       "    .dataframe tbody tr th:only-of-type {\n",
       "        vertical-align: middle;\n",
       "    }\n",
       "\n",
       "    .dataframe tbody tr th {\n",
       "        vertical-align: top;\n",
       "    }\n",
       "\n",
       "    .dataframe thead th {\n",
       "        text-align: right;\n",
       "    }\n",
       "</style>\n",
       "<table border=\"1\" class=\"dataframe\">\n",
       "  <thead>\n",
       "    <tr style=\"text-align: right;\">\n",
       "      <th></th>\n",
       "      <th>user</th>\n",
       "      <th>received_amount</th>\n",
       "      <th>sended_amount</th>\n",
       "      <th>balance</th>\n",
       "    </tr>\n",
       "  </thead>\n",
       "  <tbody>\n",
       "    <tr>\n",
       "      <th>0</th>\n",
       "      <td>24a905ff16514caab92441fed3dd69e7e641e0124110b7...</td>\n",
       "      <td>18.0</td>\n",
       "      <td>18.0</td>\n",
       "      <td>0.0</td>\n",
       "    </tr>\n",
       "    <tr>\n",
       "      <th>1</th>\n",
       "      <td>2f3532702ecc166ea0b4b1c129d3f913c1c69b0987c818...</td>\n",
       "      <td>40.0</td>\n",
       "      <td>0.0</td>\n",
       "      <td>40.0</td>\n",
       "    </tr>\n",
       "    <tr>\n",
       "      <th>2</th>\n",
       "      <td>9cb89af232da391ced43390624e489ba105458e0cb487f...</td>\n",
       "      <td>96.0</td>\n",
       "      <td>0.0</td>\n",
       "      <td>96.0</td>\n",
       "    </tr>\n",
       "    <tr>\n",
       "      <th>3</th>\n",
       "      <td>cb98707469fbc97f35777b89eb69a7491ac46a26b0e43d...</td>\n",
       "      <td>74.0</td>\n",
       "      <td>0.0</td>\n",
       "      <td>74.0</td>\n",
       "    </tr>\n",
       "    <tr>\n",
       "      <th>4</th>\n",
       "      <td>d80fa0b7f70d0b5abfc4f70353ec944c96021406001fd6...</td>\n",
       "      <td>110.0</td>\n",
       "      <td>0.0</td>\n",
       "      <td>110.0</td>\n",
       "    </tr>\n",
       "    <tr>\n",
       "      <th>5</th>\n",
       "      <td>e2fa281fb59fae141752752c640d278af56fa1677a00a0</td>\n",
       "      <td>18.0</td>\n",
       "      <td>0.0</td>\n",
       "      <td>18.0</td>\n",
       "    </tr>\n",
       "    <tr>\n",
       "      <th>6</th>\n",
       "      <td>e2fa281fb59fae141752752c640d278af56fa1677a00a0...</td>\n",
       "      <td>195.0</td>\n",
       "      <td>0.0</td>\n",
       "      <td>195.0</td>\n",
       "    </tr>\n",
       "    <tr>\n",
       "      <th>7</th>\n",
       "      <td>node_5000</td>\n",
       "      <td>0.4</td>\n",
       "      <td>0.0</td>\n",
       "      <td>0.4</td>\n",
       "    </tr>\n",
       "    <tr>\n",
       "      <th>8</th>\n",
       "      <td>1aa1640f66c9e2e901751a1c33c99246912fc3ffbfe809...</td>\n",
       "      <td>0.0</td>\n",
       "      <td>96.0</td>\n",
       "      <td>-96.0</td>\n",
       "    </tr>\n",
       "    <tr>\n",
       "      <th>9</th>\n",
       "      <td>2d9efc41b538e9f418ecf119b1a71c29beea87d9fbde99...</td>\n",
       "      <td>0.0</td>\n",
       "      <td>40.0</td>\n",
       "      <td>-40.0</td>\n",
       "    </tr>\n",
       "    <tr>\n",
       "      <th>10</th>\n",
       "      <td>8d2617d61db661bae3276550991137e317c1b45d7210f8...</td>\n",
       "      <td>0.0</td>\n",
       "      <td>195.0</td>\n",
       "      <td>-195.0</td>\n",
       "    </tr>\n",
       "    <tr>\n",
       "      <th>11</th>\n",
       "      <td>a28d2d0562eabe427e0572a40c0ff19784e7ec7b889eca...</td>\n",
       "      <td>0.0</td>\n",
       "      <td>74.0</td>\n",
       "      <td>-74.0</td>\n",
       "    </tr>\n",
       "    <tr>\n",
       "      <th>12</th>\n",
       "      <td>bcd010cc17e2662d30f3f9c7e79b1993366c27741e3884...</td>\n",
       "      <td>0.0</td>\n",
       "      <td>18.0</td>\n",
       "      <td>-18.0</td>\n",
       "    </tr>\n",
       "    <tr>\n",
       "      <th>13</th>\n",
       "      <td>ff36a2f62b1ca79ed974d48f1a2bc00fe49c680754f6ac...</td>\n",
       "      <td>0.0</td>\n",
       "      <td>110.0</td>\n",
       "      <td>-110.0</td>\n",
       "    </tr>\n",
       "    <tr>\n",
       "      <th>14</th>\n",
       "      <td>master</td>\n",
       "      <td>0.0</td>\n",
       "      <td>0.4</td>\n",
       "      <td>-0.4</td>\n",
       "    </tr>\n",
       "  </tbody>\n",
       "</table>\n",
       "</div>"
      ],
      "text/plain": [
       "                                                 user  received_amount  \\\n",
       "0   24a905ff16514caab92441fed3dd69e7e641e0124110b7...             18.0   \n",
       "1   2f3532702ecc166ea0b4b1c129d3f913c1c69b0987c818...             40.0   \n",
       "2   9cb89af232da391ced43390624e489ba105458e0cb487f...             96.0   \n",
       "3   cb98707469fbc97f35777b89eb69a7491ac46a26b0e43d...             74.0   \n",
       "4   d80fa0b7f70d0b5abfc4f70353ec944c96021406001fd6...            110.0   \n",
       "5      e2fa281fb59fae141752752c640d278af56fa1677a00a0             18.0   \n",
       "6   e2fa281fb59fae141752752c640d278af56fa1677a00a0...            195.0   \n",
       "7                                           node_5000              0.4   \n",
       "8   1aa1640f66c9e2e901751a1c33c99246912fc3ffbfe809...              0.0   \n",
       "9   2d9efc41b538e9f418ecf119b1a71c29beea87d9fbde99...              0.0   \n",
       "10  8d2617d61db661bae3276550991137e317c1b45d7210f8...              0.0   \n",
       "11  a28d2d0562eabe427e0572a40c0ff19784e7ec7b889eca...              0.0   \n",
       "12  bcd010cc17e2662d30f3f9c7e79b1993366c27741e3884...              0.0   \n",
       "13  ff36a2f62b1ca79ed974d48f1a2bc00fe49c680754f6ac...              0.0   \n",
       "14                                             master              0.0   \n",
       "\n",
       "    sended_amount  balance  \n",
       "0            18.0      0.0  \n",
       "1             0.0     40.0  \n",
       "2             0.0     96.0  \n",
       "3             0.0     74.0  \n",
       "4             0.0    110.0  \n",
       "5             0.0     18.0  \n",
       "6             0.0    195.0  \n",
       "7             0.0      0.4  \n",
       "8            96.0    -96.0  \n",
       "9            40.0    -40.0  \n",
       "10          195.0   -195.0  \n",
       "11           74.0    -74.0  \n",
       "12           18.0    -18.0  \n",
       "13          110.0   -110.0  \n",
       "14            0.4     -0.4  "
      ]
     },
     "execution_count": 14,
     "metadata": {},
     "output_type": "execute_result"
    }
   ],
   "source": [
    "    headers = {'Content-Type' : 'application/json; charset=utf-8'}\n",
    "    res = requests.get(\"http://localhost:5000/chain\", headers=headers)\n",
    "    print(res.text )\n",
    "    print(\"*\"*8)\n",
    "    status_json = json.loads(res.text)\n",
    "    status_json['chain']    \n",
    "    tx_amount_l = []\n",
    "    tx_sender_l = []\n",
    "    tx_reciv_l  = []\n",
    "    tx_time_l   = []\n",
    "\n",
    "    for chain_index in range(len(status_json['chain'])):\n",
    "        chain_tx = status_json['chain'][chain_index]['transactions']\n",
    "        for each_tx in range(len(chain_tx)):\n",
    "            tx_amount_l.append(chain_tx[each_tx]['amount'])\n",
    "            tx_sender_l.append(chain_tx[each_tx]['sender'])\n",
    "            tx_reciv_l.append(chain_tx[each_tx]['recipient'])\n",
    "            tx_time_l.append(chain_tx[each_tx]['timestamp'])\n",
    "\n",
    "    df_tx = pd.DataFrame()\n",
    "    df_tx['timestamp'] = tx_time_l  \n",
    "    df_tx['sender'] = tx_sender_l \n",
    "    df_tx['recipient'] = tx_reciv_l\n",
    "    df_tx['amount'] = tx_amount_l   \n",
    "    df_tx\n",
    "\n",
    "\n",
    "\n",
    "    df_sended = pd.DataFrame(df_tx.groupby('sender')['amount'].sum()).reset_index()\n",
    "    df_sended.columns = ['user','sended_amount']\n",
    "    df_received= pd.DataFrame(df_tx.groupby('recipient')['amount'].sum()).reset_index()\n",
    "    df_received.columns = ['user','received_amount']\n",
    "    df_received\n",
    "    \n",
    "    df_status = pd.merge(df_received,df_sended, on ='user', how=  'outer').fillna(0)\n",
    "    df_status['balance'] = df_status['received_amount']  - df_status['sended_amount']  \n",
    "    df_status\n"
   ]
  },
  {
   "cell_type": "code",
   "execution_count": 1,
   "id": "bf6a8352",
   "metadata": {
    "scrolled": true
   },
   "outputs": [
    {
     "name": "stdout",
     "output_type": "stream",
     "text": [
      " * Serving Flask app \"__main__\" (lazy loading)\n",
      " * Environment: production\n",
      "   WARNING: This is a development server. Do not use it in a production deployment.\n",
      "   Use a production WSGI server instead.\n",
      " * Debug mode: off\n"
     ]
    },
    {
     "name": "stderr",
     "output_type": "stream",
     "text": [
      " * Running on http://127.0.0.1:8081/ (Press CTRL+C to quit)\n",
      "127.0.0.1 - - [04/Dec/2022 17:15:20] \"\u001b[37mGET / HTTP/1.1\u001b[0m\" 200 -\n"
     ]
    }
   ],
   "source": [
    "from flask import Flask\n",
    "from datetime import datetime\n",
    "from flask import render_template\n",
    "from flask import request\n",
    "from flask import url_for\n",
    "from flask import redirect\n",
    "\n",
    "import requests\n",
    "import json\n",
    "import os\n",
    "import pandas as pd\n",
    "\n",
    "\n",
    "app = Flask(__name__, template_folder=os.getcwd())\n",
    "\n",
    "@app.route('/', methods=['GET', 'POST'])\n",
    "def login():\n",
    "\n",
    "    if request.method=='POST':\n",
    "        print(\"login 버튼을 누름\")\n",
    "        input_value = request.form.to_dict(flat=False)\n",
    "        print(\"login 지갑주소 : \" , input_value)\n",
    "        \n",
    "        ### 기존 user 정보 확인\n",
    "        headers = {'Content-Type' : 'application/json; charset=utf-8'}\n",
    "        res = requests.get(\"http://localhost:5000/chain\", headers=headers)\n",
    "#         print(res.text )\n",
    "        print(\"*\"*8)\n",
    "        status_json = json.loads(res.text)\n",
    "        status_json['chain']    \n",
    "        tx_amount_l = []\n",
    "        tx_sender_l = []\n",
    "        tx_reciv_l  = []\n",
    "        tx_time_l   = []\n",
    "\n",
    "        for chain_index in range(len(status_json['chain'])):\n",
    "            chain_tx = status_json['chain'][chain_index]['transactions']\n",
    "            for each_tx in range(len(chain_tx)):\n",
    "                tx_amount_l.append(chain_tx[each_tx]['amount'])\n",
    "                tx_sender_l.append(chain_tx[each_tx]['sender'])\n",
    "                tx_reciv_l.append(chain_tx[each_tx]['recipient'])\n",
    "                tx_time_l.append(chain_tx[each_tx]['timestamp'])\n",
    "\n",
    "        df_tx = pd.DataFrame()\n",
    "        df_tx['timestamp'] = tx_time_l  \n",
    "        df_tx['sender'] = tx_sender_l \n",
    "        df_tx['recipient'] = tx_reciv_l\n",
    "        df_tx['amount'] = tx_amount_l   \n",
    "        df_tx\n",
    "\n",
    "\n",
    "\n",
    "        df_sended = pd.DataFrame(df_tx.groupby('sender')['amount'].sum()).reset_index()\n",
    "        df_sended.columns = ['user','sended_amount']\n",
    "        df_received= pd.DataFrame(df_tx.groupby('recipient')['amount'].sum()).reset_index()\n",
    "        df_received.columns = ['user','received_amount']\n",
    "        df_received\n",
    "\n",
    "        df_status = pd.merge(df_received,df_sended, on ='user', how=  'outer').fillna(0)\n",
    "        df_status['balance'] = df_status['received_amount']  - df_status['sended_amount']  \n",
    "        df_status       \n",
    "    \n",
    "    \n",
    "        if (df_status['user']==input_value['wallet_id'][0] ).sum() == 1:\n",
    "            print(\"로그인성공\")\n",
    "            return render_template(\"wallet.html\",  wallet_id = input_value['wallet_id'][0], \n",
    "                                                    wallet_value = df_status[df_status['user']== df_status['user'].iloc[0]]['balance'].iloc[0])\n",
    "        else:\n",
    "            return \"잘못된 지갑주소입니다.\"\n",
    "        \n",
    "    return render_template('login.html')\n",
    "\n",
    "@app.route('/wallet', methods=['GET', 'POST'])\n",
    "def wallet():\n",
    "    if request.method=='POST':\n",
    "        send_value = int(request.form.to_dict(flat=False)['send_value'][0] )\n",
    "        send_target = request.form.to_dict(flat=False)['send_target'][0]\n",
    "        send_from = request.form.to_dict(flat=False)['send_from'][0]\n",
    "        print(\"123123 : \" ,send_from)\n",
    "        \n",
    "        if send_value > 0:\n",
    "            print(send_value)\n",
    "            ## transaction 입력하기\n",
    "            headers = {'Content-Type' : 'application/json; charset=utf-8'}\n",
    "            data = {\n",
    "                \"sender\": send_from,\n",
    "                \"recipient\": send_target,\n",
    "                \"amount\": send_value,\n",
    "            }\n",
    "            requests.post(\"http://localhost:5000/transactions/new\", headers=headers, data=json.dumps(data)).content\n",
    "\n",
    "            return \"전송 완료!\"\n",
    "\n",
    "        else:\n",
    "            return \"0 pyBTC 이상 보내주세요!\"\n",
    "\n",
    "        \n",
    "        \n",
    "    return render_template('wallet.html')\n",
    "    \n",
    "    \n",
    "    \n",
    "app.run(port=8081)\n"
   ]
  },
  {
   "cell_type": "code",
   "execution_count": 12,
   "id": "61c9d811",
   "metadata": {},
   "outputs": [
    {
     "data": {
      "text/plain": [
       "1"
      ]
     },
     "execution_count": 12,
     "metadata": {},
     "output_type": "execute_result"
    }
   ],
   "source": [
    "        if (df_received['user']==input_value['wallet_id'][0] ).sum() == 1:\n",
    "            print(\"로그인성공\")\n",
    "            return \"로그인성공!!!!!!\""
   ]
  },
  {
   "cell_type": "code",
   "execution_count": 6,
   "id": "825917aa",
   "metadata": {},
   "outputs": [
    {
     "data": {
      "text/plain": [
       "'0159188535cfea794788f455dcb88969aed597336b6168ae39c72cc615f77420'"
      ]
     },
     "execution_count": 6,
     "metadata": {},
     "output_type": "execute_result"
    }
   ],
   "source": [
    " df_received['user'].iloc[0]"
   ]
  },
  {
   "cell_type": "code",
   "execution_count": 15,
   "id": "76ffd63f",
   "metadata": {},
   "outputs": [
    {
     "data": {
      "text/plain": [
       "40.0"
      ]
     },
     "execution_count": 15,
     "metadata": {},
     "output_type": "execute_result"
    }
   ],
   "source": [
    "df_received[df_received['user']== df_received['user'].iloc[0]]['received_amount'].iloc[0]"
   ]
  },
  {
   "cell_type": "code",
   "execution_count": null,
   "id": "7c9008fe",
   "metadata": {},
   "outputs": [],
   "source": [
    "788490d516fac98d48a2c7bd6ad73e0c183de30a1ccf048c5cc50345aeaaa03b"
   ]
  },
  {
   "cell_type": "code",
   "execution_count": null,
   "id": "43140b37",
   "metadata": {},
   "outputs": [],
   "source": []
  },
  {
   "cell_type": "code",
   "execution_count": null,
   "id": "2b3651a0",
   "metadata": {},
   "outputs": [],
   "source": []
  }
 ],
 "metadata": {
  "kernelspec": {
   "display_name": "Python 3",
   "language": "python",
   "name": "python3"
  },
  "language_info": {
   "codemirror_mode": {
    "name": "ipython",
    "version": 3
   },
   "file_extension": ".py",
   "mimetype": "text/x-python",
   "name": "python",
   "nbconvert_exporter": "python",
   "pygments_lexer": "ipython3",
   "version": "3.8.8"
  }
 },
 "nbformat": 4,
 "nbformat_minor": 5
}
