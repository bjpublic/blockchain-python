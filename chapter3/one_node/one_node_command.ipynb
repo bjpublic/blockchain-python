{
 "cells": [
  {
   "cell_type": "code",
   "execution_count": 13,
   "id": "e4397b59",
   "metadata": {},
   "outputs": [],
   "source": [
    "import requests\n",
    "import json\n",
    "import pandas as pd\n",
    "import hashlib # hash 함수용 sha256 사용할 라이브러리\n",
    "import random"
   ]
  },
  {
   "cell_type": "markdown",
   "id": "4a2c3864",
   "metadata": {},
   "source": [
    "## 노드의 블록 정보 확인"
   ]
  },
  {
   "cell_type": "code",
   "execution_count": 14,
   "id": "26d585ba",
   "metadata": {},
   "outputs": [
    {
     "data": {
      "text/plain": [
       "{'chain': [{'index': 1,\n",
       "   'nonce': 100,\n",
       "   'previous_hash': 1,\n",
       "   'timestamp': 1671776350.615425,\n",
       "   'transactions': []}],\n",
       " 'length': 1}"
      ]
     },
     "execution_count": 14,
     "metadata": {},
     "output_type": "execute_result"
    }
   ],
   "source": [
    "headers = {'Content-Type' : 'application/json; charset=utf-8'}\n",
    "res = requests.get(\"http://localhost:5000/chain\", headers=headers)\n",
    "json.loads(res.content)"
   ]
  },
  {
   "cell_type": "markdown",
   "id": "22f62fb1",
   "metadata": {},
   "source": [
    "## transaction 입력하기"
   ]
  },
  {
   "cell_type": "code",
   "execution_count": 15,
   "id": "fe3958ef",
   "metadata": {},
   "outputs": [
    {
     "data": {
      "text/plain": [
       "b'{\"message\":\"Transaction will be added to Block {2}\"}\\n'"
      ]
     },
     "execution_count": 15,
     "metadata": {},
     "output_type": "execute_result"
    }
   ],
   "source": [
    "headers = {'Content-Type' : 'application/json; charset=utf-8'}\n",
    "data = {\n",
    "        \"sender\": \"test_from\",\n",
    "        \"recipient\": \"test_to\",\n",
    "        \"amount\": 3,\n",
    "        \"smart_contract\": {\"contract_address\":\"myaddress\"}\n",
    "}\n",
    "requests.post(\"http://localhost:5000/transactions/new\", headers=headers, data=json.dumps(data)).content"
   ]
  },
  {
   "cell_type": "markdown",
   "id": "8ffed183",
   "metadata": {},
   "source": [
    "## 노드의 블록정보 확인 - 2"
   ]
  },
  {
   "cell_type": "code",
   "execution_count": 16,
   "id": "cd862740",
   "metadata": {},
   "outputs": [
    {
     "data": {
      "text/plain": [
       "{'chain': [{'index': 1,\n",
       "   'nonce': 100,\n",
       "   'previous_hash': 1,\n",
       "   'timestamp': 1671776350.615425,\n",
       "   'transactions': []}],\n",
       " 'length': 1}"
      ]
     },
     "execution_count": 16,
     "metadata": {},
     "output_type": "execute_result"
    }
   ],
   "source": [
    "headers = {'Content-Type' : 'application/json; charset=utf-8'}\n",
    "res = requests.get(\"http://localhost:5000/chain\", headers=headers)\n",
    "json.loads(res.content)"
   ]
  },
  {
   "cell_type": "markdown",
   "id": "de078099",
   "metadata": {},
   "source": [
    "##  채굴하기 - 1"
   ]
  },
  {
   "cell_type": "code",
   "execution_count": 17,
   "id": "ca6e8f84",
   "metadata": {},
   "outputs": [
    {
     "name": "stdout",
     "output_type": "stream",
     "text": [
      "<Response [200]>\n"
     ]
    }
   ],
   "source": [
    "headers = {'Content-Type' : 'application/json; charset=utf-8'}\n",
    "res = requests.get(\"http://localhost:5000/mine\")\n",
    "print(res)"
   ]
  },
  {
   "cell_type": "markdown",
   "id": "a8f956fe",
   "metadata": {},
   "source": [
    "## 노드의 블록정보 확인 - 3"
   ]
  },
  {
   "cell_type": "code",
   "execution_count": 18,
   "id": "17f93c4a",
   "metadata": {},
   "outputs": [
    {
     "data": {
      "text/plain": [
       "{'chain': [{'index': 1,\n",
       "   'nonce': 100,\n",
       "   'previous_hash': 1,\n",
       "   'timestamp': 1671776350.615425,\n",
       "   'transactions': []},\n",
       "  {'index': 2,\n",
       "   'nonce': 331633,\n",
       "   'previous_hash': '25a5c3d5d8db13f7be45610326e64bcff88923f17d917abb7a7dfc962fd9dd7f',\n",
       "   'timestamp': 1671776421.2989593,\n",
       "   'transactions': [{'amount': 3,\n",
       "     'recipient': 'test_to',\n",
       "     'sender': 'test_from',\n",
       "     'smart_contract': {'contract_address': 'myaddress'},\n",
       "     'timestamp': 1671776417.166413},\n",
       "    {'amount': 0.1,\n",
       "     'recipient': 'node_5000',\n",
       "     'sender': 'master',\n",
       "     'smart_contract': {'contract_address': 'mining_profit'},\n",
       "     'timestamp': 1671776421.2989593}]}],\n",
       " 'length': 2}"
      ]
     },
     "execution_count": 18,
     "metadata": {},
     "output_type": "execute_result"
    }
   ],
   "source": [
    "headers = {'Content-Type' : 'application/json; charset=utf-8'}\n",
    "res = requests.get(\"http://localhost:5000/chain\", headers=headers)\n",
    "json.loads(res.content)"
   ]
  },
  {
   "cell_type": "markdown",
   "id": "cff38e24",
   "metadata": {},
   "source": [
    "## transaction 입력하기 -2  / 채굴 / 블록정보 확인"
   ]
  },
  {
   "cell_type": "code",
   "execution_count": 25,
   "id": "a1355a99",
   "metadata": {
    "scrolled": false
   },
   "outputs": [
    {
     "name": "stdout",
     "output_type": "stream",
     "text": [
      "<Response [200]>\n"
     ]
    }
   ],
   "source": [
    "## transaction 입력하기 -2\n",
    "headers = {'Content-Type' : 'application/json; charset=utf-8'}\n",
    "data = {\n",
    "        \"sender\": \"test_from\",\n",
    "        \"recipient\": \"test_to2\",\n",
    "    \"amount\": 30,\n",
    "}\n",
    "requests.post(\"http://localhost:5000/transactions/new\", headers=headers, data=json.dumps(data)).content\n",
    "\n",
    "## transaction3 입력하기\n",
    "headers = {'Content-Type' : 'application/json; charset=utf-8'}\n",
    "data = {\n",
    "        \"sender\": \"test_from\",\n",
    "        \"recipient\": \"test_to3\",\n",
    "    \"amount\": 300,\n",
    "}\n",
    "requests.post(\"http://localhost:5000/transactions/new\", headers=headers, data=json.dumps(data)).content\n",
    "\n",
    "##  채굴하기\n",
    "headers = {'Content-Type' : 'application/json; charset=utf-8'}\n",
    "res = requests.get(\"http://localhost:5000/mine\")\n",
    "print(res)\n",
    "\n",
    "## 노드의 블록정보 확인 - 4\n",
    "headers = {'Content-Type' : 'application/json; charset=utf-8'}\n",
    "res = requests.get(\"http://localhost:5000/chain\", headers=headers)"
   ]
  },
  {
   "cell_type": "code",
   "execution_count": 26,
   "id": "748b946c",
   "metadata": {},
   "outputs": [
    {
     "data": {
      "text/plain": [
       "'{\"chain\":[{\"index\":1,\"nonce\":100,\"previous_hash\":1,\"timestamp\":1670135208.6944222,\"transactions\":[]},{\"index\":2,\"nonce\":-844297,\"previous_hash\":\"7c62c824701f0dbccee9b6c621917e89a69fb8e24087bfaf1054a3a465b5db84\",\"timestamp\":1670135305.4202778,\"transactions\":[{\"amount\":3,\"recipient\":\"test_to\",\"sender\":\"test_from\",\"timestamp\":1670135301.2886367},{\"amount\":0.1,\"recipient\":\"node_5000\",\"sender\":\"master\",\"timestamp\":1670135305.4202778}]},{\"index\":3,\"nonce\":204168,\"previous_hash\":\"9c6be753a014410e60b8e1a41b988fe564382b9e369688ee714f17a3f54d74e4\",\"timestamp\":1670135313.691937,\"transactions\":[{\"amount\":30,\"recipient\":\"test_to2\",\"sender\":\"test_from\",\"timestamp\":1670135309.5391397},{\"amount\":300,\"recipient\":\"test_to3\",\"sender\":\"test_from\",\"timestamp\":1670135311.602241},{\"amount\":0.1,\"recipient\":\"node_5000\",\"sender\":\"master\",\"timestamp\":1670135313.691937}]}],\"length\":3}\\n'"
      ]
     },
     "execution_count": 26,
     "metadata": {},
     "output_type": "execute_result"
    }
   ],
   "source": [
    "res.text"
   ]
  },
  {
   "cell_type": "markdown",
   "id": "6d68c4a3",
   "metadata": {},
   "source": [
    "## Pandas 를 활용한 거래내역 조회"
   ]
  },
  {
   "cell_type": "code",
   "execution_count": 27,
   "id": "fb5a1c13",
   "metadata": {},
   "outputs": [
    {
     "data": {
      "text/html": [
       "<div>\n",
       "<style scoped>\n",
       "    .dataframe tbody tr th:only-of-type {\n",
       "        vertical-align: middle;\n",
       "    }\n",
       "\n",
       "    .dataframe tbody tr th {\n",
       "        vertical-align: top;\n",
       "    }\n",
       "\n",
       "    .dataframe thead th {\n",
       "        text-align: right;\n",
       "    }\n",
       "</style>\n",
       "<table border=\"1\" class=\"dataframe\">\n",
       "  <thead>\n",
       "    <tr style=\"text-align: right;\">\n",
       "      <th></th>\n",
       "      <th>timestamp</th>\n",
       "      <th>sender</th>\n",
       "      <th>recipient</th>\n",
       "      <th>amount</th>\n",
       "    </tr>\n",
       "  </thead>\n",
       "  <tbody>\n",
       "    <tr>\n",
       "      <th>0</th>\n",
       "      <td>1.670135e+09</td>\n",
       "      <td>test_from</td>\n",
       "      <td>test_to</td>\n",
       "      <td>3.0</td>\n",
       "    </tr>\n",
       "    <tr>\n",
       "      <th>1</th>\n",
       "      <td>1.670135e+09</td>\n",
       "      <td>master</td>\n",
       "      <td>node_5000</td>\n",
       "      <td>0.1</td>\n",
       "    </tr>\n",
       "    <tr>\n",
       "      <th>2</th>\n",
       "      <td>1.670135e+09</td>\n",
       "      <td>test_from</td>\n",
       "      <td>test_to2</td>\n",
       "      <td>30.0</td>\n",
       "    </tr>\n",
       "    <tr>\n",
       "      <th>3</th>\n",
       "      <td>1.670135e+09</td>\n",
       "      <td>test_from</td>\n",
       "      <td>test_to3</td>\n",
       "      <td>300.0</td>\n",
       "    </tr>\n",
       "    <tr>\n",
       "      <th>4</th>\n",
       "      <td>1.670135e+09</td>\n",
       "      <td>master</td>\n",
       "      <td>node_5000</td>\n",
       "      <td>0.1</td>\n",
       "    </tr>\n",
       "  </tbody>\n",
       "</table>\n",
       "</div>"
      ],
      "text/plain": [
       "      timestamp     sender  recipient  amount\n",
       "0  1.670135e+09  test_from    test_to     3.0\n",
       "1  1.670135e+09     master  node_5000     0.1\n",
       "2  1.670135e+09  test_from   test_to2    30.0\n",
       "3  1.670135e+09  test_from   test_to3   300.0\n",
       "4  1.670135e+09     master  node_5000     0.1"
      ]
     },
     "execution_count": 27,
     "metadata": {},
     "output_type": "execute_result"
    }
   ],
   "source": [
    "status_json = json.loads(res.text)\n",
    "status_json['chain']    \n",
    "tx_amount_l = []\n",
    "tx_sender_l = []\n",
    "tx_reciv_l  = []\n",
    "tx_time_l   = []\n",
    "\n",
    "for chain_index in range(len(status_json['chain'])):\n",
    "    chain_tx = status_json['chain'][chain_index]['transactions']\n",
    "    for each_tx in range(len(chain_tx)):\n",
    "        tx_amount_l.append(chain_tx[each_tx]['amount'])\n",
    "        tx_sender_l.append(chain_tx[each_tx]['sender'])\n",
    "        tx_reciv_l.append(chain_tx[each_tx]['recipient'])\n",
    "        tx_time_l.append(chain_tx[each_tx]['timestamp'])\n",
    "\n",
    "df_tx = pd.DataFrame()\n",
    "df_tx['timestamp'] = tx_time_l  \n",
    "df_tx['sender'] = tx_sender_l \n",
    "df_tx['recipient'] = tx_reciv_l\n",
    "df_tx['amount'] = tx_amount_l   \n",
    "df_tx"
   ]
  },
  {
   "cell_type": "markdown",
   "id": "39389b1c",
   "metadata": {},
   "source": [
    "## 거래내역 기반 계정별 잔액 조회"
   ]
  },
  {
   "cell_type": "code",
   "execution_count": 16,
   "id": "ff011825",
   "metadata": {},
   "outputs": [
    {
     "data": {
      "text/html": [
       "<div>\n",
       "<style scoped>\n",
       "    .dataframe tbody tr th:only-of-type {\n",
       "        vertical-align: middle;\n",
       "    }\n",
       "\n",
       "    .dataframe tbody tr th {\n",
       "        vertical-align: top;\n",
       "    }\n",
       "\n",
       "    .dataframe thead th {\n",
       "        text-align: right;\n",
       "    }\n",
       "</style>\n",
       "<table border=\"1\" class=\"dataframe\">\n",
       "  <thead>\n",
       "    <tr style=\"text-align: right;\">\n",
       "      <th></th>\n",
       "      <th>user</th>\n",
       "      <th>received_amount</th>\n",
       "      <th>sended_amount</th>\n",
       "      <th>balance</th>\n",
       "    </tr>\n",
       "  </thead>\n",
       "  <tbody>\n",
       "    <tr>\n",
       "      <th>0</th>\n",
       "      <td>node_5000</td>\n",
       "      <td>0.3</td>\n",
       "      <td>0.0</td>\n",
       "      <td>0.3</td>\n",
       "    </tr>\n",
       "    <tr>\n",
       "      <th>1</th>\n",
       "      <td>test_to</td>\n",
       "      <td>6.0</td>\n",
       "      <td>0.0</td>\n",
       "      <td>6.0</td>\n",
       "    </tr>\n",
       "    <tr>\n",
       "      <th>2</th>\n",
       "      <td>test_to2</td>\n",
       "      <td>30.0</td>\n",
       "      <td>0.0</td>\n",
       "      <td>30.0</td>\n",
       "    </tr>\n",
       "    <tr>\n",
       "      <th>3</th>\n",
       "      <td>test_to3</td>\n",
       "      <td>300.0</td>\n",
       "      <td>0.0</td>\n",
       "      <td>300.0</td>\n",
       "    </tr>\n",
       "    <tr>\n",
       "      <th>4</th>\n",
       "      <td>master</td>\n",
       "      <td>0.0</td>\n",
       "      <td>0.3</td>\n",
       "      <td>-0.3</td>\n",
       "    </tr>\n",
       "    <tr>\n",
       "      <th>5</th>\n",
       "      <td>test_from</td>\n",
       "      <td>0.0</td>\n",
       "      <td>336.0</td>\n",
       "      <td>-336.0</td>\n",
       "    </tr>\n",
       "  </tbody>\n",
       "</table>\n",
       "</div>"
      ],
      "text/plain": [
       "        user  received_amount  sended_amount  balance\n",
       "0  node_5000              0.3            0.0      0.3\n",
       "1    test_to              6.0            0.0      6.0\n",
       "2   test_to2             30.0            0.0     30.0\n",
       "3   test_to3            300.0            0.0    300.0\n",
       "4     master              0.0            0.3     -0.3\n",
       "5  test_from              0.0          336.0   -336.0"
      ]
     },
     "execution_count": 16,
     "metadata": {},
     "output_type": "execute_result"
    }
   ],
   "source": [
    "df_sended = pd.DataFrame(df_tx.groupby('sender')['amount'].sum()).reset_index()\n",
    "df_sended.columns = ['user','sended_amount']\n",
    "df_received= pd.DataFrame(df_tx.groupby('recipient')['amount'].sum()).reset_index()\n",
    "df_received.columns = ['user','received_amount']\n",
    "df_received\n",
    "\n",
    "df_status = pd.merge(df_received,df_sended, on ='user', how=  'outer').fillna(0)\n",
    "df_status['balance'] = df_status['received_amount']  - df_status['sended_amount']  \n",
    "df_status"
   ]
  }
 ],
 "metadata": {
  "kernelspec": {
   "display_name": "Python 3",
   "language": "python",
   "name": "python3"
  },
  "language_info": {
   "codemirror_mode": {
    "name": "ipython",
    "version": 3
   },
   "file_extension": ".py",
   "mimetype": "text/x-python",
   "name": "python",
   "nbconvert_exporter": "python",
   "pygments_lexer": "ipython3",
   "version": "3.8.8"
  }
 },
 "nbformat": 4,
 "nbformat_minor": 5
}
