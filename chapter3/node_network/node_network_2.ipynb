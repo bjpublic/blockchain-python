{
 "cells": [
  {
   "cell_type": "markdown",
   "id": "09d52509",
   "metadata": {},
   "source": [
    "## 관련 패키지 import"
   ]
  },
  {
   "cell_type": "code",
   "execution_count": 1,
   "id": "6787859c",
   "metadata": {},
   "outputs": [],
   "source": [
    "import hashlib # hash 함수용 sha256 사용할 라이브러리\n",
    "import json\n",
    "from time import time\n",
    "import random\n",
    "import requests\n",
    "from flask import Flask, request, jsonify\n",
    "\n",
    "## Node network를 위해 추가로 import 되는 함수\n",
    "from urllib.parse import urlparse"
   ]
  },
  {
   "cell_type": "markdown",
   "id": "16221830",
   "metadata": {},
   "source": [
    "## Blockchain 객채 생성"
   ]
  },
  {
   "cell_type": "code",
   "execution_count": 2,
   "id": "455e3708",
   "metadata": {},
   "outputs": [],
   "source": [
    "class Blockchain(object):\n",
    "    \n",
    "    def __init__(self):\n",
    "        self.chain = []                                   # chain에 여러 block들 들어옴\n",
    "        self.current_transaction = []                     # 임시 transaction 넣어줌\n",
    "        self.nodes = set()                                # Node 목록을 보관\n",
    "        self.new_block(previous_hash=1, proof=100)        # genesis block 생성\n",
    "\n",
    "    @staticmethod\n",
    "    def hash(block):\n",
    "        block_string = json.dumps(block, sort_keys=True).encode() \n",
    "        return hashlib.sha256(block_string).hexdigest()   # hash 라이브러리로 sha256 사용\n",
    "    @property\n",
    "    def last_block(self):\n",
    "        return self.chain[-1]                             # 체인의 마지막 블록 가져오기!!\n",
    "\n",
    "    @staticmethod\n",
    "    def valid_proof(last_proof, proof):\n",
    "        guess = str(last_proof + proof).encode()          # 전 proof와 구할 proof 문자열 연결\n",
    "        guess_hash = hashlib.sha256(guess).hexdigest()    # 이 hash 값 저장\n",
    "        return guess_hash[:4] == \"0000\"                  # 앞 4자리가 0000 이면 True (알맞은 nonce값을 찾음)\n",
    "\n",
    "    def pow(self, last_proof):\n",
    "        proof = random.randint(-1000000,1000000)\n",
    "        while self.valid_proof(last_proof, proof) is False: # valid proof 함수 활용(아래 나옴), 맞을 때까지 반복적으로 검증\n",
    "            proof = random.randint(-1000000,1000000)\n",
    "        print(\"final+proof : \", proof)\n",
    "        return proof\n",
    "\n",
    "    def new_transaction(self, sender, recipient, amount):\n",
    "        self.current_transaction.append(\n",
    "            {\n",
    "                'sender' : sender, # 송신자\n",
    "                'recipient' : recipient, # 수신자\n",
    "                'amount' : amount, # 금액\n",
    "                'timestamp':time()\n",
    "            }\n",
    "        )\n",
    "        return self.last_block['index'] + 1   \n",
    "\n",
    "    def new_block(self, proof, previous_hash=None):\n",
    "        block = {\n",
    "            'index' : len(self.chain)+1,\n",
    "            'timestamp' : time(), # timestamp from 1970\n",
    "            'transactions' : self.current_transaction,\n",
    "            'nonce' : proof,\n",
    "            'previous_hash' : previous_hash or self.hash(self.chain[-1]),\n",
    "        }\n",
    "        self.current_transaction = []\n",
    "        self.chain.append(block)     \n",
    "        return block\n",
    "\n",
    "    def valid_chain(self, chain):\n",
    "        last_block = chain[0] \n",
    "        current_index = 1\n",
    "\n",
    "        while current_index < len(chain): \n",
    "            block = chain[current_index]\n",
    "            print('%s' % last_block)\n",
    "            print('%s' % block)\n",
    "            print(\"\\n--------\\n\")\n",
    "            if block['previous_hash'] != self.hash(last_block):\n",
    "                return False\n",
    "            last_block = block\n",
    "            current_index += 1\n",
    "        return True\n",
    "    \n",
    "    ## node 연결을 위해 추가되는 부분!!\n",
    "    \n",
    "    def register_node(self, address): # url 주소를 넣게 됨\n",
    "        parsed_url = urlparse(address)\n",
    "        self.nodes.add(parsed_url.netloc) # set 자료형태 안에 목록을 저장\n",
    "        \n",
    "        \n",
    "    ## resolve_conflicts 라는 함수로 다른노드와 블록길이를 비교 , 더 긴 블록을 인정한다.\n",
    "    def resolve_conflicts(self):\n",
    "        neighbours = self.nodes # 구동되는 노드들을 저장\n",
    "        new_block = None\n",
    "\n",
    "        max_length = len(self.chain) # 내 블록의 길이 저장\n",
    "        for node in neighbours:\n",
    "            node_url = \"http://\" + str(node.replace(\"0.0.0.0\",\"localhost\")) + '/chain' # url을 받아서 request 통해 체인 정보 저장\n",
    "            response = requests.get(node_url)\n",
    "            if response.status_code == 200: # 정상적으로 웹페이지와 교류가 되면 그 정보 저장\n",
    "                length = response.json()['length']\n",
    "                chain = response.json()['chain']\n",
    "                ## 다른노드의 길이(length)가 내 노드의 길이(max_length) 보다 길고 and 내 채인이 유효한 경우\n",
    "                if length > max_length and self.valid_chain(chain): # 긴 체인을 비교 >> 제일 긴 블록이 인정된다\n",
    "                    max_length = length\n",
    "                    ##  기존 노드의 정보보다 받은 정보가 최신이다. 전송 받은 블록 정보를 new_block 넣는다\n",
    "                    new_block = chain\n",
    "                ## 다른노드의 길이(length)가 내 노드의 길이(max_length) 보다 짧거나 or 내 체인이 유효하지 않은경우 \n",
    "                else:\n",
    "                    1==1  # 별도 작업 불필요\n",
    "            if new_block != None:\n",
    "                self.chain = new_block  # 기존 블록 정보가 잘못된 것을 인정하고 검증된 블록정보로 바꾼다.\n",
    "                return True\n",
    "\n",
    "            return False"
   ]
  },
  {
   "cell_type": "markdown",
   "id": "cccc5e32",
   "metadata": {},
   "source": [
    "## Blockchain 객채를 기반으로 노드 생성"
   ]
  },
  {
   "cell_type": "code",
   "execution_count": 3,
   "id": "fdd2e589",
   "metadata": {},
   "outputs": [],
   "source": [
    "blockchain = Blockchain()\n",
    "my_ip = 'localhost'\n",
    "my_port = '5001'\n",
    "node_identifier = 'node_'+my_port\n",
    "mine_owner = 'master'\n",
    "mine_profit = 0.1"
   ]
  },
  {
   "cell_type": "code",
   "execution_count": null,
   "id": "2228cdbe",
   "metadata": {
    "scrolled": false
   },
   "outputs": [
    {
     "name": "stdout",
     "output_type": "stream",
     "text": [
      " * Serving Flask app \"__main__\" (lazy loading)\n",
      " * Environment: production\n",
      "   WARNING: This is a development server. Do not use it in a production deployment.\n",
      "   Use a production WSGI server instead.\n",
      " * Debug mode: off\n"
     ]
    },
    {
     "name": "stderr",
     "output_type": "stream",
     "text": [
      " * Running on http://localhost:5001/ (Press CTRL+C to quit)\n",
      "127.0.0.1 - - [05/Dec/2022 02:20:14] \"\u001b[37mGET /chain HTTP/1.1\u001b[0m\" 200 -\n"
     ]
    },
    {
     "name": "stdout",
     "output_type": "stream",
     "text": [
      "chain info requested!!\n",
      "register nodes !!! :  {'nodes': 'http://localhost:5000'}\n",
      "MY NODE INFO  http://localhost:5001\n"
     ]
    },
    {
     "name": "stderr",
     "output_type": "stream",
     "text": [
      "127.0.0.1 - - [05/Dec/2022 02:20:22] \"\u001b[37mPOST /nodes/register HTTP/1.1\u001b[0m\" 201 -\n"
     ]
    },
    {
     "name": "stdout",
     "output_type": "stream",
     "text": [
      "register nodes !!! :  {'nodes': 'http://localhost:5002'}\n",
      "MY NODE INFO  http://localhost:5001\n"
     ]
    },
    {
     "name": "stderr",
     "output_type": "stream",
     "text": [
      "127.0.0.1 - - [05/Dec/2022 02:20:34] \"\u001b[37mPOST /nodes/register HTTP/1.1\u001b[0m\" 201 -\n"
     ]
    },
    {
     "name": "stdout",
     "output_type": "stream",
     "text": [
      "register nodes !!! :  {'nodes': 'http://localhost:5002'}\n",
      "Node already registered\n",
      "add_node :  localhost:5000\n"
     ]
    },
    {
     "name": "stderr",
     "output_type": "stream",
     "text": [
      "127.0.0.1 - - [05/Dec/2022 02:20:38] \"\u001b[37mPOST /nodes/register HTTP/1.1\u001b[0m\" 201 -\n",
      "127.0.0.1 - - [05/Dec/2022 02:20:42] \"\u001b[37mPOST /transactions/new HTTP/1.1\u001b[0m\" 201 -\n"
     ]
    },
    {
     "name": "stdout",
     "output_type": "stream",
     "text": [
      "transactions_new!!! :  {'sender': 'test_from', 'recipient': 'test_to', 'amount': 3, 'type': 'sharing'}\n"
     ]
    },
    {
     "name": "stderr",
     "output_type": "stream",
     "text": [
      "127.0.0.1 - - [05/Dec/2022 02:20:54] \"\u001b[37mGET /chain HTTP/1.1\u001b[0m\" 200 -\n"
     ]
    },
    {
     "name": "stdout",
     "output_type": "stream",
     "text": [
      "chain info requested!!\n",
      "다른노드에서 요청이 온 블록, 검증 시작\n",
      "다른노드에서 요청이 온 블록, 검증결과 정상!!!!!!\n"
     ]
    },
    {
     "name": "stderr",
     "output_type": "stream",
     "text": [
      "127.0.0.1 - - [05/Dec/2022 02:21:01] \"\u001b[37mGET /nodes/resolve HTTP/1.1\u001b[0m\" 200 -\n"
     ]
    },
    {
     "name": "stdout",
     "output_type": "stream",
     "text": [
      "{'index': 1, 'nonce': 100, 'previous_hash': 1, 'timestamp': 1670174410.4352193, 'transactions': []}\n",
      "{'index': 2, 'nonce': -844297, 'previous_hash': 'ef23fa23c7aab28e1aeb7cd7adfba29e54006528f66b64a89c3406578ec85586', 'timestamp': 1670174448.8790355, 'transactions': [{'amount': 3, 'recipient': 'test_to', 'sender': 'test_from', 'timestamp': 1670174444.6589162}, {'amount': 0.1, 'recipient': 'node_5002', 'sender': 'master', 'timestamp': 1670174448.8780358}]}\n",
      "\n",
      "--------\n",
      "\n",
      "REPLACED length : 2\n"
     ]
    },
    {
     "name": "stderr",
     "output_type": "stream",
     "text": [
      "127.0.0.1 - - [05/Dec/2022 02:22:29] \"\u001b[37mGET /chain HTTP/1.1\u001b[0m\" 200 -\n"
     ]
    },
    {
     "name": "stdout",
     "output_type": "stream",
     "text": [
      "chain info requested!!\n"
     ]
    }
   ],
   "source": [
    "app = Flask(__name__)\n",
    "\n",
    "@app.route('/chain', methods=['GET'])\n",
    "def full_chain():\n",
    "    print(\"chain info requested!!\")\n",
    "    response = {\n",
    "        'chain' : blockchain.chain, \n",
    "        'length' : len(blockchain.chain), \n",
    "    }\n",
    "    return jsonify(response), 200\n",
    "\n",
    "################### 노드 연결을 위해 추가되는 함수 : 다른 Node 등록!\n",
    "@app.route('/nodes/register', methods=['POST'])\n",
    "def register_nodes():\n",
    "    values = request.get_json() # json 형태로 보내면 노드가 저장이 됨\n",
    "    print(\"register nodes !!! : \", values)\n",
    "    registering_node =  values.get('nodes')\n",
    "    if registering_node == None: # 요청된 node 값이 없다면! \n",
    "        return \"Error: Please supply a valid list of nodes\", 400\n",
    "     \n",
    "    ## 요청받은 노드드이 이미 등록된 노드와 중복인지 검사\n",
    "    ## 중복인인 경우\n",
    "    if registering_node.split(\"//\")[1] in blockchain.nodes:\n",
    "        print(\"Node already registered\")  # 이미 등록된 노드입니다.\n",
    "        response = {\n",
    "            'message' : 'Already Registered Node',\n",
    "            'total_nodes' : list(blockchain.nodes),\n",
    "        }\n",
    "\n",
    "    ## 중복  안되었다면\n",
    "    else:  \n",
    "        # 내 노드리스트에 추가\n",
    "        blockchain.register_node(registering_node) \n",
    "        \n",
    "        ## 이 후 해당 노드에 내정보를  등록하기\n",
    "        headers = {'Content-Type' : 'application/json; charset=utf-8'}\n",
    "        data = {\n",
    "            \"nodes\": 'http://' + my_ip + \":\" + my_port\n",
    "        }\n",
    "        print(\"MY NODE INFO \" , 'http://' + my_ip + \":\" + my_port)\n",
    "        requests.post( registering_node + \"/nodes/register\", headers=headers, data=json.dumps(data))\n",
    "        \n",
    "        # 이후 주변 노드들에도 새로운 노드가 등장함을 전파\n",
    "        for add_node in blockchain.nodes:\n",
    "            if add_node != registering_node.split(\"//\")[1]:\n",
    "                print('add_node : ', add_node)\n",
    "                ## 노드 등록하기\n",
    "                headers = {'Content-Type' : 'application/json; charset=utf-8'}\n",
    "                data = {\n",
    "                    \"nodes\": registering_node\n",
    "                }\n",
    "                requests.post('http://' + add_node   + \"/nodes/register\", headers=headers, data=json.dumps(data))\n",
    "\n",
    "\n",
    "         \n",
    "\n",
    "\n",
    "        response = {\n",
    "            'message' : 'New nodes have been added',\n",
    "            'total_nodes' : list(blockchain.nodes),\n",
    "        }\n",
    "    return jsonify(response), 201\n",
    "\n",
    "        \n",
    "@app.route('/transactions/new', methods=['POST'])\n",
    "def new_transaction():\n",
    "    values = request.get_json() \n",
    "    print(\"transactions_new!!! : \", values)\n",
    "    required = ['sender', 'recipient', 'amount'] \n",
    "\n",
    "    if not all(k in values for k in required):\n",
    "        return 'missing values', 400\n",
    "\n",
    "    index = blockchain.new_transaction(values['sender'],values['recipient'],\n",
    "values['amount'])\n",
    "        \n",
    "    response = {'message' : 'Transaction will be added to Block {%s}' % index}\n",
    "    \n",
    "    ################### 노드 연결을 위해 추가되는 부분\n",
    "    ##  본 노드에 받은 거래내역 정보를 다른 노드들에 다같이 업데이트 해준다.\n",
    "    \n",
    "    if \"type\" not in values:  ## 신구로 추가된 경우 type 이라는 정보가 포함되어 없다. 해당 내용은 전파 필요\n",
    "        for node in blockchain.nodes:  # nodes에 저장된 모든 노드에 정보를 전달한다.\n",
    "\n",
    "            headers = {'Content-Type' : 'application/json; charset=utf-8'}\n",
    "            data = {\n",
    "                \"sender\": values['sender'],\n",
    "                \"recipient\": values['recipient'],\n",
    "                \"amount\": values['amount'],\n",
    "                \"type\" : \"sharing\"   # 전파이기에 sharing이라는 type 이 꼭 필요하다.\n",
    "            }\n",
    "            requests.post(\"http://\" + node  + \"/transactions/new\", headers=headers, data=json.dumps(data))\n",
    "            print(\"share transaction to >>   \",\"http://\" + node )\n",
    "            \n",
    "            \n",
    "            \n",
    "    return jsonify(response), 201\n",
    "\n",
    "\n",
    "@app.route('/mine', methods=['GET'])\n",
    "def mine():\n",
    "    print(\"MINING STARTED\")    \n",
    "    last_block = blockchain.last_block\n",
    "    last_proof = last_block['nonce']\n",
    "    proof = blockchain.pow(last_proof)  \n",
    "\n",
    "    blockchain.new_transaction(\n",
    "        sender=mine_owner, \n",
    "        recipient=node_identifier, \n",
    "        amount=mine_profit # coinbase transaction \n",
    "    )\n",
    " \n",
    "    previous_hash = blockchain.hash(last_block)\n",
    "    block = blockchain.new_block(proof, previous_hash)\n",
    "    print(\"MINING FINISHED\")\n",
    "    \n",
    "    ################### 노드 연결을 위해 추가되는 부분\n",
    "    for node in blockchain.nodes: # nodes에 연겨된 모든 노드에 작업증명(PoW)가 완료되었음을 전파한다.\n",
    "        headers = {'Content-Type' : 'application/json; charset=utf-8'}\n",
    "        data = {\n",
    "            \"miner_node\":  'http://' + my_ip + \":\" + my_port,\n",
    "            'new_nonce' : blockchain.last_block['nonce']\n",
    "        }\n",
    "            \n",
    "        alarm_res = requests.get(\"http://\" + node  + \"/nodes/resolve\", headers=headers, data =json.dumps(data) ) \n",
    "        \n",
    "        if \"ERROR\" not in alarm_res.text : # 전파 받은 노드의 응답에 ERROR라는 이야기가 없으면 (나의 PoW가 인정 받으면)\n",
    "            ## 정상 response\n",
    "            response = {\n",
    "                'message' : 'new block completed',\n",
    "                'index' : block['index'],\n",
    "                'transactions' : block['transactions'],\n",
    "                'nonce' : block['nonce'],\n",
    "                'previous_hash' : block['previous_hash']\n",
    "            }\n",
    "            \n",
    "        else : # 전파 받은 노드의 응답에 이상이 있음을 알린다면?\n",
    "            ## 내 PoW가 이상이 있을수 있기에 다시 PoW 진행!\n",
    "            block = blockchain.new_block(proof, previous_hash)\n",
    "          \n",
    "    return jsonify(response), 200\n",
    "\n",
    "## 내가 해결했어!@!! 그내용을 전체에 공유할게!!\n",
    "@app.route('/nodes/resolve', methods=['GET'])\n",
    "def resolve():\n",
    "    \n",
    "    requester_node_info =  request.get_json()\n",
    "    required = ['miner_node'] # 해당 데이터가 존재해야함\n",
    "    # 데이터가 없으면 에러를 띄움\n",
    "    if not all(k in requester_node_info for k in required):\n",
    "        return 'missing values', 400   \n",
    "    \n",
    "    \n",
    "    ## 그전에 우선 previous 에서 바뀐것이 있는지 점검하자!!\n",
    "    my_previous_hash =  blockchain.last_block['previous_hash']\n",
    "    my_previous_hash\n",
    "    \n",
    "    last_proof = blockchain.last_block['nonce']\n",
    "    \n",
    "    headers = {'Content-Type' : 'application/json; charset=utf-8'}\n",
    "    miner_chain_info = requests.get(requester_node_info['miner_node']  + \"/chain\", headers=headers)\n",
    "    ##초기 블록은 과거 이력 변조내역 확인 할 필요가 없다\n",
    "        \n",
    "    print(\"다른노드에서 요청이 온 블록, 검증 시작\")\n",
    "    new_block_previous_hash = json.loads(miner_chain_info.text)['chain'][-2]['previous_hash']\n",
    "    # 내꺼의 전해시랑 새로만든에의 전해시가 같을떄!!! >> 정상\n",
    "    if my_previous_hash == new_block_previous_hash  and  \\\n",
    "                hashlib.sha256(str(last_proof + int(requester_node_info['new_nonce'])).encode()).hexdigest()[:4] == \"0000\" : \n",
    "                # 정말 PoW의 조건을 만족시켰을까? 검증하기\n",
    "        print(\"다른노드에서 요청이 온 블록, 검증결과 정상!!!!!!\")\n",
    "\n",
    "        replaced = blockchain.resolve_conflicts() # 결과값 : True Flase  / True 면 내 블록에 길이가 짧아 대체되어야 한다.\n",
    "\n",
    "        # 체인 변경 알림 메시지\n",
    "        if replaced == True:\n",
    "            ## 내 체인이 짧아서 대체되어야 함\n",
    "            print(\"REPLACED length :\",len(blockchain.chain))\n",
    "            response = {\n",
    "                'message' : 'Our chain was replaced >> ' +  my_ip + \":\"+ my_port,\n",
    "                'new_chain' : blockchain.chain\n",
    "            }\n",
    "        else:\n",
    "            ## 내 체인이 제일 길어서 권위가 있음\n",
    "            response = {\n",
    "                'message' : 'Our chain is authoritative',\n",
    "                'chain' : blockchain.chain\n",
    "            }\n",
    "    #아니면 무엇인가 과거데이터가 바뀐것이다!!\n",
    "    else:\n",
    "        print(\"다른노드에서 요청이 온 블록, 검증결과 이상발생!!!!!!!!\")\n",
    "        response = {\n",
    "            'message' : 'Our chain is authoritative>> ' +  my_ip + \":\"+ my_port,\n",
    "            'chain' : blockchain.chain\n",
    "        }            \n",
    "\n",
    "\n",
    "    return jsonify(response), 200\n",
    "\n",
    "\n",
    "if __name__ == '__main__':\n",
    "    app.run(host=my_ip, port=my_port)\n"
   ]
  },
  {
   "cell_type": "code",
   "execution_count": null,
   "id": "c15281c7",
   "metadata": {},
   "outputs": [],
   "source": []
  },
  {
   "cell_type": "code",
   "execution_count": null,
   "id": "8e83a2d9",
   "metadata": {},
   "outputs": [],
   "source": []
  },
  {
   "cell_type": "code",
   "execution_count": null,
   "id": "9be4b9bd",
   "metadata": {},
   "outputs": [],
   "source": []
  },
  {
   "cell_type": "code",
   "execution_count": null,
   "id": "0e1570ca",
   "metadata": {},
   "outputs": [],
   "source": []
  },
  {
   "cell_type": "code",
   "execution_count": null,
   "id": "4d4e9de2",
   "metadata": {},
   "outputs": [],
   "source": []
  },
  {
   "cell_type": "code",
   "execution_count": null,
   "id": "82921999",
   "metadata": {},
   "outputs": [],
   "source": []
  },
  {
   "cell_type": "code",
   "execution_count": null,
   "id": "52169f14",
   "metadata": {},
   "outputs": [],
   "source": []
  }
 ],
 "metadata": {
  "kernelspec": {
   "display_name": "Python 3",
   "language": "python",
   "name": "python3"
  },
  "language_info": {
   "codemirror_mode": {
    "name": "ipython",
    "version": 3
   },
   "file_extension": ".py",
   "mimetype": "text/x-python",
   "name": "python",
   "nbconvert_exporter": "python",
   "pygments_lexer": "ipython3",
   "version": "3.8.8"
  }
 },
 "nbformat": 4,
 "nbformat_minor": 5
}
