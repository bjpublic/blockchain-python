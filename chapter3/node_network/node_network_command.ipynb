{
 "cells": [
  {
   "cell_type": "code",
   "execution_count": 53,
   "id": "e4397b59",
   "metadata": {},
   "outputs": [],
   "source": [
    "import requests\n",
    "import json\n",
    "import pandas as pd\n",
    "import hashlib # hash 함수용 sha256 사용할 라이브러리\n",
    "import random"
   ]
  },
  {
   "cell_type": "markdown",
   "id": "4a2c3864",
   "metadata": {},
   "source": [
    "## 노드의 블록 정보 확인"
   ]
  },
  {
   "cell_type": "code",
   "execution_count": 54,
   "id": "26d585ba",
   "metadata": {},
   "outputs": [
    {
     "data": {
      "text/plain": [
       "{'chain': [{'index': 1,\n",
       "   'nonce': 100,\n",
       "   'previous_hash': 1,\n",
       "   'timestamp': 1670174384.0265372,\n",
       "   'transactions': []}],\n",
       " 'length': 1}"
      ]
     },
     "execution_count": 54,
     "metadata": {},
     "output_type": "execute_result"
    }
   ],
   "source": [
    "headers = {'Content-Type' : 'application/json; charset=utf-8'}\n",
    "res = requests.get(\"http://localhost:5000/chain\", headers=headers)\n",
    "json.loads(res.content)"
   ]
  },
  {
   "cell_type": "code",
   "execution_count": 55,
   "id": "160cc414",
   "metadata": {},
   "outputs": [
    {
     "data": {
      "text/plain": [
       "{'chain': [{'index': 1,\n",
       "   'nonce': 100,\n",
       "   'previous_hash': 1,\n",
       "   'timestamp': 1670174409.4533496,\n",
       "   'transactions': []}],\n",
       " 'length': 1}"
      ]
     },
     "execution_count": 55,
     "metadata": {},
     "output_type": "execute_result"
    }
   ],
   "source": [
    "headers = {'Content-Type' : 'application/json; charset=utf-8'}\n",
    "res = requests.get(\"http://localhost:5001/chain\", headers=headers)\n",
    "json.loads(res.content)"
   ]
  },
  {
   "cell_type": "code",
   "execution_count": 56,
   "id": "4cec82af",
   "metadata": {},
   "outputs": [
    {
     "data": {
      "text/plain": [
       "{'chain': [{'index': 1,\n",
       "   'nonce': 100,\n",
       "   'previous_hash': 1,\n",
       "   'timestamp': 1670174410.4352193,\n",
       "   'transactions': []}],\n",
       " 'length': 1}"
      ]
     },
     "execution_count": 56,
     "metadata": {},
     "output_type": "execute_result"
    }
   ],
   "source": [
    "headers = {'Content-Type' : 'application/json; charset=utf-8'}\n",
    "res = requests.get(\"http://localhost:5002/chain\", headers=headers)\n",
    "json.loads(res.content)"
   ]
  },
  {
   "cell_type": "markdown",
   "id": "98f8e8b4",
   "metadata": {},
   "source": [
    "## 노드 정보 추가"
   ]
  },
  {
   "cell_type": "code",
   "execution_count": 57,
   "id": "6ec6183e",
   "metadata": {},
   "outputs": [
    {
     "data": {
      "text/plain": [
       "b'{\"message\":\"New nodes have been added\",\"total_nodes\":[\"localhost:5001\"]}\\n'"
      ]
     },
     "execution_count": 57,
     "metadata": {},
     "output_type": "execute_result"
    }
   ],
   "source": [
    "## 노드 등록하기\n",
    "headers = {'Content-Type' : 'application/json; charset=utf-8'}\n",
    "data = {\n",
    "    \"nodes\": 'http://localhost:5001'\n",
    "}\n",
    "requests.post(\"http://localhost:5000/nodes/register\", headers=headers, data=json.dumps(data)).content"
   ]
  },
  {
   "cell_type": "code",
   "execution_count": 58,
   "id": "551b1aec",
   "metadata": {},
   "outputs": [
    {
     "data": {
      "text/plain": [
       "b'{\"message\":\"New nodes have been added\",\"total_nodes\":[\"localhost:5001\",\"localhost:5002\"]}\\n'"
      ]
     },
     "execution_count": 58,
     "metadata": {},
     "output_type": "execute_result"
    }
   ],
   "source": [
    "## 노드 등록하기\n",
    "headers = {'Content-Type' : 'application/json; charset=utf-8'}\n",
    "data = {\n",
    "    \"nodes\": 'http://localhost:5002'\n",
    "}\n",
    "requests.post(\"http://localhost:5000/nodes/register\", headers=headers, data=json.dumps(data)).content"
   ]
  },
  {
   "cell_type": "markdown",
   "id": "22f62fb1",
   "metadata": {},
   "source": [
    "## transaction 입력하기"
   ]
  },
  {
   "cell_type": "code",
   "execution_count": 59,
   "id": "fe3958ef",
   "metadata": {},
   "outputs": [
    {
     "data": {
      "text/plain": [
       "b'{\"message\":\"Transaction will be added to Block {2}\"}\\n'"
      ]
     },
     "execution_count": 59,
     "metadata": {},
     "output_type": "execute_result"
    }
   ],
   "source": [
    "headers = {'Content-Type' : 'application/json; charset=utf-8'}\n",
    "data = {\n",
    "        \"sender\": \"test_from\",\n",
    "        \"recipient\": \"test_to\",\n",
    "    \"amount\": 3,\n",
    "}\n",
    "requests.post(\"http://localhost:5000/transactions/new\", headers=headers, data=json.dumps(data)).content"
   ]
  },
  {
   "cell_type": "markdown",
   "id": "8ffed183",
   "metadata": {},
   "source": [
    "## 노드의 블록정보 확인 - 2"
   ]
  },
  {
   "cell_type": "code",
   "execution_count": 60,
   "id": "cd862740",
   "metadata": {},
   "outputs": [
    {
     "data": {
      "text/plain": [
       "{'chain': [{'index': 1,\n",
       "   'nonce': 100,\n",
       "   'previous_hash': 1,\n",
       "   'timestamp': 1670174384.0265372,\n",
       "   'transactions': []}],\n",
       " 'length': 1}"
      ]
     },
     "execution_count": 60,
     "metadata": {},
     "output_type": "execute_result"
    }
   ],
   "source": [
    "headers = {'Content-Type' : 'application/json; charset=utf-8'}\n",
    "res = requests.get(\"http://localhost:5000/chain\", headers=headers)\n",
    "json.loads(res.content)"
   ]
  },
  {
   "cell_type": "markdown",
   "id": "de078099",
   "metadata": {},
   "source": [
    "##  채굴하기 - 1"
   ]
  },
  {
   "cell_type": "code",
   "execution_count": 61,
   "id": "ca6e8f84",
   "metadata": {},
   "outputs": [
    {
     "name": "stdout",
     "output_type": "stream",
     "text": [
      "<Response [200]>\n"
     ]
    }
   ],
   "source": [
    "headers = {'Content-Type' : 'application/json; charset=utf-8'}\n",
    "res = requests.get(\"http://localhost:5002/mine\")\n",
    "print(res)"
   ]
  },
  {
   "cell_type": "markdown",
   "id": "a8f956fe",
   "metadata": {},
   "source": [
    "## 노드의 블록정보 확인 - 3"
   ]
  },
  {
   "cell_type": "code",
   "execution_count": 62,
   "id": "17f93c4a",
   "metadata": {},
   "outputs": [
    {
     "data": {
      "text/plain": [
       "{'chain': [{'index': 1,\n",
       "   'nonce': 100,\n",
       "   'previous_hash': 1,\n",
       "   'timestamp': 1670174384.0265372,\n",
       "   'transactions': []}],\n",
       " 'length': 1}"
      ]
     },
     "execution_count": 62,
     "metadata": {},
     "output_type": "execute_result"
    }
   ],
   "source": [
    "headers = {'Content-Type' : 'application/json; charset=utf-8'}\n",
    "res = requests.get(\"http://localhost:5000/chain\", headers=headers)\n",
    "json.loads(res.content)"
   ]
  },
  {
   "cell_type": "code",
   "execution_count": 63,
   "id": "a310a63a",
   "metadata": {},
   "outputs": [
    {
     "data": {
      "text/plain": [
       "{'chain': [{'index': 1,\n",
       "   'nonce': 100,\n",
       "   'previous_hash': 1,\n",
       "   'timestamp': 1670174410.4352193,\n",
       "   'transactions': []},\n",
       "  {'index': 2,\n",
       "   'nonce': -844297,\n",
       "   'previous_hash': 'ef23fa23c7aab28e1aeb7cd7adfba29e54006528f66b64a89c3406578ec85586',\n",
       "   'timestamp': 1670174448.8790355,\n",
       "   'transactions': [{'amount': 3,\n",
       "     'recipient': 'test_to',\n",
       "     'sender': 'test_from',\n",
       "     'timestamp': 1670174444.6589162},\n",
       "    {'amount': 0.1,\n",
       "     'recipient': 'node_5002',\n",
       "     'sender': 'master',\n",
       "     'timestamp': 1670174448.8780358}]}],\n",
       " 'length': 2}"
      ]
     },
     "execution_count": 63,
     "metadata": {},
     "output_type": "execute_result"
    }
   ],
   "source": [
    "headers = {'Content-Type' : 'application/json; charset=utf-8'}\n",
    "res = requests.get(\"http://localhost:5001/chain\", headers=headers)\n",
    "json.loads(res.content)"
   ]
  },
  {
   "cell_type": "code",
   "execution_count": 64,
   "id": "fb928b27",
   "metadata": {},
   "outputs": [
    {
     "data": {
      "text/plain": [
       "{'chain': [{'index': 1,\n",
       "   'nonce': 100,\n",
       "   'previous_hash': 1,\n",
       "   'timestamp': 1670174410.4352193,\n",
       "   'transactions': []},\n",
       "  {'index': 2,\n",
       "   'nonce': -844297,\n",
       "   'previous_hash': 'ef23fa23c7aab28e1aeb7cd7adfba29e54006528f66b64a89c3406578ec85586',\n",
       "   'timestamp': 1670174448.8790355,\n",
       "   'transactions': [{'amount': 3,\n",
       "     'recipient': 'test_to',\n",
       "     'sender': 'test_from',\n",
       "     'timestamp': 1670174444.6589162},\n",
       "    {'amount': 0.1,\n",
       "     'recipient': 'node_5002',\n",
       "     'sender': 'master',\n",
       "     'timestamp': 1670174448.8780358}]}],\n",
       " 'length': 2}"
      ]
     },
     "execution_count": 64,
     "metadata": {},
     "output_type": "execute_result"
    }
   ],
   "source": [
    "headers = {'Content-Type' : 'application/json; charset=utf-8'}\n",
    "res = requests.get(\"http://localhost:5002/chain\", headers=headers)\n",
    "json.loads(res.content)"
   ]
  },
  {
   "cell_type": "markdown",
   "id": "cff38e24",
   "metadata": {},
   "source": [
    "## transaction 입력하기 -2  / 채굴 / 블록정보 확인"
   ]
  },
  {
   "cell_type": "code",
   "execution_count": 49,
   "id": "a1355a99",
   "metadata": {
    "scrolled": false
   },
   "outputs": [
    {
     "name": "stdout",
     "output_type": "stream",
     "text": [
      "<Response [200]>\n"
     ]
    }
   ],
   "source": [
    "## transaction 입력하기 -2\n",
    "headers = {'Content-Type' : 'application/json; charset=utf-8'}\n",
    "data = {\n",
    "        \"sender\": \"test_from\",\n",
    "        \"recipient\": \"test_to2\",\n",
    "    \"amount\": 30,\n",
    "}\n",
    "requests.post(\"http://localhost:5000/transactions/new\", headers=headers, data=json.dumps(data)).content\n",
    "\n",
    "## transaction3 입력하기\n",
    "headers = {'Content-Type' : 'application/json; charset=utf-8'}\n",
    "data = {\n",
    "        \"sender\": \"test_from\",\n",
    "        \"recipient\": \"test_to3\",\n",
    "    \"amount\": 300,\n",
    "}\n",
    "requests.post(\"http://localhost:5000/transactions/new\", headers=headers, data=json.dumps(data)).content\n",
    "\n",
    "##  채굴하기\n",
    "headers = {'Content-Type' : 'application/json; charset=utf-8'}\n",
    "res = requests.get(\"http://localhost:5000/mine\")\n",
    "print(res)\n",
    "\n",
    "## 노드의 블록정보 확인 - 4\n",
    "headers = {'Content-Type' : 'application/json; charset=utf-8'}\n",
    "res = requests.get(\"http://localhost:5000/chain\", headers=headers)"
   ]
  },
  {
   "cell_type": "code",
   "execution_count": 50,
   "id": "748b946c",
   "metadata": {},
   "outputs": [
    {
     "data": {
      "text/plain": [
       "'{\"chain\":[{\"index\":1,\"nonce\":100,\"previous_hash\":1,\"timestamp\":1670168966.2070017,\"transactions\":[]},{\"index\":2,\"nonce\":929443,\"previous_hash\":\"b5caaa4f3f7c41b8151243d1886c5644d825522fdbcff0fd731a89157bdec692\",\"timestamp\":1670169010.5459495,\"transactions\":[{\"amount\":3,\"recipient\":\"test_to\",\"sender\":\"test_from\",\"timestamp\":1670169002.2282007},{\"amount\":0.1,\"recipient\":\"node_5000\",\"sender\":\"master\",\"timestamp\":1670169010.5459495}]},{\"index\":3,\"nonce\":-987794,\"previous_hash\":\"6d7e9c2dd62608f209d606d570ab18a2ea5e6c9b76c10b7f70855c58f458500f\",\"timestamp\":1670169055.2472773,\"transactions\":[{\"amount\":30,\"recipient\":\"test_to2\",\"sender\":\"test_from\",\"timestamp\":1670169042.4541564},{\"amount\":300,\"recipient\":\"test_to3\",\"sender\":\"test_from\",\"timestamp\":1670169048.5498352},{\"amount\":0.1,\"recipient\":\"node_5000\",\"sender\":\"master\",\"timestamp\":1670169055.247223}]}],\"length\":3}\\n'"
      ]
     },
     "execution_count": 50,
     "metadata": {},
     "output_type": "execute_result"
    }
   ],
   "source": [
    "res.text"
   ]
  },
  {
   "cell_type": "code",
   "execution_count": 51,
   "id": "3ebe12e9",
   "metadata": {},
   "outputs": [],
   "source": [
    "## 노드의 블록정보 확인 - 4\n",
    "headers = {'Content-Type' : 'application/json; charset=utf-8'}\n",
    "res = requests.get(\"http://localhost:5002/chain\", headers=headers)"
   ]
  },
  {
   "cell_type": "code",
   "execution_count": 52,
   "id": "ec2adc26",
   "metadata": {},
   "outputs": [
    {
     "data": {
      "text/plain": [
       "'{\"chain\":[{\"index\":1,\"nonce\":100,\"previous_hash\":1,\"timestamp\":1670168966.2070017,\"transactions\":[]},{\"index\":2,\"nonce\":929443,\"previous_hash\":\"b5caaa4f3f7c41b8151243d1886c5644d825522fdbcff0fd731a89157bdec692\",\"timestamp\":1670169010.5459495,\"transactions\":[{\"amount\":3,\"recipient\":\"test_to\",\"sender\":\"test_from\",\"timestamp\":1670169002.2282007},{\"amount\":0.1,\"recipient\":\"node_5000\",\"sender\":\"master\",\"timestamp\":1670169010.5459495}]},{\"index\":3,\"nonce\":-987794,\"previous_hash\":\"6d7e9c2dd62608f209d606d570ab18a2ea5e6c9b76c10b7f70855c58f458500f\",\"timestamp\":1670169055.2472773,\"transactions\":[{\"amount\":30,\"recipient\":\"test_to2\",\"sender\":\"test_from\",\"timestamp\":1670169042.4541564},{\"amount\":300,\"recipient\":\"test_to3\",\"sender\":\"test_from\",\"timestamp\":1670169048.5498352},{\"amount\":0.1,\"recipient\":\"node_5000\",\"sender\":\"master\",\"timestamp\":1670169055.247223}]}],\"length\":3}\\n'"
      ]
     },
     "execution_count": 52,
     "metadata": {},
     "output_type": "execute_result"
    }
   ],
   "source": [
    "res.text"
   ]
  },
  {
   "cell_type": "markdown",
   "id": "6d68c4a3",
   "metadata": {},
   "source": [
    "## Pandas 를 활용한 거래내역 조회"
   ]
  },
  {
   "cell_type": "code",
   "execution_count": 27,
   "id": "fb5a1c13",
   "metadata": {},
   "outputs": [
    {
     "data": {
      "text/html": [
       "<div>\n",
       "<style scoped>\n",
       "    .dataframe tbody tr th:only-of-type {\n",
       "        vertical-align: middle;\n",
       "    }\n",
       "\n",
       "    .dataframe tbody tr th {\n",
       "        vertical-align: top;\n",
       "    }\n",
       "\n",
       "    .dataframe thead th {\n",
       "        text-align: right;\n",
       "    }\n",
       "</style>\n",
       "<table border=\"1\" class=\"dataframe\">\n",
       "  <thead>\n",
       "    <tr style=\"text-align: right;\">\n",
       "      <th></th>\n",
       "      <th>timestamp</th>\n",
       "      <th>sender</th>\n",
       "      <th>recipient</th>\n",
       "      <th>amount</th>\n",
       "    </tr>\n",
       "  </thead>\n",
       "  <tbody>\n",
       "    <tr>\n",
       "      <th>0</th>\n",
       "      <td>1.670135e+09</td>\n",
       "      <td>test_from</td>\n",
       "      <td>test_to</td>\n",
       "      <td>3.0</td>\n",
       "    </tr>\n",
       "    <tr>\n",
       "      <th>1</th>\n",
       "      <td>1.670135e+09</td>\n",
       "      <td>master</td>\n",
       "      <td>node_5000</td>\n",
       "      <td>0.1</td>\n",
       "    </tr>\n",
       "    <tr>\n",
       "      <th>2</th>\n",
       "      <td>1.670135e+09</td>\n",
       "      <td>test_from</td>\n",
       "      <td>test_to2</td>\n",
       "      <td>30.0</td>\n",
       "    </tr>\n",
       "    <tr>\n",
       "      <th>3</th>\n",
       "      <td>1.670135e+09</td>\n",
       "      <td>test_from</td>\n",
       "      <td>test_to3</td>\n",
       "      <td>300.0</td>\n",
       "    </tr>\n",
       "    <tr>\n",
       "      <th>4</th>\n",
       "      <td>1.670135e+09</td>\n",
       "      <td>master</td>\n",
       "      <td>node_5000</td>\n",
       "      <td>0.1</td>\n",
       "    </tr>\n",
       "  </tbody>\n",
       "</table>\n",
       "</div>"
      ],
      "text/plain": [
       "      timestamp     sender  recipient  amount\n",
       "0  1.670135e+09  test_from    test_to     3.0\n",
       "1  1.670135e+09     master  node_5000     0.1\n",
       "2  1.670135e+09  test_from   test_to2    30.0\n",
       "3  1.670135e+09  test_from   test_to3   300.0\n",
       "4  1.670135e+09     master  node_5000     0.1"
      ]
     },
     "execution_count": 27,
     "metadata": {},
     "output_type": "execute_result"
    }
   ],
   "source": [
    "status_json = json.loads(res.text)\n",
    "status_json['chain']    \n",
    "tx_amount_l = []\n",
    "tx_sender_l = []\n",
    "tx_reciv_l  = []\n",
    "tx_time_l   = []\n",
    "\n",
    "for chain_index in range(len(status_json['chain'])):\n",
    "    chain_tx = status_json['chain'][chain_index]['transactions']\n",
    "    for each_tx in range(len(chain_tx)):\n",
    "        tx_amount_l.append(chain_tx[each_tx]['amount'])\n",
    "        tx_sender_l.append(chain_tx[each_tx]['sender'])\n",
    "        tx_reciv_l.append(chain_tx[each_tx]['recipient'])\n",
    "        tx_time_l.append(chain_tx[each_tx]['timestamp'])\n",
    "\n",
    "df_tx = pd.DataFrame()\n",
    "df_tx['timestamp'] = tx_time_l  \n",
    "df_tx['sender'] = tx_sender_l \n",
    "df_tx['recipient'] = tx_reciv_l\n",
    "df_tx['amount'] = tx_amount_l   \n",
    "df_tx"
   ]
  },
  {
   "cell_type": "markdown",
   "id": "39389b1c",
   "metadata": {},
   "source": [
    "## 거래내역 기반 계정별 잔액 조회"
   ]
  },
  {
   "cell_type": "code",
   "execution_count": 16,
   "id": "ff011825",
   "metadata": {},
   "outputs": [
    {
     "data": {
      "text/html": [
       "<div>\n",
       "<style scoped>\n",
       "    .dataframe tbody tr th:only-of-type {\n",
       "        vertical-align: middle;\n",
       "    }\n",
       "\n",
       "    .dataframe tbody tr th {\n",
       "        vertical-align: top;\n",
       "    }\n",
       "\n",
       "    .dataframe thead th {\n",
       "        text-align: right;\n",
       "    }\n",
       "</style>\n",
       "<table border=\"1\" class=\"dataframe\">\n",
       "  <thead>\n",
       "    <tr style=\"text-align: right;\">\n",
       "      <th></th>\n",
       "      <th>user</th>\n",
       "      <th>received_amount</th>\n",
       "      <th>sended_amount</th>\n",
       "      <th>balance</th>\n",
       "    </tr>\n",
       "  </thead>\n",
       "  <tbody>\n",
       "    <tr>\n",
       "      <th>0</th>\n",
       "      <td>node_5000</td>\n",
       "      <td>0.3</td>\n",
       "      <td>0.0</td>\n",
       "      <td>0.3</td>\n",
       "    </tr>\n",
       "    <tr>\n",
       "      <th>1</th>\n",
       "      <td>test_to</td>\n",
       "      <td>6.0</td>\n",
       "      <td>0.0</td>\n",
       "      <td>6.0</td>\n",
       "    </tr>\n",
       "    <tr>\n",
       "      <th>2</th>\n",
       "      <td>test_to2</td>\n",
       "      <td>30.0</td>\n",
       "      <td>0.0</td>\n",
       "      <td>30.0</td>\n",
       "    </tr>\n",
       "    <tr>\n",
       "      <th>3</th>\n",
       "      <td>test_to3</td>\n",
       "      <td>300.0</td>\n",
       "      <td>0.0</td>\n",
       "      <td>300.0</td>\n",
       "    </tr>\n",
       "    <tr>\n",
       "      <th>4</th>\n",
       "      <td>master</td>\n",
       "      <td>0.0</td>\n",
       "      <td>0.3</td>\n",
       "      <td>-0.3</td>\n",
       "    </tr>\n",
       "    <tr>\n",
       "      <th>5</th>\n",
       "      <td>test_from</td>\n",
       "      <td>0.0</td>\n",
       "      <td>336.0</td>\n",
       "      <td>-336.0</td>\n",
       "    </tr>\n",
       "  </tbody>\n",
       "</table>\n",
       "</div>"
      ],
      "text/plain": [
       "        user  received_amount  sended_amount  balance\n",
       "0  node_5000              0.3            0.0      0.3\n",
       "1    test_to              6.0            0.0      6.0\n",
       "2   test_to2             30.0            0.0     30.0\n",
       "3   test_to3            300.0            0.0    300.0\n",
       "4     master              0.0            0.3     -0.3\n",
       "5  test_from              0.0          336.0   -336.0"
      ]
     },
     "execution_count": 16,
     "metadata": {},
     "output_type": "execute_result"
    }
   ],
   "source": [
    "df_sended = pd.DataFrame(df_tx.groupby('sender')['amount'].sum()).reset_index()\n",
    "df_sended.columns = ['user','sended_amount']\n",
    "df_received= pd.DataFrame(df_tx.groupby('recipient')['amount'].sum()).reset_index()\n",
    "df_received.columns = ['user','received_amount']\n",
    "df_received\n",
    "\n",
    "df_status = pd.merge(df_received,df_sended, on ='user', how=  'outer').fillna(0)\n",
    "df_status['balance'] = df_status['received_amount']  - df_status['sended_amount']  \n",
    "df_status"
   ]
  },
  {
   "cell_type": "code",
   "execution_count": 3,
   "id": "4e59139a",
   "metadata": {},
   "outputs": [],
   "source": [
    "for t in range(0,3):\n",
    "    for times in range(0,random.randint(1,4)):\n",
    "        ## transaction 입력하기\n",
    "        headers = {'Content-Type' : 'application/json; charset=utf-8'}\n",
    "        data = {\n",
    "            \"sender\": hashlib.sha256(str(random.randint(3,100000)).encode()).hexdigest(),\n",
    "            \"recipient\": hashlib.sha256(str(random.randint(3,100000)).encode()).hexdigest(),\n",
    "            \"amount\": random.randint(1,200),\n",
    "        }\n",
    "        requests.post(\"http://localhost:5000/transactions/new\", headers=headers, data=json.dumps(data)).content\n",
    "\n",
    "\n",
    "    ##  채굴하기\n",
    "    headers = {'Content-Type' : 'application/json; charset=utf-8'}\n",
    "    res = requests.get(\"http://localhost:5000/mine\")\n",
    "    # print(res)\n",
    "# print(res.text)"
   ]
  },
  {
   "cell_type": "code",
   "execution_count": 4,
   "id": "3974be14",
   "metadata": {},
   "outputs": [
    {
     "data": {
      "text/plain": [
       "b'{\"message\":\"Transaction will be added to Block {5}\"}\\n'"
      ]
     },
     "execution_count": 4,
     "metadata": {},
     "output_type": "execute_result"
    }
   ],
   "source": [
    "## transaction 입력하기\n",
    "headers = {'Content-Type' : 'application/json; charset=utf-8'}\n",
    "data = {\n",
    "        \"sender\": hashlib.sha256(\"test_from\").hexdigest(),\n",
    "        \"recipient\": hashlib.sha256(\"test_to\").hexdigest(),\n",
    "    \"amount\": 3,\n",
    "}\n",
    "requests.post(\"http://localhost:5000/transactions/new\", headers=headers, data=json.dumps(data)).content"
   ]
  },
  {
   "cell_type": "code",
   "execution_count": 5,
   "id": "fd10e16c",
   "metadata": {
    "scrolled": true
   },
   "outputs": [
    {
     "data": {
      "text/plain": [
       "{'chain': [{'index': 1,\n",
       "   'nonce': 100,\n",
       "   'previous_hash': 1,\n",
       "   'timestamp': 1670013732.3910966,\n",
       "   'transactions': []},\n",
       "  {'index': 2,\n",
       "   'nonce': -844297,\n",
       "   'previous_hash': '548d062b760db40abf2a032575fd3d037ce98a54f76dd516729d4194f13ac3fd',\n",
       "   'timestamp': 1670013751.744754,\n",
       "   'transactions': [{'amount': 158,\n",
       "     'recipient': 'fea2ab9d009eebd111ecd5abeeb3da56da7564206852d81fabf1dd645e9dd3f1',\n",
       "     'sender': '384856b6029eb10265143ff3fff4202d98ff32b1443cf0d3f49814a3b6772efd',\n",
       "     'timestamp': 1670013747.4341347},\n",
       "    {'amount': 130,\n",
       "     'recipient': 'eefcbc5e9fc461739b1312e50e78bfde3df404bce419e64036ccdd82e5fd461c',\n",
       "     'sender': 'ba9855657c5f08225cc9eb424618fbb648caded3164b129577536a17691cccae',\n",
       "     'timestamp': 1670013749.4650593},\n",
       "    {'amount': 0.1,\n",
       "     'recipient': 'node_5000',\n",
       "     'sender': 'master',\n",
       "     'timestamp': 1670013751.744754}]},\n",
       "  {'index': 3,\n",
       "   'nonce': 785946,\n",
       "   'previous_hash': '95454c80bb45d4c12e7117b7177874ad92959d1775faa09b70a677bbe8441827',\n",
       "   'timestamp': 1670013757.9120696,\n",
       "   'transactions': [{'amount': 31,\n",
       "     'recipient': '10c99d13006c0d843f03f45ad2ee246f71258f6df8bafba7a0ebf652c579c049',\n",
       "     'sender': '6c4a5d85e334c9485670e4e62c664ff2398b9dbc365cb793a6e5e9de040eed3d',\n",
       "     'timestamp': 1670013753.7814214},\n",
       "    {'amount': 123,\n",
       "     'recipient': '51402f580667185db2b154c72362ebbe714144a4422d0742164814238fd4a572',\n",
       "     'sender': '57cf2f999891f8507bc7d1b9ed373c1a43a41c4aa27b5a8bea9db14da691ce47',\n",
       "     'timestamp': 1670013755.807521},\n",
       "    {'amount': 0.1,\n",
       "     'recipient': 'node_5000',\n",
       "     'sender': 'master',\n",
       "     'timestamp': 1670013757.9120696}]},\n",
       "  {'index': 4,\n",
       "   'nonce': -516020,\n",
       "   'previous_hash': 'f0d06246c839c2f6efb2663cc80af7a4386bf5d3f4067bcf11b61d2fac0907dc',\n",
       "   'timestamp': 1670013764.2391667,\n",
       "   'transactions': [{'amount': 142,\n",
       "     'recipient': '889050c7a08126128cfc6f0b83116ca504d3af18facd27b96b8854e66a7a359c',\n",
       "     'sender': '591d3186283c66b08d857e7b80a3ee6eea5e6e4cdc0d30e1a5356a9635a4fdf6',\n",
       "     'timestamp': 1670013759.929006},\n",
       "    {'amount': 157,\n",
       "     'recipient': '476b20d68337bc52a1a9405aa908e94f2d163d86abfe230dba698c17fa7434e0',\n",
       "     'sender': '7f1a77b7b978a16db7e80b7e4a9bf03267b8dcafdb812b4d8330f4af55b74b00',\n",
       "     'timestamp': 1670013761.965031},\n",
       "    {'amount': 0.1,\n",
       "     'recipient': 'node_5000',\n",
       "     'sender': 'master',\n",
       "     'timestamp': 1670013764.2391667}]}],\n",
       " 'length': 4}"
      ]
     },
     "execution_count": 5,
     "metadata": {},
     "output_type": "execute_result"
    }
   ],
   "source": [
    "## 노드의 거래내역 점검\n",
    "headers = {'Content-Type' : 'application/json; charset=utf-8'}\n",
    "res = requests.get(\"http://localhost:5000/chain\", headers=headers)\n",
    "json.loads(res.content)"
   ]
  },
  {
   "cell_type": "code",
   "execution_count": 4,
   "id": "9020b109",
   "metadata": {},
   "outputs": [
    {
     "name": "stdout",
     "output_type": "stream",
     "text": [
      "<Response [200]>\n",
      "{\"index\":5,\"message\":\"new block found\",\"nonce\":999030,\"previous_hash\":\"1870fc2f075ce536749a966c8bffa0e4fe5d19cf3f92d7a42e263c188daeb72f\",\"transactions\":[{\"amount\":18,\"recipient\":\"e2fa281fb59fae141752752c640d278af56fa1677a00a0\",\"sender\":\"24a905ff16514caab92441fed3dd69e7e641e0124110b76fc3fa5cffad1caa2b\",\"timestamp\":1670003556.4304671},{\"amount\":0.1,\"recipient\":\"node_5000\",\"sender\":\"master\",\"timestamp\":1670003589.4284225}]}\n",
      "\n"
     ]
    }
   ],
   "source": [
    "##  채굴하기\n",
    "headers = {'Content-Type' : 'application/json; charset=utf-8'}\n",
    "res = requests.get(\"http://localhost:5000/mine\")\n",
    "print(res)\n",
    "print(res.text)"
   ]
  },
  {
   "cell_type": "code",
   "execution_count": 29,
   "id": "69bf9fbb",
   "metadata": {},
   "outputs": [
    {
     "data": {
      "text/plain": [
       "{'chain': [{'index': 1,\n",
       "   'nonce': 100,\n",
       "   'previous_hash': 1,\n",
       "   'timestamp': 1669525533.2944484,\n",
       "   'transactions': []},\n",
       "  {'index': 2,\n",
       "   'nonce': 88384,\n",
       "   'previous_hash': '10b16f26d07ef35263008d76a93effb78364f439b8927d01a7299157c4aa1eeb',\n",
       "   'timestamp': 1669525707.9753838,\n",
       "   'transactions': [{'amount': 31,\n",
       "     'recipient': '66d7bcd3cf4844f7289ed30ac47b7692cfdc0b65d7782be07ddf27c5569c0fb6',\n",
       "     'sender': '39ec50c474aff3474a3d6767bf2ac803d9c5aea024b3fca50b6b360a320e68d1',\n",
       "     'timestamp': 1669525655.676327},\n",
       "    {'amount': 16,\n",
       "     'recipient': '93a0f8f7aefda4f798d015a6580c5d599661d414efe40f10f4fe330aea07353d',\n",
       "     'sender': 'c96aa0646e1e1b66b4db47187fdb5e52d4a3afb59a251bda297e93c42e2f8cb9',\n",
       "     'timestamp': 1669525699.6630416},\n",
       "    {'amount': 176,\n",
       "     'recipient': 'b0dd73dbd6feaa72882a90ca909d698406a0827819c7d93554e75854f44f31b5',\n",
       "     'sender': '34599659626c2ca7bb302d4d7b39a21c8699bb186720e3da8cd68b548e14f521',\n",
       "     'timestamp': 1669525701.726427},\n",
       "    {'amount': 166,\n",
       "     'recipient': '01a865eb4d7be2ecf25d5092f3936dcace33115df012efb513fc8474076e56b6',\n",
       "     'sender': '4cd6822ae377bf0f0706e1ca9b18e47bc7cf9c5031cb959c16a8a223395b0226',\n",
       "     'timestamp': 1669525703.7809706},\n",
       "    {'amount': 7,\n",
       "     'recipient': 'b301903882a21164b4d27617ff5d9d6bc5aa5cef134c1aeb736310c5d70e272a',\n",
       "     'sender': '04aa26a59fa88a94648d7134cde3fd99bc9dac35043c1ce4afe5bdc2d943d11a',\n",
       "     'timestamp': 1669525705.8293724},\n",
       "    {'amount': 0.1,\n",
       "     'recipient': 'node_5000',\n",
       "     'sender': 'master',\n",
       "     'timestamp': 1669525707.974394}]},\n",
       "  {'index': 3,\n",
       "   'nonce': 100,\n",
       "   'previous_hash': 'e2481ac530e16e032649e1270a9469f460252eeebe2d9dd973705b54c17336e4',\n",
       "   'timestamp': 1669525747.2690864,\n",
       "   'transactions': [{'amount': 114,\n",
       "     'recipient': '0ce1c0f31b9b02e18cbc029ba451a5724ad9bac6e4a0bf47aebf0f8de77b41c8',\n",
       "     'sender': 'a1c7ab2441df37a93f04e5c7c71eb04952dc99f9ec61f5d616abfda27e64b699',\n",
       "     'timestamp': 1669525745.214297},\n",
       "    {'amount': 0.1,\n",
       "     'recipient': 'node_5000',\n",
       "     'sender': 'master',\n",
       "     'timestamp': 1669525747.26717}]},\n",
       "  {'index': 4,\n",
       "   'nonce': 88384,\n",
       "   'previous_hash': 'bb642297a171e319f5d4583d1a266188dcd74ec643108b002ce058332f6ea66f',\n",
       "   'timestamp': 1669525753.502651,\n",
       "   'transactions': [{'amount': 96,\n",
       "     'recipient': '361bf084c05a06c4d2d8a1e780b0317f29d62465a4a657fee6202ed369700c5b',\n",
       "     'sender': 'd3d1c8f7e0fc6b287ab72fe6bff4b8336484d87be998cb9fdbe1303653e178a2',\n",
       "     'timestamp': 1669525749.3109896},\n",
       "    {'amount': 140,\n",
       "     'recipient': '5367b22389254dcc4a5f7a13d1267efa522b246a674e9ee6be4b23198b85edde',\n",
       "     'sender': 'f91bdd4b824791dc9383aa9d8d6f43dfcf6f5d9cd00d8fa1b6b1a3274c6045cb',\n",
       "     'timestamp': 1669525751.3517406},\n",
       "    {'amount': 0.1,\n",
       "     'recipient': 'node_5000',\n",
       "     'sender': 'master',\n",
       "     'timestamp': 1669525753.501648}]},\n",
       "  {'index': 5,\n",
       "   'nonce': 100,\n",
       "   'previous_hash': '651d3bf2a1d377cefcb49357c41d555c3e344fea008e6106af1280b85850aa2b',\n",
       "   'timestamp': 1669525757.6107857,\n",
       "   'transactions': [{'amount': 180,\n",
       "     'recipient': '74de057f768beb42de17ffc4b8a56100f0bed85947ecacaef111e3d3ec997950',\n",
       "     'sender': '034e41cbb68eb1be5069ff91bdf1de8ae5ade9475af120750e0cd5720d400f3b',\n",
       "     'timestamp': 1669525755.546779},\n",
       "    {'amount': 0.1,\n",
       "     'recipient': 'node_5000',\n",
       "     'sender': 'master',\n",
       "     'timestamp': 1669525757.6088026}]},\n",
       "  {'index': 6,\n",
       "   'nonce': 88384,\n",
       "   'previous_hash': 'e602cbfc92f112c1e222f01b0e98f39f61b60cae7533311ddf8e23e902945feb',\n",
       "   'timestamp': 1669525763.8855636,\n",
       "   'transactions': [{'amount': 15,\n",
       "     'recipient': '354e4c57054be6f97a79100f4f7c547dc1e398995f754a9cda8d527512e72926',\n",
       "     'sender': 'aa53821349dc7a4b8b804f896d54c4758fd37105f9c76f2d42a541ebafd07297',\n",
       "     'timestamp': 1669525759.6564598},\n",
       "    {'amount': 82,\n",
       "     'recipient': '476b7e335e8400cd9e420e0c0e3c1c2d6581ff96468c99cba367619cc937bb29',\n",
       "     'sender': 'c667977653b0a249b6aa6435dab4856e57aec69f50643d99fd2d4d65b563d1b2',\n",
       "     'timestamp': 1669525761.708259},\n",
       "    {'amount': 0.1,\n",
       "     'recipient': 'node_5000',\n",
       "     'sender': 'master',\n",
       "     'timestamp': 1669525763.8845632}]},\n",
       "  {'index': 7,\n",
       "   'nonce': 100,\n",
       "   'previous_hash': '34a1b6df54b207bf4301cecc17144824bbbfb19036909bdf3eb476d83e6607be',\n",
       "   'timestamp': 1669525774.128537,\n",
       "   'transactions': [{'amount': 95,\n",
       "     'recipient': 'c017e4722ffa7cd46e4a20eff89b90115ef7758f9709b1cf63611e33662a932f',\n",
       "     'sender': '143b79a0694f61bb9f3a425c0953b01d7cf70d732d64a0a66c66934b0424f518',\n",
       "     'timestamp': 1669525765.9316945},\n",
       "    {'amount': 38,\n",
       "     'recipient': '30901dede2efa8a2b67daf89601ee9da62e726b23fee3b933c19bd22701de327',\n",
       "     'sender': 'bda584056eb9957d6c681e00079eff36fec289e2a0432a4221b95438dfef5ca4',\n",
       "     'timestamp': 1669525767.9849358},\n",
       "    {'amount': 8,\n",
       "     'recipient': 'b5c12798de63412a22e26694f3148b869bd956be6a698c958d89cb16e2313fd3',\n",
       "     'sender': '6debbc8f82db21f7049f0df74cedf732f3a9c82995e8e58b8e367c5a61750494',\n",
       "     'timestamp': 1669525770.0328252},\n",
       "    {'amount': 101,\n",
       "     'recipient': '7f28060597ec84442d04a3fafd3b80a206cc14658df16dcf5ea7c49d7844597a',\n",
       "     'sender': '25ead0c5a9f304a5e779c085cbd465b5dc512c1505cc7f0cd560cb4c5c5b8476',\n",
       "     'timestamp': 1669525772.0788324},\n",
       "    {'amount': 0.1,\n",
       "     'recipient': 'node_5000',\n",
       "     'sender': 'master',\n",
       "     'timestamp': 1669525774.12555}]},\n",
       "  {'index': 8,\n",
       "   'nonce': 88384,\n",
       "   'previous_hash': 'e87b1d92c374c83746181a0780af48b842e435a866d4aaca0f7eb013c7b6b274',\n",
       "   'timestamp': 1669525778.3275976,\n",
       "   'transactions': [{'amount': 138,\n",
       "     'recipient': '4c2c26a48cbc42940ea3112cbe81ae65593195342820a7eb37ce20e4d89cf2e3',\n",
       "     'sender': '7cda3cdcfb807cb1e43749988f9df2452bd0bd67bbcb24253bcf42629badcea8',\n",
       "     'timestamp': 1669525776.1762905},\n",
       "    {'amount': 0.1,\n",
       "     'recipient': 'node_5000',\n",
       "     'sender': 'master',\n",
       "     'timestamp': 1669525778.3266737}]},\n",
       "  {'index': 9,\n",
       "   'nonce': 100,\n",
       "   'previous_hash': '15ba67c4076a02c0a6acc57fccc020b592062acbdfeefdd58c20284b7d3bc133',\n",
       "   'timestamp': 1669525782.4276707,\n",
       "   'transactions': [{'amount': 15,\n",
       "     'recipient': 'abba41f44dbfe426908b784ed6517bd6264d5c6f993991e38e7835e14b8dcdc2',\n",
       "     'sender': '9cd09f74a7539021b21ead86e78f2aec628c056451871a47f9c96773da272cae',\n",
       "     'timestamp': 1669525780.377076},\n",
       "    {'amount': 0.1,\n",
       "     'recipient': 'node_5000',\n",
       "     'sender': 'master',\n",
       "     'timestamp': 1669525782.4266596}]},\n",
       "  {'index': 10,\n",
       "   'nonce': 88384,\n",
       "   'previous_hash': '675c1b09ba24ed7d91708368a83f0aab3951c4297d6a6bdbfb931aa71b63c982',\n",
       "   'timestamp': 1669525788.714677,\n",
       "   'transactions': [{'amount': 80,\n",
       "     'recipient': 'dfdd44a326da9c8eda0b24fe83026cf65739a1d71c1372b0b82bb4aec05e94fe',\n",
       "     'sender': '88986e895792e50ff675a0553a3761f7f7fdc8cf4635df205a49723dd181e9e0',\n",
       "     'timestamp': 1669525784.485246},\n",
       "    {'amount': 118,\n",
       "     'recipient': '82578c0153bdde02282afadbb370ac9beb7c8f19c33810fe6386d406e227b1fc',\n",
       "     'sender': 'ca15f6f1712931b3910dda9a6712bd133116ccf3c871db33b862ab360188c1a3',\n",
       "     'timestamp': 1669525786.5374966},\n",
       "    {'amount': 0.1,\n",
       "     'recipient': 'node_5000',\n",
       "     'sender': 'master',\n",
       "     'timestamp': 1669525788.7134209}]},\n",
       "  {'index': 11,\n",
       "   'nonce': 100,\n",
       "   'previous_hash': '66febbfe87893cfac96ae36c927a0de108b8a973d3bf10ef78f22d9227657b61',\n",
       "   'timestamp': 1669525798.9561193,\n",
       "   'transactions': [{'amount': 196,\n",
       "     'recipient': 'dbd4c8f7146eec929b49ea1175cbca3be73bccf689565917c26167f9509f18d9',\n",
       "     'sender': 'a26c596692db7e36a67d3ba56ef065b550fd9adc1153b818f92ebd158fad2a85',\n",
       "     'timestamp': 1669525790.7677574},\n",
       "    {'amount': 42,\n",
       "     'recipient': 'e05ee8d4ae65379f66fac902f2555bf70f08888fb2d535bcf6c0836c25143064',\n",
       "     'sender': 'a9a286a75a193e6b788516a7d912a9a4649caab532cafc734e982443b3057bb2',\n",
       "     'timestamp': 1669525792.8150315},\n",
       "    {'amount': 82,\n",
       "     'recipient': '56fa0cba19f9b598feb3c021edaa6497fdd008a2040294d7503c9755b419888b',\n",
       "     'sender': '5668bf38db4d6a86fc7173410b6a7775e43d43242af9d573c7e64dbb2fdcae8f',\n",
       "     'timestamp': 1669525794.8522086},\n",
       "    {'amount': 162,\n",
       "     'recipient': 'ccc6465cd2ba04eb1080924e50d719d11665844b93b77d31ad61e3419b524f9a',\n",
       "     'sender': 'cc30b5886e1f478d3cc5cef8a7f2aa22ab4a5dbf7b0d39fb96a3449817e502c8',\n",
       "     'timestamp': 1669525796.9012463},\n",
       "    {'amount': 0.1,\n",
       "     'recipient': 'node_5000',\n",
       "     'sender': 'master',\n",
       "     'timestamp': 1669525798.9551208}]},\n",
       "  {'index': 12,\n",
       "   'nonce': 88384,\n",
       "   'previous_hash': '68b253fbfbf6c62ccb0160f196571c2d44793ca59b6f9e22840b13573c1bde1f',\n",
       "   'timestamp': 1669525809.3526394,\n",
       "   'transactions': [{'amount': 132,\n",
       "     'recipient': '0efa6a0952360c93c942bb636be0514df39e0177fc792de7f70273ff4dc8bd6d',\n",
       "     'sender': 'c61a6139db53a934f100c32c8609e0a63dc22ffdf63f1d2e1be94794ee107df9',\n",
       "     'timestamp': 1669525801.0105333},\n",
       "    {'amount': 152,\n",
       "     'recipient': '2ae7865befd8761c2c20a4d920080dd7b873ed2dc408d1567a98b58602207511',\n",
       "     'sender': '0ef596452cae90d81a75ce5e63e9a051614d0054e5aeef7446c46f8b773d44b1',\n",
       "     'timestamp': 1669525803.07679},\n",
       "    {'amount': 96,\n",
       "     'recipient': 'd43a6a457d6472c3dbfb66db3631aff6751e91a9fb856a7292eae653db909e24',\n",
       "     'sender': '260583358b12fd68502945d957c70f15311bd36560221a0cec22774b2d81cd7c',\n",
       "     'timestamp': 1669525805.1366632},\n",
       "    {'amount': 2,\n",
       "     'recipient': '01673cdf06992be3cabdfa78ebda1c180dae854c6ecf8180c948e51764fb3eab',\n",
       "     'sender': 'fbf38e9a5f194e6d9df5d861704fdf4ed72f5809dcd88348b6442594ad6bc34f',\n",
       "     'timestamp': 1669525807.1873152},\n",
       "    {'amount': 0.1,\n",
       "     'recipient': 'node_5000',\n",
       "     'sender': 'master',\n",
       "     'timestamp': 1669525809.3516097}]},\n",
       "  {'index': 13,\n",
       "   'nonce': 100,\n",
       "   'previous_hash': '4049f0eb9a833cb7db72b635d52a1bc6d398afebfa3851cdecd496a03e46ac27',\n",
       "   'timestamp': 1669525815.488731,\n",
       "   'transactions': [{'amount': 94,\n",
       "     'recipient': 'cea348d00115bd649b883bccf45b24047bed9ef1ef1391c52d95ddf4eb7f6420',\n",
       "     'sender': 'cd1b275bbd89f6bd199ff022f3e6ccfbb1a0035bcf5af8924e1ef404f22366af',\n",
       "     'timestamp': 1669525811.4060762},\n",
       "    {'amount': 82,\n",
       "     'recipient': '86407785b1aae4f23d271dbf7fd1e9d012d2d84e728ad596c860b14723bea47b',\n",
       "     'sender': '2cd20e3d66491d9408ef83c457d2b3a8038f33245b7edc34d3fc35cf8891512c',\n",
       "     'timestamp': 1669525813.4364994},\n",
       "    {'amount': 0.1,\n",
       "     'recipient': 'node_5000',\n",
       "     'sender': 'master',\n",
       "     'timestamp': 1669525815.4857953}]},\n",
       "  {'index': 14,\n",
       "   'nonce': 88384,\n",
       "   'previous_hash': 'b87ba70c68acfb4129699d18e0e6737d5f3e81a2fc4cce5cebf34d0f39a1b09c',\n",
       "   'timestamp': 1669525823.7925947,\n",
       "   'transactions': [{'amount': 97,\n",
       "     'recipient': 'e5459d927af880dc640d7558d52b99bc5e31363c344e6d8492755f0f43c0d11a',\n",
       "     'sender': '78b20395c3a5ff8777fb523373d519e5fede4917f1b1753768cf632aa581b22e',\n",
       "     'timestamp': 1669525817.5521975},\n",
       "    {'amount': 164,\n",
       "     'recipient': '53daf61b2079c16f1cc98a8ff79a79d2fe81dbd69639f67bb24cc98825cdf8d5',\n",
       "     'sender': 'f97389514c494af1b006f05844696f7a3563291b0165ea4226ade6b2c93edf3b',\n",
       "     'timestamp': 1669525819.5969844},\n",
       "    {'amount': 112,\n",
       "     'recipient': '8c0c909d3243772dd876cb614cde427033370095f6376e8fc57c0c66cc2eaa85',\n",
       "     'sender': '4906c1003588e23c6e8a6e0a5739912b0efdcc748ea51d18d593222a6cab454a',\n",
       "     'timestamp': 1669525821.6427433},\n",
       "    {'amount': 0.1,\n",
       "     'recipient': 'node_5000',\n",
       "     'sender': 'master',\n",
       "     'timestamp': 1669525823.7905958}]},\n",
       "  {'index': 15,\n",
       "   'nonce': 100,\n",
       "   'previous_hash': '6bb89b41c1330d9571e08fa678e64007302fac26a3d7ccb1696443e2899269f4',\n",
       "   'timestamp': 1669525829.9338412,\n",
       "   'transactions': [{'amount': 2,\n",
       "     'recipient': '2644139a549adcab9fca86cb9d616e4dddc0c4e83c99fbb55e8f8a0bf2509feb',\n",
       "     'sender': 'db63d748f5096728ab9df3c927f0492469ad6459ea566411b2be8f43c753ef9b',\n",
       "     'timestamp': 1669525825.8452406},\n",
       "    {'amount': 40,\n",
       "     'recipient': '0159188535cfea794788f455dcb88969aed597336b6168ae39c72cc615f77420',\n",
       "     'sender': '8bff24e5384c81b46060403851270e3873960adf9bca932ee57f894cd58f8ce3',\n",
       "     'timestamp': 1669525827.8878691},\n",
       "    {'amount': 0.1,\n",
       "     'recipient': 'node_5000',\n",
       "     'sender': 'master',\n",
       "     'timestamp': 1669525829.9317975}]},\n",
       "  {'index': 16,\n",
       "   'nonce': 88384,\n",
       "   'previous_hash': '192a73a880a646bd8ac1ce9c86e9ffb12dc710925c29ea2062df61f40098792a',\n",
       "   'timestamp': 1669525836.1877909,\n",
       "   'transactions': [{'amount': 84,\n",
       "     'recipient': '05a4aa30d5032cdf494e4f0db0327b85fe7474ea56948bc00a5836e85c4e5194',\n",
       "     'sender': 'c6b3f7c697952e21f5da79f9634b23f27b894272a022a02c6bf5b221f6bc7b8c',\n",
       "     'timestamp': 1669525831.984222},\n",
       "    {'amount': 116,\n",
       "     'recipient': 'ba81b79f5640e1833df8090b3100cc0b61339540ea8cdf3c6ffabaa761c0aa84',\n",
       "     'sender': '9b277737bceb9d720c3579c7163e5d8889d2a43e4469577bbf8ecb46b7d49969',\n",
       "     'timestamp': 1669525834.0443363},\n",
       "    {'amount': 0.1,\n",
       "     'recipient': 'node_5000',\n",
       "     'sender': 'master',\n",
       "     'timestamp': 1669525836.1867785}]},\n",
       "  {'index': 17,\n",
       "   'nonce': 100,\n",
       "   'previous_hash': '62f5ad7a6d10d83319a62f29d934d47e6ad4b7a5b204743db80e22ddedcc2050',\n",
       "   'timestamp': 1669525842.3410366,\n",
       "   'transactions': [{'amount': 10,\n",
       "     'recipient': '5b675c4a63fbc84ebc0478f244d3c63093d57d6a1eca7df8618dbf1485c92fd7',\n",
       "     'sender': '00ce458bdfa8c0066c89d8df9167f2803d3baa719a1cb859b2a3ed3c0d2ed6a1',\n",
       "     'timestamp': 1669525838.2515767},\n",
       "    {'amount': 145,\n",
       "     'recipient': '8f5010615d5ef0c47defef0c48bb8c5ec870a42aee5ad4dc220cd419479fda5e',\n",
       "     'sender': '788490d516fac98d48a2c7bd6ad73e0c183de30a1ccf048c5cc50345aeaaa03b',\n",
       "     'timestamp': 1669525840.2969642},\n",
       "    {'amount': 0.1,\n",
       "     'recipient': 'node_5000',\n",
       "     'sender': 'master',\n",
       "     'timestamp': 1669525842.3399189}]},\n",
       "  {'index': 18,\n",
       "   'nonce': 88384,\n",
       "   'previous_hash': '9003ebbeaaad0dbb6adc51e6b5913f328b8fd14c347faad0dc7490c974f18e26',\n",
       "   'timestamp': 1669527893.8598263,\n",
       "   'transactions': [{'amount': 10,\n",
       "     'recipient': '0159188535cfea794788f455dcb88969aed597336b6168ae39c72cc615f77420',\n",
       "     'sender': '',\n",
       "     'timestamp': 1669527857.6736298},\n",
       "    {'amount': 10,\n",
       "     'recipient': '2644139a549adcab9fca86cb9d616e4dddc0c4e83c99fbb55e8f8a0bf2509feb',\n",
       "     'sender': '',\n",
       "     'timestamp': 1669527870.7592776},\n",
       "    {'amount': 0.1,\n",
       "     'recipient': 'node_5000',\n",
       "     'sender': 'master',\n",
       "     'timestamp': 1669527893.8588223}]},\n",
       "  {'index': 19,\n",
       "   'nonce': 100,\n",
       "   'previous_hash': '67f93c4331d4323d4055b826a208b9651def1d4dda21a51fad08fa952a887352',\n",
       "   'timestamp': 1669527947.627373,\n",
       "   'transactions': [{'amount': 30,\n",
       "     'recipient': '788490d516fac98d48a2c7bd6ad73e0c183de30a1ccf048c5cc50345aeaaa03b',\n",
       "     'sender': '',\n",
       "     'timestamp': 1669527940.6088495},\n",
       "    {'amount': 0.1,\n",
       "     'recipient': 'node_5000',\n",
       "     'sender': 'master',\n",
       "     'timestamp': 1669527947.625377}]},\n",
       "  {'index': 20,\n",
       "   'nonce': 88384,\n",
       "   'previous_hash': 'b769fae1cdd46805866c3e9bcbd6787a6c3ffc1b8169fb40440e48589164fb6b',\n",
       "   'timestamp': 1669528200.9276845,\n",
       "   'transactions': [{'amount': 10,\n",
       "     'recipient': '0159188535cfea794788f455dcb88969aed597336b6168ae39c72cc615f77420',\n",
       "     'sender': '',\n",
       "     'timestamp': 1669528059.3451042},\n",
       "    {'amount': 10,\n",
       "     'recipient': '0159188535cfea794788f455dcb88969aed597336b6168ae39c72cc615f77420',\n",
       "     'sender': '',\n",
       "     'timestamp': 1669528181.1428277},\n",
       "    {'amount': 0.1,\n",
       "     'recipient': 'node_5000',\n",
       "     'sender': 'master',\n",
       "     'timestamp': 1669528200.9266818}]},\n",
       "  {'index': 21,\n",
       "   'nonce': 100,\n",
       "   'previous_hash': 'ca5fe7add2daced20c67ec9911aff0856dfb2143c8eea9cd236c685da293475a',\n",
       "   'timestamp': 1669528273.3118837,\n",
       "   'transactions': [{'amount': 10,\n",
       "     'recipient': '0159188535cfea794788f455dcb88969aed597336b6168ae39c72cc615f77420',\n",
       "     'sender': '0159188535cfea794788f455dcb88969aed597336b6168ae39c72cc615f77420',\n",
       "     'timestamp': 1669528268.7952847},\n",
       "    {'amount': 0.1,\n",
       "     'recipient': 'node_5000',\n",
       "     'sender': 'master',\n",
       "     'timestamp': 1669528273.3108969}]}],\n",
       " 'length': 21}"
      ]
     },
     "execution_count": 29,
     "metadata": {},
     "output_type": "execute_result"
    }
   ],
   "source": [
    "## 1번 노드 상태 받기!! >> ㅇㅋㅇㅋ\n",
    "\n",
    "headers = {'Content-Type' : 'application/json; charset=utf-8'}\n",
    "a = requests.get(\"http://localhost:5000/chain\", headers=headers)\n",
    "json.loads(a.text)"
   ]
  },
  {
   "cell_type": "code",
   "execution_count": 11,
   "id": "550794d8",
   "metadata": {},
   "outputs": [
    {
     "data": {
      "text/plain": [
       "[{'index': 1,\n",
       "  'previous_hash': 1,\n",
       "  'proof': 100,\n",
       "  'timestamp': 1669522519.0048838,\n",
       "  'transactions': []},\n",
       " {'index': 2,\n",
       "  'previous_hash': '49dcdff0bd6c230364bdd938eaf87b321438563d8d337250cfa0ebc114863be2',\n",
       "  'proof': 88384,\n",
       "  'timestamp': 1669522686.08027,\n",
       "  'transactions': [{'amount': 3,\n",
       "    'recipient': 'zzz',\n",
       "    'sender': 'abc',\n",
       "    'timestamp': 1669522670.272046},\n",
       "   {'amount': 0.1,\n",
       "    'recipient': 'node_5000',\n",
       "    'sender': 'master',\n",
       "    'timestamp': 1669522686.0793216}]}]"
      ]
     },
     "execution_count": 11,
     "metadata": {},
     "output_type": "execute_result"
    }
   ],
   "source": [
    "## 1번 노드 상태 받기!! >> ㅇㅋㅇㅋ\n",
    "\n",
    "headers = {'Content-Type' : 'application/json; charset=utf-8'}\n",
    "a = requests.get(\"http://localhost:5000/chain\", headers=headers)\n",
    "status_json = json.loads(a.text)\n",
    "status_json['chain']"
   ]
  },
  {
   "cell_type": "code",
   "execution_count": 14,
   "id": "f211652a",
   "metadata": {},
   "outputs": [
    {
     "data": {
      "text/html": [
       "<div>\n",
       "<style scoped>\n",
       "    .dataframe tbody tr th:only-of-type {\n",
       "        vertical-align: middle;\n",
       "    }\n",
       "\n",
       "    .dataframe tbody tr th {\n",
       "        vertical-align: top;\n",
       "    }\n",
       "\n",
       "    .dataframe thead th {\n",
       "        text-align: right;\n",
       "    }\n",
       "</style>\n",
       "<table border=\"1\" class=\"dataframe\">\n",
       "  <thead>\n",
       "    <tr style=\"text-align: right;\">\n",
       "      <th></th>\n",
       "      <th>timestamp</th>\n",
       "      <th>sender</th>\n",
       "      <th>recipient</th>\n",
       "      <th>amount</th>\n",
       "    </tr>\n",
       "  </thead>\n",
       "  <tbody>\n",
       "    <tr>\n",
       "      <th>0</th>\n",
       "      <td>1.669523e+09</td>\n",
       "      <td>abc</td>\n",
       "      <td>zzz</td>\n",
       "      <td>3.0</td>\n",
       "    </tr>\n",
       "    <tr>\n",
       "      <th>1</th>\n",
       "      <td>1.669523e+09</td>\n",
       "      <td>master</td>\n",
       "      <td>node_5000</td>\n",
       "      <td>0.1</td>\n",
       "    </tr>\n",
       "  </tbody>\n",
       "</table>\n",
       "</div>"
      ],
      "text/plain": [
       "      timestamp  sender  recipient  amount\n",
       "0  1.669523e+09     abc        zzz     3.0\n",
       "1  1.669523e+09  master  node_5000     0.1"
      ]
     },
     "execution_count": 14,
     "metadata": {},
     "output_type": "execute_result"
    }
   ],
   "source": [
    "tx_amount_l = []\n",
    "tx_sender_l = []\n",
    "tx_reciv_l  = []\n",
    "tx_time_l   = []\n",
    "\n",
    "for chain_index in range(len(status_json['chain'])):\n",
    "    chain_tx = status_json['chain'][chain_index]['transactions']\n",
    "    for each_tx in range(len(chain_tx)):\n",
    "        tx_amount_l.append(chain_tx[each_tx]['amount'])\n",
    "        tx_sender_l.append(chain_tx[each_tx]['sender'])\n",
    "        tx_reciv_l.append(chain_tx[each_tx]['recipient'])\n",
    "        tx_time_l.append(chain_tx[each_tx]['timestamp'])\n",
    "        \n",
    "df_tx = pd.DataFrame()\n",
    "df_tx['timestamp'] = tx_time_l  \n",
    "df_tx['sender'] = tx_sender_l \n",
    "df_tx['recipient'] = tx_reciv_l\n",
    "df_tx['amount'] = tx_amount_l   \n",
    "df_tx"
   ]
  },
  {
   "cell_type": "code",
   "execution_count": 15,
   "id": "7b13c317",
   "metadata": {},
   "outputs": [
    {
     "data": {
      "text/html": [
       "<div>\n",
       "<style scoped>\n",
       "    .dataframe tbody tr th:only-of-type {\n",
       "        vertical-align: middle;\n",
       "    }\n",
       "\n",
       "    .dataframe tbody tr th {\n",
       "        vertical-align: top;\n",
       "    }\n",
       "\n",
       "    .dataframe thead th {\n",
       "        text-align: right;\n",
       "    }\n",
       "</style>\n",
       "<table border=\"1\" class=\"dataframe\">\n",
       "  <thead>\n",
       "    <tr style=\"text-align: right;\">\n",
       "      <th></th>\n",
       "      <th>user</th>\n",
       "      <th>received_amount</th>\n",
       "    </tr>\n",
       "  </thead>\n",
       "  <tbody>\n",
       "    <tr>\n",
       "      <th>0</th>\n",
       "      <td>node_5000</td>\n",
       "      <td>0.1</td>\n",
       "    </tr>\n",
       "    <tr>\n",
       "      <th>1</th>\n",
       "      <td>zzz</td>\n",
       "      <td>3.0</td>\n",
       "    </tr>\n",
       "  </tbody>\n",
       "</table>\n",
       "</div>"
      ],
      "text/plain": [
       "        user  received_amount\n",
       "0  node_5000              0.1\n",
       "1        zzz              3.0"
      ]
     },
     "execution_count": 15,
     "metadata": {},
     "output_type": "execute_result"
    }
   ],
   "source": [
    "df_sended = pd.DataFrame(df_tx.groupby('sender')['amount'].sum()).reset_index()\n",
    "df_sended.columns = ['user','sended_amount']\n",
    "df_received= pd.DataFrame(df_tx.groupby('recipient')['amount'].sum()).reset_index()\n",
    "df_received.columns = ['user','received_amount']\n",
    "df_received"
   ]
  },
  {
   "cell_type": "code",
   "execution_count": 17,
   "id": "5e0924dd",
   "metadata": {},
   "outputs": [
    {
     "data": {
      "text/plain": [
       "'{\"user\":{\"0\":\"node_5000\",\"1\":\"zzz\"},\"received_amount\":{\"0\":0.1,\"1\":3.0}}'"
      ]
     },
     "execution_count": 17,
     "metadata": {},
     "output_type": "execute_result"
    }
   ],
   "source": [
    "df_received.to_json()"
   ]
  }
 ],
 "metadata": {
  "kernelspec": {
   "display_name": "Python 3",
   "language": "python",
   "name": "python3"
  },
  "language_info": {
   "codemirror_mode": {
    "name": "ipython",
    "version": 3
   },
   "file_extension": ".py",
   "mimetype": "text/x-python",
   "name": "python",
   "nbconvert_exporter": "python",
   "pygments_lexer": "ipython3",
   "version": "3.8.8"
  }
 },
 "nbformat": 4,
 "nbformat_minor": 5
}
